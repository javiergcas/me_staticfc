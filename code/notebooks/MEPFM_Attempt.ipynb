{
 "cells": [
  {
   "cell_type": "code",
   "execution_count": 6,
   "id": "cfdcc916-5a4d-40a2-9e65-d835a71efc12",
   "metadata": {},
   "outputs": [],
   "source": [
    "import pandas as pd\n",
    "import numpy as np\n",
    "from tqdm import tqdm\n",
    "import os.path as osp\n",
    "import subprocess\n",
    "import datetime\n",
    "from utils.basics import PRCS_DATA_DIR, ATLASES_DIR, ATLAS_NAME, PRJ_DIR, CODE_DIR\n",
    "ATLAS_NAME = 'Power264'\n",
    "ATLAS_DIR = osp.join(ATLASES_DIR,ATLAS_NAME)\n",
    "from nilearn.connectome import sym_matrix_to_vec\n",
    "from sfim_lib.io.afni import load_netcc\n",
    "import hvplot.pandas\n",
    "import seaborn as sns\n",
    "import holoviews as hv\n",
    "import xarray as xr\n",
    "import panel as pn\n",
    "from itertools import combinations_with_replacement, combinations\n",
    "from shutil import rmtree\n",
    "import os"
   ]
  },
  {
   "cell_type": "markdown",
   "id": "436ac4b6-3f22-4bc3-981e-ae4201f012e7",
   "metadata": {},
   "source": [
    "# 1. Load Dataset Information"
   ]
  },
  {
   "cell_type": "code",
   "execution_count": 2,
   "id": "8f77c8eb-b7db-4092-a27f-0c350b8c27b9",
   "metadata": {},
   "outputs": [
    {
     "name": "stdout",
     "output_type": "stream",
     "text": [
      "++ Number of scans: 434 scans\n"
     ]
    }
   ],
   "source": [
    "dataset_info_df = pd.read_csv(osp.join(PRJ_DIR,'resources','good_scans.txt'))\n",
    "dataset_info_df = dataset_info_df.set_index(['Subject','Session'])\n",
    "Nscans          = dataset_info_df.shape[0]\n",
    "print('++ Number of scans: %s scans' % Nscans)\n",
    "dataset_scan_list = list(dataset_info_df.index)\n",
    "Nacqs = 201"
   ]
  },
  {
   "cell_type": "code",
   "execution_count": 3,
   "id": "1f015040-c158-4164-8506-5e299cbdc021",
   "metadata": {},
   "outputs": [],
   "source": [
    "echoes_dict = {'e01':13.7,'e02':30,'e03':47}"
   ]
  },
  {
   "cell_type": "code",
   "execution_count": 18,
   "id": "249ab3b7-cf27-4b60-88d8-bb406b0a4292",
   "metadata": {},
   "outputs": [
    {
     "name": "stderr",
     "output_type": "stream",
     "text": [
      "  0%|                                                                                                                                                                                                                                              | 0/434 [00:00<?, ?it/s]\n"
     ]
    },
    {
     "ename": "NameError",
     "evalue": "name 'dfgdg' is not defined",
     "output_type": "error",
     "traceback": [
      "\u001b[0;31m---------------------------------------------------------------------------\u001b[0m",
      "\u001b[0;31mNameError\u001b[0m                                 Traceback (most recent call last)",
      "Cell \u001b[0;32mIn[18], line 24\u001b[0m\n\u001b[1;32m     15\u001b[0m os\u001b[38;5;241m.\u001b[39mmakedirs(out_path)\n\u001b[1;32m     16\u001b[0m command \u001b[38;5;241m=\u001b[39m \u001b[38;5;124m\"\"\"\u001b[39m\u001b[38;5;124mml afni; \u001b[39m\u001b[38;5;130;01m\\\u001b[39;00m\n\u001b[1;32m     17\u001b[0m \u001b[38;5;124m            ml R; \u001b[39m\u001b[38;5;130;01m\\\u001b[39;00m\n\u001b[1;32m     18\u001b[0m \u001b[38;5;124m            cd \u001b[39m\u001b[38;5;132;01m{wdir}\u001b[39;00m\u001b[38;5;124m; \u001b[39m\u001b[38;5;130;01m\\\u001b[39;00m\n\u001b[0;32m   (...)\u001b[0m\n\u001b[1;32m     22\u001b[0m                    out_path\u001b[38;5;241m=\u001b[39mout_path,\n\u001b[1;32m     23\u001b[0m                    criteria\u001b[38;5;241m=\u001b[39mcriteria)\n\u001b[0;32m---> 24\u001b[0m \u001b[43mdfgdg\u001b[49m\n",
      "\u001b[0;31mNameError\u001b[0m: name 'dfgdg' is not defined"
     ]
    }
   ],
   "source": [
    "for i,(sbj,ses) in enumerate(tqdm(dataset_scan_list)):\n",
    "    wdir     = osp.join(PRCS_DATA_DIR,sbj,f'D02_Preproc_fMRI_{ses}')\n",
    "    e1_input = osp.join(PRCS_DATA_DIR,sbj,f'D02_Preproc_fMRI_{ses}',f'errts.{sbj}.r01.e01.volreg.scale.tproject_ALL+tlrc.HEAD')\n",
    "    e2_input = osp.join(PRCS_DATA_DIR,sbj,f'D02_Preproc_fMRI_{ses}',f'errts.{sbj}.r01.e02.volreg.scale.tproject_ALL+tlrc.HEAD')\n",
    "    e3_input = osp.join(PRCS_DATA_DIR,sbj,f'D02_Preproc_fMRI_{ses}',f'errts.{sbj}.r01.e03.volreg.scale.tproject_ALL+tlrc.HEAD')\n",
    "    mask     = osp.join(PRCS_DATA_DIR,sbj,f'D02_Preproc_fMRI_{ses}','mask_tedana_at_least_one_echo.nii.gz')\n",
    "    te1      = echoes_dict['e01']\n",
    "    te2      = echoes_dict['e02']\n",
    "    te3      = echoes_dict['e03']\n",
    "    criteria = 'bic'\n",
    "    hrf      = 'SPGM1'\n",
    "    out_path = osp.join(PRCS_DATA_DIR,sbj,f'D02_Preproc_fMRI_{ses}',f'MEPFM_errts.{sbj}.r01.exx.volreg.scale.tproject_ALL')\n",
    "    if osp.exists(out_path):\n",
    "        rmtree(out_path)\n",
    "    os.makedirs(out_path)\n",
    "    command = \"\"\"ml afni; \\\n",
    "                ml R; \\\n",
    "                cd {wdir}; \\\n",
    "                3dMEPFM -overwrite -input {e1_input} {te1} -input {e2_input} {te2} -input {e3_input} {te3} -criteria {criteria} -hrf SPMG1 -R2only -jobs 32 -prefix {out_path} -verb 1;\"\"\".format(wdir=wdir, \n",
    "                       e1_input=e1_input,e2_input=e2_input,e3_input=e3_input,\n",
    "                       te1=te1,te2=te2,te3=te3, \n",
    "                       out_path=out_path,\n",
    "                       criteria=criteria)\n",
    "    dfgdg"
   ]
  },
  {
   "cell_type": "code",
   "execution_count": 19,
   "id": "d8ef2982-a039-471c-afcf-b06ca5dd0f51",
   "metadata": {},
   "outputs": [
    {
     "data": {
      "text/plain": [
       "'ml afni;                 ml R;                 cd /data/SFIMJGC_HCP7T/BCBL2024/prcs_data/sub-01/D02_Preproc_fMRI_ses-1;                 3dMEPFM -overwrite -input /data/SFIMJGC_HCP7T/BCBL2024/prcs_data/sub-01/D02_Preproc_fMRI_ses-1/errts.sub-01.r01.e01.volreg.scale.tproject_ALL+tlrc.HEAD 13.7 -input /data/SFIMJGC_HCP7T/BCBL2024/prcs_data/sub-01/D02_Preproc_fMRI_ses-1/errts.sub-01.r01.e02.volreg.scale.tproject_ALL+tlrc.HEAD 30 -input /data/SFIMJGC_HCP7T/BCBL2024/prcs_data/sub-01/D02_Preproc_fMRI_ses-1/errts.sub-01.r01.e03.volreg.scale.tproject_ALL+tlrc.HEAD 47 -criteria bic -hrf SPMG1 -R2only -jobs 32 -prefix /data/SFIMJGC_HCP7T/BCBL2024/prcs_data/sub-01/D02_Preproc_fMRI_ses-1/MEPFM_errts.sub-01.r01.exx.volreg.scale.tproject_ALL -verb 1;'"
      ]
     },
     "execution_count": 19,
     "metadata": {},
     "output_type": "execute_result"
    }
   ],
   "source": [
    "command"
   ]
  },
  {
   "cell_type": "code",
   "execution_count": null,
   "id": "d26bf004-b4fd-4ab1-8f92-7d990de466dd",
   "metadata": {},
   "outputs": [],
   "source": []
  }
 ],
 "metadata": {
  "jupytext": {
   "formats": "ipynb,auto:light"
  },
  "kernelspec": {
   "display_name": "BOLD WAVES 2024a",
   "language": "python",
   "name": "bold_waves_2024a"
  },
  "language_info": {
   "codemirror_mode": {
    "name": "ipython",
    "version": 3
   },
   "file_extension": ".py",
   "mimetype": "text/x-python",
   "name": "python",
   "nbconvert_exporter": "python",
   "pygments_lexer": "ipython3",
   "version": "3.9.19"
  }
 },
 "nbformat": 4,
 "nbformat_minor": 5
}
