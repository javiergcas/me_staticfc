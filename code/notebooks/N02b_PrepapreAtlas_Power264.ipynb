{
 "cells": [
  {
   "cell_type": "code",
   "execution_count": 1,
   "id": "a7312081-0013-4c1e-822f-c9fd518e4be1",
   "metadata": {},
   "outputs": [],
   "source": [
    "from nilearn.datasets import fetch_coords_power_2011\n",
    "from utils.basics import ATLASES_DIR\n",
    "import os\n",
    "import os.path as osp\n",
    "import pandas as pd"
   ]
  },
  {
   "cell_type": "code",
   "execution_count": 2,
   "id": "2de5ada7-4774-4f3e-aab1-c104a7e77882",
   "metadata": {},
   "outputs": [],
   "source": [
    "power_atlas_info = fetch_coords_power_2011(False)"
   ]
  },
  {
   "cell_type": "code",
   "execution_count": 3,
   "id": "2d24a7df-81d4-42a0-9309-c09d0877d2d6",
   "metadata": {},
   "outputs": [
    {
     "data": {
      "text/html": [
       "<div>\n",
       "<style scoped>\n",
       "    .dataframe tbody tr th:only-of-type {\n",
       "        vertical-align: middle;\n",
       "    }\n",
       "\n",
       "    .dataframe tbody tr th {\n",
       "        vertical-align: top;\n",
       "    }\n",
       "\n",
       "    .dataframe thead th {\n",
       "        text-align: right;\n",
       "    }\n",
       "</style>\n",
       "<table border=\"1\" class=\"dataframe\">\n",
       "  <thead>\n",
       "    <tr style=\"text-align: right;\">\n",
       "      <th></th>\n",
       "      <th>roi</th>\n",
       "      <th>x</th>\n",
       "      <th>y</th>\n",
       "      <th>z</th>\n",
       "    </tr>\n",
       "  </thead>\n",
       "  <tbody>\n",
       "    <tr>\n",
       "      <th>0</th>\n",
       "      <td>1</td>\n",
       "      <td>-25</td>\n",
       "      <td>-98</td>\n",
       "      <td>-12</td>\n",
       "    </tr>\n",
       "    <tr>\n",
       "      <th>1</th>\n",
       "      <td>2</td>\n",
       "      <td>27</td>\n",
       "      <td>-97</td>\n",
       "      <td>-13</td>\n",
       "    </tr>\n",
       "    <tr>\n",
       "      <th>2</th>\n",
       "      <td>3</td>\n",
       "      <td>24</td>\n",
       "      <td>32</td>\n",
       "      <td>-18</td>\n",
       "    </tr>\n",
       "    <tr>\n",
       "      <th>3</th>\n",
       "      <td>4</td>\n",
       "      <td>-56</td>\n",
       "      <td>-45</td>\n",
       "      <td>-24</td>\n",
       "    </tr>\n",
       "    <tr>\n",
       "      <th>4</th>\n",
       "      <td>5</td>\n",
       "      <td>8</td>\n",
       "      <td>41</td>\n",
       "      <td>-24</td>\n",
       "    </tr>\n",
       "  </tbody>\n",
       "</table>\n",
       "</div>"
      ],
      "text/plain": [
       "   roi   x   y   z\n",
       "0    1 -25 -98 -12\n",
       "1    2  27 -97 -13\n",
       "2    3  24  32 -18\n",
       "3    4 -56 -45 -24\n",
       "4    5   8  41 -24"
      ]
     },
     "execution_count": 3,
     "metadata": {},
     "output_type": "execute_result"
    }
   ],
   "source": [
    "power_atlas_info['rois'].head(5)"
   ]
  },
  {
   "cell_type": "code",
   "execution_count": 4,
   "id": "76466f73-2120-4fa3-9de9-9b402d77be94",
   "metadata": {},
   "outputs": [],
   "source": [
    "ATLAS_NAME='Power264'\n",
    "ATLAS_DIR = osp.join(ATLASES_DIR,ATLAS_NAME)"
   ]
  },
  {
   "cell_type": "code",
   "execution_count": 5,
   "id": "22f926cc-d0c8-46bb-9c3f-8ce79315ceb8",
   "metadata": {},
   "outputs": [],
   "source": [
    "if not osp.exists(ATLAS_DIR):\n",
    "    os.makedirs(ATLAS_DIR)"
   ]
  },
  {
   "cell_type": "code",
   "execution_count": 6,
   "id": "a424628b-402b-4015-90cf-c4b8fcacddfd",
   "metadata": {},
   "outputs": [],
   "source": [
    "roi_centers_path = osp.join(ATLAS_DIR,f'{ATLAS_NAME}.roi_coords.MNI.csv')\n",
    "power_atlas_info['rois'][['x','y','z','roi']].to_csv(roi_centers_path, header=None, index=None)"
   ]
  },
  {
   "cell_type": "code",
   "execution_count": 7,
   "id": "f56cca63-d1c4-4392-980e-5543063d8ce6",
   "metadata": {},
   "outputs": [
    {
     "name": "stdout",
     "output_type": "stream",
     "text": [
      "(264, 5)\n"
     ]
    },
    {
     "data": {
      "text/html": [
       "<div>\n",
       "<style scoped>\n",
       "    .dataframe tbody tr th:only-of-type {\n",
       "        vertical-align: middle;\n",
       "    }\n",
       "\n",
       "    .dataframe tbody tr th {\n",
       "        vertical-align: top;\n",
       "    }\n",
       "\n",
       "    .dataframe thead th {\n",
       "        text-align: right;\n",
       "    }\n",
       "</style>\n",
       "<table border=\"1\" class=\"dataframe\">\n",
       "  <thead>\n",
       "    <tr style=\"text-align: right;\">\n",
       "      <th></th>\n",
       "      <th>ROI_ID</th>\n",
       "      <th>ROI_Name</th>\n",
       "      <th>pos_A</th>\n",
       "      <th>pos_R</th>\n",
       "      <th>pos_S</th>\n",
       "    </tr>\n",
       "  </thead>\n",
       "  <tbody>\n",
       "    <tr>\n",
       "      <th>0</th>\n",
       "      <td>1</td>\n",
       "      <td>ROI001</td>\n",
       "      <td>-25</td>\n",
       "      <td>-98</td>\n",
       "      <td>-12</td>\n",
       "    </tr>\n",
       "    <tr>\n",
       "      <th>1</th>\n",
       "      <td>2</td>\n",
       "      <td>ROI002</td>\n",
       "      <td>27</td>\n",
       "      <td>-97</td>\n",
       "      <td>-13</td>\n",
       "    </tr>\n",
       "    <tr>\n",
       "      <th>2</th>\n",
       "      <td>3</td>\n",
       "      <td>ROI003</td>\n",
       "      <td>24</td>\n",
       "      <td>32</td>\n",
       "      <td>-18</td>\n",
       "    </tr>\n",
       "    <tr>\n",
       "      <th>3</th>\n",
       "      <td>4</td>\n",
       "      <td>ROI004</td>\n",
       "      <td>-56</td>\n",
       "      <td>-45</td>\n",
       "      <td>-24</td>\n",
       "    </tr>\n",
       "    <tr>\n",
       "      <th>4</th>\n",
       "      <td>5</td>\n",
       "      <td>ROI005</td>\n",
       "      <td>8</td>\n",
       "      <td>41</td>\n",
       "      <td>-24</td>\n",
       "    </tr>\n",
       "  </tbody>\n",
       "</table>\n",
       "</div>"
      ],
      "text/plain": [
       "   ROI_ID ROI_Name  pos_A  pos_R  pos_S\n",
       "0       1   ROI001    -25    -98    -12\n",
       "1       2   ROI002     27    -97    -13\n",
       "2       3   ROI003     24     32    -18\n",
       "3       4   ROI004    -56    -45    -24\n",
       "4       5   ROI005      8     41    -24"
      ]
     },
     "execution_count": 7,
     "metadata": {},
     "output_type": "execute_result"
    }
   ],
   "source": [
    "roi_info_df = power_atlas_info['rois'].copy()\n",
    "roi_info_df.columns = ['ROI_ID','pos_A','pos_R','pos_S']\n",
    "roi_info_df['ROI_Name'] = ['ROI'+str(r).zfill(3) for r in roi_info_df['ROI_ID']]\n",
    "roi_info_df = roi_info_df[['ROI_ID','ROI_Name','pos_A','pos_R','pos_S']]\n",
    "print(roi_info_df.shape)\n",
    "roi_info_df.head(5)"
   ]
  },
  {
   "cell_type": "code",
   "execution_count": 8,
   "id": "c43e7375-de20-47a6-8630-aafe36044156",
   "metadata": {},
   "outputs": [
    {
     "name": "stderr",
     "output_type": "stream",
     "text": [
      "/data/SFIMJGC_HCP7T/Apps/envs/bold_waves_2024a/lib/python3.9/site-packages/openpyxl/worksheet/_read_only.py:85: UserWarning: Unknown extension is not supported and will be removed\n",
      "  for idx, row in parser.parse():\n"
     ]
    },
    {
     "data": {
      "text/html": [
       "<div>\n",
       "<style scoped>\n",
       "    .dataframe tbody tr th:only-of-type {\n",
       "        vertical-align: middle;\n",
       "    }\n",
       "\n",
       "    .dataframe tbody tr th {\n",
       "        vertical-align: top;\n",
       "    }\n",
       "\n",
       "    .dataframe thead th {\n",
       "        text-align: right;\n",
       "    }\n",
       "</style>\n",
       "<table border=\"1\" class=\"dataframe\">\n",
       "  <thead>\n",
       "    <tr style=\"text-align: right;\">\n",
       "      <th></th>\n",
       "      <th>ROI_ID</th>\n",
       "      <th>ROI_Name</th>\n",
       "      <th>pos_A</th>\n",
       "      <th>pos_R</th>\n",
       "      <th>pos_S</th>\n",
       "      <th>Network</th>\n",
       "      <th>Hemisphere</th>\n",
       "      <th>RGB</th>\n",
       "    </tr>\n",
       "  </thead>\n",
       "  <tbody>\n",
       "    <tr>\n",
       "      <th>0</th>\n",
       "      <td>1</td>\n",
       "      <td>ROI001</td>\n",
       "      <td>-25</td>\n",
       "      <td>-98</td>\n",
       "      <td>-12</td>\n",
       "      <td>Uncertain</td>\n",
       "      <td>LH</td>\n",
       "      <td>#ffffff</td>\n",
       "    </tr>\n",
       "    <tr>\n",
       "      <th>1</th>\n",
       "      <td>2</td>\n",
       "      <td>ROI002</td>\n",
       "      <td>27</td>\n",
       "      <td>-97</td>\n",
       "      <td>-13</td>\n",
       "      <td>Uncertain</td>\n",
       "      <td>LH</td>\n",
       "      <td>#ffffff</td>\n",
       "    </tr>\n",
       "    <tr>\n",
       "      <th>2</th>\n",
       "      <td>3</td>\n",
       "      <td>ROI003</td>\n",
       "      <td>24</td>\n",
       "      <td>32</td>\n",
       "      <td>-18</td>\n",
       "      <td>Uncertain</td>\n",
       "      <td>RH</td>\n",
       "      <td>#ffffff</td>\n",
       "    </tr>\n",
       "    <tr>\n",
       "      <th>3</th>\n",
       "      <td>4</td>\n",
       "      <td>ROI004</td>\n",
       "      <td>-56</td>\n",
       "      <td>-45</td>\n",
       "      <td>-24</td>\n",
       "      <td>Uncertain</td>\n",
       "      <td>LH</td>\n",
       "      <td>#ffffff</td>\n",
       "    </tr>\n",
       "    <tr>\n",
       "      <th>4</th>\n",
       "      <td>5</td>\n",
       "      <td>ROI005</td>\n",
       "      <td>8</td>\n",
       "      <td>41</td>\n",
       "      <td>-24</td>\n",
       "      <td>Uncertain</td>\n",
       "      <td>RH</td>\n",
       "      <td>#ffffff</td>\n",
       "    </tr>\n",
       "  </tbody>\n",
       "</table>\n",
       "</div>"
      ],
      "text/plain": [
       "   ROI_ID ROI_Name  pos_A  pos_R  pos_S    Network Hemisphere      RGB\n",
       "0       1   ROI001    -25    -98    -12  Uncertain         LH  #ffffff\n",
       "1       2   ROI002     27    -97    -13  Uncertain         LH  #ffffff\n",
       "2       3   ROI003     24     32    -18  Uncertain         RH  #ffffff\n",
       "3       4   ROI004    -56    -45    -24  Uncertain         LH  #ffffff\n",
       "4       5   ROI005      8     41    -24  Uncertain         RH  #ffffff"
      ]
     },
     "execution_count": 8,
     "metadata": {},
     "output_type": "execute_result"
    }
   ],
   "source": [
    "color_map_dict={'White':'#ffffff','Cyan':'#E0FFFF','Orange':'#FFA500','Purple':'#800080',\n",
    "                'Pink':'#FFC0CB','Red':'#ff0000','Gray':'#808080','Teal':'#008080','Brown':'#A52A2A',\n",
    "                'Blue':'#0000ff','Yellow':'#FFFF00','Black':'#000000','Pale blue':'#ADD8E6','Green':'#00ff00'}\n",
    "nw_color_dict = {'Uncertain':'#ffffff',\n",
    "                 'Sensory/somatomotor Hand':'#E0FFFF',\n",
    "                 'Sensory/somatomotor Mouth':'#FFA500',\n",
    "                 'Cingulo-opercular Task Control':'#800080',\n",
    "                 'Auditory':'#FFC0CB',\n",
    "                 'Default mode':'#ff0000',\n",
    "                 'Memory retrieval?':'#808080',\n",
    "                 'Ventral attention':'#008080',\n",
    "                 'Visual':'#0000ff',\n",
    "                 'Fronto-parietal Task Control':'#FFFF00',\n",
    "                 'Salience':'#000000',\n",
    "                 'Subcortical':'#A52A2A',\n",
    "                 'Cerebellar':'#ADD8E6',\n",
    "                 'Dorsal attention':'#00ff00'}\n",
    "\n",
    "power_atlas_addinfo_path = osp.join(ATLAS_DIR,'additional_files','Neuron_consensus_264.xlsx')\n",
    "power_atlas_addinfo = pd.read_excel(power_atlas_addinfo_path, header=[0], skiprows=[1])\n",
    "\n",
    "roi_info_df['Network']= power_atlas_addinfo['Suggested System']\n",
    "roi_info_df['Hemisphere'] = ['LH' if a<=0 else 'RH' for a in roi_info_df['pos_R']]\n",
    "roi_info_df['RGB'] = [color_map_dict[c] for c in power_atlas_addinfo['Unnamed: 34']]\n",
    "roi_info_df.head(5)"
   ]
  },
  {
   "cell_type": "markdown",
   "id": "091beab6-059c-4b1f-87ee-ebfafbd47bdb",
   "metadata": {},
   "source": [
    "```bash\n",
    "    ml afni\n",
    "    cd /data/SFIMJGC_HCP7T/BCBL2024/atlases/Power264\n",
    "    3dUndump -overwrite \\\n",
    "             -prefix Power264.nii.gz \\\n",
    "             -master ../../prcs_data/sub-01/D02_Preproc_fMRI_ses-1/errts.sub-01.fanaticor+tlrc.HEAD \\\n",
    "             -xyz \\\n",
    "             -srad 5 \\\n",
    "             -xyz Power264.roi_coords.MNI.csv\n",
    "```"
   ]
  },
  {
   "cell_type": "markdown",
   "id": "7c5e554c-8d2b-4814-bfb3-19659e75ffc5",
   "metadata": {},
   "source": [
    "***"
   ]
  },
  {
   "cell_type": "code",
   "execution_count": 9,
   "id": "3c4b0b40-28a7-4922-9e0c-5c6a3cdcb1ae",
   "metadata": {},
   "outputs": [],
   "source": [
    "import pandas as pd\n",
    "from glob import glob\n",
    "import os.path as osp\n",
    "import subprocess\n",
    "import datetime\n",
    "import os\n",
    "from utils.basics import PRCS_DATA_DIR, PRJ_DIR, CODE_DIR\n",
    "ATLAS_DIR = osp.join(ATLASES_DIR,ATLAS_NAME)"
   ]
  },
  {
   "cell_type": "code",
   "execution_count": 10,
   "id": "79f34134-f768-48ca-b380-7d3432a29f7d",
   "metadata": {},
   "outputs": [
    {
     "name": "stdout",
     "output_type": "stream",
     "text": [
      "javiergc\n"
     ]
    }
   ],
   "source": [
    "import getpass\n",
    "username = getpass.getuser()\n",
    "print(username)"
   ]
  },
  {
   "cell_type": "code",
   "execution_count": 11,
   "id": "c3249c86-a433-4525-a1cc-d6309fd191a0",
   "metadata": {},
   "outputs": [
    {
     "name": "stdout",
     "output_type": "stream",
     "text": [
      "++ Number of scans: 436 scans\n"
     ]
    }
   ],
   "source": [
    "dataset_info_df = pd.read_csv(osp.join(PRJ_DIR,'resources','good_scans.txt'))\n",
    "dataset_info_df = dataset_info_df.set_index(['Subject','Session'])\n",
    "print('++ Number of scans: %s scans' % dataset_info_df.shape[0])"
   ]
  },
  {
   "cell_type": "markdown",
   "id": "229e111a-f98f-49e5-bac2-6e2714d888c1",
   "metadata": {},
   "source": [
    "***"
   ]
  },
  {
   "cell_type": "code",
   "execution_count": 12,
   "id": "e6e0cb24-3457-40da-a465-aedbe41464ea",
   "metadata": {},
   "outputs": [
    {
     "name": "stdout",
     "output_type": "stream",
     "text": [
      "/data/SFIMJGC_HCP7T/BCBL2024/swarm.javiergc/N02b_check_sample_FOV_vs_atlas.Power264.swarm.sh\n"
     ]
    }
   ],
   "source": [
    "script_path = osp.join(PRJ_DIR,f'swarm.{username}','N02b_check_sample_FOV_vs_atlas.Power264.swarm.sh')\n",
    "print(script_path)"
   ]
  },
  {
   "cell_type": "code",
   "execution_count": 13,
   "id": "750cf661-c01c-463d-a8f0-5da9ca331dd7",
   "metadata": {},
   "outputs": [
    {
     "name": "stdout",
     "output_type": "stream",
     "text": [
      "/data/SFIMJGC_HCP7T/BCBL2024/logs.javiergc/N02b_check_sample_FOV_vs_atlas.Power264.log\n"
     ]
    }
   ],
   "source": [
    "log_path = osp.join(PRJ_DIR,f'logs.{username}','N02b_check_sample_FOV_vs_atlas.Power264.log')\n",
    "if not osp.exists(log_path):\n",
    "    os.makedirs(log_path)\n",
    "print(log_path)"
   ]
  },
  {
   "cell_type": "code",
   "execution_count": 14,
   "id": "b37cec35-544c-434e-97a3-63b3716fff18",
   "metadata": {},
   "outputs": [],
   "source": [
    "with open(script_path, 'w') as the_file:\n",
    "    the_file.write('# Script Creation Date: %s\\n' % str(datetime.date.today()))\n",
    "    the_file.write(f'# swarm -f {script_path} -g 16 -t 8 -b 5 --time 00:20:00 --logdir {log_path} --partition quick,norm --module afni\\n')\n",
    "    the_file.write('\\n')\n",
    "    for sbj,ses in list(dataset_info_df.index):\n",
    "        the_file.write(f'cd {PRCS_DATA_DIR}/{sbj}/D02_Preproc_fMRI_{ses}; 3dcalc -overwrite -a tedana_r01/adaptive_mask.nii.gz -expr \"step(a)\" -prefix mask_tedana_at_least_one_echo.nii.gz; 3dcalc -overwrite -a tedana_r01/adaptive_mask.nii.gz -expr \"equals(a,3)\" -prefix mask_tedana_allechoes.nii.gz; 3drefit -space MNI mask_tedana_at_least_one_echo.nii.gz; 3drefit -space MNI mask_tedana_allechoes.nii.gz; 3dNetCorr -overwrite -in_rois {ATLASES_DIR}/{ATLAS_NAME}/{ATLAS_NAME}.nii.gz -output_mask_nonnull -inset pb04.{sbj}.r01.combine+tlrc.HEAD -prefix rm.{sbj}.combine.{ATLAS_NAME}.FOVcheck \\n')\n",
    "the_file.close()     "
   ]
  },
  {
   "cell_type": "code",
   "execution_count": 15,
   "id": "06d1644e-f953-4ade-9f88-0b1eca744be9",
   "metadata": {},
   "outputs": [
    {
     "data": {
      "text/plain": [
       "'/data/SFIMJGC_HCP7T/BCBL2024/swarm.javiergc/N02b_check_sample_FOV_vs_atlas.Power264.swarm.sh'"
      ]
     },
     "execution_count": 15,
     "metadata": {},
     "output_type": "execute_result"
    }
   ],
   "source": [
    "script_path"
   ]
  },
  {
   "cell_type": "markdown",
   "id": "4202d7ad-0dd7-4697-ac57-02bcab6f1d04",
   "metadata": {},
   "source": [
    "You need to submit this as a batch job\n",
    "```bash\n",
    "swarm -f /data/SFIMJGC_HCP7T/BCBL2024/swarm.javiergc/N02b_check_sample_FOV_vs_atlas.Power264.swarm.sh -g 16 -t 8 -b 5 --time 00:20:00 --logdir /data/SFIMJGC_HCP7T/BCBL2024/logs.javiergc/N02b_check_sample_FOV_vs_atlas.Power264.log --partition quick,norm --module afni\n",
    "```"
   ]
  },
  {
   "cell_type": "code",
   "execution_count": 16,
   "id": "8aa8ef34-db01-40d0-a468-86a6feffdf1d",
   "metadata": {},
   "outputs": [],
   "source": [
    "for sbj,ses in list(dataset_info_df.index):\n",
    "    expected_output_path = osp.join(PRCS_DATA_DIR,sbj,f'D02_Preproc_fMRI_{ses}',f'rm.{sbj}.combine.{ATLAS_NAME}.FOVcheck_mask_nnull+tlrc.HEAD')\n",
    "    if not osp.exists(expected_output_path):\n",
    "        print('++ WARNING: %s is missing' % expected_output_path)"
   ]
  },
  {
   "cell_type": "markdown",
   "id": "3750db1e-6f12-4f9c-a4ec-2c9b23b7d7e0",
   "metadata": {},
   "source": [
    "***"
   ]
  },
  {
   "cell_type": "code",
   "execution_count": 17,
   "id": "255e2a6d-618a-4490-8e5f-414c12785993",
   "metadata": {
    "scrolled": true
   },
   "outputs": [
    {
     "name": "stdout",
     "output_type": "stream",
     "text": [
      "++ INFO: sub-01/ses-1 --> Number of Bad Rois: 7 | ++ INFO: sub-01/ses-2 --> Number of Bad Rois: 7 | ++ INFO: sub-02/ses-1 --> Number of Bad Rois: 12 | ++ INFO: sub-02/ses-2 --> Number of Bad Rois: 12 | ++ INFO: sub-03/ses-1 --> Number of Bad Rois: 17 | ++ INFO: sub-03/ses-2 --> Number of Bad Rois: 17 | ++ INFO: sub-04/ses-1 --> Number of Bad Rois: 13 | ++ INFO: sub-04/ses-2 --> Number of Bad Rois: 14 | ++ INFO: sub-05/ses-1 --> Number of Bad Rois: 6 | ++ INFO: sub-05/ses-2 --> Number of Bad Rois: 7 | ++ INFO: sub-06/ses-1 --> Number of Bad Rois: 19 | ++ INFO: sub-06/ses-2 --> Number of Bad Rois: 9 | ++ INFO: sub-07/ses-1 --> Number of Bad Rois: 16 | ++ INFO: sub-07/ses-2 --> Number of Bad Rois: 15 | ++ INFO: sub-08/ses-1 --> Number of Bad Rois: 13 | ++ INFO: sub-08/ses-2 --> Number of Bad Rois: 13 | ++ INFO: sub-09/ses-1 --> Number of Bad Rois: 8 | ++ INFO: sub-09/ses-2 --> Number of Bad Rois: 7 | ++ INFO: sub-101/ses-1 --> Number of Bad Rois: 9 | ++ INFO: sub-101/ses-2 --> Number of Bad Rois: 9 | ++ INFO: sub-104/ses-1 --> Number of Bad Rois: 11 | ++ INFO: sub-104/ses-2 --> Number of Bad Rois: 10 | ++ INFO: sub-106/ses-1 --> Number of Bad Rois: 12 | ++ INFO: sub-106/ses-2 --> Number of Bad Rois: 13 | ++ INFO: sub-107/ses-1 --> Number of Bad Rois: 28 | ++ INFO: sub-107/ses-2 --> Number of Bad Rois: 24 | ++ INFO: sub-108/ses-1 --> Number of Bad Rois: 12 | ++ INFO: sub-108/ses-2 --> Number of Bad Rois: 14 | ++ INFO: sub-109/ses-1 --> Number of Bad Rois: 14 | ++ INFO: sub-109/ses-2 --> Number of Bad Rois: 15 | ++ INFO: sub-10/ses-1 --> Number of Bad Rois: 19 | ++ INFO: sub-10/ses-2 --> Number of Bad Rois: 17 | ++ INFO: sub-110/ses-1 --> Number of Bad Rois: 13 | ++ INFO: sub-110/ses-2 --> Number of Bad Rois: 13 | ++ INFO: sub-111/ses-1 --> Number of Bad Rois: 8 | ++ INFO: sub-111/ses-2 --> Number of Bad Rois: 8 | ++ INFO: sub-112/ses-1 --> Number of Bad Rois: 11 | ++ INFO: sub-112/ses-2 --> Number of Bad Rois: 10 | ++ INFO: sub-113/ses-1 --> Number of Bad Rois: 9 | ++ INFO: sub-113/ses-2 --> Number of Bad Rois: 8 | ++ INFO: sub-114/ses-1 --> Number of Bad Rois: 20 | ++ INFO: sub-114/ses-2 --> Number of Bad Rois: 18 | ++ INFO: sub-115/ses-1 --> Number of Bad Rois: 9 | ++ INFO: sub-115/ses-2 --> Number of Bad Rois: 9 | ++ INFO: sub-116/ses-1 --> Number of Bad Rois: 11 | ++ INFO: sub-116/ses-2 --> Number of Bad Rois: 12 | ++ INFO: sub-117/ses-1 --> Number of Bad Rois: 11 | ++ INFO: sub-118/ses-1 --> Number of Bad Rois: 5 | ++ INFO: sub-118/ses-2 --> Number of Bad Rois: 5 | ++ INFO: sub-119/ses-1 --> Number of Bad Rois: 11 | ++ INFO: sub-119/ses-2 --> Number of Bad Rois: 9 | ++ INFO: sub-11/ses-1 --> Number of Bad Rois: 16 | ++ INFO: sub-11/ses-2 --> Number of Bad Rois: 17 | ++ INFO: sub-120/ses-1 --> Number of Bad Rois: 9 | ++ INFO: sub-120/ses-2 --> Number of Bad Rois: 9 | ++ INFO: sub-121/ses-1 --> Number of Bad Rois: 10 | ++ INFO: sub-121/ses-2 --> Number of Bad Rois: 23 | ++ INFO: sub-122/ses-1 --> Number of Bad Rois: 6 | ++ INFO: sub-122/ses-2 --> Number of Bad Rois: 6 | ++ INFO: sub-123/ses-1 --> Number of Bad Rois: 4 | ++ INFO: sub-123/ses-2 --> Number of Bad Rois: 4 | ++ INFO: sub-124/ses-1 --> Number of Bad Rois: 14 | ++ INFO: sub-124/ses-2 --> Number of Bad Rois: 15 | ++ INFO: sub-125/ses-1 --> Number of Bad Rois: 17 | ++ INFO: sub-125/ses-2 --> Number of Bad Rois: 21 | ++ INFO: sub-127/ses-1 --> Number of Bad Rois: 7 | ++ INFO: sub-127/ses-2 --> Number of Bad Rois: 7 | ++ INFO: sub-128/ses-1 --> Number of Bad Rois: 12 | ++ INFO: sub-128/ses-2 --> Number of Bad Rois: 12 | ++ INFO: sub-129/ses-1 --> Number of Bad Rois: 9 | ++ INFO: sub-129/ses-2 --> Number of Bad Rois: 11 | ++ INFO: sub-12/ses-2 --> Number of Bad Rois: 35 | ++ INFO: sub-130/ses-1 --> Number of Bad Rois: 10 | ++ INFO: sub-130/ses-2 --> Number of Bad Rois: 10 | ++ INFO: sub-132/ses-1 --> Number of Bad Rois: 6 | ++ INFO: sub-132/ses-2 --> Number of Bad Rois: 6 | ++ INFO: sub-133/ses-1 --> Number of Bad Rois: 16 | ++ INFO: sub-133/ses-2 --> Number of Bad Rois: 17 | ++ INFO: sub-134/ses-1 --> Number of Bad Rois: 18 | ++ INFO: sub-134/ses-2 --> Number of Bad Rois: 18 | ++ INFO: sub-135/ses-1 --> Number of Bad Rois: 12 | ++ INFO: sub-135/ses-2 --> Number of Bad Rois: 9 | ++ INFO: sub-136/ses-1 --> Number of Bad Rois: 20 | ++ INFO: sub-136/ses-2 --> Number of Bad Rois: 17 | ++ INFO: sub-137/ses-1 --> Number of Bad Rois: 9 | ++ INFO: sub-137/ses-2 --> Number of Bad Rois: 9 | ++ INFO: sub-138/ses-1 --> Number of Bad Rois: 15 | ++ INFO: sub-138/ses-2 --> Number of Bad Rois: 15 | ++ INFO: sub-139/ses-1 --> Number of Bad Rois: 10 | ++ INFO: sub-139/ses-2 --> Number of Bad Rois: 8 | ++ INFO: sub-13/ses-1 --> Number of Bad Rois: 8 | ++ INFO: sub-13/ses-2 --> Number of Bad Rois: 8 | ++ INFO: sub-140/ses-1 --> Number of Bad Rois: 11 | ++ INFO: sub-140/ses-2 --> Number of Bad Rois: 10 | ++ INFO: sub-141/ses-1 --> Number of Bad Rois: 12 | ++ INFO: sub-141/ses-2 --> Number of Bad Rois: 15 | ++ INFO: sub-142/ses-1 --> Number of Bad Rois: 19 | ++ INFO: sub-143/ses-1 --> Number of Bad Rois: 16 | ++ INFO: sub-143/ses-2 --> Number of Bad Rois: 14 | ++ INFO: sub-144/ses-1 --> Number of Bad Rois: 7 | ++ INFO: sub-144/ses-2 --> Number of Bad Rois: 6 | ++ INFO: sub-145/ses-1 --> Number of Bad Rois: 17 | ++ INFO: sub-145/ses-2 --> Number of Bad Rois: 14 | ++ INFO: sub-146/ses-1 --> Number of Bad Rois: 16 | ++ INFO: sub-146/ses-2 --> Number of Bad Rois: 16 | ++ INFO: sub-147/ses-1 --> Number of Bad Rois: 7 | ++ INFO: sub-147/ses-2 --> Number of Bad Rois: 8 | ++ INFO: sub-148/ses-1 --> Number of Bad Rois: 13 | ++ INFO: sub-148/ses-2 --> Number of Bad Rois: 13 | ++ INFO: sub-14/ses-1 --> Number of Bad Rois: 23 | ++ INFO: sub-14/ses-2 --> Number of Bad Rois: 19 | ++ INFO: sub-150/ses-1 --> Number of Bad Rois: 16 | ++ INFO: sub-150/ses-2 --> Number of Bad Rois: 15 | ++ INFO: sub-151/ses-1 --> Number of Bad Rois: 11 | ++ INFO: sub-151/ses-2 --> Number of Bad Rois: 12 | ++ INFO: sub-152/ses-1 --> Number of Bad Rois: 11 | ++ INFO: sub-152/ses-2 --> Number of Bad Rois: 11 | ++ INFO: sub-153/ses-1 --> Number of Bad Rois: 6 | ++ INFO: sub-153/ses-2 --> Number of Bad Rois: 7 | ++ INFO: sub-154/ses-1 --> Number of Bad Rois: 14 | ++ INFO: sub-154/ses-2 --> Number of Bad Rois: 12 | ++ INFO: sub-155/ses-1 --> Number of Bad Rois: 19 | ++ INFO: sub-155/ses-2 --> Number of Bad Rois: 19 | ++ INFO: sub-156/ses-1 --> Number of Bad Rois: 15 | ++ INFO: sub-156/ses-2 --> Number of Bad Rois: 12 | ++ INFO: sub-157/ses-1 --> Number of Bad Rois: 17 | ++ INFO: sub-157/ses-2 --> Number of Bad Rois: 15 | ++ INFO: sub-158/ses-1 --> Number of Bad Rois: 10 | ++ INFO: sub-158/ses-2 --> Number of Bad Rois: 12 | ++ INFO: sub-159/ses-1 --> Number of Bad Rois: 10 | ++ INFO: sub-159/ses-2 --> Number of Bad Rois: 11 | ++ INFO: sub-15/ses-1 --> Number of Bad Rois: 4 | ++ INFO: sub-15/ses-2 --> Number of Bad Rois: 4 | ++ INFO: sub-160/ses-1 --> Number of Bad Rois: 9 | ++ INFO: sub-160/ses-2 --> Number of Bad Rois: 10 | ++ INFO: sub-161/ses-1 --> Number of Bad Rois: 16 | ++ INFO: sub-161/ses-2 --> Number of Bad Rois: 15 | ++ INFO: sub-162/ses-1 --> Number of Bad Rois: 15 | ++ INFO: sub-162/ses-2 --> Number of Bad Rois: 14 | ++ INFO: sub-163/ses-1 --> Number of Bad Rois: 15 | ++ INFO: sub-163/ses-2 --> Number of Bad Rois: 15 | ++ INFO: sub-164/ses-1 --> Number of Bad Rois: 7 | ++ INFO: sub-164/ses-2 --> Number of Bad Rois: 8 | ++ INFO: sub-165/ses-1 --> Number of Bad Rois: 18 | ++ INFO: sub-165/ses-2 --> Number of Bad Rois: 19 | ++ INFO: sub-166/ses-1 --> Number of Bad Rois: 9 | ++ INFO: sub-166/ses-2 --> Number of Bad Rois: 8 | ++ INFO: sub-167/ses-1 --> Number of Bad Rois: 8 | ++ INFO: sub-167/ses-2 --> Number of Bad Rois: 7 | ++ INFO: sub-168/ses-1 --> Number of Bad Rois: 7 | ++ INFO: sub-168/ses-2 --> Number of Bad Rois: 7 | ++ INFO: sub-169/ses-1 --> Number of Bad Rois: 17 | ++ INFO: sub-169/ses-2 --> Number of Bad Rois: 18 | ++ INFO: sub-16/ses-1 --> Number of Bad Rois: 12 | ++ INFO: sub-16/ses-2 --> Number of Bad Rois: 13 | ++ INFO: sub-170/ses-1 --> Number of Bad Rois: 14 | ++ INFO: sub-170/ses-2 --> Number of Bad Rois: 13 | ++ INFO: sub-171/ses-1 --> Number of Bad Rois: 10 | ++ INFO: sub-171/ses-2 --> Number of Bad Rois: 10 | ++ INFO: sub-172/ses-1 --> Number of Bad Rois: 16 | ++ INFO: sub-172/ses-2 --> Number of Bad Rois: 15 | ++ INFO: sub-173/ses-1 --> Number of Bad Rois: 25 | ++ INFO: sub-173/ses-2 --> Number of Bad Rois: 26 | ++ INFO: sub-174/ses-1 --> Number of Bad Rois: 21 | ++ INFO: sub-174/ses-2 --> Number of Bad Rois: 15 | ++ INFO: sub-175/ses-1 --> Number of Bad Rois: 14 | ++ INFO: sub-175/ses-2 --> Number of Bad Rois: 15 | ++ INFO: sub-176/ses-1 --> Number of Bad Rois: 10 | ++ INFO: sub-176/ses-2 --> Number of Bad Rois: 11 | ++ INFO: sub-177/ses-1 --> Number of Bad Rois: 17 | ++ INFO: sub-177/ses-2 --> Number of Bad Rois: 16 | ++ INFO: sub-17/ses-1 --> Number of Bad Rois: 11 | ++ INFO: sub-17/ses-2 --> Number of Bad Rois: 11 | ++ INFO: sub-180/ses-1 --> Number of Bad Rois: 14 | ++ INFO: sub-180/ses-2 --> Number of Bad Rois: 15 | ++ INFO: sub-181/ses-1 --> Number of Bad Rois: 8 | ++ INFO: sub-181/ses-2 --> Number of Bad Rois: 8 | ++ INFO: sub-182/ses-1 --> Number of Bad Rois: 14 | ++ INFO: sub-182/ses-2 --> Number of Bad Rois: 14 | ++ INFO: sub-183/ses-1 --> Number of Bad Rois: 13 | ++ INFO: sub-183/ses-2 --> Number of Bad Rois: 12 | ++ INFO: sub-184/ses-1 --> Number of Bad Rois: 8 | ++ INFO: sub-184/ses-2 --> Number of Bad Rois: 7 | ++ INFO: sub-185/ses-1 --> Number of Bad Rois: 7 | ++ INFO: sub-185/ses-2 --> Number of Bad Rois: 7 | ++ INFO: sub-186/ses-1 --> Number of Bad Rois: 8 | ++ INFO: sub-186/ses-2 --> Number of Bad Rois: 8 | ++ INFO: sub-187/ses-1 --> Number of Bad Rois: 11 | ++ INFO: sub-187/ses-2 --> Number of Bad Rois: 12 | ++ INFO: sub-188/ses-1 --> Number of Bad Rois: 7 | ++ INFO: sub-188/ses-2 --> Number of Bad Rois: 7 | ++ INFO: sub-189/ses-1 --> Number of Bad Rois: 24 | ++ INFO: sub-189/ses-2 --> Number of Bad Rois: 15 | ++ INFO: sub-18/ses-1 --> Number of Bad Rois: 9 | ++ INFO: sub-18/ses-2 --> Number of Bad Rois: 9 | ++ INFO: sub-190/ses-1 --> Number of Bad Rois: 9 | ++ INFO: sub-190/ses-2 --> Number of Bad Rois: 10 | ++ INFO: sub-191/ses-1 --> Number of Bad Rois: 15 | ++ INFO: sub-191/ses-2 --> Number of Bad Rois: 15 | ++ INFO: sub-192/ses-1 --> Number of Bad Rois: 18 | ++ INFO: sub-192/ses-2 --> Number of Bad Rois: 9 | ++ INFO: sub-193/ses-1 --> Number of Bad Rois: 6 | ++ INFO: sub-193/ses-2 --> Number of Bad Rois: 11 | ++ INFO: sub-194/ses-1 --> Number of Bad Rois: 10 | ++ INFO: sub-194/ses-2 --> Number of Bad Rois: 11 | ++ INFO: sub-195/ses-1 --> Number of Bad Rois: 10 | ++ INFO: sub-195/ses-2 --> Number of Bad Rois: 10 | ++ INFO: sub-196/ses-1 --> Number of Bad Rois: 25 | ++ INFO: sub-196/ses-2 --> Number of Bad Rois: 16 | ++ INFO: sub-197/ses-1 --> Number of Bad Rois: 11 | ++ INFO: sub-197/ses-2 --> Number of Bad Rois: 10 | ++ INFO: sub-198/ses-1 --> Number of Bad Rois: 10 | ++ INFO: sub-198/ses-2 --> Number of Bad Rois: 9 | ++ INFO: sub-199/ses-1 --> Number of Bad Rois: 7 | ++ INFO: sub-199/ses-2 --> Number of Bad Rois: 6 | ++ INFO: sub-19/ses-1 --> Number of Bad Rois: 16 | ++ INFO: sub-19/ses-2 --> Number of Bad Rois: 17 | ++ INFO: sub-200/ses-1 --> Number of Bad Rois: 7 | ++ INFO: sub-200/ses-2 --> Number of Bad Rois: 7 | ++ INFO: sub-201/ses-1 --> Number of Bad Rois: 12 | ++ INFO: sub-201/ses-2 --> Number of Bad Rois: 13 | ++ INFO: sub-202/ses-1 --> Number of Bad Rois: 11 | ++ INFO: sub-202/ses-2 --> Number of Bad Rois: 10 | ++ INFO: sub-203/ses-1 --> Number of Bad Rois: 9 | ++ INFO: sub-203/ses-2 --> Number of Bad Rois: 11 | ++ INFO: sub-204/ses-1 --> Number of Bad Rois: 15 | ++ INFO: sub-204/ses-2 --> Number of Bad Rois: 13 | ++ INFO: sub-205/ses-1 --> Number of Bad Rois: 10 | ++ INFO: sub-205/ses-2 --> Number of Bad Rois: 10 | ++ INFO: sub-206/ses-1 --> Number of Bad Rois: 10 | ++ INFO: sub-206/ses-2 --> Number of Bad Rois: 11 | ++ INFO: sub-207/ses-1 --> Number of Bad Rois: 9 | ++ INFO: sub-207/ses-2 --> Number of Bad Rois: 9 | ++ INFO: sub-208/ses-1 --> Number of Bad Rois: 6 | ++ INFO: sub-208/ses-2 --> Number of Bad Rois: 6 | ++ INFO: sub-209/ses-1 --> Number of Bad Rois: 5 | ++ INFO: sub-209/ses-2 --> Number of Bad Rois: 6 | ++ INFO: sub-20/ses-1 --> Number of Bad Rois: 15 | ++ INFO: sub-20/ses-2 --> Number of Bad Rois: 13 | ++ INFO: sub-210/ses-1 --> Number of Bad Rois: 17 | ++ INFO: sub-210/ses-2 --> Number of Bad Rois: 16 | ++ INFO: sub-211/ses-1 --> Number of Bad Rois: 16 | ++ INFO: sub-211/ses-2 --> Number of Bad Rois: 17 | ++ INFO: sub-212/ses-1 --> Number of Bad Rois: 10 | ++ INFO: sub-212/ses-2 --> Number of Bad Rois: 10 | ++ INFO: sub-213/ses-1 --> Number of Bad Rois: 15 | ++ INFO: sub-213/ses-2 --> Number of Bad Rois: 17 | ++ INFO: sub-214/ses-1 --> Number of Bad Rois: 10 | ++ INFO: sub-214/ses-2 --> Number of Bad Rois: 8 | ++ INFO: sub-215/ses-1 --> Number of Bad Rois: 15 | ++ INFO: sub-215/ses-2 --> Number of Bad Rois: 19 | ++ INFO: sub-216/ses-1 --> Number of Bad Rois: 9 | ++ INFO: sub-216/ses-2 --> Number of Bad Rois: 9 | ++ INFO: sub-217/ses-1 --> Number of Bad Rois: 8 | ++ INFO: sub-217/ses-2 --> Number of Bad Rois: 8 | ++ INFO: sub-218/ses-1 --> Number of Bad Rois: 7 | ++ INFO: sub-218/ses-2 --> Number of Bad Rois: 7 | ++ INFO: sub-219/ses-1 --> Number of Bad Rois: 10 | ++ INFO: sub-219/ses-2 --> Number of Bad Rois: 10 | ++ INFO: sub-21/ses-1 --> Number of Bad Rois: 11 | ++ INFO: sub-21/ses-2 --> Number of Bad Rois: 9 | ++ INFO: sub-220/ses-1 --> Number of Bad Rois: 10 | ++ INFO: sub-220/ses-2 --> Number of Bad Rois: 9 | ++ INFO: sub-222/ses-1 --> Number of Bad Rois: 6 | ++ INFO: sub-222/ses-2 --> Number of Bad Rois: 6 | ++ INFO: sub-223/ses-1 --> Number of Bad Rois: 8 | ++ INFO: sub-223/ses-2 --> Number of Bad Rois: 6 | ++ INFO: sub-224/ses-1 --> Number of Bad Rois: 15 | ++ INFO: sub-224/ses-2 --> Number of Bad Rois: 17 | ++ INFO: sub-225/ses-1 --> Number of Bad Rois: 6 | ++ INFO: sub-225/ses-2 --> Number of Bad Rois: 6 | ++ INFO: sub-226/ses-1 --> Number of Bad Rois: 14 | ++ INFO: sub-226/ses-2 --> Number of Bad Rois: 14 | ++ INFO: sub-227/ses-1 --> Number of Bad Rois: 6 | ++ INFO: sub-227/ses-2 --> Number of Bad Rois: 7 | ++ INFO: sub-228/ses-1 --> Number of Bad Rois: 9 | ++ INFO: sub-228/ses-2 --> Number of Bad Rois: 9 | ++ INFO: sub-229/ses-1 --> Number of Bad Rois: 15 | ++ INFO: sub-229/ses-2 --> Number of Bad Rois: 15 | ++ INFO: sub-22/ses-1 --> Number of Bad Rois: 11 | ++ INFO: sub-22/ses-2 --> Number of Bad Rois: 12 | ++ INFO: sub-230/ses-1 --> Number of Bad Rois: 6 | ++ INFO: sub-230/ses-2 --> Number of Bad Rois: 7 | ++ INFO: sub-231/ses-1 --> Number of Bad Rois: 7 | ++ INFO: sub-231/ses-2 --> Number of Bad Rois: 9 | ++ INFO: sub-232/ses-1 --> Number of Bad Rois: 5 | ++ INFO: sub-232/ses-2 --> Number of Bad Rois: 5 | ++ INFO: sub-233/ses-1 --> Number of Bad Rois: 11 | ++ INFO: sub-233/ses-2 --> Number of Bad Rois: 10 | ++ INFO: sub-234/ses-1 --> Number of Bad Rois: 9 | ++ INFO: sub-234/ses-2 --> Number of Bad Rois: 10 | ++ INFO: sub-235/ses-1 --> Number of Bad Rois: 13 | ++ INFO: sub-235/ses-2 --> Number of Bad Rois: 18 | ++ INFO: sub-236/ses-1 --> Number of Bad Rois: 8 | ++ INFO: sub-236/ses-2 --> Number of Bad Rois: 9 | ++ INFO: sub-237/ses-1 --> Number of Bad Rois: 4 | ++ INFO: sub-237/ses-2 --> Number of Bad Rois: 6 | ++ INFO: sub-238/ses-1 --> Number of Bad Rois: 15 | ++ INFO: sub-238/ses-2 --> Number of Bad Rois: 11 | ++ INFO: sub-23/ses-1 --> Number of Bad Rois: 6 | ++ INFO: sub-23/ses-2 --> Number of Bad Rois: 4 | ++ INFO: sub-24/ses-1 --> Number of Bad Rois: 19 | ++ INFO: sub-24/ses-2 --> Number of Bad Rois: 22 | ++ INFO: sub-25/ses-1 --> Number of Bad Rois: 17 | ++ INFO: sub-25/ses-2 --> Number of Bad Rois: 16 | ++ INFO: sub-26/ses-1 --> Number of Bad Rois: 19 | ++ INFO: sub-26/ses-2 --> Number of Bad Rois: 20 | ++ INFO: sub-27/ses-1 --> Number of Bad Rois: 8 | ++ INFO: sub-27/ses-2 --> Number of Bad Rois: 9 | ++ INFO: sub-28/ses-1 --> Number of Bad Rois: 13 | ++ INFO: sub-28/ses-2 --> Number of Bad Rois: 17 | ++ INFO: sub-29/ses-1 --> Number of Bad Rois: 10 | ++ INFO: sub-29/ses-2 --> Number of Bad Rois: 13 | ++ INFO: sub-30/ses-1 --> Number of Bad Rois: 12 | ++ INFO: sub-30/ses-2 --> Number of Bad Rois: 9 | ++ INFO: sub-31/ses-1 --> Number of Bad Rois: 10 | ++ INFO: sub-31/ses-2 --> Number of Bad Rois: 6 | ++ INFO: sub-32/ses-1 --> Number of Bad Rois: 14 | ++ INFO: sub-32/ses-2 --> Number of Bad Rois: 12 | ++ INFO: sub-33/ses-1 --> Number of Bad Rois: 9 | ++ INFO: sub-34/ses-1 --> Number of Bad Rois: 10 | ++ INFO: sub-34/ses-2 --> Number of Bad Rois: 13 | ++ INFO: sub-35/ses-1 --> Number of Bad Rois: 10 | ++ INFO: sub-36/ses-1 --> Number of Bad Rois: 10 | ++ INFO: sub-36/ses-2 --> Number of Bad Rois: 8 | ++ INFO: sub-37/ses-1 --> Number of Bad Rois: 10 | ++ INFO: sub-37/ses-2 --> Number of Bad Rois: 12 | ++ INFO: sub-38/ses-1 --> Number of Bad Rois: 12 | ++ INFO: sub-38/ses-2 --> Number of Bad Rois: 10 | ++ INFO: sub-39/ses-1 --> Number of Bad Rois: 11 | ++ INFO: sub-39/ses-2 --> Number of Bad Rois: 11 | ++ INFO: sub-41/ses-1 --> Number of Bad Rois: 6 | ++ INFO: sub-41/ses-2 --> Number of Bad Rois: 6 | ++ INFO: sub-43/ses-1 --> Number of Bad Rois: 16 | ++ INFO: sub-43/ses-2 --> Number of Bad Rois: 14 | ++ INFO: sub-45/ses-1 --> Number of Bad Rois: 6 | ++ INFO: sub-45/ses-2 --> Number of Bad Rois: 5 | ++ INFO: sub-46/ses-1 --> Number of Bad Rois: 7 | ++ INFO: sub-46/ses-2 --> Number of Bad Rois: 8 | ++ INFO: sub-47/ses-1 --> Number of Bad Rois: 9 | ++ INFO: sub-47/ses-2 --> Number of Bad Rois: 9 | ++ INFO: sub-48/ses-1 --> Number of Bad Rois: 13 | ++ INFO: sub-48/ses-2 --> Number of Bad Rois: 12 | ++ INFO: sub-49/ses-1 --> Number of Bad Rois: 10 | ++ INFO: sub-49/ses-2 --> Number of Bad Rois: 10 | ++ INFO: sub-50/ses-1 --> Number of Bad Rois: 7 | ++ INFO: sub-50/ses-2 --> Number of Bad Rois: 6 | ++ INFO: sub-51/ses-1 --> Number of Bad Rois: 15 | ++ INFO: sub-51/ses-2 --> Number of Bad Rois: 15 | ++ INFO: sub-52/ses-1 --> Number of Bad Rois: 10 | ++ INFO: sub-52/ses-2 --> Number of Bad Rois: 14 | ++ INFO: sub-53/ses-2 --> Number of Bad Rois: 26 | ++ INFO: sub-55/ses-1 --> Number of Bad Rois: 10 | ++ INFO: sub-55/ses-2 --> Number of Bad Rois: 11 | ++ INFO: sub-56/ses-1 --> Number of Bad Rois: 12 | ++ INFO: sub-56/ses-2 --> Number of Bad Rois: 12 | ++ INFO: sub-57/ses-1 --> Number of Bad Rois: 10 | ++ INFO: sub-57/ses-2 --> Number of Bad Rois: 13 | ++ INFO: sub-58/ses-1 --> Number of Bad Rois: 13 | ++ INFO: sub-58/ses-2 --> Number of Bad Rois: 14 | ++ INFO: sub-59/ses-1 --> Number of Bad Rois: 13 | ++ INFO: sub-59/ses-2 --> Number of Bad Rois: 12 | ++ INFO: sub-60/ses-1 --> Number of Bad Rois: 11 | ++ INFO: sub-60/ses-2 --> Number of Bad Rois: 11 | ++ INFO: sub-61/ses-1 --> Number of Bad Rois: 12 | ++ INFO: sub-61/ses-2 --> Number of Bad Rois: 12 | ++ INFO: sub-62/ses-1 --> Number of Bad Rois: 6 | ++ INFO: sub-62/ses-2 --> Number of Bad Rois: 6 | ++ INFO: sub-63/ses-1 --> Number of Bad Rois: 15 | ++ INFO: sub-63/ses-2 --> Number of Bad Rois: 13 | ++ INFO: sub-64/ses-1 --> Number of Bad Rois: 19 | ++ INFO: sub-64/ses-2 --> Number of Bad Rois: 21 | ++ INFO: sub-66/ses-1 --> Number of Bad Rois: 12 | ++ INFO: sub-66/ses-2 --> Number of Bad Rois: 11 | ++ INFO: sub-67/ses-1 --> Number of Bad Rois: 22 | ++ INFO: sub-67/ses-2 --> Number of Bad Rois: 17 | ++ INFO: sub-68/ses-1 --> Number of Bad Rois: 10 | ++ INFO: sub-68/ses-2 --> Number of Bad Rois: 10 | ++ INFO: sub-69/ses-1 --> Number of Bad Rois: 12 | ++ INFO: sub-69/ses-2 --> Number of Bad Rois: 10 | ++ INFO: sub-70/ses-1 --> Number of Bad Rois: 12 | ++ INFO: sub-70/ses-2 --> Number of Bad Rois: 10 | ++ INFO: sub-71/ses-1 --> Number of Bad Rois: 10 | ++ INFO: sub-71/ses-2 --> Number of Bad Rois: 11 | ++ INFO: sub-73/ses-1 --> Number of Bad Rois: 8 | ++ INFO: sub-73/ses-2 --> Number of Bad Rois: 8 | ++ INFO: sub-74/ses-1 --> Number of Bad Rois: 11 | ++ INFO: sub-74/ses-2 --> Number of Bad Rois: 10 | ++ INFO: sub-75/ses-1 --> Number of Bad Rois: 10 | ++ INFO: sub-75/ses-2 --> Number of Bad Rois: 6 | ++ INFO: sub-76/ses-1 --> Number of Bad Rois: 7 | ++ INFO: sub-76/ses-2 --> Number of Bad Rois: 6 | ++ INFO: sub-77/ses-1 --> Number of Bad Rois: 17 | ++ INFO: sub-77/ses-2 --> Number of Bad Rois: 17 | ++ INFO: sub-78/ses-1 --> Number of Bad Rois: 11 | ++ INFO: sub-78/ses-2 --> Number of Bad Rois: 13 | ++ INFO: sub-79/ses-1 --> Number of Bad Rois: 10 | ++ INFO: sub-79/ses-2 --> Number of Bad Rois: 10 | ++ INFO: sub-80/ses-1 --> Number of Bad Rois: 9 | ++ INFO: sub-80/ses-2 --> Number of Bad Rois: 9 | ++ INFO: sub-81/ses-1 --> Number of Bad Rois: 10 | ++ INFO: sub-81/ses-2 --> Number of Bad Rois: 10 | ++ INFO: sub-82/ses-1 --> Number of Bad Rois: 10 | ++ INFO: sub-82/ses-2 --> Number of Bad Rois: 9 | ++ INFO: sub-83/ses-1 --> Number of Bad Rois: 15 | ++ INFO: sub-83/ses-2 --> Number of Bad Rois: 16 | ++ INFO: sub-84/ses-1 --> Number of Bad Rois: 20 | ++ INFO: sub-84/ses-2 --> Number of Bad Rois: 20 | ++ INFO: sub-85/ses-1 --> Number of Bad Rois: 15 | ++ INFO: sub-85/ses-2 --> Number of Bad Rois: 14 | ++ INFO: sub-86/ses-1 --> Number of Bad Rois: 23 | ++ INFO: sub-86/ses-2 --> Number of Bad Rois: 21 | ++ INFO: sub-87/ses-1 --> Number of Bad Rois: 8 | ++ INFO: sub-87/ses-2 --> Number of Bad Rois: 6 | ++ INFO: sub-88/ses-1 --> Number of Bad Rois: 12 | ++ INFO: sub-88/ses-2 --> Number of Bad Rois: 11 | ++ INFO: sub-89/ses-1 --> Number of Bad Rois: 17 | ++ INFO: sub-89/ses-2 --> Number of Bad Rois: 19 | ++ INFO: sub-90/ses-1 --> Number of Bad Rois: 8 | ++ INFO: sub-90/ses-2 --> Number of Bad Rois: 7 | ++ INFO: sub-91/ses-1 --> Number of Bad Rois: 5 | ++ INFO: sub-91/ses-2 --> Number of Bad Rois: 5 | ++ INFO: sub-92/ses-1 --> Number of Bad Rois: 6 | ++ INFO: sub-92/ses-2 --> Number of Bad Rois: 6 | ++ INFO: sub-93/ses-1 --> Number of Bad Rois: 15 | ++ INFO: sub-93/ses-2 --> Number of Bad Rois: 14 | ++ INFO: sub-94/ses-1 --> Number of Bad Rois: 6 | ++ INFO: sub-94/ses-2 --> Number of Bad Rois: 7 | ++ INFO: sub-95/ses-1 --> Number of Bad Rois: 14 | ++ INFO: sub-95/ses-2 --> Number of Bad Rois: 15 | ++ INFO: sub-96/ses-1 --> Number of Bad Rois: 8 | ++ INFO: sub-96/ses-2 --> Number of Bad Rois: 8 | ++ INFO: sub-98/ses-1 --> Number of Bad Rois: 9 | ++ INFO: sub-98/ses-2 --> Number of Bad Rois: 9 | ++ INFO: sub-99/ses-1 --> Number of Bad Rois: 9 | ++ INFO: sub-99/ses-2 --> Number of Bad Rois: 9 | "
     ]
    }
   ],
   "source": [
    "bad_roi_list = []\n",
    "for sbj,ses in list(dataset_info_df.index):\n",
    "    roidat_path       = osp.join(PRCS_DATA_DIR,sbj,f'D02_Preproc_fMRI_{ses}',f'rm.{sbj}.combine.{ATLAS_NAME}.FOVcheck_000.roidat')\n",
    "    roidat_df         = pd.read_csv(roidat_path,sep=' ', skipinitialspace=True, header=0)\n",
    "    correct_columns   = roidat_df.columns.drop(['#'])\n",
    "    roidat_df         = roidat_df.drop(['ROI_label'],axis=1)\n",
    "    roidat_df.columns = correct_columns\n",
    "    roidat_df         = roidat_df.drop(['#.1'],axis=1)\n",
    "    bad_rois          = roidat_df[(roidat_df['frac']<=0.05) | (roidat_df['N_nonnull']<10)][['ROI','ROI_label']]\n",
    "    if bad_rois.shape[0] > 0:\n",
    "        print('++ INFO: %s/%s --> Number of Bad Rois: %d' % (sbj,ses,bad_rois.shape[0]), end=' | ')\n",
    "    for i,br in bad_rois.iterrows():\n",
    "        bad_roi_list.append((br['ROI'],br['ROI_label']))"
   ]
  },
  {
   "cell_type": "code",
   "execution_count": 18,
   "id": "01168e10-b326-47c3-b41c-905d5d2d033c",
   "metadata": {},
   "outputs": [],
   "source": [
    "bad_roi_list = list(set(bad_roi_list))"
   ]
  },
  {
   "cell_type": "code",
   "execution_count": 19,
   "id": "815f56a2-9afb-462e-ac8c-ca7f3bd3ec1d",
   "metadata": {},
   "outputs": [
    {
     "name": "stdout",
     "output_type": "stream",
     "text": [
      "[(139, 139), (84, 84), (116, 116), (180, 180), (254, 254), (181, 181), (126, 126), (37, 37), (153, 153), (227, 227), (2, 2), (75, 75), (140, 140), (11, 11), (76, 76), (85, 85), (232, 232), (7, 7), (200, 200), (249, 249), (250, 250), (81, 81), (35, 35), (228, 228), (3, 3), (12, 12), (141, 141), (182, 182), (114, 114), (8, 8), (233, 233), (178, 178), (155, 155), (132, 132), (109, 109), (119, 119), (247, 247), (102, 102), (137, 137), (128, 128), (82, 82), (229, 229), (4, 4), (156, 156), (5, 5), (78, 78), (142, 142), (9, 9), (248, 248), (129, 129), (1, 1), (138, 138), (179, 179), (184, 184), (253, 253), (10, 10), (83, 83), (230, 230), (6, 6), (120, 120), (231, 231)]\n"
     ]
    }
   ],
   "source": [
    "print(bad_roi_list)"
   ]
  },
  {
   "cell_type": "code",
   "execution_count": 20,
   "id": "3f274fb3-f62a-4409-92cf-32e979dfbe45",
   "metadata": {},
   "outputs": [
    {
     "name": "stdout",
     "output_type": "stream",
     "text": [
      "++ INFO: Number of ROIs to remove = 61 ROIs\n"
     ]
    }
   ],
   "source": [
    "print('++ INFO: Number of ROIs to remove = %d ROIs' % len(bad_roi_list))"
   ]
  },
  {
   "cell_type": "code",
   "execution_count": 21,
   "id": "755343a0-f913-499d-a8ab-70c761f7de3f",
   "metadata": {},
   "outputs": [
    {
     "name": "stdout",
     "output_type": "stream",
     "text": [
      "(203, 8)\n"
     ]
    }
   ],
   "source": [
    "roi_info_df = roi_info_df.drop([i for i,_ in bad_roi_list])\n",
    "roi_info_df = roi_info_df.reset_index(drop=True)\n",
    "roi_info_df['ROI_ID'] = roi_info_df.index\n",
    "roi_info_df['ROI_Name'] = ['ROI'+str(r).zfill(3) for r in roi_info_df['ROI_ID']]\n",
    "print(roi_info_df.shape)\n",
    "roi_info_df.to_csv(osp.join(ATLAS_DIR,f'{ATLAS_NAME}.roi_info.csv'), index=False)"
   ]
  },
  {
   "cell_type": "code",
   "execution_count": 22,
   "id": "64fb0357-5ea9-4f19-8c16-ecc28fa4e542",
   "metadata": {},
   "outputs": [
    {
     "data": {
      "text/html": [
       "<div>\n",
       "<style scoped>\n",
       "    .dataframe tbody tr th:only-of-type {\n",
       "        vertical-align: middle;\n",
       "    }\n",
       "\n",
       "    .dataframe tbody tr th {\n",
       "        vertical-align: top;\n",
       "    }\n",
       "\n",
       "    .dataframe thead th {\n",
       "        text-align: right;\n",
       "    }\n",
       "</style>\n",
       "<table border=\"1\" class=\"dataframe\">\n",
       "  <thead>\n",
       "    <tr style=\"text-align: right;\">\n",
       "      <th></th>\n",
       "      <th>ROI_ID</th>\n",
       "      <th>ROI_Name</th>\n",
       "      <th>pos_A</th>\n",
       "      <th>pos_R</th>\n",
       "      <th>pos_S</th>\n",
       "      <th>Network</th>\n",
       "      <th>Hemisphere</th>\n",
       "      <th>RGB</th>\n",
       "    </tr>\n",
       "  </thead>\n",
       "  <tbody>\n",
       "    <tr>\n",
       "      <th>0</th>\n",
       "      <td>0</td>\n",
       "      <td>ROI000</td>\n",
       "      <td>-25</td>\n",
       "      <td>-98</td>\n",
       "      <td>-12</td>\n",
       "      <td>Uncertain</td>\n",
       "      <td>LH</td>\n",
       "      <td>#ffffff</td>\n",
       "    </tr>\n",
       "    <tr>\n",
       "      <th>1</th>\n",
       "      <td>1</td>\n",
       "      <td>ROI001</td>\n",
       "      <td>-14</td>\n",
       "      <td>-18</td>\n",
       "      <td>40</td>\n",
       "      <td>Sensory/somatomotor Hand</td>\n",
       "      <td>LH</td>\n",
       "      <td>#E0FFFF</td>\n",
       "    </tr>\n",
       "    <tr>\n",
       "      <th>2</th>\n",
       "      <td>2</td>\n",
       "      <td>ROI002</td>\n",
       "      <td>0</td>\n",
       "      <td>-15</td>\n",
       "      <td>47</td>\n",
       "      <td>Sensory/somatomotor Hand</td>\n",
       "      <td>LH</td>\n",
       "      <td>#E0FFFF</td>\n",
       "    </tr>\n",
       "    <tr>\n",
       "      <th>3</th>\n",
       "      <td>3</td>\n",
       "      <td>ROI003</td>\n",
       "      <td>10</td>\n",
       "      <td>-2</td>\n",
       "      <td>45</td>\n",
       "      <td>Sensory/somatomotor Hand</td>\n",
       "      <td>LH</td>\n",
       "      <td>#E0FFFF</td>\n",
       "    </tr>\n",
       "    <tr>\n",
       "      <th>4</th>\n",
       "      <td>4</td>\n",
       "      <td>ROI004</td>\n",
       "      <td>-7</td>\n",
       "      <td>-21</td>\n",
       "      <td>65</td>\n",
       "      <td>Sensory/somatomotor Hand</td>\n",
       "      <td>LH</td>\n",
       "      <td>#E0FFFF</td>\n",
       "    </tr>\n",
       "    <tr>\n",
       "      <th>...</th>\n",
       "      <td>...</td>\n",
       "      <td>...</td>\n",
       "      <td>...</td>\n",
       "      <td>...</td>\n",
       "      <td>...</td>\n",
       "      <td>...</td>\n",
       "      <td>...</td>\n",
       "      <td>...</td>\n",
       "    </tr>\n",
       "    <tr>\n",
       "      <th>198</th>\n",
       "      <td>198</td>\n",
       "      <td>ROI198</td>\n",
       "      <td>-27</td>\n",
       "      <td>-71</td>\n",
       "      <td>37</td>\n",
       "      <td>Dorsal attention</td>\n",
       "      <td>LH</td>\n",
       "      <td>#00ff00</td>\n",
       "    </tr>\n",
       "    <tr>\n",
       "      <th>199</th>\n",
       "      <td>199</td>\n",
       "      <td>ROI199</td>\n",
       "      <td>-32</td>\n",
       "      <td>-1</td>\n",
       "      <td>54</td>\n",
       "      <td>Dorsal attention</td>\n",
       "      <td>LH</td>\n",
       "      <td>#00ff00</td>\n",
       "    </tr>\n",
       "    <tr>\n",
       "      <th>200</th>\n",
       "      <td>200</td>\n",
       "      <td>ROI200</td>\n",
       "      <td>-42</td>\n",
       "      <td>-60</td>\n",
       "      <td>-9</td>\n",
       "      <td>Dorsal attention</td>\n",
       "      <td>LH</td>\n",
       "      <td>#00ff00</td>\n",
       "    </tr>\n",
       "    <tr>\n",
       "      <th>201</th>\n",
       "      <td>201</td>\n",
       "      <td>ROI201</td>\n",
       "      <td>-17</td>\n",
       "      <td>-59</td>\n",
       "      <td>64</td>\n",
       "      <td>Dorsal attention</td>\n",
       "      <td>LH</td>\n",
       "      <td>#00ff00</td>\n",
       "    </tr>\n",
       "    <tr>\n",
       "      <th>202</th>\n",
       "      <td>202</td>\n",
       "      <td>ROI202</td>\n",
       "      <td>29</td>\n",
       "      <td>-5</td>\n",
       "      <td>54</td>\n",
       "      <td>Dorsal attention</td>\n",
       "      <td>LH</td>\n",
       "      <td>#00ff00</td>\n",
       "    </tr>\n",
       "  </tbody>\n",
       "</table>\n",
       "<p>203 rows × 8 columns</p>\n",
       "</div>"
      ],
      "text/plain": [
       "     ROI_ID ROI_Name  pos_A  pos_R  pos_S                   Network  \\\n",
       "0         0   ROI000    -25    -98    -12                 Uncertain   \n",
       "1         1   ROI001    -14    -18     40  Sensory/somatomotor Hand   \n",
       "2         2   ROI002      0    -15     47  Sensory/somatomotor Hand   \n",
       "3         3   ROI003     10     -2     45  Sensory/somatomotor Hand   \n",
       "4         4   ROI004     -7    -21     65  Sensory/somatomotor Hand   \n",
       "..      ...      ...    ...    ...    ...                       ...   \n",
       "198     198   ROI198    -27    -71     37          Dorsal attention   \n",
       "199     199   ROI199    -32     -1     54          Dorsal attention   \n",
       "200     200   ROI200    -42    -60     -9          Dorsal attention   \n",
       "201     201   ROI201    -17    -59     64          Dorsal attention   \n",
       "202     202   ROI202     29     -5     54          Dorsal attention   \n",
       "\n",
       "    Hemisphere      RGB  \n",
       "0           LH  #ffffff  \n",
       "1           LH  #E0FFFF  \n",
       "2           LH  #E0FFFF  \n",
       "3           LH  #E0FFFF  \n",
       "4           LH  #E0FFFF  \n",
       "..         ...      ...  \n",
       "198         LH  #00ff00  \n",
       "199         LH  #00ff00  \n",
       "200         LH  #00ff00  \n",
       "201         LH  #00ff00  \n",
       "202         LH  #00ff00  \n",
       "\n",
       "[203 rows x 8 columns]"
      ]
     },
     "execution_count": 22,
     "metadata": {},
     "output_type": "execute_result"
    }
   ],
   "source": [
    "roi_info_df.reset_index(drop=True)"
   ]
  },
  {
   "cell_type": "markdown",
   "id": "1eb9f6ed-9843-4dc8-bf2e-935f7ff8247d",
   "metadata": {},
   "source": [
    "***"
   ]
  },
  {
   "cell_type": "code",
   "execution_count": 23,
   "id": "9926a9cf-a9a7-42fa-aa49-5b1b44cbf27e",
   "metadata": {},
   "outputs": [
    {
     "name": "stdout",
     "output_type": "stream",
     "text": [
      "139*equals(a,139)-84*equals(a,84)-116*equals(a,116)-180*equals(a,180)-254*equals(a,254)-181*equals(a,181)-126*equals(a,126)-37*equals(a,37)-153*equals(a,153)-227*equals(a,227)-2*equals(a,2)-75*equals(a,75)-140*equals(a,140)-11*equals(a,11)-76*equals(a,76)-85*equals(a,85)-232*equals(a,232)-7*equals(a,7)-200*equals(a,200)-249*equals(a,249)-250*equals(a,250)-81*equals(a,81)-35*equals(a,35)-228*equals(a,228)-3*equals(a,3)-12*equals(a,12)-141*equals(a,141)-182*equals(a,182)-114*equals(a,114)-8*equals(a,8)-233*equals(a,233)-178*equals(a,178)-155*equals(a,155)-132*equals(a,132)-109*equals(a,109)-119*equals(a,119)-247*equals(a,247)-102*equals(a,102)-137*equals(a,137)-128*equals(a,128)-82*equals(a,82)-229*equals(a,229)-4*equals(a,4)-156*equals(a,156)-5*equals(a,5)-78*equals(a,78)-142*equals(a,142)-9*equals(a,9)-248*equals(a,248)-129*equals(a,129)-1*equals(a,1)-138*equals(a,138)-179*equals(a,179)-184*equals(a,184)-253*equals(a,253)-10*equals(a,10)-83*equals(a,83)-230*equals(a,230)-6*equals(a,6)-120*equals(a,120)-231*equals(a,231)\n",
      "139*equals(a,139)+84*equals(a,84)+116*equals(a,116)+180*equals(a,180)+254*equals(a,254)+181*equals(a,181)+126*equals(a,126)+37*equals(a,37)+153*equals(a,153)+227*equals(a,227)+2*equals(a,2)+75*equals(a,75)+140*equals(a,140)+11*equals(a,11)+76*equals(a,76)+85*equals(a,85)+232*equals(a,232)+7*equals(a,7)+200*equals(a,200)+249*equals(a,249)+250*equals(a,250)+81*equals(a,81)+35*equals(a,35)+228*equals(a,228)+3*equals(a,3)+12*equals(a,12)+141*equals(a,141)+182*equals(a,182)+114*equals(a,114)+8*equals(a,8)+233*equals(a,233)+178*equals(a,178)+155*equals(a,155)+132*equals(a,132)+109*equals(a,109)+119*equals(a,119)+247*equals(a,247)+102*equals(a,102)+137*equals(a,137)+128*equals(a,128)+82*equals(a,82)+229*equals(a,229)+4*equals(a,4)+156*equals(a,156)+5*equals(a,5)+78*equals(a,78)+142*equals(a,142)+9*equals(a,9)+248*equals(a,248)+129*equals(a,129)+1*equals(a,1)+138*equals(a,138)+179*equals(a,179)+184*equals(a,184)+253*equals(a,253)+10*equals(a,10)+83*equals(a,83)+230*equals(a,230)+6*equals(a,6)+120*equals(a,120)+231*equals(a,231)\n"
     ]
    }
   ],
   "source": [
    "bad_rois_minus = '-'.join([str(r)+'*equals(a,'+str(r)+')' for r,rs in bad_roi_list])\n",
    "bad_rois_plus  = '+'.join([str(r)+'*equals(a,'+str(r)+')' for r,rs in bad_roi_list])\n",
    "print(bad_rois_minus)\n",
    "print(bad_rois_plus)"
   ]
  },
  {
   "cell_type": "code",
   "execution_count": 24,
   "id": "50c4f16d-6b0f-4e81-a908-2c352112445d",
   "metadata": {},
   "outputs": [
    {
     "name": "stdout",
     "output_type": "stream",
     "text": [
      "[+] Loading AFNI current-py3  ... \n",
      "AFNI/current-py3 last updated  2024-12-11\n",
      "\n",
      "++ 3dcalc: AFNI version=AFNI_24.3.08 (Dec  6 2024) [64-bit]\n",
      "++ Authored by: A cast of thousands\n",
      "++ Output dataset ./Power264.RemovedROIs.nii.gz\n",
      "++ 3dcalc: AFNI version=AFNI_24.3.08 (Dec  6 2024) [64-bit]\n",
      "++ Authored by: A cast of thousands\n",
      "++ Output dataset ./rm.Power264.fov_restricted.nii.gz\n"
     ]
    }
   ],
   "source": [
    "command=f\"\"\"module load afni; \\\n",
    "           cd {ATLAS_DIR}; \\\n",
    "           3dcalc -overwrite \\\n",
    "                  -a {ATLAS_NAME}.nii.gz \\\n",
    "                  -expr '{bad_rois_plus}' \\\n",
    "                  -prefix {ATLAS_NAME}.RemovedROIs.nii.gz; \\\n",
    "           3dcalc -overwrite \\\n",
    "                  -a      {ATLAS_NAME}.nii.gz \\\n",
    "                  -expr 'a-{bad_rois_minus}' \\\n",
    "                  -prefix rm.{ATLAS_NAME}.fov_restricted.nii.gz; \\\n",
    "                  \"\"\"\n",
    "output  = subprocess.check_output(command, shell=True, stderr=subprocess.STDOUT)\n",
    "print(output.strip().decode())"
   ]
  },
  {
   "cell_type": "code",
   "execution_count": 25,
   "id": "3dc105c7-6c03-4f51-84ca-b9605392167c",
   "metadata": {},
   "outputs": [],
   "source": [
    "from nilearn.plotting import plot_roi"
   ]
  },
  {
   "cell_type": "code",
   "execution_count": 26,
   "id": "9cf4c92c-0cf5-4daa-a474-15ed888c79b2",
   "metadata": {},
   "outputs": [
    {
     "data": {
      "text/plain": [
       "<nilearn.plotting.displays._slicers.OrthoSlicer at 0x15550a4a0d90>"
      ]
     },
     "execution_count": 26,
     "metadata": {},
     "output_type": "execute_result"
    },
    {
     "data": {
      "image/png": "[encoded data removed]",
      "text/plain": [
       "<Figure size 660x350 with 4 Axes>"
      ]
     },
     "metadata": {},
     "output_type": "display_data"
    }
   ],
   "source": [
    "plot_roi(osp.join(ATLAS_DIR,f'{ATLAS_NAME}.RemovedROIs.nii.gz'),title='ROIs that will be removed from the ATLAS')"
   ]
  },
  {
   "cell_type": "code",
   "execution_count": 27,
   "id": "822d9917-e80a-4ffc-8943-4917f958de01",
   "metadata": {},
   "outputs": [
    {
     "data": {
      "text/plain": [
       "<nilearn.plotting.displays._slicers.OrthoSlicer at 0x15550a2b0400>"
      ]
     },
     "execution_count": 27,
     "metadata": {},
     "output_type": "execute_result"
    },
    {
     "data": {
      "image/png": "[encoded data removed]",
      "text/plain": [
       "<Figure size 660x350 with 4 Axes>"
      ]
     },
     "metadata": {},
     "output_type": "display_data"
    }
   ],
   "source": [
    "plot_roi(osp.join(ATLAS_DIR,f'{ATLAS_NAME}.nii.gz'),title='Original ATLAS')"
   ]
  },
  {
   "cell_type": "code",
   "execution_count": 28,
   "id": "ba59ee4f-6cb4-459a-9836-01ab1bf93148",
   "metadata": {},
   "outputs": [
    {
     "data": {
      "text/plain": [
       "<nilearn.plotting.displays._slicers.OrthoSlicer at 0x15550a156af0>"
      ]
     },
     "execution_count": 28,
     "metadata": {},
     "output_type": "execute_result"
    },
    {
     "data": {
      "image/png": "[encoded data removed]",
      "text/plain": [
       "<Figure size 660x350 with 4 Axes>"
      ]
     },
     "metadata": {},
     "output_type": "display_data"
    }
   ],
   "source": [
    "plot_roi(osp.join(ATLAS_DIR,f'rm.{ATLAS_NAME}.fov_restricted.nii.gz'),title='FOV-Restricted ATLAS')"
   ]
  },
  {
   "cell_type": "markdown",
   "id": "217f84c4-ce96-4eaa-abeb-6f2fbb79fad4",
   "metadata": {},
   "source": [
    "***"
   ]
  },
  {
   "cell_type": "code",
   "execution_count": 29,
   "id": "53c1b426-2b8d-477f-be9d-885f49cf1278",
   "metadata": {},
   "outputs": [
    {
     "name": "stdout",
     "output_type": "stream",
     "text": [
      "[+] Loading AFNI current-py3  ... \n",
      "AFNI/current-py3 last updated  2024-12-11\n",
      "\n",
      "++ Output dataset /vf/users/SFIMJGC_HCP7T/BCBL2024/atlases/Power264/Power264.nii.gz\n"
     ]
    }
   ],
   "source": [
    "command = f\"\"\"ml afni; \\\n",
    "             cd {ATLAS_DIR}; \\\n",
    "             3dRank -overwrite -prefix {ATLAS_NAME}.nii.gz -input rm.{ATLAS_NAME}.fov_restricted.nii.gz;\"\"\"\n",
    "output  = subprocess.check_output(command, shell=True, stderr=subprocess.STDOUT)\n",
    "print(output.strip().decode())"
   ]
  },
  {
   "cell_type": "code",
   "execution_count": null,
   "id": "2cff9944-45d5-4236-9594-6e5e7b6e7138",
   "metadata": {},
   "outputs": [],
   "source": []
  }
 ],
 "metadata": {
  "jupytext": {
   "formats": "ipynb,auto:light"
  },
  "kernelspec": {
   "display_name": "BOLD WAVES 2024a",
   "language": "python",
   "name": "bold_waves_2024a"
  },
  "language_info": {
   "codemirror_mode": {
    "name": "ipython",
    "version": 3
   },
   "file_extension": ".py",
   "mimetype": "text/x-python",
   "name": "python",
   "nbconvert_exporter": "python",
   "pygments_lexer": "ipython3",
   "version": "3.9.19"
  }
 },
 "nbformat": 4,
 "nbformat_minor": 5
}
