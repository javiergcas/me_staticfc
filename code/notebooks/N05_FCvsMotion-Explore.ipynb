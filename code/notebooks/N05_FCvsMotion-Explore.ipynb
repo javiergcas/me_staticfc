{
 "cells": [
  {
   "cell_type": "code",
   "execution_count": 49,
   "id": "cfdcc916-5a4d-40a2-9e65-d835a71efc12",
   "metadata": {},
   "outputs": [],
   "source": [
    "import pandas as pd\n",
    "import numpy as np\n",
    "from tqdm import tqdm\n",
    "import os.path as osp\n",
    "import subprocess\n",
    "import datetime\n",
    "from utils.basics import PRCS_DATA_DIR, ATLASES_DIR, ATLAS_NAME, PRJ_DIR, CODE_DIR\n",
    "ATLAS_NAME = 'Power264'\n",
    "ATLAS_DIR = osp.join(ATLASES_DIR,ATLAS_NAME)\n",
    "from nilearn.connectome import sym_matrix_to_vec\n",
    "from sfim_lib.io.afni import load_netcc\n",
    "from sfim_lib.plotting.fc_matrices import hvplot_fc\n",
    "import hvplot.pandas\n",
    "import seaborn as sns\n",
    "import holoviews as hv\n",
    "import xarray as xr\n",
    "import panel as pn\n",
    "from itertools import combinations_with_replacement, permutations, combinations\n",
    "from scipy.stats import linregress\n",
    "import hvplot.xarray"
   ]
  },
  {
   "cell_type": "code",
   "execution_count": 2,
   "id": "508e1632-3dba-40d3-8f8e-017aa898a639",
   "metadata": {},
   "outputs": [],
   "source": [
    "color_map_dict={'White':'#ffffff','Cyan':'#E0FFFF','Orange':'#FFA500','Purple':'#800080',\n",
    "                'Pink':'#FFC0CB','Red':'#ff0000','Gray':'#808080','Teal':'#008080','Brown':'#A52A2A',\n",
    "                'Blue':'#0000ff','Yellow':'#FFFF00','Black':'#000000','Pale blue':'#ADD8E6','Green':'#00ff00'}\n",
    "nw_color_dict = {'Uncertain':'#ffffff',\n",
    "                 'Sensory/somatomotor Hand':'#E0FFFF',\n",
    "                 'Sensory/somatomotor Mouth':'#FFA500',\n",
    "                 'Cingulo-opercular Task Control':'#800080',\n",
    "                 'Auditory':'#FFC0CB',\n",
    "                 'Default mode':'#ff0000',\n",
    "                 'Memory retrieval?':'#808080',\n",
    "                 'Ventral attention':'#008080',\n",
    "                 'Visual':'#0000ff',\n",
    "                 'Fronto-parietal Task Control':'#FFFF00',\n",
    "                 'Salience':'#000000',\n",
    "                 'Subcortical':'#A52A2A',\n",
    "                 'Cerebellar':'#ADD8E6',\n",
    "                 'Dorsal attention':'#00ff00'}"
   ]
  },
  {
   "cell_type": "code",
   "execution_count": 3,
   "id": "d339a744-cfe1-49ff-9a4b-619328841a26",
   "metadata": {},
   "outputs": [
    {
     "name": "stdout",
     "output_type": "stream",
     "text": [
      "++ INFO: Second Port available: 44177\n"
     ]
    }
   ],
   "source": [
    "import os\n",
    "port_tunnel = int(os.environ['PORT2'])\n",
    "print('++ INFO: Second Port available: %d' % port_tunnel)"
   ]
  },
  {
   "cell_type": "markdown",
   "id": "d0c2b6aa-ecc4-4cb0-ab8c-ee0f3aff490a",
   "metadata": {},
   "source": [
    "# 1. Load Dataset Information"
   ]
  },
  {
   "cell_type": "code",
   "execution_count": 4,
   "id": "8f77c8eb-b7db-4092-a27f-0c350b8c27b9",
   "metadata": {},
   "outputs": [
    {
     "name": "stdout",
     "output_type": "stream",
     "text": [
      "++ Number of scans: 434 scans\n"
     ]
    }
   ],
   "source": [
    "dataset_info_df = pd.read_csv(osp.join(PRJ_DIR,'resources','good_scans.txt'))\n",
    "dataset_info_df = dataset_info_df.set_index(['Subject','Session'])\n",
    "Nscans          = dataset_info_df.shape[0]\n",
    "print('++ Number of scans: %s scans' % Nscans)\n",
    "dataset_scan_list = list(dataset_info_df.index)\n",
    "Nacqs = 201"
   ]
  },
  {
   "cell_type": "markdown",
   "id": "a317ddd0-9928-4f85-b67c-cf372d578afa",
   "metadata": {},
   "source": [
    "# 2. Load Atlas Information"
   ]
  },
  {
   "cell_type": "code",
   "execution_count": 5,
   "id": "f1f52bbc-d24c-442c-b23c-7f7cdd4a4484",
   "metadata": {},
   "outputs": [
    {
     "name": "stdout",
     "output_type": "stream",
     "text": [
      "++ INFO: Number of ROIs = 203 | Number of Connections = 20503\n"
     ]
    }
   ],
   "source": [
    "roi_info_path = osp.join(ATLAS_DIR,f'{ATLAS_NAME}.roi_info.csv')\n",
    "roi_info_df   = pd.read_csv(roi_info_path)\n",
    "roi_info_df.head(5)\n",
    "\n",
    "Nrois = roi_info_df.shape[0]\n",
    "Ncons = int(((Nrois) * (Nrois-1))/2)\n",
    "\n",
    "print('++ INFO: Number of ROIs = %d | Number of Connections = %d' % (Nrois,Ncons))"
   ]
  },
  {
   "cell_type": "markdown",
   "id": "f192c622-9036-4340-a696-530be7f4b221",
   "metadata": {},
   "source": [
    "Compute Euclidean Distance between ROI centroids"
   ]
  },
  {
   "cell_type": "code",
   "execution_count": 6,
   "id": "4b8d9a27-fd89-492f-b30b-f284aeb54546",
   "metadata": {},
   "outputs": [],
   "source": [
    "# Select the columns that correspond to position\n",
    "roi_coords_df = roi_info_df.set_index(['ROI_Name'])[['pos_R','pos_A','pos_S']]\n",
    "\n",
    "# Convert the DataFrame to a NumPy array\n",
    "roi_coords = roi_coords_df.values\n",
    "\n",
    "# Calculate the Euclidean distance using broadcasting\n",
    "roi_distance_matrix = np.sqrt(((roi_coords[:, np.newaxis] - roi_coords) ** 2).sum(axis=2))\n",
    "\n",
    "# Convert to DataFrame\n",
    "roi_distance_df = pd.DataFrame(roi_distance_matrix, index=roi_coords_df.index, columns=roi_coords_df.index)"
   ]
  },
  {
   "cell_type": "code",
   "execution_count": 7,
   "id": "76c6f1ba-128a-46bd-8869-bf67061d9c3c",
   "metadata": {},
   "outputs": [],
   "source": [
    "roi_distance_vect = sym_matrix_to_vec(roi_distance_df.values, discard_diagonal=True)"
   ]
  },
  {
   "cell_type": "markdown",
   "id": "85907c07-b413-4237-a903-c241579fbe14",
   "metadata": {},
   "source": [
    "# 2. Load FC for each scan\n",
    "\n",
    "## 2.1 Motion corrected data (within-echo)"
   ]
  },
  {
   "cell_type": "code",
   "execution_count": 8,
   "id": "44d9cab7-94dc-4a94-a943-54a5398a9b97",
   "metadata": {},
   "outputs": [],
   "source": [
    "fc_all_sbjs_R = {}\n",
    "fc_all_sbjs_Z = {}"
   ]
  },
  {
   "cell_type": "code",
   "execution_count": 35,
   "id": "b2857429-4ccb-482b-b29c-3a6d69d33a9f",
   "metadata": {},
   "outputs": [],
   "source": [
    "echo_pairs_tuples = [i for i in combinations_with_replacement(['e01','e02','e03'],2)]\n",
    "echo_pairs        = [('|').join(i) for i in echo_pairs_tuples]\n",
    "echo_pair_combos  = [c for c in combinations(echo_pairs,2)]\n",
    "cenmodes          = ['ALL','KILL']\n",
    "input_types       = ['volreg','MEICA']"
   ]
  },
  {
   "cell_type": "code",
   "execution_count": 10,
   "id": "3574da92-14a5-4cf9-b044-013c44b58aec",
   "metadata": {},
   "outputs": [],
   "source": [
    "fc = xr.DataArray(dims=['scan','input','cenmode','pair','ROI_x','ROI_y'],\n",
    "                  coords={'scan':['|'.join([sbj,ses]) for (sbj,ses) in dataset_scan_list],\n",
    "                          'input':input_types,\n",
    "                          'cenmode':cenmodes,\n",
    "                          'pair':echo_pairs,\n",
    "                          'ROI_x':roi_info_df['ROI_Name'].values,\n",
    "                          'ROI_y':roi_info_df['ROI_Name'].values})"
   ]
  },
  {
   "cell_type": "markdown",
   "id": "122fbdf8-88d3-40d8-9843-178c72832bbf",
   "metadata": {},
   "source": [
    "Load data following motion correct + basic denoising (per echo) 36,37,52"
   ]
  },
  {
   "cell_type": "code",
   "execution_count": 11,
   "id": "95ad3fc8-5242-4487-a5d1-43ab5db03ec3",
   "metadata": {},
   "outputs": [
    {
     "name": "stderr",
     "output_type": "stream",
     "text": [
      "100%|████████████████████████████████████████████████████████████████████████████████████████████████████████████████████████████████████████████████████████████████████████████████████████████████████████████████████████████████| 434/434 [00:39<00:00, 10.95it/s]\n",
      "100%|████████████████████████████████████████████████████████████████████████████████████████████████████████████████████████████████████████████████████████████████████████████████████████████████████████████████████████████████| 434/434 [00:37<00:00, 11.42it/s]"
     ]
    },
    {
     "name": "stdout",
     "output_type": "stream",
     "text": [
      "CPU times: user 39min 49s, sys: 1min 12s, total: 41min 1s\n",
      "Wall time: 1min 17s\n"
     ]
    },
    {
     "name": "stderr",
     "output_type": "stream",
     "text": [
      "\n"
     ]
    }
   ],
   "source": [
    "%%time\n",
    "for cenmode in cenmodes:\n",
    "    for i,(sbj,ses) in enumerate(tqdm(dataset_scan_list)):\n",
    "        for (e_x,e_y) in echo_pairs_tuples:\n",
    "            roi_ts_path_x = osp.join(PRCS_DATA_DIR,sbj,f'D02_Preproc_fMRI_{ses}',f'errts.{sbj}.r01.{e_x}.volreg.scale.tproject_{cenmode}.{ATLAS_NAME}_000.netts')\n",
    "            roi_ts_x      = np.loadtxt(roi_ts_path_x)\n",
    "            roi_ts_path_y = osp.join(PRCS_DATA_DIR,sbj,f'D02_Preproc_fMRI_{ses}',f'errts.{sbj}.r01.{e_y}.volreg.scale.tproject_{cenmode}.{ATLAS_NAME}_000.netts')\n",
    "            roi_ts_y      = np.loadtxt(roi_ts_path_y)\n",
    "            aux_ts_x = pd.DataFrame(roi_ts_x, columns=roi_info_df['ROI_Name'].values)\n",
    "            aux_ts_y = pd.DataFrame(roi_ts_y, columns=roi_info_df['ROI_Name'].values)\n",
    "            # Compute the full correlation matrix between aux_ts_x and aux_ts_y\n",
    "            aux_r   = np.corrcoef(aux_ts_x.T, aux_ts_y.T)[:aux_ts_x.shape[1], aux_ts_x.shape[1]:]\n",
    "            fc.loc['|'.join([sbj,ses]),'volreg',cenmode,'|'.join([e_x,e_y]),:,:] = aux_r"
   ]
  },
  {
   "cell_type": "markdown",
   "id": "da8d7c7b-f760-4036-b7ad-6827b4cd3b39",
   "metadata": {},
   "source": [
    "Load data following MEICA denosing (per echo)"
   ]
  },
  {
   "cell_type": "code",
   "execution_count": 12,
   "id": "8c98aaf7-5d40-4409-8f84-87524c26f7d3",
   "metadata": {},
   "outputs": [
    {
     "name": "stderr",
     "output_type": "stream",
     "text": [
      "100%|████████████████████████████████████████████████████████████████████████████████████████████████████████████████████████████████████████████████████████████████████████████████████████████████████████████████████████████████| 434/434 [00:41<00:00, 10.51it/s]\n",
      "100%|████████████████████████████████████████████████████████████████████████████████████████████████████████████████████████████████████████████████████████████████████████████████████████████████████████████████████████████████| 434/434 [00:42<00:00, 10.33it/s]"
     ]
    },
    {
     "name": "stdout",
     "output_type": "stream",
     "text": [
      "CPU times: user 42min 36s, sys: 1min 18s, total: 43min 54s\n",
      "Wall time: 1min 23s\n"
     ]
    },
    {
     "name": "stderr",
     "output_type": "stream",
     "text": [
      "\n"
     ]
    }
   ],
   "source": [
    "%%time\n",
    "for cenmode in cenmodes:\n",
    "    for i,(sbj,ses) in enumerate(tqdm(dataset_scan_list)):\n",
    "        for (e_x,e_y) in echo_pairs_tuples:\n",
    "            roi_ts_path_x = osp.join(PRCS_DATA_DIR,sbj,f'D02_Preproc_fMRI_{ses}',f'errts.{sbj}.r01.{e_x}.meica_dn.scale.tproject_{cenmode}.{ATLAS_NAME}_000.netts')\n",
    "            roi_ts_x      = np.loadtxt(roi_ts_path_x)\n",
    "            roi_ts_path_y = osp.join(PRCS_DATA_DIR,sbj,f'D02_Preproc_fMRI_{ses}',f'errts.{sbj}.r01.{e_y}.meica_dn.scale.tproject_{cenmode}.{ATLAS_NAME}_000.netts')\n",
    "            roi_ts_y      = np.loadtxt(roi_ts_path_y)\n",
    "            aux_ts_x = pd.DataFrame(roi_ts_x, columns=roi_info_df['ROI_Name'].values)\n",
    "            aux_ts_y = pd.DataFrame(roi_ts_y, columns=roi_info_df['ROI_Name'].values)\n",
    "            # Compute the full correlation matrix between aux_ts_x and aux_ts_y\n",
    "            aux_r   = np.corrcoef(aux_ts_x.T, aux_ts_y.T)[:aux_ts_x.shape[1], aux_ts_x.shape[1]:]\n",
    "            fc.loc['|'.join([sbj,ses]),'MEICA',cenmode,'|'.join([e_x,e_y]),:,:] = aux_r"
   ]
  },
  {
   "cell_type": "code",
   "execution_count": 39,
   "id": "6c1bf807-806f-406e-9e64-380cc163e679",
   "metadata": {},
   "outputs": [
    {
     "name": "stderr",
     "output_type": "stream",
     "text": [
      "100%|████████████████████████████████████████████████████████████████████████████████████████████████████████████████████████████████████████████████████████████████████████████████████████████████████████████████████████████████| 434/434 [03:18<00:00,  2.19it/s]"
     ]
    },
    {
     "name": "stdout",
     "output_type": "stream",
     "text": [
      "CPU times: user 1h 42min 5s, sys: 3min 13s, total: 1h 45min 18s\n",
      "Wall time: 3min 18s\n"
     ]
    },
    {
     "name": "stderr",
     "output_type": "stream",
     "text": [
      "\n"
     ]
    }
   ],
   "source": [
    "%%time\n",
    "linefits = xr.DataArray(dims=['scan','input','cenmode','pair_combo','metric'],\n",
    "                        coords={'scan':['|'.join([sbj,ses]) for (sbj,ses) in dataset_scan_list],\n",
    "                          'input':input_types,\n",
    "                          'cenmode':cenmodes,\n",
    "                          'pair_combo':['-'.join([x,y]) for x,y in echo_pair_combos],\n",
    "                          'metric':['Slope','Intercept','R','p_val']})\n",
    "\n",
    "for scan in tqdm(fc.coords['scan']):\n",
    "    for input_type in fc.coords['input']:\n",
    "        for cenmode in fc.coords['cenmode']:\n",
    "            for ep_x,ep_y in echo_pair_combos:\n",
    "                this_fc_px = sym_matrix_to_vec(fc.sel(scan=scan,input=input_type,cenmode=cenmode,pair=ep_x).values,discard_diagonal=True)\n",
    "                this_fc_py = sym_matrix_to_vec(fc.sel(scan=scan,input=input_type,cenmode=cenmode,pair=ep_y).values,discard_diagonal=True)\n",
    "                data = pd.DataFrame(np.vstack([this_fc_px,this_fc_py]).T,columns = [ep_x,ep_y])\n",
    "                slope,intercept,R,p_val,_ = linregress(data)\n",
    "                linefits.loc[scan,input_type,cenmode,'-'.join([ep_x,ep_y]),'Slope'] = slope\n",
    "                linefits.loc[scan,input_type,cenmode,'-'.join([ep_x,ep_y]),'Intercept'] = intercept\n",
    "                linefits.loc[scan,input_type,cenmode,'-'.join([ep_x,ep_y]),'R'] = R\n",
    "                linefits.loc[scan,input_type,cenmode,'-'.join([ep_x,ep_y]),'p_val'] = p_val"
   ]
  },
  {
   "cell_type": "code",
   "execution_count": 69,
   "id": "a7c06bcb-d49a-446f-a9d8-4cc68838834b",
   "metadata": {},
   "outputs": [
    {
     "data": {},
     "metadata": {},
     "output_type": "display_data"
    },
    {
     "data": {
      "application/vnd.holoviews_exec.v0+json": "",
      "text/html": [
       "<div id='p13648'>\n",
       "  <div id=\"bdf953c5-9b62-44c0-876b-e8f6a49f0226\" data-root-id=\"p13648\" style=\"display: contents;\"></div>\n",
       "</div>\n",
       "<script type=\"application/javascript\">(function(root) {\n",
       "  var docs_json = {\"f2bac2ce-8223-4b53-ad84-a48b07f1fe9a\":{\"version\":\"3.4.1\",\"title\":\"Bokeh Application\",\"roots\":[{\"type\":\"object\",\"name\":\"Row\",\"id\":\"p13648\",\"attributes\":{\"name\":\"Row68078\",\"tags\":[\"embedded\"],\"stylesheets\":[\"\\n:host(.pn-loading):before, .pn-loading:before {\\n  background-color: #c3c3c3;\\n  mask-size: auto calc(min(50%, 400px));\\n  -webkit-mask-size: auto calc(min(50%, 400px));\\n}\",{\"type\":\"object\",\"name\":\"ImportedStyleSheet\",\"id\":\"p13651\",\"attributes\":{\"url\":\"https://cdn.holoviz.org/panel/1.4.4/dist/css/loading.css\"}},{\"type\":\"object\",\"name\":\"ImportedStyleSheet\",\"id\":\"p13732\",\"attributes\":{\"url\":\"https://cdn.holoviz.org/panel/1.4.4/dist/css/listpanel.css\"}},{\"type\":\"object\",\"name\":\"ImportedStyleSheet\",\"id\":\"p13649\",\"attributes\":{\"url\":\"https://cdn.holoviz.org/panel/1.4.4/dist/bundled/theme/default.css\"}},{\"type\":\"object\",\"name\":\"ImportedStyleSheet\",\"id\":\"p13650\",\"attributes\":{\"url\":\"https://cdn.holoviz.org/panel/1.4.4/dist/bundled/theme/native.css\"}}],\"min_width\":700,\"margin\":0,\"sizing_mode\":\"stretch_width\",\"align\":\"start\",\"children\":[{\"type\":\"object\",\"name\":\"Spacer\",\"id\":\"p13652\",\"attributes\":{\"name\":\"HSpacer68084\",\"stylesheets\":[\"\\n:host(.pn-loading):before, .pn-loading:before {\\n  background-color: #c3c3c3;\\n  mask-size: auto calc(min(50%, 400px));\\n  -webkit-mask-size: auto calc(min(50%, 400px));\\n}\",{\"id\":\"p13651\"},{\"id\":\"p13649\"},{\"id\":\"p13650\"}],\"margin\":0,\"sizing_mode\":\"stretch_width\",\"align\":\"start\"}},{\"type\":\"object\",\"name\":\"Figure\",\"id\":\"p13665\",\"attributes\":{\"width\":700,\"height\":300,\"margin\":[5,10],\"sizing_mode\":\"fixed\",\"align\":\"start\",\"x_range\":{\"type\":\"object\",\"name\":\"Range1d\",\"id\":\"p13653\",\"attributes\":{\"tags\":[[[\"0\",null]],[]],\"start\":0.4063010499871837,\"end\":1.1349184783318758,\"reset_start\":0.4063010499871837,\"reset_end\":1.1349184783318758}},\"y_range\":{\"type\":\"object\",\"name\":\"Range1d\",\"id\":\"p13654\",\"attributes\":{\"tags\":[[[\"Density\",null]],{\"type\":\"map\",\"entries\":[[\"invert_yaxis\",false],[\"autorange\",false]]}],\"end\":4.781103255045063,\"reset_start\":0.0,\"reset_end\":4.781103255045063}},\"x_scale\":{\"type\":\"object\",\"name\":\"LinearScale\",\"id\":\"p13675\"},\"y_scale\":{\"type\":\"object\",\"name\":\"LinearScale\",\"id\":\"p13676\"},\"title\":{\"type\":\"object\",\"name\":\"Title\",\"id\":\"p13668\",\"attributes\":{\"text_color\":\"black\",\"text_font_size\":\"12pt\"}},\"renderers\":[{\"type\":\"object\",\"name\":\"GlyphRenderer\",\"id\":\"p13705\",\"attributes\":{\"name\":\"Basic Denoising\",\"data_source\":{\"type\":\"object\",\"name\":\"ColumnDataSource\",\"id\":\"p13696\",\"attributes\":{\"selected\":{\"type\":\"object\",\"name\":\"Selection\",\"id\":\"p13697\",\"attributes\":{\"indices\":[],\"line_indices\":[]}},\"selection_policy\":{\"type\":\"object\",\"name\":\"UnionRenderers\",\"id\":\"p13698\"},\"data\":{\"type\":\"map\",\"entries\":[[\"x\",{\"type\":\"ndarray\",\"array\":{\"type\":\"bytes\",\"data\":\"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\"},\"shape\":[200],\"dtype\":\"float64\",\"order\":\"little\"}],[\"y\",{\"type\":\"ndarray\",\"array\":{\"type\":\"bytes\",\"data\":\"AAAAAAAAAAAAAAAAAAAAAAAAAAAAAAAAAAAAAAAAAAAAAAAAAAAAAAAAAAAAAAAAAAAAAAAAAAAAAAAAAAAAAAAAAAAAAAAAAAAAAAAAAAAAAAAAAAAAAAAAAAAAAAAAAAAAAAAAAAAAAAAAAAAAAAAAAAAAAAAAAAAAAAAAAAAAAAAAAAAAAAAAAAAAAAAAAAAAAAAAAAAAAAAAAAAAAAAAAAAAAAAAAAAAAAAAAAAAAAAAAAAAAAAAAAAAAAAAAAAAAAAAAAAAAAAAAAAAAAAAAAAAAAAAAAAAAAAAAAAAAAAAAAAAAAAAAAAAAAAAAAAAAAAAAAAAAAAAAAAAAAAAAAAAAAAAAAAAAAAAAAAAAAAAAAAAAAAAAAAAAAAAAAAAAAAAAAAAAAAAAAAAAAAAAAAAAAAAAAAAAAAAAAAAAAAAAAAAAAAAAAAAAAAAAAAAAAAAAAAAAAAAAAAAAAAAAAAAAAAAAAAAAAAAAAAAAAAAAAAAAAAAAAAAAAAAAAAAAAAAAAAAAAAAAAAAAAAAAAAAAAAAAAAAAAAAAAAAAAAAAAAAAAAAAAAAAAAAAAAAAAAAAAAAAAAAAAAAAAAAAAAAAAAAAAAAAAAAAAAAAAAAAAAAAAAAAAAAAAAAAAAAAAAAAAAAAAAAAAAAAAAAAAAAAAAAAAAAAAAAAAAAAAAAAAAAAAAAAAAAAAAAAAAAAAAAAAAAAAAAAAAAAAAAAAAAAAAAAAAAAAAAAAAAAAAAAAAAAAAAAAAAAAAAAAAAAAAAAAAAAAAAAAAAAAAAAAAAAAAAAAAAAAAAAAAAAAAAAAAAAAAAAAAAAAAAAAAAAAAAAAAAAAAAAAAAAAAAAAAAAAAAAAAAAAAAAAAAAAAAAAAAAAAAAAAAAAAAAAAAAAAAAAAAAAAAAAAAAAAAAAAAAAAAAAAAAAAAAAAAAAAAAAAAAAAAAAAAAAAAAAAAAAAAAAAAAAAAAAAAAAAAAAAAAAAAAAAAAAAAAAAAAAAAAAAAAAAAAAAAAAAAAAAAAAAAAAAAAAAAAAAAAAAAAAAAAAAAAAAAAAAAAAAd8yayRp84PzWh8A6/sUk/kUQ3JV1UWT9zWwUF0aBnPykQHsZp53Q/16GgDr+XgT/9cAMNOkiMP1zQIbsg05U/TJW5v+JFoD+n0fT33J+nP00yY8fq07A/sv2zxgOytz8ojro0xpLAPxqcypyxEsc/KEiCcl/qzz9qM3PpBtfVPxNXea4ha90/NB2tPzVn4z/P5JaG9vfoPxXOHWqPRe8/3egTFbYL8z9ho2tWJJT2P5X0N3iVGfo/gmSuyZ1//T8KqW2ei1kAQOk0pwXQ1AFANxOi/xIvA0A+9jlpWmYEQEQFl+wJeAVASzRRy1lhBkCUFfSCPyEHQIqqNh2uugdAv5ISPcE1CEDUEp9e2Z4IQAwW1rC0AwlAzLxgLqBvCUAdRl7rY+gJQHon++c5bQpAP0nfNBT4CkA+MTRQRoALQCFWueb+/AtA7r+yjklmDEBn1KwOY7QMQCo/QxJf3gxA60vNJLLZDEDpSf2hw5sMQB0iwR90HQxAjCn0OTpfC0Cpnppi2WsKQDcCyrIeWAlAECmHE0U/CEDYKy94AT0HQDdHga4XZwZAM/TUp2PIBUBeIH5bmV4FQDjymaYKGwVAHjrIEfXlBEBG8ZLQZ6MEQNd8/v2zOARAU+ITkmiRA0ARIwby/qICQLLFEXaUbgFAAmv8W2MAAEC3EUfCPtr8PxQ0Q0udm/k/CnbjcRd29j+czbBzcZHzPwTBKIoQBvE/dv8ca6217T9O1mAv/g3qP0YvzF967uY/3jNNly8p5D9ohU1/J5bhP0X35dCrOd4/s7ZwC/xu2T+1qrtm6ODUP1llvVEcttA/GFPfzcYsyj9VzLdnoDnEP+VzI2B0Qr8/MyK9saeVuD/JC9UDPQO0Py5KmrzcB7E/cZm6jwtCrj/uH4FqM7urP6DGbrEiyak/zYY515zrpz/XCCG0KdKlPy9NWkazWaM/0vxYjEyIoD+nCsDFXQibP+Y5tLeRCpU/qWsPDlYRjz8ZCZSFybGFPwK8HiAbmnw/vkL4ExrGcT9c8cdZr81kP6iVGTtb6lY/8BcNZGq+Rz8UlsoPXyI3Pw==\"},\"shape\":[200],\"dtype\":\"float64\",\"order\":\"little\"}]]}}},\"view\":{\"type\":\"object\",\"name\":\"CDSView\",\"id\":\"p13706\",\"attributes\":{\"filter\":{\"type\":\"object\",\"name\":\"AllIndices\",\"id\":\"p13707\"}}},\"glyph\":{\"type\":\"object\",\"name\":\"Patch\",\"id\":\"p13702\",\"attributes\":{\"tags\":[\"apply_ranges\"],\"x\":{\"type\":\"field\",\"field\":\"x\"},\"y\":{\"type\":\"field\",\"field\":\"y\"},\"fill_color\":\"#30a2da\",\"fill_alpha\":0.5,\"hatch_color\":\"#30a2da\"}},\"selection_glyph\":{\"type\":\"object\",\"name\":\"Patch\",\"id\":\"p13710\",\"attributes\":{\"tags\":[\"apply_ranges\"],\"x\":{\"type\":\"field\",\"field\":\"x\"},\"y\":{\"type\":\"field\",\"field\":\"y\"},\"fill_color\":\"#30a2da\",\"fill_alpha\":0.5,\"hatch_color\":\"#30a2da\"}},\"nonselection_glyph\":{\"type\":\"object\",\"name\":\"Patch\",\"id\":\"p13703\",\"attributes\":{\"tags\":[\"apply_ranges\"],\"x\":{\"type\":\"field\",\"field\":\"x\"},\"y\":{\"type\":\"field\",\"field\":\"y\"},\"line_alpha\":1,\"fill_color\":\"#30a2da\",\"fill_alpha\":0.5,\"hatch_color\":\"#30a2da\",\"hatch_alpha\":0.1}},\"muted_glyph\":{\"type\":\"object\",\"name\":\"Patch\",\"id\":\"p13704\",\"attributes\":{\"tags\":[\"apply_ranges\"],\"x\":{\"type\":\"field\",\"field\":\"x\"},\"y\":{\"type\":\"field\",\"field\":\"y\"},\"line_alpha\":0.2,\"fill_color\":\"#30a2da\",\"fill_alpha\":0.2,\"hatch_color\":\"#30a2da\",\"hatch_alpha\":0.2}}}},{\"type\":\"object\",\"name\":\"GlyphRenderer\",\"id\":\"p13720\",\"attributes\":{\"name\":\"MEICA Denoising\",\"data_source\":{\"type\":\"object\",\"name\":\"ColumnDataSource\",\"id\":\"p13711\",\"attributes\":{\"selected\":{\"type\":\"object\",\"name\":\"Selection\",\"id\":\"p13712\",\"attributes\":{\"indices\":[],\"line_indices\":[]}},\"selection_policy\":{\"type\":\"object\",\"name\":\"UnionRenderers\",\"id\":\"p13713\"},\"data\":{\"type\":\"map\",\"entries\":[[\"x\",{\"type\":\"ndarray\",\"array\":{\"type\":\"bytes\",\"data\":\"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\"},\"shape\":[200],\"dtype\":\"float64\",\"order\":\"little\"}],[\"y\",{\"type\":\"ndarray\",\"array\":{\"type\":\"bytes\",\"data\":\"AAAAAAAAAAAAAAAAAAAAAAAAAAAAAAAAAAAAAAAAAAAAAAAAAAAAAAAAAAAAAAAAAAAAAAAAAAAAAAAAAAAAAAAAAAAAAAAAAAAAAAAAAAAAAAAAAAAAAAAAAAAAAAAAAAAAAAAAAAAAAAAAAAAAAAAAAAAAAAAAAAAAAAAAAAAAAAAAAAAAAAAAAAAAAAAAAAAAAAAAAAAAAAAAAAAAAAAAAAAAAAAAAAAAAAAAAAAAAAAAAAAAAAAAAAAAAAAAAAAAAAAAAAAAAAAAAAAAAAAAAAAAAAAAAAAAAAAAAAAAAAAAAAAAAAAAAAAAAAAAAAAAAAAAAAAAAAAAAAAAAAAAAAAAAAAAAAAAAAAAAAAAAAAAAAAAAAAAAAAAAAAAAAAAAAAAAAAAAAAAAAAAAAAAAAAAAAAAAAAAAAAAAAAAAAAAAAAAAAAAAAAAAAAAAAAAAAAAAAAAAAAAAAAAAAAAAAAAAAAAAAAAAAAAAAAAAAAAAAAAAAAAAAAAAAAAAAAAAAAAAAAAAAAAAAAAAAAAAAAAAAAAAAAAAAAAAAAAAAAAAAAAAAAAAAAAAAAAAAAAAAAAAAAAAAAAAAAAAAAAAAAAAAAAAAAAAAAAAAAAAAAAAAAAAAAAAAAAAAAAAAAAAAAAAAAAAAAAAAAAAAAAAAAAAAAAAAAAAAAAAAAAAAAAAAAAAAAAAAAAAAAAAAAAAAAAAAAAAAAAAAAAAAAAAAAAAAAAAAAAAAAAAAAAAAAAAAAAAAAAAAAAAAAAAAAAAAAAAAAAAAAAAAAAAAAAAAAAAAAAAAAAAAAAAAAAAAAAAAAAAAAAAAAAAAAAAAAAAAAAAAAAAAAAAAAAAAAAAAAAAAAAAAAAAAAAAAAAAAAAAAAAAAAAAAAAAAAAAAAAAAAAAAAAAAAAAAAAAAAAAAAAAAAAAAAAAAAAAAAAAAAAAAAAAAAAAAAAAAAAAAAAAAAAAAAAAAAAAAAAAAAAAAAAAAAAAAAAAAAAAAAAAAAAAAAAAAAAAAAAAAAAAAAAAAAAAAAAAAAAAAAAAAAAAAAAAAAAAAAAAAAAAAD2TJJO6XQ5P48HYFlu1Ek/vvbJW6HPWD/c5pwBFZZmP/66DJf7g3M/tPxPVTsKgD/+TZJK8yiJP87pxNlD6pI/ZfxcDNhvmz8RoCZ371yjP6uMO1SS4ao/JJBK2qGRsj8ujtfC4Mq5P+gylabpHMI/42mOT6W0yT+8vpEQPlDSP2LqcZs89Nk/7irAfiMf4j/Aze2dJr/oPzPbGVc6cPA/BFol10wv9T8nfbEg1HT6P6OwUFfmAwBAw/fXBpDTAkAu+80dRooFQBhMG9ggDwhA71wIYTJSCkBLD3iilkwMQA6TrdQ1/g1AG69/C2lqD0AgaZgMc0oQQG6w5J/3vxBAJLlqSAIWEUD8SmTpVUwRQJSKJSvOYhFACXLhWt5ZEUDG1H8N2jIRQHNugm8K8BBAaUETYJyUEEBMLzRSaiQQQBpfraE7Rw9A2MzQsF4sDkDIY1i+zP4MQKBTANQnwwtAFMYp1oB8CkD2Xb4tvS0JQF28rc6m2wdA3DouKMyOBkAQXRNMKFQFQJOZrgHVOwRAOJ4yJLxVA0C9Hi1WGq0CQIKe4fNNRAJA3B0i9JASAkC/KN/1uQQCQNcuoPcaAQJAgosFJ2vtAUC+XLEE17QBQGiC0bw2TAFAiDlFExyzAEDi2dfYQ+P/P49R/k9BKP4/ZokAojZN/D+6solDNWP6PzQvJsexcvg/EtUj6BZ+9j8pfBaVf4b0P5aN+kT/j/I/bHfW84yj8D9DPtjVAJztP3dxTzzLOeo/4m45FVs15z+g+AZVlZfkP7I0WL5yW+I/Aha7Vkxw4D+BmcQam37dP4UBHJQeZNo/RYoZV29w1z/AE7U/B5XUP9bxtD061dE/R9eBUOSAzj/KCjF7M9PJP+reeebivcU/KwdjBOdJwj/Tl8FM6NW+P7Q0K2eyCro/ASzg7+fvtT9b6dj79kuyPxNiT44b9a0/YgTAx7/epz+eW95X/2CiPzf0KJNJMZs/STq6laY+kz8Xu521CfqJP7X130oOroA/M7tFxEJYdD9whV/ew4lnPyNNAvpmzlk/mH5RvVTKSj/8wCuRpFE6Pw==\"},\"shape\":[200],\"dtype\":\"float64\",\"order\":\"little\"}]]}}},\"view\":{\"type\":\"object\",\"name\":\"CDSView\",\"id\":\"p13721\",\"attributes\":{\"filter\":{\"type\":\"object\",\"name\":\"AllIndices\",\"id\":\"p13722\"}}},\"glyph\":{\"type\":\"object\",\"name\":\"Patch\",\"id\":\"p13717\",\"attributes\":{\"tags\":[\"apply_ranges\"],\"x\":{\"type\":\"field\",\"field\":\"x\"},\"y\":{\"type\":\"field\",\"field\":\"y\"},\"fill_color\":\"#fc4f30\",\"fill_alpha\":0.5,\"hatch_color\":\"#fc4f30\"}},\"selection_glyph\":{\"type\":\"object\",\"name\":\"Patch\",\"id\":\"p13724\",\"attributes\":{\"tags\":[\"apply_ranges\"],\"x\":{\"type\":\"field\",\"field\":\"x\"},\"y\":{\"type\":\"field\",\"field\":\"y\"},\"fill_color\":\"#fc4f30\",\"fill_alpha\":0.5,\"hatch_color\":\"#fc4f30\"}},\"nonselection_glyph\":{\"type\":\"object\",\"name\":\"Patch\",\"id\":\"p13718\",\"attributes\":{\"tags\":[\"apply_ranges\"],\"x\":{\"type\":\"field\",\"field\":\"x\"},\"y\":{\"type\":\"field\",\"field\":\"y\"},\"line_alpha\":1,\"fill_color\":\"#fc4f30\",\"fill_alpha\":0.5,\"hatch_color\":\"#fc4f30\",\"hatch_alpha\":0.1}},\"muted_glyph\":{\"type\":\"object\",\"name\":\"Patch\",\"id\":\"p13719\",\"attributes\":{\"tags\":[\"apply_ranges\"],\"x\":{\"type\":\"field\",\"field\":\"x\"},\"y\":{\"type\":\"field\",\"field\":\"y\"},\"line_alpha\":0.2,\"fill_color\":\"#fc4f30\",\"fill_alpha\":0.2,\"hatch_color\":\"#fc4f30\",\"hatch_alpha\":0.2}}}},{\"type\":\"object\",\"name\":\"Span\",\"id\":\"p13728\",\"attributes\":{\"level\":\"glyph\",\"location\":1,\"dimension\":\"height\",\"line_color\":\"#000000\",\"line_width\":3,\"line_dash\":[6]}}],\"toolbar\":{\"type\":\"object\",\"name\":\"Toolbar\",\"id\":\"p13674\",\"attributes\":{\"tools\":[{\"type\":\"object\",\"name\":\"WheelZoomTool\",\"id\":\"p13658\",\"attributes\":{\"tags\":[\"hv_created\"],\"renderers\":\"auto\",\"zoom_together\":\"none\"}},{\"type\":\"object\",\"name\":\"HoverTool\",\"id\":\"p13659\",\"attributes\":{\"tags\":[\"hv_created\"],\"renderers\":[{\"id\":\"p13705\"},{\"id\":\"p13720\"}],\"tooltips\":[[\"0\",\"@{A_0}\"],[\"Density\",\"@{A_0_density}\"]]}},{\"type\":\"object\",\"name\":\"SaveTool\",\"id\":\"p13687\"},{\"type\":\"object\",\"name\":\"PanTool\",\"id\":\"p13688\"},{\"type\":\"object\",\"name\":\"BoxZoomTool\",\"id\":\"p13689\",\"attributes\":{\"overlay\":{\"type\":\"object\",\"name\":\"BoxAnnotation\",\"id\":\"p13690\",\"attributes\":{\"syncable\":false,\"level\":\"overlay\",\"visible\":false,\"left\":{\"type\":\"number\",\"value\":\"nan\"},\"right\":{\"type\":\"number\",\"value\":\"nan\"},\"top\":{\"type\":\"number\",\"value\":\"nan\"},\"bottom\":{\"type\":\"number\",\"value\":\"nan\"},\"left_units\":\"canvas\",\"right_units\":\"canvas\",\"top_units\":\"canvas\",\"bottom_units\":\"canvas\",\"line_color\":\"black\",\"line_alpha\":1.0,\"line_width\":2,\"line_dash\":[4,4],\"fill_color\":\"lightgrey\",\"fill_alpha\":0.5}}}},{\"type\":\"object\",\"name\":\"ResetTool\",\"id\":\"p13695\"}],\"active_drag\":{\"id\":\"p13688\"},\"active_scroll\":{\"id\":\"p13658\"}}},\"left\":[{\"type\":\"object\",\"name\":\"LinearAxis\",\"id\":\"p13682\",\"attributes\":{\"ticker\":{\"type\":\"object\",\"name\":\"BasicTicker\",\"id\":\"p13683\",\"attributes\":{\"mantissas\":[1,2,5]}},\"formatter\":{\"type\":\"object\",\"name\":\"BasicTickFormatter\",\"id\":\"p13684\"},\"axis_label\":\"Density\",\"major_label_policy\":{\"type\":\"object\",\"name\":\"AllLabels\",\"id\":\"p13685\"}}}],\"below\":[{\"type\":\"object\",\"name\":\"LinearAxis\",\"id\":\"p13677\",\"attributes\":{\"ticker\":{\"type\":\"object\",\"name\":\"BasicTicker\",\"id\":\"p13678\",\"attributes\":{\"mantissas\":[1,2,5]}},\"formatter\":{\"type\":\"object\",\"name\":\"BasicTickFormatter\",\"id\":\"p13679\"},\"axis_label\":\"Slope\",\"major_label_policy\":{\"type\":\"object\",\"name\":\"AllLabels\",\"id\":\"p13680\"}}}],\"center\":[{\"type\":\"object\",\"name\":\"Grid\",\"id\":\"p13681\",\"attributes\":{\"axis\":{\"id\":\"p13677\"},\"grid_line_color\":null}},{\"type\":\"object\",\"name\":\"Grid\",\"id\":\"p13686\",\"attributes\":{\"dimension\":1,\"axis\":{\"id\":\"p13682\"},\"grid_line_color\":null}},{\"type\":\"object\",\"name\":\"Legend\",\"id\":\"p13708\",\"attributes\":{\"click_policy\":\"mute\",\"items\":[{\"type\":\"object\",\"name\":\"LegendItem\",\"id\":\"p13709\",\"attributes\":{\"label\":{\"type\":\"value\",\"value\":\"Basic Denoising\"},\"renderers\":[{\"id\":\"p13705\"}]}},{\"type\":\"object\",\"name\":\"LegendItem\",\"id\":\"p13723\",\"attributes\":{\"label\":{\"type\":\"value\",\"value\":\"MEICA Denoising\"},\"renderers\":[{\"id\":\"p13720\"}]}}]}}],\"min_border_top\":10,\"min_border_bottom\":10,\"min_border_left\":10,\"min_border_right\":10,\"output_backend\":\"webgl\"}},{\"type\":\"object\",\"name\":\"Spacer\",\"id\":\"p13730\",\"attributes\":{\"name\":\"HSpacer68085\",\"stylesheets\":[\"\\n:host(.pn-loading):before, .pn-loading:before {\\n  background-color: #c3c3c3;\\n  mask-size: auto calc(min(50%, 400px));\\n  -webkit-mask-size: auto calc(min(50%, 400px));\\n}\",{\"id\":\"p13651\"},{\"id\":\"p13649\"},{\"id\":\"p13650\"}],\"margin\":0,\"sizing_mode\":\"stretch_width\",\"align\":\"start\"}}]}}],\"defs\":[{\"type\":\"model\",\"name\":\"ReactiveHTML1\"},{\"type\":\"model\",\"name\":\"FlexBox1\",\"properties\":[{\"name\":\"align_content\",\"kind\":\"Any\",\"default\":\"flex-start\"},{\"name\":\"align_items\",\"kind\":\"Any\",\"default\":\"flex-start\"},{\"name\":\"flex_direction\",\"kind\":\"Any\",\"default\":\"row\"},{\"name\":\"flex_wrap\",\"kind\":\"Any\",\"default\":\"wrap\"},{\"name\":\"gap\",\"kind\":\"Any\",\"default\":\"\"},{\"name\":\"justify_content\",\"kind\":\"Any\",\"default\":\"flex-start\"}]},{\"type\":\"model\",\"name\":\"FloatPanel1\",\"properties\":[{\"name\":\"config\",\"kind\":\"Any\",\"default\":{\"type\":\"map\"}},{\"name\":\"contained\",\"kind\":\"Any\",\"default\":true},{\"name\":\"position\",\"kind\":\"Any\",\"default\":\"right-top\"},{\"name\":\"offsetx\",\"kind\":\"Any\",\"default\":null},{\"name\":\"offsety\",\"kind\":\"Any\",\"default\":null},{\"name\":\"theme\",\"kind\":\"Any\",\"default\":\"primary\"},{\"name\":\"status\",\"kind\":\"Any\",\"default\":\"normalized\"}]},{\"type\":\"model\",\"name\":\"GridStack1\",\"properties\":[{\"name\":\"mode\",\"kind\":\"Any\",\"default\":\"warn\"},{\"name\":\"ncols\",\"kind\":\"Any\",\"default\":null},{\"name\":\"nrows\",\"kind\":\"Any\",\"default\":null},{\"name\":\"allow_resize\",\"kind\":\"Any\",\"default\":true},{\"name\":\"allow_drag\",\"kind\":\"Any\",\"default\":true},{\"name\":\"state\",\"kind\":\"Any\",\"default\":[]}]},{\"type\":\"model\",\"name\":\"drag1\",\"properties\":[{\"name\":\"slider_width\",\"kind\":\"Any\",\"default\":5},{\"name\":\"slider_color\",\"kind\":\"Any\",\"default\":\"black\"},{\"name\":\"value\",\"kind\":\"Any\",\"default\":50}]},{\"type\":\"model\",\"name\":\"click1\",\"properties\":[{\"name\":\"terminal_output\",\"kind\":\"Any\",\"default\":\"\"},{\"name\":\"debug_name\",\"kind\":\"Any\",\"default\":\"\"},{\"name\":\"clears\",\"kind\":\"Any\",\"default\":0}]},{\"type\":\"model\",\"name\":\"FastWrapper1\",\"properties\":[{\"name\":\"object\",\"kind\":\"Any\",\"default\":null},{\"name\":\"style\",\"kind\":\"Any\",\"default\":null}]},{\"type\":\"model\",\"name\":\"NotificationAreaBase1\",\"properties\":[{\"name\":\"js_events\",\"kind\":\"Any\",\"default\":{\"type\":\"map\"}},{\"name\":\"position\",\"kind\":\"Any\",\"default\":\"bottom-right\"},{\"name\":\"_clear\",\"kind\":\"Any\",\"default\":0}]},{\"type\":\"model\",\"name\":\"NotificationArea1\",\"properties\":[{\"name\":\"js_events\",\"kind\":\"Any\",\"default\":{\"type\":\"map\"}},{\"name\":\"notifications\",\"kind\":\"Any\",\"default\":[]},{\"name\":\"position\",\"kind\":\"Any\",\"default\":\"bottom-right\"},{\"name\":\"_clear\",\"kind\":\"Any\",\"default\":0},{\"name\":\"types\",\"kind\":\"Any\",\"default\":[{\"type\":\"map\",\"entries\":[[\"type\",\"warning\"],[\"background\",\"#ffc107\"],[\"icon\",{\"type\":\"map\",\"entries\":[[\"className\",\"fas fa-exclamation-triangle\"],[\"tagName\",\"i\"],[\"color\",\"white\"]]}]]},{\"type\":\"map\",\"entries\":[[\"type\",\"info\"],[\"background\",\"#007bff\"],[\"icon\",{\"type\":\"map\",\"entries\":[[\"className\",\"fas fa-info-circle\"],[\"tagName\",\"i\"],[\"color\",\"white\"]]}]]}]}]},{\"type\":\"model\",\"name\":\"Notification\",\"properties\":[{\"name\":\"background\",\"kind\":\"Any\",\"default\":null},{\"name\":\"duration\",\"kind\":\"Any\",\"default\":3000},{\"name\":\"icon\",\"kind\":\"Any\",\"default\":null},{\"name\":\"message\",\"kind\":\"Any\",\"default\":\"\"},{\"name\":\"notification_type\",\"kind\":\"Any\",\"default\":null},{\"name\":\"_destroyed\",\"kind\":\"Any\",\"default\":false}]},{\"type\":\"model\",\"name\":\"TemplateActions1\",\"properties\":[{\"name\":\"open_modal\",\"kind\":\"Any\",\"default\":0},{\"name\":\"close_modal\",\"kind\":\"Any\",\"default\":0}]},{\"type\":\"model\",\"name\":\"BootstrapTemplateActions1\",\"properties\":[{\"name\":\"open_modal\",\"kind\":\"Any\",\"default\":0},{\"name\":\"close_modal\",\"kind\":\"Any\",\"default\":0}]},{\"type\":\"model\",\"name\":\"TemplateEditor1\",\"properties\":[{\"name\":\"layout\",\"kind\":\"Any\",\"default\":[]}]},{\"type\":\"model\",\"name\":\"MaterialTemplateActions1\",\"properties\":[{\"name\":\"open_modal\",\"kind\":\"Any\",\"default\":0},{\"name\":\"close_modal\",\"kind\":\"Any\",\"default\":0}]},{\"type\":\"model\",\"name\":\"copy_to_clipboard1\",\"properties\":[{\"name\":\"fill\",\"kind\":\"Any\",\"default\":\"none\"},{\"name\":\"value\",\"kind\":\"Any\",\"default\":null}]}]}};\n",
       "  var render_items = [{\"docid\":\"f2bac2ce-8223-4b53-ad84-a48b07f1fe9a\",\"roots\":{\"p13648\":\"bdf953c5-9b62-44c0-876b-e8f6a49f0226\"},\"root_ids\":[\"p13648\"]}];\n",
       "  var docs = Object.values(docs_json)\n",
       "  if (!docs) {\n",
       "    return\n",
       "  }\n",
       "  const py_version = docs[0].version.replace('rc', '-rc.').replace('.dev', '-dev.')\n",
       "  async function embed_document(root) {\n",
       "    var Bokeh = get_bokeh(root)\n",
       "    await Bokeh.embed.embed_items_notebook(docs_json, render_items);\n",
       "    for (const render_item of render_items) {\n",
       "      for (const root_id of render_item.root_ids) {\n",
       "\tconst id_el = document.getElementById(root_id)\n",
       "\tif (id_el.children.length && id_el.children[0].hasAttribute('data-root-id')) {\n",
       "\t  const root_el = id_el.children[0]\n",
       "\t  root_el.id = root_el.id + '-rendered'\n",
       "\t  for (const child of root_el.children) {\n",
       "            // Ensure JupyterLab does not capture keyboard shortcuts\n",
       "            // see: https://jupyterlab.readthedocs.io/en/4.1.x/extension/notebook.html#keyboard-interaction-model\n",
       "\t    child.setAttribute('data-lm-suppress-shortcuts', 'true')\n",
       "\t  }\n",
       "\t}\n",
       "      }\n",
       "    }\n",
       "  }\n",
       "  function get_bokeh(root) {\n",
       "    if (root.Bokeh === undefined) {\n",
       "      return null\n",
       "    } else if (root.Bokeh.version !== py_version) {\n",
       "      if (root.Bokeh.versions === undefined || !root.Bokeh.versions.has(py_version)) {\n",
       "\treturn null\n",
       "      }\n",
       "      return root.Bokeh.versions.get(py_version);\n",
       "    } else if (root.Bokeh.version === py_version) {\n",
       "      return root.Bokeh\n",
       "    }\n",
       "    return null\n",
       "  }\n",
       "  function is_loaded(root) {\n",
       "    var Bokeh = get_bokeh(root)\n",
       "    return (Bokeh != null && Bokeh.Panel !== undefined)\n",
       "  }\n",
       "  if (is_loaded(root)) {\n",
       "    embed_document(root);\n",
       "  } else {\n",
       "    var attempts = 0;\n",
       "    var timer = setInterval(function(root) {\n",
       "      if (is_loaded(root)) {\n",
       "        clearInterval(timer);\n",
       "        embed_document(root);\n",
       "      } else if (document.readyState == \"complete\") {\n",
       "        attempts++;\n",
       "        if (attempts > 200) {\n",
       "          clearInterval(timer);\n",
       "\t  var Bokeh = get_bokeh(root)\n",
       "\t  if (Bokeh == null || Bokeh.Panel == null) {\n",
       "            console.warn(\"Panel: ERROR: Unable to run Panel code because Bokeh or Panel library is missing\");\n",
       "\t  } else {\n",
       "\t    console.warn(\"Panel: WARNING: Attempting to render but not all required libraries could be resolved.\")\n",
       "\t    embed_document(root)\n",
       "\t  }\n",
       "        }\n",
       "      }\n",
       "    }, 25, root)\n",
       "  }\n",
       "})(window);</script>"
      ],
      "text/plain": [
       ":Overlay\n",
       "   .Distribution.Basic_Denoising :Distribution   [0]   (Density)\n",
       "   .Distribution.MEICA_Denoising :Distribution   [0]   (Density)\n",
       "   .VLine.I                      :VLine   [x,y]"
      ]
     },
     "execution_count": 69,
     "metadata": {
      "application/vnd.holoviews_exec.v0+json": {
       "id": "p13648"
      }
     },
     "output_type": "execute_result"
    }
   ],
   "source": [
    "(pd.DataFrame(linefits.sel(input='volreg',cenmode='ALL',metric='Slope').mean(dim='pair_combo').values).hvplot.kde(label='Basic Denoising', xlabel='Slope') * \\\n",
    "pd.DataFrame(linefits.sel(input='MEICA',cenmode='ALL',metric='Slope').mean(dim='pair_combo').values).hvplot.kde(label='MEICA Denoising') * \\\n",
    "hv.VLine(1).opts(line_color='k',line_dash='dashed') )"
   ]
  },
  {
   "cell_type": "code",
   "execution_count": 70,
   "id": "755a80d7-caa8-4d66-869e-0389895a97e8",
   "metadata": {},
   "outputs": [
    {
     "data": {},
     "metadata": {},
     "output_type": "display_data"
    },
    {
     "data": {
      "application/vnd.holoviews_exec.v0+json": "",
      "text/html": [
       "<div id='p13738'>\n",
       "  <div id=\"e550dd01-c31f-4757-af16-1429cd5304c1\" data-root-id=\"p13738\" style=\"display: contents;\"></div>\n",
       "</div>\n",
       "<script type=\"application/javascript\">(function(root) {\n",
       "  var docs_json = {\"680c3655-90ec-41a9-9c2c-f0798079b5b1\":{\"version\":\"3.4.1\",\"title\":\"Bokeh Application\",\"roots\":[{\"type\":\"object\",\"name\":\"Row\",\"id\":\"p13738\",\"attributes\":{\"name\":\"Row68444\",\"tags\":[\"embedded\"],\"stylesheets\":[\"\\n:host(.pn-loading):before, .pn-loading:before {\\n  background-color: #c3c3c3;\\n  mask-size: auto calc(min(50%, 400px));\\n  -webkit-mask-size: auto calc(min(50%, 400px));\\n}\",{\"type\":\"object\",\"name\":\"ImportedStyleSheet\",\"id\":\"p13741\",\"attributes\":{\"url\":\"https://cdn.holoviz.org/panel/1.4.4/dist/css/loading.css\"}},{\"type\":\"object\",\"name\":\"ImportedStyleSheet\",\"id\":\"p13822\",\"attributes\":{\"url\":\"https://cdn.holoviz.org/panel/1.4.4/dist/css/listpanel.css\"}},{\"type\":\"object\",\"name\":\"ImportedStyleSheet\",\"id\":\"p13739\",\"attributes\":{\"url\":\"https://cdn.holoviz.org/panel/1.4.4/dist/bundled/theme/default.css\"}},{\"type\":\"object\",\"name\":\"ImportedStyleSheet\",\"id\":\"p13740\",\"attributes\":{\"url\":\"https://cdn.holoviz.org/panel/1.4.4/dist/bundled/theme/native.css\"}}],\"min_width\":700,\"margin\":0,\"sizing_mode\":\"stretch_width\",\"align\":\"start\",\"children\":[{\"type\":\"object\",\"name\":\"Spacer\",\"id\":\"p13742\",\"attributes\":{\"name\":\"HSpacer68450\",\"stylesheets\":[\"\\n:host(.pn-loading):before, .pn-loading:before {\\n  background-color: #c3c3c3;\\n  mask-size: auto calc(min(50%, 400px));\\n  -webkit-mask-size: auto calc(min(50%, 400px));\\n}\",{\"id\":\"p13741\"},{\"id\":\"p13739\"},{\"id\":\"p13740\"}],\"margin\":0,\"sizing_mode\":\"stretch_width\",\"align\":\"start\"}},{\"type\":\"object\",\"name\":\"Figure\",\"id\":\"p13755\",\"attributes\":{\"width\":700,\"height\":300,\"margin\":[5,10],\"sizing_mode\":\"fixed\",\"align\":\"start\",\"x_range\":{\"type\":\"object\",\"name\":\"Range1d\",\"id\":\"p13743\",\"attributes\":{\"tags\":[[[\"0\",null]],[]],\"start\":-0.025092793454278266,\"end\":0.153676502420043,\"reset_start\":-0.025092793454278266,\"reset_end\":0.153676502420043}},\"y_range\":{\"type\":\"object\",\"name\":\"Range1d\",\"id\":\"p13744\",\"attributes\":{\"tags\":[[[\"Density\",null]],{\"type\":\"map\",\"entries\":[[\"invert_yaxis\",false],[\"autorange\",false]]}],\"end\":28.05447682257504,\"reset_start\":0.0,\"reset_end\":28.05447682257504}},\"x_scale\":{\"type\":\"object\",\"name\":\"LinearScale\",\"id\":\"p13765\"},\"y_scale\":{\"type\":\"object\",\"name\":\"LinearScale\",\"id\":\"p13766\"},\"title\":{\"type\":\"object\",\"name\":\"Title\",\"id\":\"p13758\",\"attributes\":{\"text_color\":\"black\",\"text_font_size\":\"12pt\"}},\"renderers\":[{\"type\":\"object\",\"name\":\"GlyphRenderer\",\"id\":\"p13795\",\"attributes\":{\"name\":\"Basic Denoising\",\"data_source\":{\"type\":\"object\",\"name\":\"ColumnDataSource\",\"id\":\"p13786\",\"attributes\":{\"selected\":{\"type\":\"object\",\"name\":\"Selection\",\"id\":\"p13787\",\"attributes\":{\"indices\":[],\"line_indices\":[]}},\"selection_policy\":{\"type\":\"object\",\"name\":\"UnionRenderers\",\"id\":\"p13788\"},\"data\":{\"type\":\"map\",\"entries\":[[\"x\",{\"type\":\"ndarray\",\"array\":{\"type\":\"bytes\",\"data\":\"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\"},\"shape\":[200],\"dtype\":\"float64\",\"order\":\"little\"}],[\"y\",{\"type\":\"ndarray\",\"array\":{\"type\":\"bytes\",\"data\":\"AAAAAAAAAAAAAAAAAAAAAAAAAAAAAAAAAAAAAAAAAAAAAAAAAAAAAAAAAAAAAAAAAAAAAAAAAAAAAAAAAAAAAAAAAAAAAAAAAAAAAAAAAAAAAAAAAAAAAAAAAAAAAAAAAAAAAAAAAAAAAAAAAAAAAAAAAAAAAAAAAAAAAAAAAAAAAAAAAAAAAAAAAAAAAAAAAAAAAAAAAAAAAAAAAAAAAAAAAAAAAAAAAAAAAAAAAAAAAAAAAAAAAAAAAAAAAAAAAAAAAAAAAAAAAAAAAAAAAAAAAAAAAAAAAAAAAAAAAAAAAAAAAAAAAAAAAAAAAAAAAAAAAAAAAAAAAAAAAAAAAAAAAAAAAAAAAAAAAAAAAAAAAAAAAAAAAAAAAAAAAAAAAAAAAAAAAAAAAAAAAAAAAAAAAAAAAAAAAAAAAAAAAAAAAAAAAAAAAAAAAAAAAAAAAAAAAAAAAAAAAAAAAAAAAAAAAAAAAAAAAAAAAAAAAAAAAAAAAAAAAAAAAAAAAAAAAAAAAAAAAAAAAAAAAAAAAAAAAAAAAAAAAAAAAAAAAAAAAAAAAAAAAAAAAAAAAAAAAAAAAAAAAAAAAAAAAAAAAAAAAAAAAAAAAAAAAAAAAAAAAAAAAAAAAAAAAAAAAAAAAAAAAAAAAAAAAAAAAAAAAAAAAAAAAAAAAAAAAAAAAAAAAAAAAAAAAAAAAAAAAAAAAAAAAAAAAAAAAAAAAAAAAAAAAAAAAAAAAAAAAAAAAAAAAAAAAAAAAAAAAAAAAAAAAAAAAAAAAAAAAAAAAAAAAAAAAAAAAAAAAAAAAAAAAAAAAAAAAAAAAAAAAAAAAAAAAAAAAAAAAAAAAAAAAAAAAAAAAAAAAAAAAAAAAAAAAAAAAAAAAAAAAAAAAAAAAAAAAAAAAAAAAAAAAAAAAAAAAAAAAAAAAAAAAAAAAAAAAAAAAAAAAAAAAAAAAAAAAAAAAAAAAAAAAAAAAAAAAAAAAAAAAAAAAAAAAAAAAAAAAAAAAAAAAAAAAAAAAAAAAAAAAAAAAAAAAAAAAAAAAAAAAAAAAAAAAAAAAAAAAAAAAADPtIfs9IJgP0WBtYsTi3I/spw9Z+04gz8l72y00mSSPzeSqcDBP6A/umjLg1mCqj8Cn4zZ0vmzPyVVth/o1bs/eU6nF7v2wT/LqA2mzo3FP15/8aqNNsg/CNLGy/3PyT8Pok6AkrvKP1xZDtIv1ss/SKxHgOU5zj81hnWzWW7RP2G/6jjeGdU/MBJVwocB2j9dAUNA5LffP12LwAKE0+I/Rs7IkDmj5T93B1TceCboP3SAOtcAaOo/FVALXDGl7D+x2UR39ETvP2cdSDgWYvE/eil96LHN8z+4mclW/BH3PwjQy7oNQvs/hTfYH4UpAEBNpJYGSA4DQM2vDWuBLQZAH6AQ9BtZCUBypQT/rVkMQBov/8j29Q5ADY0wxDyAEEC/KqpATTQRQOvlmhs3pBFA29wT6ObzEUCZp0l8wVgSQKT6Zcj/DhNAtwLrQtdNFED7IcBlUj4WQJAWeIyR9hhATtvP9ah4HEAWeD+8glkgQMPVlvRcwCJA34ld4/NUJUBS3A8aTfMnQE0O1im3cypAd14J0OSyLECcWMUzZpwuQNGOr/SrGTBAFPIUyPnJMEAXBkMhZnUxQMxRE6DSMTJAgmr47p0LM0BeE5gopQA0QGg6kJ8tAjVAh2x7ZKP8NUDrTj03juA2QHIHYkhdpzdA7iy0UWhROECYnvxE/944QMgSySKBSTlATwRq2RSBOUCo1dR5PnA5QD21w3jQAjlAyrVGQEgsOEB0OIAjCes2QJv3SCpqSDVAi+IIE/5WM0AeeSxPLzAxQDvrj9OS4i1ATG9OrndvKUBQWtOQHzolQDtBq7OWZyFA6FsfUm4ZHEClTiB5bGAWQMDhpgn7nRFAEh2aR0qBC0B/o5fJnWEFQNUkFEntpQBAkGueGeMj+j++h5Xj/M70P2MQ+gfn1fA/BqTTRAGe6z/tZOVQG8nmP3Xjq7fMsOI/ojy1tFUU3j94qzZMA2/XPw8r47FAedE/47kcBTi2yD+ayn4zHnTAP6kc80TfhbQ/sPvH8D7jpz8Up5nWTOCZP7Yu3rOGCYo/CiCEzMJNeD88bRFrLwZlPw==\"},\"shape\":[200],\"dtype\":\"float64\",\"order\":\"little\"}]]}}},\"view\":{\"type\":\"object\",\"name\":\"CDSView\",\"id\":\"p13796\",\"attributes\":{\"filter\":{\"type\":\"object\",\"name\":\"AllIndices\",\"id\":\"p13797\"}}},\"glyph\":{\"type\":\"object\",\"name\":\"Patch\",\"id\":\"p13792\",\"attributes\":{\"tags\":[\"apply_ranges\"],\"x\":{\"type\":\"field\",\"field\":\"x\"},\"y\":{\"type\":\"field\",\"field\":\"y\"},\"fill_color\":\"#30a2da\",\"fill_alpha\":0.5,\"hatch_color\":\"#30a2da\"}},\"selection_glyph\":{\"type\":\"object\",\"name\":\"Patch\",\"id\":\"p13800\",\"attributes\":{\"tags\":[\"apply_ranges\"],\"x\":{\"type\":\"field\",\"field\":\"x\"},\"y\":{\"type\":\"field\",\"field\":\"y\"},\"fill_color\":\"#30a2da\",\"fill_alpha\":0.5,\"hatch_color\":\"#30a2da\"}},\"nonselection_glyph\":{\"type\":\"object\",\"name\":\"Patch\",\"id\":\"p13793\",\"attributes\":{\"tags\":[\"apply_ranges\"],\"x\":{\"type\":\"field\",\"field\":\"x\"},\"y\":{\"type\":\"field\",\"field\":\"y\"},\"line_alpha\":1,\"fill_color\":\"#30a2da\",\"fill_alpha\":0.5,\"hatch_color\":\"#30a2da\",\"hatch_alpha\":0.1}},\"muted_glyph\":{\"type\":\"object\",\"name\":\"Patch\",\"id\":\"p13794\",\"attributes\":{\"tags\":[\"apply_ranges\"],\"x\":{\"type\":\"field\",\"field\":\"x\"},\"y\":{\"type\":\"field\",\"field\":\"y\"},\"line_alpha\":0.2,\"fill_color\":\"#30a2da\",\"fill_alpha\":0.2,\"hatch_color\":\"#30a2da\",\"hatch_alpha\":0.2}}}},{\"type\":\"object\",\"name\":\"GlyphRenderer\",\"id\":\"p13810\",\"attributes\":{\"name\":\"MEICA Denoising\",\"data_source\":{\"type\":\"object\",\"name\":\"ColumnDataSource\",\"id\":\"p13801\",\"attributes\":{\"selected\":{\"type\":\"object\",\"name\":\"Selection\",\"id\":\"p13802\",\"attributes\":{\"indices\":[],\"line_indices\":[]}},\"selection_policy\":{\"type\":\"object\",\"name\":\"UnionRenderers\",\"id\":\"p13803\"},\"data\":{\"type\":\"map\",\"entries\":[[\"x\",{\"type\":\"ndarray\",\"array\":{\"type\":\"bytes\",\"data\":\"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\"},\"shape\":[200],\"dtype\":\"float64\",\"order\":\"little\"}],[\"y\",{\"type\":\"ndarray\",\"array\":{\"type\":\"bytes\",\"data\":\"AAAAAAAAAAAAAAAAAAAAAAAAAAAAAAAAAAAAAAAAAAAAAAAAAAAAAAAAAAAAAAAAAAAAAAAAAAAAAAAAAAAAAAAAAAAAAAAAAAAAAAAAAAAAAAAAAAAAAAAAAAAAAAAAAAAAAAAAAAAAAAAAAAAAAAAAAAAAAAAAAAAAAAAAAAAAAAAAAAAAAAAAAAAAAAAAAAAAAAAAAAAAAAAAAAAAAAAAAAAAAAAAAAAAAAAAAAAAAAAAAAAAAAAAAAAAAAAAAAAAAAAAAAAAAAAAAAAAAAAAAAAAAAAAAAAAAAAAAAAAAAAAAAAAAAAAAAAAAAAAAAAAAAAAAAAAAAAAAAAAAAAAAAAAAAAAAAAAAAAAAAAAAAAAAAAAAAAAAAAAAAAAAAAAAAAAAAAAAAAAAAAAAAAAAAAAAAAAAAAAAAAAAAAAAAAAAAAAAAAAAAAAAAAAAAAAAAAAAAAAAAAAAAAAAAAAAAAAAAAAAAAAAAAAAAAAAAAAAAAAAAAAAAAAAAAAAAAAAAAAAAAAAAAAAAAAAAAAAAAAAAAAAAAAAAAAAAAAAAAAAAAAAAAAAAAAAAAAAAAAAAAAAAAAAAAAAAAAAAAAAAAAAAAAAAAAAAAAAAAAAAAAAAAAAAAAAAAAAAAAAAAAAAAAAAAAAAAAAAAAAAAAAAAAAAAAAAAAAAAAAAAAAAAAAAAAAAAAAAAAAAAAAAAAAAAAAAAAAAAAAAAAAAAAAAAAAAAAAAAAAAAAAAAAAAAAAAAAAAAAAAAAAAAAAAAAAAAAAAAAAAAAAAAAAAAAAAAAAAAAAAAAAAAAAAAAAAAAAAAAAAAAAAAAAAAAAAAAAAAAAAAAAAAAAAAAAAAAAAAAAAAAAAAAAAAAAAAAAAAAAAAAAAAAAAAAAAAAAAAAAAAAAAAAAAAAAAAAAAAAAAAAAAAAAAAAAAAAAAAAAAAAAAAAAAAAAAAAAAAAAAAAAAAAAAAAAAAAAAAAAAAAAAAAAAAAAAAAAAAAAAAAAAAAAAAAAAAAAAAAAAAAAAAAAAAAAAAAAAAAAAAAAAAAAAAAAAAAAAAAAAAAAAByTfwrV9pbP7myIlQMTHA/Qgw4Ah5zgT+8EC4MyhiRP8nwQ/WgqZ4/t1b+DAAtqT/KGfeeLfGyPwj55+4vKro/a3tXQlWlwD+BzWiwgaXDP7ej2tunzMU/IklwiQJIxz+rhhOsHcfIP4JkpIqDQss/W8gM1JmKzz+5Y+nC5OfSP8aHdbI+sdY/4SuYZLJq2j/KOtgjbD7dP/eqZFJlid4/CVp5qh4X3j8JUsdBgyncP3/zSdzGTNk/VD+b+bIU1j8kG9os7urSPyLObkZJBtA/Ajdnbd4Myz9u3cJWAzTHP9dClFFDJ8U/ht82ZGjCxT+MvypbjdXJP1N3WfUb6dA/aEHyxRbF1j9esoCdnQzeP/TLtDZ0AeM/DYkuLXvl5j+fVB7x8VHqP4HjgC9rFO0/dZZ8jw9B7z8GGLWvM53wP8znWwUM0fE/51Ju7b6Z8z+ZYJUN/kj2PwZH4FdbDfo//lls3WLk/j/qLNWvQ00CQJ/HGpXZbAVAuCA8ZbuhCEDhQopn0ccLQGQMyLhl0g5AkHDViDzoEEC3KRzuu3MSQKKmPSl4IxRAYQtOVS8NFkCvgBR7tT4YQOTw2WxYuhpA9My8fet1HUAgIrj6eS4gQML8v+84qyFAKcmfAegmI0AFCih/VZ4kQIkSax+4GCZAXEmrXGmnJ0BvKDqMR2EpQL1ctKkJWytAGWtkGXGfLUCMCny5LRUwQAFulW8ddDFAPcq2EcjcMkDalv38aTw0QAbMz5V9gDVAqs6EG2GZNkDvScgwa3s3QIlFO4yzHThAN+xBbM92OECCZB5GVnk4QEvhQ0gWEzhAAi1aDhkxN0Cq6zmMzMc1QFOG6yCF2zNARkQyk4+EMUD1XjWubNgtQNKgt6P1hyhA86mZixZ2I0Ba2Zz/D9gdQBQ0tF3EKxZAH3c7+gwFEEAwR1nU8qIGQNL6qIHfd/8/sHWV7UGg9T/gAVE852vtP3kqL5amt+M/hawKutTG2T/4He8oHTnQP+K10NQ6acM/Bd3v7mzWtT8Yr3qQReimP5tzL/2WRZY/slQLYcv8gz+WE1LczIJwPw==\"},\"shape\":[200],\"dtype\":\"float64\",\"order\":\"little\"}]]}}},\"view\":{\"type\":\"object\",\"name\":\"CDSView\",\"id\":\"p13811\",\"attributes\":{\"filter\":{\"type\":\"object\",\"name\":\"AllIndices\",\"id\":\"p13812\"}}},\"glyph\":{\"type\":\"object\",\"name\":\"Patch\",\"id\":\"p13807\",\"attributes\":{\"tags\":[\"apply_ranges\"],\"x\":{\"type\":\"field\",\"field\":\"x\"},\"y\":{\"type\":\"field\",\"field\":\"y\"},\"fill_color\":\"#fc4f30\",\"fill_alpha\":0.5,\"hatch_color\":\"#fc4f30\"}},\"selection_glyph\":{\"type\":\"object\",\"name\":\"Patch\",\"id\":\"p13814\",\"attributes\":{\"tags\":[\"apply_ranges\"],\"x\":{\"type\":\"field\",\"field\":\"x\"},\"y\":{\"type\":\"field\",\"field\":\"y\"},\"fill_color\":\"#fc4f30\",\"fill_alpha\":0.5,\"hatch_color\":\"#fc4f30\"}},\"nonselection_glyph\":{\"type\":\"object\",\"name\":\"Patch\",\"id\":\"p13808\",\"attributes\":{\"tags\":[\"apply_ranges\"],\"x\":{\"type\":\"field\",\"field\":\"x\"},\"y\":{\"type\":\"field\",\"field\":\"y\"},\"line_alpha\":1,\"fill_color\":\"#fc4f30\",\"fill_alpha\":0.5,\"hatch_color\":\"#fc4f30\",\"hatch_alpha\":0.1}},\"muted_glyph\":{\"type\":\"object\",\"name\":\"Patch\",\"id\":\"p13809\",\"attributes\":{\"tags\":[\"apply_ranges\"],\"x\":{\"type\":\"field\",\"field\":\"x\"},\"y\":{\"type\":\"field\",\"field\":\"y\"},\"line_alpha\":0.2,\"fill_color\":\"#fc4f30\",\"fill_alpha\":0.2,\"hatch_color\":\"#fc4f30\",\"hatch_alpha\":0.2}}}},{\"type\":\"object\",\"name\":\"Span\",\"id\":\"p13818\",\"attributes\":{\"level\":\"glyph\",\"location\":0,\"dimension\":\"height\",\"line_color\":\"#000000\",\"line_width\":3,\"line_dash\":[6]}}],\"toolbar\":{\"type\":\"object\",\"name\":\"Toolbar\",\"id\":\"p13764\",\"attributes\":{\"tools\":[{\"type\":\"object\",\"name\":\"WheelZoomTool\",\"id\":\"p13748\",\"attributes\":{\"tags\":[\"hv_created\"],\"renderers\":\"auto\",\"zoom_together\":\"none\"}},{\"type\":\"object\",\"name\":\"HoverTool\",\"id\":\"p13749\",\"attributes\":{\"tags\":[\"hv_created\"],\"renderers\":[{\"id\":\"p13795\"},{\"id\":\"p13810\"}],\"tooltips\":[[\"0\",\"@{A_0}\"],[\"Density\",\"@{A_0_density}\"]]}},{\"type\":\"object\",\"name\":\"SaveTool\",\"id\":\"p13777\"},{\"type\":\"object\",\"name\":\"PanTool\",\"id\":\"p13778\"},{\"type\":\"object\",\"name\":\"BoxZoomTool\",\"id\":\"p13779\",\"attributes\":{\"overlay\":{\"type\":\"object\",\"name\":\"BoxAnnotation\",\"id\":\"p13780\",\"attributes\":{\"syncable\":false,\"level\":\"overlay\",\"visible\":false,\"left\":{\"type\":\"number\",\"value\":\"nan\"},\"right\":{\"type\":\"number\",\"value\":\"nan\"},\"top\":{\"type\":\"number\",\"value\":\"nan\"},\"bottom\":{\"type\":\"number\",\"value\":\"nan\"},\"left_units\":\"canvas\",\"right_units\":\"canvas\",\"top_units\":\"canvas\",\"bottom_units\":\"canvas\",\"line_color\":\"black\",\"line_alpha\":1.0,\"line_width\":2,\"line_dash\":[4,4],\"fill_color\":\"lightgrey\",\"fill_alpha\":0.5}}}},{\"type\":\"object\",\"name\":\"ResetTool\",\"id\":\"p13785\"}],\"active_drag\":{\"id\":\"p13778\"},\"active_scroll\":{\"id\":\"p13748\"}}},\"left\":[{\"type\":\"object\",\"name\":\"LinearAxis\",\"id\":\"p13772\",\"attributes\":{\"ticker\":{\"type\":\"object\",\"name\":\"BasicTicker\",\"id\":\"p13773\",\"attributes\":{\"mantissas\":[1,2,5]}},\"formatter\":{\"type\":\"object\",\"name\":\"BasicTickFormatter\",\"id\":\"p13774\"},\"axis_label\":\"Density\",\"major_label_policy\":{\"type\":\"object\",\"name\":\"AllLabels\",\"id\":\"p13775\"}}}],\"below\":[{\"type\":\"object\",\"name\":\"LinearAxis\",\"id\":\"p13767\",\"attributes\":{\"ticker\":{\"type\":\"object\",\"name\":\"BasicTicker\",\"id\":\"p13768\",\"attributes\":{\"mantissas\":[1,2,5]}},\"formatter\":{\"type\":\"object\",\"name\":\"BasicTickFormatter\",\"id\":\"p13769\"},\"axis_label\":\"Intercept\",\"major_label_policy\":{\"type\":\"object\",\"name\":\"AllLabels\",\"id\":\"p13770\"}}}],\"center\":[{\"type\":\"object\",\"name\":\"Grid\",\"id\":\"p13771\",\"attributes\":{\"axis\":{\"id\":\"p13767\"},\"grid_line_color\":null}},{\"type\":\"object\",\"name\":\"Grid\",\"id\":\"p13776\",\"attributes\":{\"dimension\":1,\"axis\":{\"id\":\"p13772\"},\"grid_line_color\":null}},{\"type\":\"object\",\"name\":\"Legend\",\"id\":\"p13798\",\"attributes\":{\"click_policy\":\"mute\",\"items\":[{\"type\":\"object\",\"name\":\"LegendItem\",\"id\":\"p13799\",\"attributes\":{\"label\":{\"type\":\"value\",\"value\":\"Basic Denoising\"},\"renderers\":[{\"id\":\"p13795\"}]}},{\"type\":\"object\",\"name\":\"LegendItem\",\"id\":\"p13813\",\"attributes\":{\"label\":{\"type\":\"value\",\"value\":\"MEICA Denoising\"},\"renderers\":[{\"id\":\"p13810\"}]}}]}}],\"min_border_top\":10,\"min_border_bottom\":10,\"min_border_left\":10,\"min_border_right\":10,\"output_backend\":\"webgl\"}},{\"type\":\"object\",\"name\":\"Spacer\",\"id\":\"p13820\",\"attributes\":{\"name\":\"HSpacer68451\",\"stylesheets\":[\"\\n:host(.pn-loading):before, .pn-loading:before {\\n  background-color: #c3c3c3;\\n  mask-size: auto calc(min(50%, 400px));\\n  -webkit-mask-size: auto calc(min(50%, 400px));\\n}\",{\"id\":\"p13741\"},{\"id\":\"p13739\"},{\"id\":\"p13740\"}],\"margin\":0,\"sizing_mode\":\"stretch_width\",\"align\":\"start\"}}]}}],\"defs\":[{\"type\":\"model\",\"name\":\"ReactiveHTML1\"},{\"type\":\"model\",\"name\":\"FlexBox1\",\"properties\":[{\"name\":\"align_content\",\"kind\":\"Any\",\"default\":\"flex-start\"},{\"name\":\"align_items\",\"kind\":\"Any\",\"default\":\"flex-start\"},{\"name\":\"flex_direction\",\"kind\":\"Any\",\"default\":\"row\"},{\"name\":\"flex_wrap\",\"kind\":\"Any\",\"default\":\"wrap\"},{\"name\":\"gap\",\"kind\":\"Any\",\"default\":\"\"},{\"name\":\"justify_content\",\"kind\":\"Any\",\"default\":\"flex-start\"}]},{\"type\":\"model\",\"name\":\"FloatPanel1\",\"properties\":[{\"name\":\"config\",\"kind\":\"Any\",\"default\":{\"type\":\"map\"}},{\"name\":\"contained\",\"kind\":\"Any\",\"default\":true},{\"name\":\"position\",\"kind\":\"Any\",\"default\":\"right-top\"},{\"name\":\"offsetx\",\"kind\":\"Any\",\"default\":null},{\"name\":\"offsety\",\"kind\":\"Any\",\"default\":null},{\"name\":\"theme\",\"kind\":\"Any\",\"default\":\"primary\"},{\"name\":\"status\",\"kind\":\"Any\",\"default\":\"normalized\"}]},{\"type\":\"model\",\"name\":\"GridStack1\",\"properties\":[{\"name\":\"mode\",\"kind\":\"Any\",\"default\":\"warn\"},{\"name\":\"ncols\",\"kind\":\"Any\",\"default\":null},{\"name\":\"nrows\",\"kind\":\"Any\",\"default\":null},{\"name\":\"allow_resize\",\"kind\":\"Any\",\"default\":true},{\"name\":\"allow_drag\",\"kind\":\"Any\",\"default\":true},{\"name\":\"state\",\"kind\":\"Any\",\"default\":[]}]},{\"type\":\"model\",\"name\":\"drag1\",\"properties\":[{\"name\":\"slider_width\",\"kind\":\"Any\",\"default\":5},{\"name\":\"slider_color\",\"kind\":\"Any\",\"default\":\"black\"},{\"name\":\"value\",\"kind\":\"Any\",\"default\":50}]},{\"type\":\"model\",\"name\":\"click1\",\"properties\":[{\"name\":\"terminal_output\",\"kind\":\"Any\",\"default\":\"\"},{\"name\":\"debug_name\",\"kind\":\"Any\",\"default\":\"\"},{\"name\":\"clears\",\"kind\":\"Any\",\"default\":0}]},{\"type\":\"model\",\"name\":\"FastWrapper1\",\"properties\":[{\"name\":\"object\",\"kind\":\"Any\",\"default\":null},{\"name\":\"style\",\"kind\":\"Any\",\"default\":null}]},{\"type\":\"model\",\"name\":\"NotificationAreaBase1\",\"properties\":[{\"name\":\"js_events\",\"kind\":\"Any\",\"default\":{\"type\":\"map\"}},{\"name\":\"position\",\"kind\":\"Any\",\"default\":\"bottom-right\"},{\"name\":\"_clear\",\"kind\":\"Any\",\"default\":0}]},{\"type\":\"model\",\"name\":\"NotificationArea1\",\"properties\":[{\"name\":\"js_events\",\"kind\":\"Any\",\"default\":{\"type\":\"map\"}},{\"name\":\"notifications\",\"kind\":\"Any\",\"default\":[]},{\"name\":\"position\",\"kind\":\"Any\",\"default\":\"bottom-right\"},{\"name\":\"_clear\",\"kind\":\"Any\",\"default\":0},{\"name\":\"types\",\"kind\":\"Any\",\"default\":[{\"type\":\"map\",\"entries\":[[\"type\",\"warning\"],[\"background\",\"#ffc107\"],[\"icon\",{\"type\":\"map\",\"entries\":[[\"className\",\"fas fa-exclamation-triangle\"],[\"tagName\",\"i\"],[\"color\",\"white\"]]}]]},{\"type\":\"map\",\"entries\":[[\"type\",\"info\"],[\"background\",\"#007bff\"],[\"icon\",{\"type\":\"map\",\"entries\":[[\"className\",\"fas fa-info-circle\"],[\"tagName\",\"i\"],[\"color\",\"white\"]]}]]}]}]},{\"type\":\"model\",\"name\":\"Notification\",\"properties\":[{\"name\":\"background\",\"kind\":\"Any\",\"default\":null},{\"name\":\"duration\",\"kind\":\"Any\",\"default\":3000},{\"name\":\"icon\",\"kind\":\"Any\",\"default\":null},{\"name\":\"message\",\"kind\":\"Any\",\"default\":\"\"},{\"name\":\"notification_type\",\"kind\":\"Any\",\"default\":null},{\"name\":\"_destroyed\",\"kind\":\"Any\",\"default\":false}]},{\"type\":\"model\",\"name\":\"TemplateActions1\",\"properties\":[{\"name\":\"open_modal\",\"kind\":\"Any\",\"default\":0},{\"name\":\"close_modal\",\"kind\":\"Any\",\"default\":0}]},{\"type\":\"model\",\"name\":\"BootstrapTemplateActions1\",\"properties\":[{\"name\":\"open_modal\",\"kind\":\"Any\",\"default\":0},{\"name\":\"close_modal\",\"kind\":\"Any\",\"default\":0}]},{\"type\":\"model\",\"name\":\"TemplateEditor1\",\"properties\":[{\"name\":\"layout\",\"kind\":\"Any\",\"default\":[]}]},{\"type\":\"model\",\"name\":\"MaterialTemplateActions1\",\"properties\":[{\"name\":\"open_modal\",\"kind\":\"Any\",\"default\":0},{\"name\":\"close_modal\",\"kind\":\"Any\",\"default\":0}]},{\"type\":\"model\",\"name\":\"copy_to_clipboard1\",\"properties\":[{\"name\":\"fill\",\"kind\":\"Any\",\"default\":\"none\"},{\"name\":\"value\",\"kind\":\"Any\",\"default\":null}]}]}};\n",
       "  var render_items = [{\"docid\":\"680c3655-90ec-41a9-9c2c-f0798079b5b1\",\"roots\":{\"p13738\":\"e550dd01-c31f-4757-af16-1429cd5304c1\"},\"root_ids\":[\"p13738\"]}];\n",
       "  var docs = Object.values(docs_json)\n",
       "  if (!docs) {\n",
       "    return\n",
       "  }\n",
       "  const py_version = docs[0].version.replace('rc', '-rc.').replace('.dev', '-dev.')\n",
       "  async function embed_document(root) {\n",
       "    var Bokeh = get_bokeh(root)\n",
       "    await Bokeh.embed.embed_items_notebook(docs_json, render_items);\n",
       "    for (const render_item of render_items) {\n",
       "      for (const root_id of render_item.root_ids) {\n",
       "\tconst id_el = document.getElementById(root_id)\n",
       "\tif (id_el.children.length && id_el.children[0].hasAttribute('data-root-id')) {\n",
       "\t  const root_el = id_el.children[0]\n",
       "\t  root_el.id = root_el.id + '-rendered'\n",
       "\t  for (const child of root_el.children) {\n",
       "            // Ensure JupyterLab does not capture keyboard shortcuts\n",
       "            // see: https://jupyterlab.readthedocs.io/en/4.1.x/extension/notebook.html#keyboard-interaction-model\n",
       "\t    child.setAttribute('data-lm-suppress-shortcuts', 'true')\n",
       "\t  }\n",
       "\t}\n",
       "      }\n",
       "    }\n",
       "  }\n",
       "  function get_bokeh(root) {\n",
       "    if (root.Bokeh === undefined) {\n",
       "      return null\n",
       "    } else if (root.Bokeh.version !== py_version) {\n",
       "      if (root.Bokeh.versions === undefined || !root.Bokeh.versions.has(py_version)) {\n",
       "\treturn null\n",
       "      }\n",
       "      return root.Bokeh.versions.get(py_version);\n",
       "    } else if (root.Bokeh.version === py_version) {\n",
       "      return root.Bokeh\n",
       "    }\n",
       "    return null\n",
       "  }\n",
       "  function is_loaded(root) {\n",
       "    var Bokeh = get_bokeh(root)\n",
       "    return (Bokeh != null && Bokeh.Panel !== undefined)\n",
       "  }\n",
       "  if (is_loaded(root)) {\n",
       "    embed_document(root);\n",
       "  } else {\n",
       "    var attempts = 0;\n",
       "    var timer = setInterval(function(root) {\n",
       "      if (is_loaded(root)) {\n",
       "        clearInterval(timer);\n",
       "        embed_document(root);\n",
       "      } else if (document.readyState == \"complete\") {\n",
       "        attempts++;\n",
       "        if (attempts > 200) {\n",
       "          clearInterval(timer);\n",
       "\t  var Bokeh = get_bokeh(root)\n",
       "\t  if (Bokeh == null || Bokeh.Panel == null) {\n",
       "            console.warn(\"Panel: ERROR: Unable to run Panel code because Bokeh or Panel library is missing\");\n",
       "\t  } else {\n",
       "\t    console.warn(\"Panel: WARNING: Attempting to render but not all required libraries could be resolved.\")\n",
       "\t    embed_document(root)\n",
       "\t  }\n",
       "        }\n",
       "      }\n",
       "    }, 25, root)\n",
       "  }\n",
       "})(window);</script>"
      ],
      "text/plain": [
       ":Overlay\n",
       "   .Distribution.Basic_Denoising :Distribution   [0]   (Density)\n",
       "   .Distribution.MEICA_Denoising :Distribution   [0]   (Density)\n",
       "   .VLine.I                      :VLine   [x,y]"
      ]
     },
     "execution_count": 70,
     "metadata": {
      "application/vnd.holoviews_exec.v0+json": {
       "id": "p13738"
      }
     },
     "output_type": "execute_result"
    }
   ],
   "source": [
    "pd.DataFrame(linefits.sel(input='volreg',cenmode='ALL',metric='Intercept').mean(dim='pair_combo').values).hvplot.kde(label='Basic Denoising', xlabel='Intercept') * \\\n",
    "pd.DataFrame(linefits.sel(input='MEICA',cenmode='ALL',metric='Intercept').mean(dim='pair_combo').values).hvplot.kde(label='MEICA Denoising') * \\\n",
    "hv.VLine(0).opts(line_color='k',line_dash='dashed')"
   ]
  },
  {
   "cell_type": "code",
   "execution_count": 66,
   "id": "65b3c26c-e95b-494c-8354-62bd2356c6df",
   "metadata": {},
   "outputs": [
    {
     "data": {},
     "metadata": {},
     "output_type": "display_data"
    },
    {
     "data": {
      "application/vnd.holoviews_exec.v0+json": "",
      "text/html": [
       "<div id='p13376'>\n",
       "  <div id=\"a8b5c525-55a5-4494-86ca-ee51d041b524\" data-root-id=\"p13376\" style=\"display: contents;\"></div>\n",
       "</div>\n",
       "<script type=\"application/javascript\">(function(root) {\n",
       "  var docs_json = {\"09cbe162-7882-490b-853f-5b6cb0880f5e\":{\"version\":\"3.4.1\",\"title\":\"Bokeh Application\",\"roots\":[{\"type\":\"object\",\"name\":\"Row\",\"id\":\"p13376\",\"attributes\":{\"name\":\"Row66937\",\"tags\":[\"embedded\"],\"stylesheets\":[\"\\n:host(.pn-loading):before, .pn-loading:before {\\n  background-color: #c3c3c3;\\n  mask-size: auto calc(min(50%, 400px));\\n  -webkit-mask-size: auto calc(min(50%, 400px));\\n}\",{\"type\":\"object\",\"name\":\"ImportedStyleSheet\",\"id\":\"p13379\",\"attributes\":{\"url\":\"https://cdn.holoviz.org/panel/1.4.4/dist/css/loading.css\"}},{\"type\":\"object\",\"name\":\"ImportedStyleSheet\",\"id\":\"p13460\",\"attributes\":{\"url\":\"https://cdn.holoviz.org/panel/1.4.4/dist/css/listpanel.css\"}},{\"type\":\"object\",\"name\":\"ImportedStyleSheet\",\"id\":\"p13377\",\"attributes\":{\"url\":\"https://cdn.holoviz.org/panel/1.4.4/dist/bundled/theme/default.css\"}},{\"type\":\"object\",\"name\":\"ImportedStyleSheet\",\"id\":\"p13378\",\"attributes\":{\"url\":\"https://cdn.holoviz.org/panel/1.4.4/dist/bundled/theme/native.css\"}}],\"min_width\":700,\"margin\":0,\"sizing_mode\":\"stretch_width\",\"align\":\"start\",\"children\":[{\"type\":\"object\",\"name\":\"Spacer\",\"id\":\"p13380\",\"attributes\":{\"name\":\"HSpacer66943\",\"stylesheets\":[\"\\n:host(.pn-loading):before, .pn-loading:before {\\n  background-color: #c3c3c3;\\n  mask-size: auto calc(min(50%, 400px));\\n  -webkit-mask-size: auto calc(min(50%, 400px));\\n}\",{\"id\":\"p13379\"},{\"id\":\"p13377\"},{\"id\":\"p13378\"}],\"margin\":0,\"sizing_mode\":\"stretch_width\",\"align\":\"start\"}},{\"type\":\"object\",\"name\":\"Figure\",\"id\":\"p13393\",\"attributes\":{\"width\":700,\"height\":300,\"margin\":[5,10],\"sizing_mode\":\"fixed\",\"align\":\"start\",\"x_range\":{\"type\":\"object\",\"name\":\"Range1d\",\"id\":\"p13381\",\"attributes\":{\"tags\":[[[\"0\",null]],[]],\"start\":0.399310238086408,\"end\":1.1471013783852284,\"reset_start\":0.399310238086408,\"reset_end\":1.1471013783852284}},\"y_range\":{\"type\":\"object\",\"name\":\"Range1d\",\"id\":\"p13382\",\"attributes\":{\"tags\":[[[\"Density\",null]],{\"type\":\"map\",\"entries\":[[\"invert_yaxis\",false],[\"autorange\",false]]}],\"end\":4.5498597869501,\"reset_start\":0.0,\"reset_end\":4.5498597869501}},\"x_scale\":{\"type\":\"object\",\"name\":\"LinearScale\",\"id\":\"p13403\"},\"y_scale\":{\"type\":\"object\",\"name\":\"LinearScale\",\"id\":\"p13404\"},\"title\":{\"type\":\"object\",\"name\":\"Title\",\"id\":\"p13396\",\"attributes\":{\"text_color\":\"black\",\"text_font_size\":\"12pt\"}},\"renderers\":[{\"type\":\"object\",\"name\":\"GlyphRenderer\",\"id\":\"p13433\",\"attributes\":{\"name\":\"Basic Denoising\",\"data_source\":{\"type\":\"object\",\"name\":\"ColumnDataSource\",\"id\":\"p13424\",\"attributes\":{\"selected\":{\"type\":\"object\",\"name\":\"Selection\",\"id\":\"p13425\",\"attributes\":{\"indices\":[],\"line_indices\":[]}},\"selection_policy\":{\"type\":\"object\",\"name\":\"UnionRenderers\",\"id\":\"p13426\"},\"data\":{\"type\":\"map\",\"entries\":[[\"x\",{\"type\":\"ndarray\",\"array\":{\"type\":\"bytes\",\"data\":\"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\"},\"shape\":[200],\"dtype\":\"float64\",\"order\":\"little\"}],[\"y\",{\"type\":\"ndarray\",\"array\":{\"type\":\"bytes\",\"data\":\"AAAAAAAAAAAAAAAAAAAAAAAAAAAAAAAAAAAAAAAAAAAAAAAAAAAAAAAAAAAAAAAAAAAAAAAAAAAAAAAAAAAAAAAAAAAAAAAAAAAAAAAAAAAAAAAAAAAAAAAAAAAAAAAAAAAAAAAAAAAAAAAAAAAAAAAAAAAAAAAAAAAAAAAAAAAAAAAAAAAAAAAAAAAAAAAAAAAAAAAAAAAAAAAAAAAAAAAAAAAAAAAAAAAAAAAAAAAAAAAAAAAAAAAAAAAAAAAAAAAAAAAAAAAAAAAAAAAAAAAAAAAAAAAAAAAAAAAAAAAAAAAAAAAAAAAAAAAAAAAAAAAAAAAAAAAAAAAAAAAAAAAAAAAAAAAAAAAAAAAAAAAAAAAAAAAAAAAAAAAAAAAAAAAAAAAAAAAAAAAAAAAAAAAAAAAAAAAAAAAAAAAAAAAAAAAAAAAAAAAAAAAAAAAAAAAAAAAAAAAAAAAAAAAAAAAAAAAAAAAAAAAAAAAAAAAAAAAAAAAAAAAAAAAAAAAAAAAAAAAAAAAAAAAAAAAAAAAAAAAAAAAAAAAAAAAAAAAAAAAAAAAAAAAAAAAAAAAAAAAAAAAAAAAAAAAAAAAAAAAAAAAAAAAAAAAAAAAAAAAAAAAAAAAAAAAAAAAAAAAAAAAAAAAAAAAAAAAAAAAAAAAAAAAAAAAAAAAAAAAAAAAAAAAAAAAAAAAAAAAAAAAAAAAAAAAAAAAAAAAAAAAAAAAAAAAAAAAAAAAAAAAAAAAAAAAAAAAAAAAAAAAAAAAAAAAAAAAAAAAAAAAAAAAAAAAAAAAAAAAAAAAAAAAAAAAAAAAAAAAAAAAAAAAAAAAAAAAAAAAAAAAAAAAAAAAAAAAAAAAAAAAAAAAAAAAAAAAAAAAAAAAAAAAAAAAAAAAAAAAAAAAAAAAAAAAAAAAAAAAAAAAAAAAAAAAAAAAAAAAAAAAAAAAAAAAAAAAAAAAAAAAAAAAAAAAAAAAAAAAAAAAAAAAAAAAAAAAAAAAAAAAAAAAAAAAAAAAAAAAAAAAAAAAAAAAAAAAAAAAAAAAAAAAAAAAAAAAAAAAAAAAAAABZ2RGfY3A4PzU0fTIVykg/UPS/x7L3Vz/kzo22byBmP8qAqwL6i3M/4ilAzf6QgD+vcGFhBQaLPzNIFlc+SZU/ycjHMJNBoD+wqQuV5SuoP8GDX4ERkLE/E++9fQIHuT/3sRUWuofBP2CXTgaALMg/0PcP1ulo0D/BG5KuourVP0W9A8kuwdw/qd0UOCWA4j/Ps5bS01DnP7TfyEhJwOw/SvbdY9VW8T/Vwo0qt3b0PwhoklS5p/c/cQtdZMnS+j/kZ5sqUuT9P1BvYhWdZgBAqTEoKSzBAUBAAy/ohf0CQDpn0s4AGARAz+Aa7oANBUDj47sy/NsFQBcCsfFUgwZAHAnqOwoGB0ChkCyjSmkHQJSAta1AtAdAt1/aVc7uB0DJk1YtLCAIQMhvxLnhTQhAo3T5N1N7CEDvwFbL0KkIQASS4wzb2AhArTtaO1AGCUCHxJKOaS4JQCwQN5i2SwlAu0hSmm5XCUAm7lXwXkoJQFuN0yJ2HglA02yOMpHQCEBtkCyY82EIQNnFmjrT2AdAdvnOYaI/B0Czw8d4J6MGQIyJbtnUDwZAzoARHg+PBUASvE7xFSUFQOkAUFkV0ARAKn1JP5WIBEAxOB/mIUMEQLLGiym68gNAkVxoX2SLA0D8Xa0DTQQDQC+qZ5MBWQJAdp7OhKSJAUBmC//MQJoAQLCH5JsjI/8/LxNLZDrv/D8z4m4F0Kj6P/9noIvmXfg/G96Q0S4Z9j9xFl96l+HzPxYTIC2+uvE/Gbd061RM7z9ViqXZBErrP/pvct9pc+c/i4RaNAzS4z8EN6nIKnTgPw/jQu881do/7nZGjoKK1T8SE63LFx7RP8xDymuaLMs/qNo+5QrPxT+Ko5x7vevBP5Wuo6Q1aL4/dWh9DcKfuj+GLH4AGtW3P+5iTiGxfLU/9MyD8B82sz99iQf6E9CwP4Film1Ahqw/7FJ3KKFLpz/aLeM8OjuiP7oMhBCTQps/kTIqXjZtkz/FbhK9bFqKP82cwUiS/oA/L6Ehl4TSdD+kPgn04ThoP+FVkzlpvVo/wJGt5+IATD8fipdyGNA7Pw==\"},\"shape\":[200],\"dtype\":\"float64\",\"order\":\"little\"}]]}}},\"view\":{\"type\":\"object\",\"name\":\"CDSView\",\"id\":\"p13434\",\"attributes\":{\"filter\":{\"type\":\"object\",\"name\":\"AllIndices\",\"id\":\"p13435\"}}},\"glyph\":{\"type\":\"object\",\"name\":\"Patch\",\"id\":\"p13430\",\"attributes\":{\"tags\":[\"apply_ranges\"],\"x\":{\"type\":\"field\",\"field\":\"x\"},\"y\":{\"type\":\"field\",\"field\":\"y\"},\"fill_color\":\"#30a2da\",\"fill_alpha\":0.5,\"hatch_color\":\"#30a2da\"}},\"selection_glyph\":{\"type\":\"object\",\"name\":\"Patch\",\"id\":\"p13438\",\"attributes\":{\"tags\":[\"apply_ranges\"],\"x\":{\"type\":\"field\",\"field\":\"x\"},\"y\":{\"type\":\"field\",\"field\":\"y\"},\"fill_color\":\"#30a2da\",\"fill_alpha\":0.5,\"hatch_color\":\"#30a2da\"}},\"nonselection_glyph\":{\"type\":\"object\",\"name\":\"Patch\",\"id\":\"p13431\",\"attributes\":{\"tags\":[\"apply_ranges\"],\"x\":{\"type\":\"field\",\"field\":\"x\"},\"y\":{\"type\":\"field\",\"field\":\"y\"},\"line_alpha\":1,\"fill_color\":\"#30a2da\",\"fill_alpha\":0.5,\"hatch_color\":\"#30a2da\",\"hatch_alpha\":0.1}},\"muted_glyph\":{\"type\":\"object\",\"name\":\"Patch\",\"id\":\"p13432\",\"attributes\":{\"tags\":[\"apply_ranges\"],\"x\":{\"type\":\"field\",\"field\":\"x\"},\"y\":{\"type\":\"field\",\"field\":\"y\"},\"line_alpha\":0.2,\"fill_color\":\"#30a2da\",\"fill_alpha\":0.2,\"hatch_color\":\"#30a2da\",\"hatch_alpha\":0.2}}}},{\"type\":\"object\",\"name\":\"GlyphRenderer\",\"id\":\"p13448\",\"attributes\":{\"name\":\"MEICA Denoising\",\"data_source\":{\"type\":\"object\",\"name\":\"ColumnDataSource\",\"id\":\"p13439\",\"attributes\":{\"selected\":{\"type\":\"object\",\"name\":\"Selection\",\"id\":\"p13440\",\"attributes\":{\"indices\":[],\"line_indices\":[]}},\"selection_policy\":{\"type\":\"object\",\"name\":\"UnionRenderers\",\"id\":\"p13441\"},\"data\":{\"type\":\"map\",\"entries\":[[\"x\",{\"type\":\"ndarray\",\"array\":{\"type\":\"bytes\",\"data\":\"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\"},\"shape\":[200],\"dtype\":\"float64\",\"order\":\"little\"}],[\"y\",{\"type\":\"ndarray\",\"array\":{\"type\":\"bytes\",\"data\":\"AAAAAAAAAAAAAAAAAAAAAAAAAAAAAAAAAAAAAAAAAAAAAAAAAAAAAAAAAAAAAAAAAAAAAAAAAAAAAAAAAAAAAAAAAAAAAAAAAAAAAAAAAAAAAAAAAAAAAAAAAAAAAAAAAAAAAAAAAAAAAAAAAAAAAAAAAAAAAAAAAAAAAAAAAAAAAAAAAAAAAAAAAAAAAAAAAAAAAAAAAAAAAAAAAAAAAAAAAAAAAAAAAAAAAAAAAAAAAAAAAAAAAAAAAAAAAAAAAAAAAAAAAAAAAAAAAAAAAAAAAAAAAAAAAAAAAAAAAAAAAAAAAAAAAAAAAAAAAAAAAAAAAAAAAAAAAAAAAAAAAAAAAAAAAAAAAAAAAAAAAAAAAAAAAAAAAAAAAAAAAAAAAAAAAAAAAAAAAAAAAAAAAAAAAAAAAAAAAAAAAAAAAAAAAAAAAAAAAAAAAAAAAAAAAAAAAAAAAAAAAAAAAAAAAAAAAAAAAAAAAAAAAAAAAAAAAAAAAAAAAAAAAAAAAAAAAAAAAAAAAAAAAAAAAAAAAAAAAAAAAAAAAAAAAAAAAAAAAAAAAAAAAAAAAAAAAAAAAAAAAAAAAAAAAAAAAAAAAAAAAAAAAAAAAAAAAAAAAAAAAAAAAAAAAAAAAAAAAAAAAAAAAAAAAAAAAAAAAAAAAAAAAAAAAAAAAAAAAAAAAAAAAAAAAAAAAAAAAAAAAAAAAAAAAAAAAAAAAAAAAAAAAAAAAAAAAAAAAAAAAAAAAAAAAAAAAAAAAAAAAAAAAAAAAAAAAAAAAAAAAAAAAAAAAAAAAAAAAAAAAAAAAAAAAAAAAAAAAAAAAAAAAAAAAAAAAAAAAAAAAAAAAAAAAAAAAAAAAAAAAAAAAAAAAAAAAAAAAAAAAAAAAAAAAAAAAAAAAAAAAAAAAAAAAAAAAAAAAAAAAAAAAAAAAAAAAAAAAAAAAAAAAAAAAAAAAAAAAAAAAAAAAAAAAAAAAAAAAAAAAAAAAAAAAAAAAAAAAAAAAAAAAAAAAAAAAAAAAAAAAAAAAAAAAAAAAAAAAAAAAAAAAAAAAAAAAAAAAAAAAAAAAAAjyl0NJ8s2P8azaUbZ4UY/Vfeg7lvSVT+aMA45x8xjP4qrQu96IXE/JqAVqWxafD9AsBHcBoqGP7w0YheJT5E/i3tnIijhmT/criH1zv2iP4kfbcfmm6s/+puVxcAGtD/jEzi03xu9P1DRDDDoL8U/PdbAd7bAzj/ekUFU+RrWP6bzLuVnQd8/LmMMFWua5T+Bg7Z5HRLtPwHbJdio/fI/HRx2Ki8Q+D8SN/+wnZL9P3jBIduhpAFAnQMrhZB5BEC0YZ0rdCkHQImwwUQkmwlAtxzfRO28C0CnS4PqrIQNQB4LC6OH7g5AD5iWSwP7D0DJtjCQpVYQQEncb/MHhRBA7pp5yImLEEC2fcNJlG0QQNw+NNYqLxBApnbgGtypD0DD4vX5+ccOQKvBHM1dww1AwHUBnFqmDEDGXTA4CXoLQOWvNraeRQpA/ENV/EcOCUAXCOPFutcHQN3/SvxipQZA7YLYPLp7BUC99pnRHmEEQEhF2MySXQNAHpnYgDR5AkALAlh72LkBQNp5ZnOqIAFAuNclLdqoAECwBCtJAkgAQCxihM6Y4P8/JZRDt0wn/z/4k3kX703+P5Q1J/+nSP0/4cbOUDYX/D/GEHh2D8P6P4EXmGBlW/k/9LBWqYrw9z8UdtgHE5D2P38qNPySQvU/tBL+Zj8L9D+PmSMlFunyP1M7d2nQ2PE/vtN9c8DW8D9upEd337/vP+5ZwMGJ5O0/XDy7oe0X7D8zYQfNv1XqPw4OfkF3mOg/zbnjWw/a5j86QVIHtBXlP886HON6SeM/HMcYk1V34T/+EROawUnfP1ckOUyGtNs/wyb3e0dB2D9j0uiYegHVP5RpScWkA9I/9RRvZRGkzj/McpMWx+PJP44FoOQ9xsU/utS3yy5Bwj+IH9x0n4S+P+EQjxrlZbk/zj7CUO34tD/C0n/4oRixP14ALp3LWas/eQCMjcVVpT/QMk0wsSKgP+ePb5hHi5c/UKyzV2eAkD907kbD5CWGP7yoDP+eY3w/XJhCykhXcT+PujvL1ShkPyiB/ypmRlY/43c/Q/FeRz+qX5gxLUQ3Pw==\"},\"shape\":[200],\"dtype\":\"float64\",\"order\":\"little\"}]]}}},\"view\":{\"type\":\"object\",\"name\":\"CDSView\",\"id\":\"p13449\",\"attributes\":{\"filter\":{\"type\":\"object\",\"name\":\"AllIndices\",\"id\":\"p13450\"}}},\"glyph\":{\"type\":\"object\",\"name\":\"Patch\",\"id\":\"p13445\",\"attributes\":{\"tags\":[\"apply_ranges\"],\"x\":{\"type\":\"field\",\"field\":\"x\"},\"y\":{\"type\":\"field\",\"field\":\"y\"},\"fill_color\":\"#fc4f30\",\"fill_alpha\":0.5,\"hatch_color\":\"#fc4f30\"}},\"selection_glyph\":{\"type\":\"object\",\"name\":\"Patch\",\"id\":\"p13452\",\"attributes\":{\"tags\":[\"apply_ranges\"],\"x\":{\"type\":\"field\",\"field\":\"x\"},\"y\":{\"type\":\"field\",\"field\":\"y\"},\"fill_color\":\"#fc4f30\",\"fill_alpha\":0.5,\"hatch_color\":\"#fc4f30\"}},\"nonselection_glyph\":{\"type\":\"object\",\"name\":\"Patch\",\"id\":\"p13446\",\"attributes\":{\"tags\":[\"apply_ranges\"],\"x\":{\"type\":\"field\",\"field\":\"x\"},\"y\":{\"type\":\"field\",\"field\":\"y\"},\"line_alpha\":1,\"fill_color\":\"#fc4f30\",\"fill_alpha\":0.5,\"hatch_color\":\"#fc4f30\",\"hatch_alpha\":0.1}},\"muted_glyph\":{\"type\":\"object\",\"name\":\"Patch\",\"id\":\"p13447\",\"attributes\":{\"tags\":[\"apply_ranges\"],\"x\":{\"type\":\"field\",\"field\":\"x\"},\"y\":{\"type\":\"field\",\"field\":\"y\"},\"line_alpha\":0.2,\"fill_color\":\"#fc4f30\",\"fill_alpha\":0.2,\"hatch_color\":\"#fc4f30\",\"hatch_alpha\":0.2}}}},{\"type\":\"object\",\"name\":\"Span\",\"id\":\"p13456\",\"attributes\":{\"level\":\"glyph\",\"location\":1,\"dimension\":\"height\",\"line_color\":\"#000000\",\"line_width\":3,\"line_dash\":[6]}}],\"toolbar\":{\"type\":\"object\",\"name\":\"Toolbar\",\"id\":\"p13402\",\"attributes\":{\"tools\":[{\"type\":\"object\",\"name\":\"WheelZoomTool\",\"id\":\"p13386\",\"attributes\":{\"tags\":[\"hv_created\"],\"renderers\":\"auto\",\"zoom_together\":\"none\"}},{\"type\":\"object\",\"name\":\"HoverTool\",\"id\":\"p13387\",\"attributes\":{\"tags\":[\"hv_created\"],\"renderers\":[{\"id\":\"p13433\"},{\"id\":\"p13448\"}],\"tooltips\":[[\"0\",\"@{A_0}\"],[\"Density\",\"@{A_0_density}\"]]}},{\"type\":\"object\",\"name\":\"SaveTool\",\"id\":\"p13415\"},{\"type\":\"object\",\"name\":\"PanTool\",\"id\":\"p13416\"},{\"type\":\"object\",\"name\":\"BoxZoomTool\",\"id\":\"p13417\",\"attributes\":{\"overlay\":{\"type\":\"object\",\"name\":\"BoxAnnotation\",\"id\":\"p13418\",\"attributes\":{\"syncable\":false,\"level\":\"overlay\",\"visible\":false,\"left\":{\"type\":\"number\",\"value\":\"nan\"},\"right\":{\"type\":\"number\",\"value\":\"nan\"},\"top\":{\"type\":\"number\",\"value\":\"nan\"},\"bottom\":{\"type\":\"number\",\"value\":\"nan\"},\"left_units\":\"canvas\",\"right_units\":\"canvas\",\"top_units\":\"canvas\",\"bottom_units\":\"canvas\",\"line_color\":\"black\",\"line_alpha\":1.0,\"line_width\":2,\"line_dash\":[4,4],\"fill_color\":\"lightgrey\",\"fill_alpha\":0.5}}}},{\"type\":\"object\",\"name\":\"ResetTool\",\"id\":\"p13423\"}],\"active_drag\":{\"id\":\"p13416\"},\"active_scroll\":{\"id\":\"p13386\"}}},\"left\":[{\"type\":\"object\",\"name\":\"LinearAxis\",\"id\":\"p13410\",\"attributes\":{\"ticker\":{\"type\":\"object\",\"name\":\"BasicTicker\",\"id\":\"p13411\",\"attributes\":{\"mantissas\":[1,2,5]}},\"formatter\":{\"type\":\"object\",\"name\":\"BasicTickFormatter\",\"id\":\"p13412\"},\"axis_label\":\"Density\",\"major_label_policy\":{\"type\":\"object\",\"name\":\"AllLabels\",\"id\":\"p13413\"}}}],\"below\":[{\"type\":\"object\",\"name\":\"LinearAxis\",\"id\":\"p13405\",\"attributes\":{\"ticker\":{\"type\":\"object\",\"name\":\"BasicTicker\",\"id\":\"p13406\",\"attributes\":{\"mantissas\":[1,2,5]}},\"formatter\":{\"type\":\"object\",\"name\":\"BasicTickFormatter\",\"id\":\"p13407\"},\"axis_label\":\"Slope\",\"major_label_policy\":{\"type\":\"object\",\"name\":\"AllLabels\",\"id\":\"p13408\"}}}],\"center\":[{\"type\":\"object\",\"name\":\"Grid\",\"id\":\"p13409\",\"attributes\":{\"axis\":{\"id\":\"p13405\"},\"grid_line_color\":null}},{\"type\":\"object\",\"name\":\"Grid\",\"id\":\"p13414\",\"attributes\":{\"dimension\":1,\"axis\":{\"id\":\"p13410\"},\"grid_line_color\":null}},{\"type\":\"object\",\"name\":\"Legend\",\"id\":\"p13436\",\"attributes\":{\"click_policy\":\"mute\",\"items\":[{\"type\":\"object\",\"name\":\"LegendItem\",\"id\":\"p13437\",\"attributes\":{\"label\":{\"type\":\"value\",\"value\":\"Basic Denoising\"},\"renderers\":[{\"id\":\"p13433\"}]}},{\"type\":\"object\",\"name\":\"LegendItem\",\"id\":\"p13451\",\"attributes\":{\"label\":{\"type\":\"value\",\"value\":\"MEICA Denoising\"},\"renderers\":[{\"id\":\"p13448\"}]}}]}}],\"min_border_top\":10,\"min_border_bottom\":10,\"min_border_left\":10,\"min_border_right\":10,\"output_backend\":\"webgl\"}},{\"type\":\"object\",\"name\":\"Spacer\",\"id\":\"p13458\",\"attributes\":{\"name\":\"HSpacer66944\",\"stylesheets\":[\"\\n:host(.pn-loading):before, .pn-loading:before {\\n  background-color: #c3c3c3;\\n  mask-size: auto calc(min(50%, 400px));\\n  -webkit-mask-size: auto calc(min(50%, 400px));\\n}\",{\"id\":\"p13379\"},{\"id\":\"p13377\"},{\"id\":\"p13378\"}],\"margin\":0,\"sizing_mode\":\"stretch_width\",\"align\":\"start\"}}]}}],\"defs\":[{\"type\":\"model\",\"name\":\"ReactiveHTML1\"},{\"type\":\"model\",\"name\":\"FlexBox1\",\"properties\":[{\"name\":\"align_content\",\"kind\":\"Any\",\"default\":\"flex-start\"},{\"name\":\"align_items\",\"kind\":\"Any\",\"default\":\"flex-start\"},{\"name\":\"flex_direction\",\"kind\":\"Any\",\"default\":\"row\"},{\"name\":\"flex_wrap\",\"kind\":\"Any\",\"default\":\"wrap\"},{\"name\":\"gap\",\"kind\":\"Any\",\"default\":\"\"},{\"name\":\"justify_content\",\"kind\":\"Any\",\"default\":\"flex-start\"}]},{\"type\":\"model\",\"name\":\"FloatPanel1\",\"properties\":[{\"name\":\"config\",\"kind\":\"Any\",\"default\":{\"type\":\"map\"}},{\"name\":\"contained\",\"kind\":\"Any\",\"default\":true},{\"name\":\"position\",\"kind\":\"Any\",\"default\":\"right-top\"},{\"name\":\"offsetx\",\"kind\":\"Any\",\"default\":null},{\"name\":\"offsety\",\"kind\":\"Any\",\"default\":null},{\"name\":\"theme\",\"kind\":\"Any\",\"default\":\"primary\"},{\"name\":\"status\",\"kind\":\"Any\",\"default\":\"normalized\"}]},{\"type\":\"model\",\"name\":\"GridStack1\",\"properties\":[{\"name\":\"mode\",\"kind\":\"Any\",\"default\":\"warn\"},{\"name\":\"ncols\",\"kind\":\"Any\",\"default\":null},{\"name\":\"nrows\",\"kind\":\"Any\",\"default\":null},{\"name\":\"allow_resize\",\"kind\":\"Any\",\"default\":true},{\"name\":\"allow_drag\",\"kind\":\"Any\",\"default\":true},{\"name\":\"state\",\"kind\":\"Any\",\"default\":[]}]},{\"type\":\"model\",\"name\":\"drag1\",\"properties\":[{\"name\":\"slider_width\",\"kind\":\"Any\",\"default\":5},{\"name\":\"slider_color\",\"kind\":\"Any\",\"default\":\"black\"},{\"name\":\"value\",\"kind\":\"Any\",\"default\":50}]},{\"type\":\"model\",\"name\":\"click1\",\"properties\":[{\"name\":\"terminal_output\",\"kind\":\"Any\",\"default\":\"\"},{\"name\":\"debug_name\",\"kind\":\"Any\",\"default\":\"\"},{\"name\":\"clears\",\"kind\":\"Any\",\"default\":0}]},{\"type\":\"model\",\"name\":\"FastWrapper1\",\"properties\":[{\"name\":\"object\",\"kind\":\"Any\",\"default\":null},{\"name\":\"style\",\"kind\":\"Any\",\"default\":null}]},{\"type\":\"model\",\"name\":\"NotificationAreaBase1\",\"properties\":[{\"name\":\"js_events\",\"kind\":\"Any\",\"default\":{\"type\":\"map\"}},{\"name\":\"position\",\"kind\":\"Any\",\"default\":\"bottom-right\"},{\"name\":\"_clear\",\"kind\":\"Any\",\"default\":0}]},{\"type\":\"model\",\"name\":\"NotificationArea1\",\"properties\":[{\"name\":\"js_events\",\"kind\":\"Any\",\"default\":{\"type\":\"map\"}},{\"name\":\"notifications\",\"kind\":\"Any\",\"default\":[]},{\"name\":\"position\",\"kind\":\"Any\",\"default\":\"bottom-right\"},{\"name\":\"_clear\",\"kind\":\"Any\",\"default\":0},{\"name\":\"types\",\"kind\":\"Any\",\"default\":[{\"type\":\"map\",\"entries\":[[\"type\",\"warning\"],[\"background\",\"#ffc107\"],[\"icon\",{\"type\":\"map\",\"entries\":[[\"className\",\"fas fa-exclamation-triangle\"],[\"tagName\",\"i\"],[\"color\",\"white\"]]}]]},{\"type\":\"map\",\"entries\":[[\"type\",\"info\"],[\"background\",\"#007bff\"],[\"icon\",{\"type\":\"map\",\"entries\":[[\"className\",\"fas fa-info-circle\"],[\"tagName\",\"i\"],[\"color\",\"white\"]]}]]}]}]},{\"type\":\"model\",\"name\":\"Notification\",\"properties\":[{\"name\":\"background\",\"kind\":\"Any\",\"default\":null},{\"name\":\"duration\",\"kind\":\"Any\",\"default\":3000},{\"name\":\"icon\",\"kind\":\"Any\",\"default\":null},{\"name\":\"message\",\"kind\":\"Any\",\"default\":\"\"},{\"name\":\"notification_type\",\"kind\":\"Any\",\"default\":null},{\"name\":\"_destroyed\",\"kind\":\"Any\",\"default\":false}]},{\"type\":\"model\",\"name\":\"TemplateActions1\",\"properties\":[{\"name\":\"open_modal\",\"kind\":\"Any\",\"default\":0},{\"name\":\"close_modal\",\"kind\":\"Any\",\"default\":0}]},{\"type\":\"model\",\"name\":\"BootstrapTemplateActions1\",\"properties\":[{\"name\":\"open_modal\",\"kind\":\"Any\",\"default\":0},{\"name\":\"close_modal\",\"kind\":\"Any\",\"default\":0}]},{\"type\":\"model\",\"name\":\"TemplateEditor1\",\"properties\":[{\"name\":\"layout\",\"kind\":\"Any\",\"default\":[]}]},{\"type\":\"model\",\"name\":\"MaterialTemplateActions1\",\"properties\":[{\"name\":\"open_modal\",\"kind\":\"Any\",\"default\":0},{\"name\":\"close_modal\",\"kind\":\"Any\",\"default\":0}]},{\"type\":\"model\",\"name\":\"copy_to_clipboard1\",\"properties\":[{\"name\":\"fill\",\"kind\":\"Any\",\"default\":\"none\"},{\"name\":\"value\",\"kind\":\"Any\",\"default\":null}]}]}};\n",
       "  var render_items = [{\"docid\":\"09cbe162-7882-490b-853f-5b6cb0880f5e\",\"roots\":{\"p13376\":\"a8b5c525-55a5-4494-86ca-ee51d041b524\"},\"root_ids\":[\"p13376\"]}];\n",
       "  var docs = Object.values(docs_json)\n",
       "  if (!docs) {\n",
       "    return\n",
       "  }\n",
       "  const py_version = docs[0].version.replace('rc', '-rc.').replace('.dev', '-dev.')\n",
       "  async function embed_document(root) {\n",
       "    var Bokeh = get_bokeh(root)\n",
       "    await Bokeh.embed.embed_items_notebook(docs_json, render_items);\n",
       "    for (const render_item of render_items) {\n",
       "      for (const root_id of render_item.root_ids) {\n",
       "\tconst id_el = document.getElementById(root_id)\n",
       "\tif (id_el.children.length && id_el.children[0].hasAttribute('data-root-id')) {\n",
       "\t  const root_el = id_el.children[0]\n",
       "\t  root_el.id = root_el.id + '-rendered'\n",
       "\t  for (const child of root_el.children) {\n",
       "            // Ensure JupyterLab does not capture keyboard shortcuts\n",
       "            // see: https://jupyterlab.readthedocs.io/en/4.1.x/extension/notebook.html#keyboard-interaction-model\n",
       "\t    child.setAttribute('data-lm-suppress-shortcuts', 'true')\n",
       "\t  }\n",
       "\t}\n",
       "      }\n",
       "    }\n",
       "  }\n",
       "  function get_bokeh(root) {\n",
       "    if (root.Bokeh === undefined) {\n",
       "      return null\n",
       "    } else if (root.Bokeh.version !== py_version) {\n",
       "      if (root.Bokeh.versions === undefined || !root.Bokeh.versions.has(py_version)) {\n",
       "\treturn null\n",
       "      }\n",
       "      return root.Bokeh.versions.get(py_version);\n",
       "    } else if (root.Bokeh.version === py_version) {\n",
       "      return root.Bokeh\n",
       "    }\n",
       "    return null\n",
       "  }\n",
       "  function is_loaded(root) {\n",
       "    var Bokeh = get_bokeh(root)\n",
       "    return (Bokeh != null && Bokeh.Panel !== undefined)\n",
       "  }\n",
       "  if (is_loaded(root)) {\n",
       "    embed_document(root);\n",
       "  } else {\n",
       "    var attempts = 0;\n",
       "    var timer = setInterval(function(root) {\n",
       "      if (is_loaded(root)) {\n",
       "        clearInterval(timer);\n",
       "        embed_document(root);\n",
       "      } else if (document.readyState == \"complete\") {\n",
       "        attempts++;\n",
       "        if (attempts > 200) {\n",
       "          clearInterval(timer);\n",
       "\t  var Bokeh = get_bokeh(root)\n",
       "\t  if (Bokeh == null || Bokeh.Panel == null) {\n",
       "            console.warn(\"Panel: ERROR: Unable to run Panel code because Bokeh or Panel library is missing\");\n",
       "\t  } else {\n",
       "\t    console.warn(\"Panel: WARNING: Attempting to render but not all required libraries could be resolved.\")\n",
       "\t    embed_document(root)\n",
       "\t  }\n",
       "        }\n",
       "      }\n",
       "    }, 25, root)\n",
       "  }\n",
       "})(window);</script>"
      ],
      "text/plain": [
       ":Overlay\n",
       "   .Distribution.Basic_Denoising :Distribution   [0]   (Density)\n",
       "   .Distribution.MEICA_Denoising :Distribution   [0]   (Density)\n",
       "   .VLine.I                      :VLine   [x,y]"
      ]
     },
     "execution_count": 66,
     "metadata": {
      "application/vnd.holoviews_exec.v0+json": {
       "id": "p13376"
      }
     },
     "output_type": "execute_result"
    }
   ],
   "source": [
    "pd.DataFrame(linefits.sel(input='volreg',cenmode='KILL',metric='Slope').mean(dim='pair_combo').values).hvplot.kde(label='Basic Denoising', xlabel='Slope') * \\\n",
    "pd.DataFrame(linefits.sel(input='MEICA',cenmode='KILL',metric='Slope').mean(dim='pair_combo').values).hvplot.kde(label='MEICA Denoising') * \\\n",
    "hv.VLine(1).opts(line_color='k',line_dash='dashed')"
   ]
  },
  {
   "cell_type": "code",
   "execution_count": 71,
   "id": "a09b2404-4509-471f-ad9d-7ae9deaef372",
   "metadata": {},
   "outputs": [
    {
     "data": {},
     "metadata": {},
     "output_type": "display_data"
    },
    {
     "data": {
      "application/vnd.holoviews_exec.v0+json": "",
      "text/html": [
       "<div id='p13828'>\n",
       "  <div id=\"e3cf8fa9-8da8-4d05-922e-25c47e02b95d\" data-root-id=\"p13828\" style=\"display: contents;\"></div>\n",
       "</div>\n",
       "<script type=\"application/javascript\">(function(root) {\n",
       "  var docs_json = {\"7595dde7-4567-43b2-82ef-04fa9347889c\":{\"version\":\"3.4.1\",\"title\":\"Bokeh Application\",\"roots\":[{\"type\":\"object\",\"name\":\"Row\",\"id\":\"p13828\",\"attributes\":{\"name\":\"Row68810\",\"tags\":[\"embedded\"],\"stylesheets\":[\"\\n:host(.pn-loading):before, .pn-loading:before {\\n  background-color: #c3c3c3;\\n  mask-size: auto calc(min(50%, 400px));\\n  -webkit-mask-size: auto calc(min(50%, 400px));\\n}\",{\"type\":\"object\",\"name\":\"ImportedStyleSheet\",\"id\":\"p13831\",\"attributes\":{\"url\":\"https://cdn.holoviz.org/panel/1.4.4/dist/css/loading.css\"}},{\"type\":\"object\",\"name\":\"ImportedStyleSheet\",\"id\":\"p13912\",\"attributes\":{\"url\":\"https://cdn.holoviz.org/panel/1.4.4/dist/css/listpanel.css\"}},{\"type\":\"object\",\"name\":\"ImportedStyleSheet\",\"id\":\"p13829\",\"attributes\":{\"url\":\"https://cdn.holoviz.org/panel/1.4.4/dist/bundled/theme/default.css\"}},{\"type\":\"object\",\"name\":\"ImportedStyleSheet\",\"id\":\"p13830\",\"attributes\":{\"url\":\"https://cdn.holoviz.org/panel/1.4.4/dist/bundled/theme/native.css\"}}],\"min_width\":700,\"margin\":0,\"sizing_mode\":\"stretch_width\",\"align\":\"start\",\"children\":[{\"type\":\"object\",\"name\":\"Spacer\",\"id\":\"p13832\",\"attributes\":{\"name\":\"HSpacer68816\",\"stylesheets\":[\"\\n:host(.pn-loading):before, .pn-loading:before {\\n  background-color: #c3c3c3;\\n  mask-size: auto calc(min(50%, 400px));\\n  -webkit-mask-size: auto calc(min(50%, 400px));\\n}\",{\"id\":\"p13831\"},{\"id\":\"p13829\"},{\"id\":\"p13830\"}],\"margin\":0,\"sizing_mode\":\"stretch_width\",\"align\":\"start\"}},{\"type\":\"object\",\"name\":\"Figure\",\"id\":\"p13845\",\"attributes\":{\"width\":700,\"height\":300,\"margin\":[5,10],\"sizing_mode\":\"fixed\",\"align\":\"start\",\"x_range\":{\"type\":\"object\",\"name\":\"Range1d\",\"id\":\"p13833\",\"attributes\":{\"tags\":[[[\"0\",null]],[]],\"start\":-0.0199091935099564,\"end\":0.10957665222125221,\"reset_start\":-0.0199091935099564,\"reset_end\":0.10957665222125221}},\"y_range\":{\"type\":\"object\",\"name\":\"Range1d\",\"id\":\"p13834\",\"attributes\":{\"tags\":[[[\"Density\",null]],{\"type\":\"map\",\"entries\":[[\"invert_yaxis\",false],[\"autorange\",false]]}],\"end\":31.94501138574913,\"reset_start\":0.0,\"reset_end\":31.94501138574913}},\"x_scale\":{\"type\":\"object\",\"name\":\"LinearScale\",\"id\":\"p13855\"},\"y_scale\":{\"type\":\"object\",\"name\":\"LinearScale\",\"id\":\"p13856\"},\"title\":{\"type\":\"object\",\"name\":\"Title\",\"id\":\"p13848\",\"attributes\":{\"text_color\":\"black\",\"text_font_size\":\"12pt\"}},\"renderers\":[{\"type\":\"object\",\"name\":\"GlyphRenderer\",\"id\":\"p13885\",\"attributes\":{\"name\":\"Basic Denoising\",\"data_source\":{\"type\":\"object\",\"name\":\"ColumnDataSource\",\"id\":\"p13876\",\"attributes\":{\"selected\":{\"type\":\"object\",\"name\":\"Selection\",\"id\":\"p13877\",\"attributes\":{\"indices\":[],\"line_indices\":[]}},\"selection_policy\":{\"type\":\"object\",\"name\":\"UnionRenderers\",\"id\":\"p13878\"},\"data\":{\"type\":\"map\",\"entries\":[[\"x\",{\"type\":\"ndarray\",\"array\":{\"type\":\"bytes\",\"data\":\"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\"},\"shape\":[200],\"dtype\":\"float64\",\"order\":\"little\"}],[\"y\",{\"type\":\"ndarray\",\"array\":{\"type\":\"bytes\",\"data\":\"AAAAAAAAAAAAAAAAAAAAAAAAAAAAAAAAAAAAAAAAAAAAAAAAAAAAAAAAAAAAAAAAAAAAAAAAAAAAAAAAAAAAAAAAAAAAAAAAAAAAAAAAAAAAAAAAAAAAAAAAAAAAAAAAAAAAAAAAAAAAAAAAAAAAAAAAAAAAAAAAAAAAAAAAAAAAAAAAAAAAAAAAAAAAAAAAAAAAAAAAAAAAAAAAAAAAAAAAAAAAAAAAAAAAAAAAAAAAAAAAAAAAAAAAAAAAAAAAAAAAAAAAAAAAAAAAAAAAAAAAAAAAAAAAAAAAAAAAAAAAAAAAAAAAAAAAAAAAAAAAAAAAAAAAAAAAAAAAAAAAAAAAAAAAAAAAAAAAAAAAAAAAAAAAAAAAAAAAAAAAAAAAAAAAAAAAAAAAAAAAAAAAAAAAAAAAAAAAAAAAAAAAAAAAAAAAAAAAAAAAAAAAAAAAAAAAAAAAAAAAAAAAAAAAAAAAAAAAAAAAAAAAAAAAAAAAAAAAAAAAAAAAAAAAAAAAAAAAAAAAAAAAAAAAAAAAAAAAAAAAAAAAAAAAAAAAAAAAAAAAAAAAAAAAAAAAAAAAAAAAAAAAAAAAAAAAAAAAAAAAAAAAAAAAAAAAAAAAAAAAAAAAAAAAAAAAAAAAAAAAAAAAAAAAAAAAAAAAAAAAAAAAAAAAAAAAAAAAAAAAAAAAAAAAAAAAAAAAAAAAAAAAAAAAAAAAAAAAAAAAAAAAAAAAAAAAAAAAAAAAAAAAAAAAAAAAAAAAAAAAAAAAAAAAAAAAAAAAAAAAAAAAAAAAAAAAAAAAAAAAAAAAAAAAAAAAAAAAAAAAAAAAAAAAAAAAAAAAAAAAAAAAAAAAAAAAAAAAAAAAAAAAAAAAAAAAAAAAAAAAAAAAAAAAAAAAAAAAAAAAAAAAAAAAAAAAAAAAAAAAAAAAAAAAAAAAAAAAAAAAAAAAAAAAAAAAAAAAAAAAAAAAAAAAAAAAAAAAAAAAAAAAAAAAAAAAAAAAAAAAAAAAAAAAAAAAAAAAAAAAAAAAAAAAAAAAAAAAAAAAAAAAAAAAAAAAAAAAAAAAAAAAAAAucksrEch3P1jf6vS89ok/UQBUScSfmj/sGAsgTaapP6xXUmJzObc/E6p8yOfFwz/2TLzz6q3PPyjI+dYH5tc/0tL/FKz/4D+ZFI4NztbmP5tuUhk1De0/SbtBIEWN8T/dViVsmD30P4xpyqTBavY/CVUxbPsJ+D/NCVRqxzT5P+/8FCb6H/o/kxbQy4gM+z/hKXejYzn8P2fhTMCO2/0/obGUdT8OAEDgePmUCo0BQKFxFRFncQNAnUG4NFa2BUBfi+GLwkUIQCqDH5uk9wpAxGCQ0a+YDUDfHszGm/gPQN9hPRbl/RBAwVcDarDUEUAHw9GWzZcSQGTV5fftbRNAElgeH3mEFEB3xFck0gQWQHDShg4vCxhAXg9imXihGkCQHN2T+L4dQLd67xADpiBAXvXkAfmTIkBsSOwtr5ckQPN65fbhoCZAkvZAxOKiKEBgg5oGSpYqQBKjsDpLeixALAdD+1pVLkBxBSE2KRowQPCnpYOREzFAceyioHodMkAgz2M4jzkzQD6K3inyYTRAumhbTSmJNUCuBZ7fXZ02QKqKkKcqjjdAppy06bJSOEB9TINkSO04QOE9IDnbajlA7O7v+07eOUAGzQWNj1k6QGtS1yT55jpAN8wEdSiFO0AL+cQXFiY8QOohnZ07sTxAuDUyZ98HPUBq/EFThgo9QFc1KHKlnjxA+8EzIL+zO0AIp+rcEEc6QMbyd5r+ZDhAo4RaNK4nNkBCwbjG3bIzQFmyGeDHLTFAXYw/giN5LUCp0Z5G6vUoQH4RImTh8iRAsuXG+NZ6IUCO0mH8+w4dQE1LbU7DERhA3SxUSQ/ZE0Aguie3nkQQQEhhQYt/eQpAgiH+DJpiBUAxfjXgUiwBQNU+3Ta6fvs/Dh3IE4kC9j/hrXdYYajxP/MdNRWmZew/D4RmBxvT5j9aFfrtzz3iP8LKnnLAydw/NgyaFGpB1j9bIcrwjbrQP34HwuSXSMg/bP2QdrjqwD92620YVoK2P+s4biDze6w/p9OnHGUVoT/uPvWkcF+TP0HODRbIuYQ/9CqzQmfidD+DnHRb08tjPw==\"},\"shape\":[200],\"dtype\":\"float64\",\"order\":\"little\"}]]}}},\"view\":{\"type\":\"object\",\"name\":\"CDSView\",\"id\":\"p13886\",\"attributes\":{\"filter\":{\"type\":\"object\",\"name\":\"AllIndices\",\"id\":\"p13887\"}}},\"glyph\":{\"type\":\"object\",\"name\":\"Patch\",\"id\":\"p13882\",\"attributes\":{\"tags\":[\"apply_ranges\"],\"x\":{\"type\":\"field\",\"field\":\"x\"},\"y\":{\"type\":\"field\",\"field\":\"y\"},\"fill_color\":\"#30a2da\",\"fill_alpha\":0.5,\"hatch_color\":\"#30a2da\"}},\"selection_glyph\":{\"type\":\"object\",\"name\":\"Patch\",\"id\":\"p13890\",\"attributes\":{\"tags\":[\"apply_ranges\"],\"x\":{\"type\":\"field\",\"field\":\"x\"},\"y\":{\"type\":\"field\",\"field\":\"y\"},\"fill_color\":\"#30a2da\",\"fill_alpha\":0.5,\"hatch_color\":\"#30a2da\"}},\"nonselection_glyph\":{\"type\":\"object\",\"name\":\"Patch\",\"id\":\"p13883\",\"attributes\":{\"tags\":[\"apply_ranges\"],\"x\":{\"type\":\"field\",\"field\":\"x\"},\"y\":{\"type\":\"field\",\"field\":\"y\"},\"line_alpha\":1,\"fill_color\":\"#30a2da\",\"fill_alpha\":0.5,\"hatch_color\":\"#30a2da\",\"hatch_alpha\":0.1}},\"muted_glyph\":{\"type\":\"object\",\"name\":\"Patch\",\"id\":\"p13884\",\"attributes\":{\"tags\":[\"apply_ranges\"],\"x\":{\"type\":\"field\",\"field\":\"x\"},\"y\":{\"type\":\"field\",\"field\":\"y\"},\"line_alpha\":0.2,\"fill_color\":\"#30a2da\",\"fill_alpha\":0.2,\"hatch_color\":\"#30a2da\",\"hatch_alpha\":0.2}}}},{\"type\":\"object\",\"name\":\"GlyphRenderer\",\"id\":\"p13900\",\"attributes\":{\"name\":\"MEICA Denoising\",\"data_source\":{\"type\":\"object\",\"name\":\"ColumnDataSource\",\"id\":\"p13891\",\"attributes\":{\"selected\":{\"type\":\"object\",\"name\":\"Selection\",\"id\":\"p13892\",\"attributes\":{\"indices\":[],\"line_indices\":[]}},\"selection_policy\":{\"type\":\"object\",\"name\":\"UnionRenderers\",\"id\":\"p13893\"},\"data\":{\"type\":\"map\",\"entries\":[[\"x\",{\"type\":\"ndarray\",\"array\":{\"type\":\"bytes\",\"data\":\"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\"},\"shape\":[200],\"dtype\":\"float64\",\"order\":\"little\"}],[\"y\",{\"type\":\"ndarray\",\"array\":{\"type\":\"bytes\",\"data\":\"AAAAAAAAAAAAAAAAAAAAAAAAAAAAAAAAAAAAAAAAAAAAAAAAAAAAAAAAAAAAAAAAAAAAAAAAAAAAAAAAAAAAAAAAAAAAAAAAAAAAAAAAAAAAAAAAAAAAAAAAAAAAAAAAAAAAAAAAAAAAAAAAAAAAAAAAAAAAAAAAAAAAAAAAAAAAAAAAAAAAAAAAAAAAAAAAAAAAAAAAAAAAAAAAAAAAAAAAAAAAAAAAAAAAAAAAAAAAAAAAAAAAAAAAAAAAAAAAAAAAAAAAAAAAAAAAAAAAAAAAAAAAAAAAAAAAAAAAAAAAAAAAAAAAAAAAAAAAAAAAAAAAAAAAAAAAAAAAAAAAAAAAAAAAAAAAAAAAAAAAAAAAAAAAAAAAAAAAAAAAAAAAAAAAAAAAAAAAAAAAAAAAAAAAAAAAAAAAAAAAAAAAAAAAAAAAAAAAAAAAAAAAAAAAAAAAAAAAAAAAAAAAAAAAAAAAAAAAAAAAAAAAAAAAAAAAAAAAAAAAAAAAAAAAAAAAAAAAAAAAAAAAAAAAAAAAAAAAAAAAAAAAAAAAAAAAAAAAAAAAAAAAAAAAAAAAAAAAAAAAAAAAAAAAAAAAAAAAAAAAAAAAAAAAAAAAAAAAAAAAAAAAAAAAAAAAAAAAAAAAAAAAAAAAAAAAAAAAAAAAAAAAAAAAAAAAAAAAAAAAAAAAAAAAAAAAAAAAAAAAAAAAAAAAAAAAAAAAAAAAAAAAAAAAAAAAAAAAAAAAAAAAAAAAAAAAAAAAAAAAAAAAAAAAAAAAAAAAAAAAAAAAAAAAAAAAAAAAAAAAAAAAAAAAAAAAAAAAAAAAAAAAAAAAAAAAAAAAAAAAAAAAAAAAAAAAAAAAAAAAAAAAAAAAAAAAAAAAAAAAAAAAAAAAAAAAAAAAAAAAAAAAAAAAAAAAAAAAAAAAAAAAAAAAAAAAAAAAAAAAAAAAAAAAAAAAAAAAAAAAAAAAAAAAAAAAAAAAAAAAAAAAAAAAAAAAAAAAAAAAAAAAAAAAAAAAAAAAAAAAAAAAAAAAAAAAAAAAAAAAAAAAAAAAAAAAAAAAAAAAAAAAAACoyjiOTV1hP71UFnUm03I/hor3B0YHgz+uaTzqAPORP0PVCPpRo58/NVzILz8Yqj9Ayl29MDC0P2y4efH2Y70/2269CIU1xD8GD6x1BWLKP/b5549XcdA/8MXTTnWw0z8KJL0iZcjWP3eOf8Zfmdk/oNRTSs8H3D9+n59gaP3dP/2c2rahcd8/pY5NV8A74D9TvAotRaTgP1UzSkUMIuE/M3xzhk3w4T/eIDuAekrjP/LO1ntGYuU/M+NzLc9a6D9429Rb30jsP2l3qS+fmvA/Uvg9xuCO8z+qfIsb6/n2P1usEKGwzPo/rdyMAdDu/j/5OAcp3J4BQGqbtgyPxgNAIw+Cn8zUBUBeowwJO68HQN3BUbapPwlAEgx/S2R6CkD7Udm4pmQLQEY2n2X2GAxAxXKO+hHHDEBxSEFoRa4NQDoWvynzEg9AHGFZCgSZEEDwSobu2hoSQARSFhH6FhRABXA8x+GGFkA+DM+xmFYZQHNJvSwAaBxAgeTN+XCYH0ALXSKoE2QhQAMveKgM8SJANDdVFvpwJECqYH9p8eolQG/DlihibSdAbbsDgaoJKUCOa5bqZ84qQM8sPZtvwixAhAEW8FTiLkDEYvnbxpAwQJ83GABptzFAcXsmQ+7cMkBIzci0/PszQOMbwlOxEjVAjayKYo0hNkDksyGUaSk3QB324Z6fKThAFXUnqjMfOUDLOG262gQ6QC/215QE0zpA6uCs4Ct/O0BaepeFmfo7QIVY/RfPMTxA/zlAGBMOPEAL5GS1wHk7QK2aEttsZjpAewtt1pzSOEDzkK24jcw2QOug7M6jcDRAv5y8CvnjMUCaWoXMQ5ouQOl+JCGImylAN8XJKqf9JEA3qU/HoN8gQOBJkfphoBpA9C4rPcejFEBzdX4jgXoPQBKn3rabqAdAEMR5c+2PAUBDTx+CFMv5P0Qthv6xvPI/zK5P64Pc6j820276c+biPwz4mdi+69k/jokEUhkv0T8Eu/msCdvFP1gfL6Gte7o/MV+rVhtnrj/YUWffH3agP3Q/OBdawpA/aMUD4G8AgD/si9js55psPw==\"},\"shape\":[200],\"dtype\":\"float64\",\"order\":\"little\"}]]}}},\"view\":{\"type\":\"object\",\"name\":\"CDSView\",\"id\":\"p13901\",\"attributes\":{\"filter\":{\"type\":\"object\",\"name\":\"AllIndices\",\"id\":\"p13902\"}}},\"glyph\":{\"type\":\"object\",\"name\":\"Patch\",\"id\":\"p13897\",\"attributes\":{\"tags\":[\"apply_ranges\"],\"x\":{\"type\":\"field\",\"field\":\"x\"},\"y\":{\"type\":\"field\",\"field\":\"y\"},\"fill_color\":\"#fc4f30\",\"fill_alpha\":0.5,\"hatch_color\":\"#fc4f30\"}},\"selection_glyph\":{\"type\":\"object\",\"name\":\"Patch\",\"id\":\"p13904\",\"attributes\":{\"tags\":[\"apply_ranges\"],\"x\":{\"type\":\"field\",\"field\":\"x\"},\"y\":{\"type\":\"field\",\"field\":\"y\"},\"fill_color\":\"#fc4f30\",\"fill_alpha\":0.5,\"hatch_color\":\"#fc4f30\"}},\"nonselection_glyph\":{\"type\":\"object\",\"name\":\"Patch\",\"id\":\"p13898\",\"attributes\":{\"tags\":[\"apply_ranges\"],\"x\":{\"type\":\"field\",\"field\":\"x\"},\"y\":{\"type\":\"field\",\"field\":\"y\"},\"line_alpha\":1,\"fill_color\":\"#fc4f30\",\"fill_alpha\":0.5,\"hatch_color\":\"#fc4f30\",\"hatch_alpha\":0.1}},\"muted_glyph\":{\"type\":\"object\",\"name\":\"Patch\",\"id\":\"p13899\",\"attributes\":{\"tags\":[\"apply_ranges\"],\"x\":{\"type\":\"field\",\"field\":\"x\"},\"y\":{\"type\":\"field\",\"field\":\"y\"},\"line_alpha\":0.2,\"fill_color\":\"#fc4f30\",\"fill_alpha\":0.2,\"hatch_color\":\"#fc4f30\",\"hatch_alpha\":0.2}}}},{\"type\":\"object\",\"name\":\"Span\",\"id\":\"p13908\",\"attributes\":{\"level\":\"glyph\",\"location\":0,\"dimension\":\"height\",\"line_color\":\"#000000\",\"line_width\":3,\"line_dash\":[6]}}],\"toolbar\":{\"type\":\"object\",\"name\":\"Toolbar\",\"id\":\"p13854\",\"attributes\":{\"tools\":[{\"type\":\"object\",\"name\":\"WheelZoomTool\",\"id\":\"p13838\",\"attributes\":{\"tags\":[\"hv_created\"],\"renderers\":\"auto\",\"zoom_together\":\"none\"}},{\"type\":\"object\",\"name\":\"HoverTool\",\"id\":\"p13839\",\"attributes\":{\"tags\":[\"hv_created\"],\"renderers\":[{\"id\":\"p13885\"},{\"id\":\"p13900\"}],\"tooltips\":[[\"0\",\"@{A_0}\"],[\"Density\",\"@{A_0_density}\"]]}},{\"type\":\"object\",\"name\":\"SaveTool\",\"id\":\"p13867\"},{\"type\":\"object\",\"name\":\"PanTool\",\"id\":\"p13868\"},{\"type\":\"object\",\"name\":\"BoxZoomTool\",\"id\":\"p13869\",\"attributes\":{\"overlay\":{\"type\":\"object\",\"name\":\"BoxAnnotation\",\"id\":\"p13870\",\"attributes\":{\"syncable\":false,\"level\":\"overlay\",\"visible\":false,\"left\":{\"type\":\"number\",\"value\":\"nan\"},\"right\":{\"type\":\"number\",\"value\":\"nan\"},\"top\":{\"type\":\"number\",\"value\":\"nan\"},\"bottom\":{\"type\":\"number\",\"value\":\"nan\"},\"left_units\":\"canvas\",\"right_units\":\"canvas\",\"top_units\":\"canvas\",\"bottom_units\":\"canvas\",\"line_color\":\"black\",\"line_alpha\":1.0,\"line_width\":2,\"line_dash\":[4,4],\"fill_color\":\"lightgrey\",\"fill_alpha\":0.5}}}},{\"type\":\"object\",\"name\":\"ResetTool\",\"id\":\"p13875\"}],\"active_drag\":{\"id\":\"p13868\"},\"active_scroll\":{\"id\":\"p13838\"}}},\"left\":[{\"type\":\"object\",\"name\":\"LinearAxis\",\"id\":\"p13862\",\"attributes\":{\"ticker\":{\"type\":\"object\",\"name\":\"BasicTicker\",\"id\":\"p13863\",\"attributes\":{\"mantissas\":[1,2,5]}},\"formatter\":{\"type\":\"object\",\"name\":\"BasicTickFormatter\",\"id\":\"p13864\"},\"axis_label\":\"Density\",\"major_label_policy\":{\"type\":\"object\",\"name\":\"AllLabels\",\"id\":\"p13865\"}}}],\"below\":[{\"type\":\"object\",\"name\":\"LinearAxis\",\"id\":\"p13857\",\"attributes\":{\"ticker\":{\"type\":\"object\",\"name\":\"BasicTicker\",\"id\":\"p13858\",\"attributes\":{\"mantissas\":[1,2,5]}},\"formatter\":{\"type\":\"object\",\"name\":\"BasicTickFormatter\",\"id\":\"p13859\"},\"axis_label\":\"Intercept\",\"major_label_policy\":{\"type\":\"object\",\"name\":\"AllLabels\",\"id\":\"p13860\"}}}],\"center\":[{\"type\":\"object\",\"name\":\"Grid\",\"id\":\"p13861\",\"attributes\":{\"axis\":{\"id\":\"p13857\"},\"grid_line_color\":null}},{\"type\":\"object\",\"name\":\"Grid\",\"id\":\"p13866\",\"attributes\":{\"dimension\":1,\"axis\":{\"id\":\"p13862\"},\"grid_line_color\":null}},{\"type\":\"object\",\"name\":\"Legend\",\"id\":\"p13888\",\"attributes\":{\"click_policy\":\"mute\",\"items\":[{\"type\":\"object\",\"name\":\"LegendItem\",\"id\":\"p13889\",\"attributes\":{\"label\":{\"type\":\"value\",\"value\":\"Basic Denoising\"},\"renderers\":[{\"id\":\"p13885\"}]}},{\"type\":\"object\",\"name\":\"LegendItem\",\"id\":\"p13903\",\"attributes\":{\"label\":{\"type\":\"value\",\"value\":\"MEICA Denoising\"},\"renderers\":[{\"id\":\"p13900\"}]}}]}}],\"min_border_top\":10,\"min_border_bottom\":10,\"min_border_left\":10,\"min_border_right\":10,\"output_backend\":\"webgl\"}},{\"type\":\"object\",\"name\":\"Spacer\",\"id\":\"p13910\",\"attributes\":{\"name\":\"HSpacer68817\",\"stylesheets\":[\"\\n:host(.pn-loading):before, .pn-loading:before {\\n  background-color: #c3c3c3;\\n  mask-size: auto calc(min(50%, 400px));\\n  -webkit-mask-size: auto calc(min(50%, 400px));\\n}\",{\"id\":\"p13831\"},{\"id\":\"p13829\"},{\"id\":\"p13830\"}],\"margin\":0,\"sizing_mode\":\"stretch_width\",\"align\":\"start\"}}]}}],\"defs\":[{\"type\":\"model\",\"name\":\"ReactiveHTML1\"},{\"type\":\"model\",\"name\":\"FlexBox1\",\"properties\":[{\"name\":\"align_content\",\"kind\":\"Any\",\"default\":\"flex-start\"},{\"name\":\"align_items\",\"kind\":\"Any\",\"default\":\"flex-start\"},{\"name\":\"flex_direction\",\"kind\":\"Any\",\"default\":\"row\"},{\"name\":\"flex_wrap\",\"kind\":\"Any\",\"default\":\"wrap\"},{\"name\":\"gap\",\"kind\":\"Any\",\"default\":\"\"},{\"name\":\"justify_content\",\"kind\":\"Any\",\"default\":\"flex-start\"}]},{\"type\":\"model\",\"name\":\"FloatPanel1\",\"properties\":[{\"name\":\"config\",\"kind\":\"Any\",\"default\":{\"type\":\"map\"}},{\"name\":\"contained\",\"kind\":\"Any\",\"default\":true},{\"name\":\"position\",\"kind\":\"Any\",\"default\":\"right-top\"},{\"name\":\"offsetx\",\"kind\":\"Any\",\"default\":null},{\"name\":\"offsety\",\"kind\":\"Any\",\"default\":null},{\"name\":\"theme\",\"kind\":\"Any\",\"default\":\"primary\"},{\"name\":\"status\",\"kind\":\"Any\",\"default\":\"normalized\"}]},{\"type\":\"model\",\"name\":\"GridStack1\",\"properties\":[{\"name\":\"mode\",\"kind\":\"Any\",\"default\":\"warn\"},{\"name\":\"ncols\",\"kind\":\"Any\",\"default\":null},{\"name\":\"nrows\",\"kind\":\"Any\",\"default\":null},{\"name\":\"allow_resize\",\"kind\":\"Any\",\"default\":true},{\"name\":\"allow_drag\",\"kind\":\"Any\",\"default\":true},{\"name\":\"state\",\"kind\":\"Any\",\"default\":[]}]},{\"type\":\"model\",\"name\":\"drag1\",\"properties\":[{\"name\":\"slider_width\",\"kind\":\"Any\",\"default\":5},{\"name\":\"slider_color\",\"kind\":\"Any\",\"default\":\"black\"},{\"name\":\"value\",\"kind\":\"Any\",\"default\":50}]},{\"type\":\"model\",\"name\":\"click1\",\"properties\":[{\"name\":\"terminal_output\",\"kind\":\"Any\",\"default\":\"\"},{\"name\":\"debug_name\",\"kind\":\"Any\",\"default\":\"\"},{\"name\":\"clears\",\"kind\":\"Any\",\"default\":0}]},{\"type\":\"model\",\"name\":\"FastWrapper1\",\"properties\":[{\"name\":\"object\",\"kind\":\"Any\",\"default\":null},{\"name\":\"style\",\"kind\":\"Any\",\"default\":null}]},{\"type\":\"model\",\"name\":\"NotificationAreaBase1\",\"properties\":[{\"name\":\"js_events\",\"kind\":\"Any\",\"default\":{\"type\":\"map\"}},{\"name\":\"position\",\"kind\":\"Any\",\"default\":\"bottom-right\"},{\"name\":\"_clear\",\"kind\":\"Any\",\"default\":0}]},{\"type\":\"model\",\"name\":\"NotificationArea1\",\"properties\":[{\"name\":\"js_events\",\"kind\":\"Any\",\"default\":{\"type\":\"map\"}},{\"name\":\"notifications\",\"kind\":\"Any\",\"default\":[]},{\"name\":\"position\",\"kind\":\"Any\",\"default\":\"bottom-right\"},{\"name\":\"_clear\",\"kind\":\"Any\",\"default\":0},{\"name\":\"types\",\"kind\":\"Any\",\"default\":[{\"type\":\"map\",\"entries\":[[\"type\",\"warning\"],[\"background\",\"#ffc107\"],[\"icon\",{\"type\":\"map\",\"entries\":[[\"className\",\"fas fa-exclamation-triangle\"],[\"tagName\",\"i\"],[\"color\",\"white\"]]}]]},{\"type\":\"map\",\"entries\":[[\"type\",\"info\"],[\"background\",\"#007bff\"],[\"icon\",{\"type\":\"map\",\"entries\":[[\"className\",\"fas fa-info-circle\"],[\"tagName\",\"i\"],[\"color\",\"white\"]]}]]}]}]},{\"type\":\"model\",\"name\":\"Notification\",\"properties\":[{\"name\":\"background\",\"kind\":\"Any\",\"default\":null},{\"name\":\"duration\",\"kind\":\"Any\",\"default\":3000},{\"name\":\"icon\",\"kind\":\"Any\",\"default\":null},{\"name\":\"message\",\"kind\":\"Any\",\"default\":\"\"},{\"name\":\"notification_type\",\"kind\":\"Any\",\"default\":null},{\"name\":\"_destroyed\",\"kind\":\"Any\",\"default\":false}]},{\"type\":\"model\",\"name\":\"TemplateActions1\",\"properties\":[{\"name\":\"open_modal\",\"kind\":\"Any\",\"default\":0},{\"name\":\"close_modal\",\"kind\":\"Any\",\"default\":0}]},{\"type\":\"model\",\"name\":\"BootstrapTemplateActions1\",\"properties\":[{\"name\":\"open_modal\",\"kind\":\"Any\",\"default\":0},{\"name\":\"close_modal\",\"kind\":\"Any\",\"default\":0}]},{\"type\":\"model\",\"name\":\"TemplateEditor1\",\"properties\":[{\"name\":\"layout\",\"kind\":\"Any\",\"default\":[]}]},{\"type\":\"model\",\"name\":\"MaterialTemplateActions1\",\"properties\":[{\"name\":\"open_modal\",\"kind\":\"Any\",\"default\":0},{\"name\":\"close_modal\",\"kind\":\"Any\",\"default\":0}]},{\"type\":\"model\",\"name\":\"copy_to_clipboard1\",\"properties\":[{\"name\":\"fill\",\"kind\":\"Any\",\"default\":\"none\"},{\"name\":\"value\",\"kind\":\"Any\",\"default\":null}]}]}};\n",
       "  var render_items = [{\"docid\":\"7595dde7-4567-43b2-82ef-04fa9347889c\",\"roots\":{\"p13828\":\"e3cf8fa9-8da8-4d05-922e-25c47e02b95d\"},\"root_ids\":[\"p13828\"]}];\n",
       "  var docs = Object.values(docs_json)\n",
       "  if (!docs) {\n",
       "    return\n",
       "  }\n",
       "  const py_version = docs[0].version.replace('rc', '-rc.').replace('.dev', '-dev.')\n",
       "  async function embed_document(root) {\n",
       "    var Bokeh = get_bokeh(root)\n",
       "    await Bokeh.embed.embed_items_notebook(docs_json, render_items);\n",
       "    for (const render_item of render_items) {\n",
       "      for (const root_id of render_item.root_ids) {\n",
       "\tconst id_el = document.getElementById(root_id)\n",
       "\tif (id_el.children.length && id_el.children[0].hasAttribute('data-root-id')) {\n",
       "\t  const root_el = id_el.children[0]\n",
       "\t  root_el.id = root_el.id + '-rendered'\n",
       "\t  for (const child of root_el.children) {\n",
       "            // Ensure JupyterLab does not capture keyboard shortcuts\n",
       "            // see: https://jupyterlab.readthedocs.io/en/4.1.x/extension/notebook.html#keyboard-interaction-model\n",
       "\t    child.setAttribute('data-lm-suppress-shortcuts', 'true')\n",
       "\t  }\n",
       "\t}\n",
       "      }\n",
       "    }\n",
       "  }\n",
       "  function get_bokeh(root) {\n",
       "    if (root.Bokeh === undefined) {\n",
       "      return null\n",
       "    } else if (root.Bokeh.version !== py_version) {\n",
       "      if (root.Bokeh.versions === undefined || !root.Bokeh.versions.has(py_version)) {\n",
       "\treturn null\n",
       "      }\n",
       "      return root.Bokeh.versions.get(py_version);\n",
       "    } else if (root.Bokeh.version === py_version) {\n",
       "      return root.Bokeh\n",
       "    }\n",
       "    return null\n",
       "  }\n",
       "  function is_loaded(root) {\n",
       "    var Bokeh = get_bokeh(root)\n",
       "    return (Bokeh != null && Bokeh.Panel !== undefined)\n",
       "  }\n",
       "  if (is_loaded(root)) {\n",
       "    embed_document(root);\n",
       "  } else {\n",
       "    var attempts = 0;\n",
       "    var timer = setInterval(function(root) {\n",
       "      if (is_loaded(root)) {\n",
       "        clearInterval(timer);\n",
       "        embed_document(root);\n",
       "      } else if (document.readyState == \"complete\") {\n",
       "        attempts++;\n",
       "        if (attempts > 200) {\n",
       "          clearInterval(timer);\n",
       "\t  var Bokeh = get_bokeh(root)\n",
       "\t  if (Bokeh == null || Bokeh.Panel == null) {\n",
       "            console.warn(\"Panel: ERROR: Unable to run Panel code because Bokeh or Panel library is missing\");\n",
       "\t  } else {\n",
       "\t    console.warn(\"Panel: WARNING: Attempting to render but not all required libraries could be resolved.\")\n",
       "\t    embed_document(root)\n",
       "\t  }\n",
       "        }\n",
       "      }\n",
       "    }, 25, root)\n",
       "  }\n",
       "})(window);</script>"
      ],
      "text/plain": [
       ":Overlay\n",
       "   .Distribution.Basic_Denoising :Distribution   [0]   (Density)\n",
       "   .Distribution.MEICA_Denoising :Distribution   [0]   (Density)\n",
       "   .VLine.I                      :VLine   [x,y]"
      ]
     },
     "execution_count": 71,
     "metadata": {
      "application/vnd.holoviews_exec.v0+json": {
       "id": "p13828"
      }
     },
     "output_type": "execute_result"
    }
   ],
   "source": [
    "pd.DataFrame(linefits.sel(input='volreg',cenmode='KILL',metric='Intercept').mean(dim='pair_combo').values).hvplot.kde(label='Basic Denoising', xlabel='Intercept') * \\\n",
    "pd.DataFrame(linefits.sel(input='MEICA',cenmode='KILL',metric='Intercept').mean(dim='pair_combo').values).hvplot.kde(label='MEICA Denoising') * \\\n",
    "hv.VLine(0).opts(line_color='k',line_dash='dashed')"
   ]
  },
  {
   "cell_type": "code",
   "execution_count": 13,
   "id": "91dbfc6b-df53-48e4-8f00-150bf3316dc0",
   "metadata": {},
   "outputs": [],
   "source": [
    "scan_select    = pn.widgets.Select(name='Scan', options=['|'.join([sbj,ses]) for (sbj,ses) in dataset_scan_list],width=150)\n",
    "input_select   = pn.widgets.Select(name='Input', options=input_types,width=150)\n",
    "cenmode_select = pn.widgets.Select(name='Input', options=cenmodes,width=150)\n",
    "fcsel_card     = pn.Card(scan_select, input_select, cenmode_select, title='FC Selection')\n",
    "echo_pair_x_select = pn.widgets.Select(name='Echo Pair 1',options=echo_pairs,width=150, value=echo_pairs[0])\n",
    "echo_pair_y_select = pn.widgets.Select(name='Echo Pair 2',options=echo_pairs,width=150, value=echo_pairs[1])\n",
    "echo_pair_card = pn.Card(echo_pair_x_select, echo_pair_y_select, title='Scatter Selection')"
   ]
  },
  {
   "cell_type": "code",
   "execution_count": 14,
   "id": "85179d7a-fcd6-4fa5-a4eb-76b39db7a6c9",
   "metadata": {},
   "outputs": [],
   "source": [
    "@pn.depends(scan_select,input_select,cenmode_select)\n",
    "def plot_fc_all_pairs(scan,input,cenmode):\n",
    "    out = pn.GridBox(ncols=3)\n",
    "    for (e_x,e_y) in echo_pairs_tuples:\n",
    "        this_fc    = fc.sel(scan=scan,input=input,cenmode=cenmode,pair='|'.join([e_x,e_y]))\n",
    "        this_fc_df = pd.DataFrame(this_fc.values,\n",
    "                                  index=roi_info_df.set_index(['ROI_Name','ROI_ID','Hemisphere','Network','RGB']).index,\n",
    "                                  columns=roi_info_df.set_index(['ROI_Name','ROI_ID','Hemisphere','Network','RGB']).index)\n",
    "        this_fc_plot = hvplot_fc(this_fc_df,major_label_overrides='regular_grid',cmap='RdBu_r', by='Network', add_labels=False, colorbar_position='left', net_cmap=nw_color_dict).opts(title=e_x+' vs. '+e_y)\n",
    "        out.append(this_fc_plot)\n",
    "    return out"
   ]
  },
  {
   "cell_type": "code",
   "execution_count": 15,
   "id": "3b7ca9ab-0cd9-456e-b358-2d0f17243390",
   "metadata": {},
   "outputs": [],
   "source": [
    "@pn.depends(scan_select,input_select,cenmode_select,echo_pair_x_select,echo_pair_y_select)\n",
    "def plot_fc_scatters(scan,input,cenmode,ep_x,ep_y):\n",
    "    this_fc_px = sym_matrix_to_vec(fc.sel(scan=scan,input=input,cenmode=cenmode,pair=ep_x).values,discard_diagonal=True)\n",
    "    this_fc_py = sym_matrix_to_vec(fc.sel(scan=scan,input=input,cenmode=cenmode,pair=ep_y).values,discard_diagonal=True)\n",
    "    data = pd.DataFrame(np.vstack([this_fc_px,this_fc_py]).T,columns = [ep_x,ep_y])\n",
    "    slope,intercept,R,p_val,_ = linregress(data)\n",
    "    \n",
    "    plot = data.hvplot.scatter(x=ep_x,y=ep_y,aspect='square',datashade=True, frame_width=400,xlim=(-1,1),ylim=(-1,1),color='black',fontsize={'labels':16})\n",
    "    plot = plot * hv.Slope(1,0).opts(line_dash='dashed', line_color='gray', line_width=1)\n",
    "    plot = plot * hv.Slope(slope,intercept).opts(line_color='blue', line_width=1)\n",
    "    info_text = 'y=%.2f+%.2f*x | R2=%.2f' % (intercept,slope,np.power(R,2))\n",
    "    plot = plot * hv.Text(0,.8, info_text)\n",
    "    return plot"
   ]
  },
  {
   "cell_type": "code",
   "execution_count": 16,
   "id": "3e6382e4-654d-4f16-b735-04487afe1885",
   "metadata": {},
   "outputs": [
    {
     "name": "stdout",
     "output_type": "stream",
     "text": [
      "Launching server at http://localhost:44177\n"
     ]
    },
    {
     "name": "stderr",
     "output_type": "stream",
     "text": [
      "WARNING:bokeh.core.validation.check:W-1005 (FIXED_SIZING_MODE): 'fixed' sizing mode requires width and height to be set: figure(id='p2806', ...)\n",
      "WARNING:bokeh.core.validation.check:W-1005 (FIXED_SIZING_MODE): 'fixed' sizing mode requires width and height to be set: figure(id='p2286', ...)\n",
      "WARNING:bokeh.core.validation.check:W-1005 (FIXED_SIZING_MODE): 'fixed' sizing mode requires width and height to be set: figure(id='p1704', ...)\n",
      "WARNING:bokeh.core.validation.check:W-1005 (FIXED_SIZING_MODE): 'fixed' sizing mode requires width and height to be set: figure(id='p1995', ...)\n",
      "WARNING:bokeh.core.validation.check:W-1005 (FIXED_SIZING_MODE): 'fixed' sizing mode requires width and height to be set: Column(id='p2793', ...)\n",
      "WARNING:bokeh.core.validation.check:W-1005 (FIXED_SIZING_MODE): 'fixed' sizing mode requires width and height to be set: figure(id='p1122', ...)\n",
      "WARNING:bokeh.core.validation.check:W-1005 (FIXED_SIZING_MODE): 'fixed' sizing mode requires width and height to be set: figure(id='p1413', ...)\n",
      "WARNING:bokeh.core.validation.check:W-1005 (FIXED_SIZING_MODE): 'fixed' sizing mode requires width and height to be set: figure(id='p2577', ...)\n"
     ]
    }
   ],
   "source": [
    "dashboard = pn.Row(pn.Column(fcsel_card,echo_pair_card),plot_fc_all_pairs,plot_fc_scatters).show(port=port_tunnel,open=False)"
   ]
  },
  {
   "cell_type": "code",
   "execution_count": 20,
   "id": "faf13baa-79ff-4400-a395-3cbf69d435b2",
   "metadata": {},
   "outputs": [],
   "source": [
    "dashboard.stop()"
   ]
  },
  {
   "cell_type": "markdown",
   "id": "0975a1b2-c961-404a-b15d-00a7c59f3404",
   "metadata": {},
   "source": [
    "# 3. Load Mean Motion Framewise Displacement\n",
    "\n",
    "According to [Power et al. \"Spurious but systematic correlations in functional connectivity MRI networks arise from subject motion\"](https://www.sciencedirect.com/science/article/pii/S1053811911011815)\n",
    "\n",
    "#### Framewise displacement (FD) calculations\n",
    "\n",
    "\"Differentiating head realignment parameters across frames yields a six dimensional timeseries that represents instantaneous head motion. To express instantaneous head motion as a scalar quantity we used the empirical formula, FDi = |Δdix| + |Δdiy| + |Δdiz| + |Δαi| + |Δβi| + |Δγi|, where Δdix = d(i − 1)x − dix, and similarly for the other rigid body parameters [dix diy diz αi βi γi]. Rotational displacements were converted from degrees to millimeters by calculating displacement on the surface of a sphere of radius 50 mm, which is approximately the mean distance from the cerebral cortex to the center of the head.\""
   ]
  },
  {
   "cell_type": "code",
   "execution_count": 16,
   "id": "148e63ac-5f90-423b-9948-4e21054cc35a",
   "metadata": {},
   "outputs": [
    {
     "name": "stderr",
     "output_type": "stream",
     "text": [
      "100%|███████████████████████████████████████████████████████████████████████████████████████████████████████████████████████████████████████████████████████████████████████████████████████████████████████████████████████████████| 434/434 [00:01<00:00, 401.59it/s]\n"
     ]
    }
   ],
   "source": [
    "#mot_mean_fd = np.empty((Nscans,Ncons))\n",
    "mot_mean_fd_DF = pd.DataFrame(index=dataset_info_df.index,columns=['Mean FD'])\n",
    "for i,(sbj,ses) in enumerate(tqdm(dataset_scan_list)):\n",
    "    mot_path = osp.join(PRCS_DATA_DIR,sbj,f'D02_Preproc_fMRI_{ses}','dfile.r01.1D')\n",
    "    # Load the motion parameters\n",
    "    motion_params = np.loadtxt(mot_path)\n",
    "    # Calculate the differences between consecutive time points\n",
    "    diffs = np.diff(motion_params, axis=0)\n",
    "    # Optionally convert rotational parameters (in radians) to mm (assuming a brain radius of 50 mm)\n",
    "    brain_radius = 0.050  # in mm\n",
    "    diffs[:, 3:] *= brain_radius\n",
    "    # Compute framewise displacement (FD)\n",
    "    FD = np.sum(np.abs(diffs), axis=1)\n",
    "    # Pad with 0 for the first time point (no preceding frame to compare with)\n",
    "    #FD = np.insert(FD, 0, 0)\n",
    "    mot_mean_fd_DF.loc[(sbj,ses)] = FD.mean()\n",
    "mot_mean_fd_DF = mot_mean_fd_DF.infer_objects()"
   ]
  },
  {
   "cell_type": "code",
   "execution_count": 19,
   "id": "360cddb3-12a6-4ad1-accd-b06a92708d47",
   "metadata": {},
   "outputs": [
    {
     "data": {
      "text/html": [
       "<div>\n",
       "<style scoped>\n",
       "    .dataframe tbody tr th:only-of-type {\n",
       "        vertical-align: middle;\n",
       "    }\n",
       "\n",
       "    .dataframe tbody tr th {\n",
       "        vertical-align: top;\n",
       "    }\n",
       "\n",
       "    .dataframe thead th {\n",
       "        text-align: right;\n",
       "    }\n",
       "</style>\n",
       "<table border=\"1\" class=\"dataframe\">\n",
       "  <thead>\n",
       "    <tr style=\"text-align: right;\">\n",
       "      <th></th>\n",
       "      <th></th>\n",
       "      <th>Mean FD</th>\n",
       "    </tr>\n",
       "    <tr>\n",
       "      <th>Subject</th>\n",
       "      <th>Session</th>\n",
       "      <th></th>\n",
       "    </tr>\n",
       "  </thead>\n",
       "  <tbody>\n",
       "    <tr>\n",
       "      <th>sub-23</th>\n",
       "      <th>ses-2</th>\n",
       "      <td>0.018982</td>\n",
       "    </tr>\n",
       "    <tr>\n",
       "      <th>sub-31</th>\n",
       "      <th>ses-1</th>\n",
       "      <td>0.020011</td>\n",
       "    </tr>\n",
       "    <tr>\n",
       "      <th>sub-161</th>\n",
       "      <th>ses-1</th>\n",
       "      <td>0.020052</td>\n",
       "    </tr>\n",
       "    <tr>\n",
       "      <th>sub-85</th>\n",
       "      <th>ses-2</th>\n",
       "      <td>0.020166</td>\n",
       "    </tr>\n",
       "    <tr>\n",
       "      <th>sub-119</th>\n",
       "      <th>ses-2</th>\n",
       "      <td>0.020545</td>\n",
       "    </tr>\n",
       "    <tr>\n",
       "      <th>...</th>\n",
       "      <th>...</th>\n",
       "      <td>...</td>\n",
       "    </tr>\n",
       "    <tr>\n",
       "      <th>sub-116</th>\n",
       "      <th>ses-2</th>\n",
       "      <td>0.163135</td>\n",
       "    </tr>\n",
       "    <tr>\n",
       "      <th>sub-235</th>\n",
       "      <th>ses-1</th>\n",
       "      <td>0.171634</td>\n",
       "    </tr>\n",
       "    <tr>\n",
       "      <th>sub-144</th>\n",
       "      <th>ses-2</th>\n",
       "      <td>0.191574</td>\n",
       "    </tr>\n",
       "    <tr>\n",
       "      <th>sub-101</th>\n",
       "      <th>ses-2</th>\n",
       "      <td>0.204374</td>\n",
       "    </tr>\n",
       "    <tr>\n",
       "      <th>sub-235</th>\n",
       "      <th>ses-2</th>\n",
       "      <td>0.289520</td>\n",
       "    </tr>\n",
       "  </tbody>\n",
       "</table>\n",
       "<p>434 rows × 1 columns</p>\n",
       "</div>"
      ],
      "text/plain": [
       "                  Mean FD\n",
       "Subject Session          \n",
       "sub-23  ses-2    0.018982\n",
       "sub-31  ses-1    0.020011\n",
       "sub-161 ses-1    0.020052\n",
       "sub-85  ses-2    0.020166\n",
       "sub-119 ses-2    0.020545\n",
       "...                   ...\n",
       "sub-116 ses-2    0.163135\n",
       "sub-235 ses-1    0.171634\n",
       "sub-144 ses-2    0.191574\n",
       "sub-101 ses-2    0.204374\n",
       "sub-235 ses-2    0.289520\n",
       "\n",
       "[434 rows x 1 columns]"
      ]
     },
     "execution_count": 19,
     "metadata": {},
     "output_type": "execute_result"
    }
   ],
   "source": [
    "mot_mean_fd_DF.sort_values('Mean FD')"
   ]
  }
 ],
 "metadata": {
  "kernelspec": {
   "display_name": "BOLD WAVES 2024a",
   "language": "python",
   "name": "bold_waves_2024a"
  },
  "language_info": {
   "codemirror_mode": {
    "name": "ipython",
    "version": 3
   },
   "file_extension": ".py",
   "mimetype": "text/x-python",
   "name": "python",
   "nbconvert_exporter": "python",
   "pygments_lexer": "ipython3",
   "version": "3.9.19"
  }
 },
 "nbformat": 4,
 "nbformat_minor": 5
}
