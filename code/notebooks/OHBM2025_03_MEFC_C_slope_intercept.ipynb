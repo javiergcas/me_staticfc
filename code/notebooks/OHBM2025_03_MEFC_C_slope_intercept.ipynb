{
 "cells": [
  {
   "cell_type": "markdown",
   "id": "d80ac62f-7e6b-414b-965d-318a70afdda2",
   "metadata": {},
   "source": [
    "# Description\n",
    "\n",
    "This notebook will compute C-FC across all possible echo pairs both following Basic and Advanced denoising.\n",
    "\n",
    "It will then compute linear fits for the contrast between those.\n",
    "\n",
    "Finally, it generates summary figures of how the slope and intercept adheres to the situations when BOLD or non-BOLD alone dominate the data"
   ]
  },
  {
   "cell_type": "code",
   "execution_count": 1,
   "id": "cfdcc916-5a4d-40a2-9e65-d835a71efc12",
   "metadata": {},
   "outputs": [
    {
     "data": {
      "application/javascript": [
       "(function(root) {\n",
       "  function now() {\n",
       "    return new Date();\n",
       "  }\n",
       "\n",
       "  var force = true;\n",
       "  var py_version = '3.4.1'.replace('rc', '-rc.').replace('.dev', '-dev.');\n",
       "  var reloading = false;\n",
       "  var Bokeh = root.Bokeh;\n",
       "\n",
       "  if (typeof (root._bokeh_timeout) === \"undefined\" || force) {\n",
       "    root._bokeh_timeout = Date.now() + 5000;\n",
       "    root._bokeh_failed_load = false;\n",
       "  }\n",
       "\n",
       "  function run_callbacks() {\n",
       "    try {\n",
       "      root._bokeh_onload_callbacks.forEach(function(callback) {\n",
       "        if (callback != null)\n",
       "          callback();\n",
       "      });\n",
       "    } finally {\n",
       "      delete root._bokeh_onload_callbacks;\n",
       "    }\n",
       "    console.debug(\"Bokeh: all callbacks have finished\");\n",
       "  }\n",
       "\n",
       "  function load_libs(css_urls, js_urls, js_modules, js_exports, callback) {\n",
       "    if (css_urls == null) css_urls = [];\n",
       "    if (js_urls == null) js_urls = [];\n",
       "    if (js_modules == null) js_modules = [];\n",
       "    if (js_exports == null) js_exports = {};\n",
       "\n",
       "    root._bokeh_onload_callbacks.push(callback);\n",
       "\n",
       "    if (root._bokeh_is_loading > 0) {\n",
       "      console.debug(\"Bokeh: BokehJS is being loaded, scheduling callback at\", now());\n",
       "      return null;\n",
       "    }\n",
       "    if (js_urls.length === 0 && js_modules.length === 0 && Object.keys(js_exports).length === 0) {\n",
       "      run_callbacks();\n",
       "      return null;\n",
       "    }\n",
       "    if (!reloading) {\n",
       "      console.debug(\"Bokeh: BokehJS not loaded, scheduling load and callback at\", now());\n",
       "    }\n",
       "\n",
       "    function on_load() {\n",
       "      root._bokeh_is_loading--;\n",
       "      if (root._bokeh_is_loading === 0) {\n",
       "        console.debug(\"Bokeh: all BokehJS libraries/stylesheets loaded\");\n",
       "        run_callbacks()\n",
       "      }\n",
       "    }\n",
       "    window._bokeh_on_load = on_load\n",
       "\n",
       "    function on_error() {\n",
       "      console.error(\"failed to load \" + url);\n",
       "    }\n",
       "\n",
       "    var skip = [];\n",
       "    if (window.requirejs) {\n",
       "      window.requirejs.config({'packages': {}, 'paths': {}, 'shim': {}});\n",
       "      root._bokeh_is_loading = css_urls.length + 0;\n",
       "    } else {\n",
       "      root._bokeh_is_loading = css_urls.length + js_urls.length + js_modules.length + Object.keys(js_exports).length;\n",
       "    }\n",
       "\n",
       "    var existing_stylesheets = []\n",
       "    var links = document.getElementsByTagName('link')\n",
       "    for (var i = 0; i < links.length; i++) {\n",
       "      var link = links[i]\n",
       "      if (link.href != null) {\n",
       "\texisting_stylesheets.push(link.href)\n",
       "      }\n",
       "    }\n",
       "    for (var i = 0; i < css_urls.length; i++) {\n",
       "      var url = css_urls[i];\n",
       "      if (existing_stylesheets.indexOf(url) !== -1) {\n",
       "\ton_load()\n",
       "\tcontinue;\n",
       "      }\n",
       "      const element = document.createElement(\"link\");\n",
       "      element.onload = on_load;\n",
       "      element.onerror = on_error;\n",
       "      element.rel = \"stylesheet\";\n",
       "      element.type = \"text/css\";\n",
       "      element.href = url;\n",
       "      console.debug(\"Bokeh: injecting link tag for BokehJS stylesheet: \", url);\n",
       "      document.body.appendChild(element);\n",
       "    }    var existing_scripts = []\n",
       "    var scripts = document.getElementsByTagName('script')\n",
       "    for (var i = 0; i < scripts.length; i++) {\n",
       "      var script = scripts[i]\n",
       "      if (script.src != null) {\n",
       "\texisting_scripts.push(script.src)\n",
       "      }\n",
       "    }\n",
       "    for (var i = 0; i < js_urls.length; i++) {\n",
       "      var url = js_urls[i];\n",
       "      if (skip.indexOf(url) !== -1 || existing_scripts.indexOf(url) !== -1) {\n",
       "\tif (!window.requirejs) {\n",
       "\t  on_load();\n",
       "\t}\n",
       "\tcontinue;\n",
       "      }\n",
       "      var element = document.createElement('script');\n",
       "      element.onload = on_load;\n",
       "      element.onerror = on_error;\n",
       "      element.async = false;\n",
       "      element.src = url;\n",
       "      console.debug(\"Bokeh: injecting script tag for BokehJS library: \", url);\n",
       "      document.head.appendChild(element);\n",
       "    }\n",
       "    for (var i = 0; i < js_modules.length; i++) {\n",
       "      var url = js_modules[i];\n",
       "      if (skip.indexOf(url) !== -1 || existing_scripts.indexOf(url) !== -1) {\n",
       "\tif (!window.requirejs) {\n",
       "\t  on_load();\n",
       "\t}\n",
       "\tcontinue;\n",
       "      }\n",
       "      var element = document.createElement('script');\n",
       "      element.onload = on_load;\n",
       "      element.onerror = on_error;\n",
       "      element.async = false;\n",
       "      element.src = url;\n",
       "      element.type = \"module\";\n",
       "      console.debug(\"Bokeh: injecting script tag for BokehJS library: \", url);\n",
       "      document.head.appendChild(element);\n",
       "    }\n",
       "    for (const name in js_exports) {\n",
       "      var url = js_exports[name];\n",
       "      if (skip.indexOf(url) >= 0 || root[name] != null) {\n",
       "\tif (!window.requirejs) {\n",
       "\t  on_load();\n",
       "\t}\n",
       "\tcontinue;\n",
       "      }\n",
       "      var element = document.createElement('script');\n",
       "      element.onerror = on_error;\n",
       "      element.async = false;\n",
       "      element.type = \"module\";\n",
       "      console.debug(\"Bokeh: injecting script tag for BokehJS library: \", url);\n",
       "      element.textContent = `\n",
       "      import ${name} from \"${url}\"\n",
       "      window.${name} = ${name}\n",
       "      window._bokeh_on_load()\n",
       "      `\n",
       "      document.head.appendChild(element);\n",
       "    }\n",
       "    if (!js_urls.length && !js_modules.length) {\n",
       "      on_load()\n",
       "    }\n",
       "  };\n",
       "\n",
       "  function inject_raw_css(css) {\n",
       "    const element = document.createElement(\"style\");\n",
       "    element.appendChild(document.createTextNode(css));\n",
       "    document.body.appendChild(element);\n",
       "  }\n",
       "\n",
       "  var js_urls = [\"https://cdn.bokeh.org/bokeh/release/bokeh-3.4.1.min.js\", \"https://cdn.bokeh.org/bokeh/release/bokeh-gl-3.4.1.min.js\", \"https://cdn.bokeh.org/bokeh/release/bokeh-widgets-3.4.1.min.js\", \"https://cdn.bokeh.org/bokeh/release/bokeh-tables-3.4.1.min.js\", \"https://cdn.holoviz.org/panel/1.4.4/dist/panel.min.js\"];\n",
       "  var js_modules = [];\n",
       "  var js_exports = {};\n",
       "  var css_urls = [];\n",
       "  var inline_js = [    function(Bokeh) {\n",
       "      Bokeh.set_log_level(\"info\");\n",
       "    },\n",
       "function(Bokeh) {} // ensure no trailing comma for IE\n",
       "  ];\n",
       "\n",
       "  function run_inline_js() {\n",
       "    if ((root.Bokeh !== undefined) || (force === true)) {\n",
       "      for (var i = 0; i < inline_js.length; i++) {\n",
       "\ttry {\n",
       "          inline_js[i].call(root, root.Bokeh);\n",
       "\t} catch(e) {\n",
       "\t  if (!reloading) {\n",
       "\t    throw e;\n",
       "\t  }\n",
       "\t}\n",
       "      }\n",
       "      // Cache old bokeh versions\n",
       "      if (Bokeh != undefined && !reloading) {\n",
       "\tvar NewBokeh = root.Bokeh;\n",
       "\tif (Bokeh.versions === undefined) {\n",
       "\t  Bokeh.versions = new Map();\n",
       "\t}\n",
       "\tif (NewBokeh.version !== Bokeh.version) {\n",
       "\t  Bokeh.versions.set(NewBokeh.version, NewBokeh)\n",
       "\t}\n",
       "\troot.Bokeh = Bokeh;\n",
       "      }} else if (Date.now() < root._bokeh_timeout) {\n",
       "      setTimeout(run_inline_js, 100);\n",
       "    } else if (!root._bokeh_failed_load) {\n",
       "      console.log(\"Bokeh: BokehJS failed to load within specified timeout.\");\n",
       "      root._bokeh_failed_load = true;\n",
       "    }\n",
       "    root._bokeh_is_initializing = false\n",
       "  }\n",
       "\n",
       "  function load_or_wait() {\n",
       "    // Implement a backoff loop that tries to ensure we do not load multiple\n",
       "    // versions of Bokeh and its dependencies at the same time.\n",
       "    // In recent versions we use the root._bokeh_is_initializing flag\n",
       "    // to determine whether there is an ongoing attempt to initialize\n",
       "    // bokeh, however for backward compatibility we also try to ensure\n",
       "    // that we do not start loading a newer (Panel>=1.0 and Bokeh>3) version\n",
       "    // before older versions are fully initialized.\n",
       "    if (root._bokeh_is_initializing && Date.now() > root._bokeh_timeout) {\n",
       "      root._bokeh_is_initializing = false;\n",
       "      root._bokeh_onload_callbacks = undefined;\n",
       "      console.log(\"Bokeh: BokehJS was loaded multiple times but one version failed to initialize.\");\n",
       "      load_or_wait();\n",
       "    } else if (root._bokeh_is_initializing || (typeof root._bokeh_is_initializing === \"undefined\" && root._bokeh_onload_callbacks !== undefined)) {\n",
       "      setTimeout(load_or_wait, 100);\n",
       "    } else {\n",
       "      root._bokeh_is_initializing = true\n",
       "      root._bokeh_onload_callbacks = []\n",
       "      var bokeh_loaded = Bokeh != null && (Bokeh.version === py_version || (Bokeh.versions !== undefined && Bokeh.versions.has(py_version)));\n",
       "      if (!reloading && !bokeh_loaded) {\n",
       "\troot.Bokeh = undefined;\n",
       "      }\n",
       "      load_libs(css_urls, js_urls, js_modules, js_exports, function() {\n",
       "\tconsole.debug(\"Bokeh: BokehJS plotting callback run at\", now());\n",
       "\trun_inline_js();\n",
       "      });\n",
       "    }\n",
       "  }\n",
       "  // Give older versions of the autoload script a head-start to ensure\n",
       "  // they initialize before we start loading newer version.\n",
       "  setTimeout(load_or_wait, 100)\n",
       "}(window));"
      ],
      "application/vnd.holoviews_load.v0+json": "(function(root) {\n  function now() {\n    return new Date();\n  }\n\n  var force = true;\n  var py_version = '3.4.1'.replace('rc', '-rc.').replace('.dev', '-dev.');\n  var reloading = false;\n  var Bokeh = root.Bokeh;\n\n  if (typeof (root._bokeh_timeout) === \"undefined\" || force) {\n    root._bokeh_timeout = Date.now() + 5000;\n    root._bokeh_failed_load = false;\n  }\n\n  function run_callbacks() {\n    try {\n      root._bokeh_onload_callbacks.forEach(function(callback) {\n        if (callback != null)\n          callback();\n      });\n    } finally {\n      delete root._bokeh_onload_callbacks;\n    }\n    console.debug(\"Bokeh: all callbacks have finished\");\n  }\n\n  function load_libs(css_urls, js_urls, js_modules, js_exports, callback) {\n    if (css_urls == null) css_urls = [];\n    if (js_urls == null) js_urls = [];\n    if (js_modules == null) js_modules = [];\n    if (js_exports == null) js_exports = {};\n\n    root._bokeh_onload_callbacks.push(callback);\n\n    if (root._bokeh_is_loading > 0) {\n      console.debug(\"Bokeh: BokehJS is being loaded, scheduling callback at\", now());\n      return null;\n    }\n    if (js_urls.length === 0 && js_modules.length === 0 && Object.keys(js_exports).length === 0) {\n      run_callbacks();\n      return null;\n    }\n    if (!reloading) {\n      console.debug(\"Bokeh: BokehJS not loaded, scheduling load and callback at\", now());\n    }\n\n    function on_load() {\n      root._bokeh_is_loading--;\n      if (root._bokeh_is_loading === 0) {\n        console.debug(\"Bokeh: all BokehJS libraries/stylesheets loaded\");\n        run_callbacks()\n      }\n    }\n    window._bokeh_on_load = on_load\n\n    function on_error() {\n      console.error(\"failed to load \" + url);\n    }\n\n    var skip = [];\n    if (window.requirejs) {\n      window.requirejs.config({'packages': {}, 'paths': {}, 'shim': {}});\n      root._bokeh_is_loading = css_urls.length + 0;\n    } else {\n      root._bokeh_is_loading = css_urls.length + js_urls.length + js_modules.length + Object.keys(js_exports).length;\n    }\n\n    var existing_stylesheets = []\n    var links = document.getElementsByTagName('link')\n    for (var i = 0; i < links.length; i++) {\n      var link = links[i]\n      if (link.href != null) {\n\texisting_stylesheets.push(link.href)\n      }\n    }\n    for (var i = 0; i < css_urls.length; i++) {\n      var url = css_urls[i];\n      if (existing_stylesheets.indexOf(url) !== -1) {\n\ton_load()\n\tcontinue;\n      }\n      const element = document.createElement(\"link\");\n      element.onload = on_load;\n      element.onerror = on_error;\n      element.rel = \"stylesheet\";\n      element.type = \"text/css\";\n      element.href = url;\n      console.debug(\"Bokeh: injecting link tag for BokehJS stylesheet: \", url);\n      document.body.appendChild(element);\n    }    var existing_scripts = []\n    var scripts = document.getElementsByTagName('script')\n    for (var i = 0; i < scripts.length; i++) {\n      var script = scripts[i]\n      if (script.src != null) {\n\texisting_scripts.push(script.src)\n      }\n    }\n    for (var i = 0; i < js_urls.length; i++) {\n      var url = js_urls[i];\n      if (skip.indexOf(url) !== -1 || existing_scripts.indexOf(url) !== -1) {\n\tif (!window.requirejs) {\n\t  on_load();\n\t}\n\tcontinue;\n      }\n      var element = document.createElement('script');\n      element.onload = on_load;\n      element.onerror = on_error;\n      element.async = false;\n      element.src = url;\n      console.debug(\"Bokeh: injecting script tag for BokehJS library: \", url);\n      document.head.appendChild(element);\n    }\n    for (var i = 0; i < js_modules.length; i++) {\n      var url = js_modules[i];\n      if (skip.indexOf(url) !== -1 || existing_scripts.indexOf(url) !== -1) {\n\tif (!window.requirejs) {\n\t  on_load();\n\t}\n\tcontinue;\n      }\n      var element = document.createElement('script');\n      element.onload = on_load;\n      element.onerror = on_error;\n      element.async = false;\n      element.src = url;\n      element.type = \"module\";\n      console.debug(\"Bokeh: injecting script tag for BokehJS library: \", url);\n      document.head.appendChild(element);\n    }\n    for (const name in js_exports) {\n      var url = js_exports[name];\n      if (skip.indexOf(url) >= 0 || root[name] != null) {\n\tif (!window.requirejs) {\n\t  on_load();\n\t}\n\tcontinue;\n      }\n      var element = document.createElement('script');\n      element.onerror = on_error;\n      element.async = false;\n      element.type = \"module\";\n      console.debug(\"Bokeh: injecting script tag for BokehJS library: \", url);\n      element.textContent = `\n      import ${name} from \"${url}\"\n      window.${name} = ${name}\n      window._bokeh_on_load()\n      `\n      document.head.appendChild(element);\n    }\n    if (!js_urls.length && !js_modules.length) {\n      on_load()\n    }\n  };\n\n  function inject_raw_css(css) {\n    const element = document.createElement(\"style\");\n    element.appendChild(document.createTextNode(css));\n    document.body.appendChild(element);\n  }\n\n  var js_urls = [\"https://cdn.bokeh.org/bokeh/release/bokeh-3.4.1.min.js\", \"https://cdn.bokeh.org/bokeh/release/bokeh-gl-3.4.1.min.js\", \"https://cdn.bokeh.org/bokeh/release/bokeh-widgets-3.4.1.min.js\", \"https://cdn.bokeh.org/bokeh/release/bokeh-tables-3.4.1.min.js\", \"https://cdn.holoviz.org/panel/1.4.4/dist/panel.min.js\"];\n  var js_modules = [];\n  var js_exports = {};\n  var css_urls = [];\n  var inline_js = [    function(Bokeh) {\n      Bokeh.set_log_level(\"info\");\n    },\nfunction(Bokeh) {} // ensure no trailing comma for IE\n  ];\n\n  function run_inline_js() {\n    if ((root.Bokeh !== undefined) || (force === true)) {\n      for (var i = 0; i < inline_js.length; i++) {\n\ttry {\n          inline_js[i].call(root, root.Bokeh);\n\t} catch(e) {\n\t  if (!reloading) {\n\t    throw e;\n\t  }\n\t}\n      }\n      // Cache old bokeh versions\n      if (Bokeh != undefined && !reloading) {\n\tvar NewBokeh = root.Bokeh;\n\tif (Bokeh.versions === undefined) {\n\t  Bokeh.versions = new Map();\n\t}\n\tif (NewBokeh.version !== Bokeh.version) {\n\t  Bokeh.versions.set(NewBokeh.version, NewBokeh)\n\t}\n\troot.Bokeh = Bokeh;\n      }} else if (Date.now() < root._bokeh_timeout) {\n      setTimeout(run_inline_js, 100);\n    } else if (!root._bokeh_failed_load) {\n      console.log(\"Bokeh: BokehJS failed to load within specified timeout.\");\n      root._bokeh_failed_load = true;\n    }\n    root._bokeh_is_initializing = false\n  }\n\n  function load_or_wait() {\n    // Implement a backoff loop that tries to ensure we do not load multiple\n    // versions of Bokeh and its dependencies at the same time.\n    // In recent versions we use the root._bokeh_is_initializing flag\n    // to determine whether there is an ongoing attempt to initialize\n    // bokeh, however for backward compatibility we also try to ensure\n    // that we do not start loading a newer (Panel>=1.0 and Bokeh>3) version\n    // before older versions are fully initialized.\n    if (root._bokeh_is_initializing && Date.now() > root._bokeh_timeout) {\n      root._bokeh_is_initializing = false;\n      root._bokeh_onload_callbacks = undefined;\n      console.log(\"Bokeh: BokehJS was loaded multiple times but one version failed to initialize.\");\n      load_or_wait();\n    } else if (root._bokeh_is_initializing || (typeof root._bokeh_is_initializing === \"undefined\" && root._bokeh_onload_callbacks !== undefined)) {\n      setTimeout(load_or_wait, 100);\n    } else {\n      root._bokeh_is_initializing = true\n      root._bokeh_onload_callbacks = []\n      var bokeh_loaded = Bokeh != null && (Bokeh.version === py_version || (Bokeh.versions !== undefined && Bokeh.versions.has(py_version)));\n      if (!reloading && !bokeh_loaded) {\n\troot.Bokeh = undefined;\n      }\n      load_libs(css_urls, js_urls, js_modules, js_exports, function() {\n\tconsole.debug(\"Bokeh: BokehJS plotting callback run at\", now());\n\trun_inline_js();\n      });\n    }\n  }\n  // Give older versions of the autoload script a head-start to ensure\n  // they initialize before we start loading newer version.\n  setTimeout(load_or_wait, 100)\n}(window));"
     },
     "metadata": {},
     "output_type": "display_data"
    },
    {
     "data": {
      "application/javascript": [
       "\n",
       "if ((window.PyViz === undefined) || (window.PyViz instanceof HTMLElement)) {\n",
       "  window.PyViz = {comms: {}, comm_status:{}, kernels:{}, receivers: {}, plot_index: []}\n",
       "}\n",
       "\n",
       "\n",
       "    function JupyterCommManager() {\n",
       "    }\n",
       "\n",
       "    JupyterCommManager.prototype.register_target = function(plot_id, comm_id, msg_handler) {\n",
       "      if (window.comm_manager || ((window.Jupyter !== undefined) && (Jupyter.notebook.kernel != null))) {\n",
       "        var comm_manager = window.comm_manager || Jupyter.notebook.kernel.comm_manager;\n",
       "        comm_manager.register_target(comm_id, function(comm) {\n",
       "          comm.on_msg(msg_handler);\n",
       "        });\n",
       "      } else if ((plot_id in window.PyViz.kernels) && (window.PyViz.kernels[plot_id])) {\n",
       "        window.PyViz.kernels[plot_id].registerCommTarget(comm_id, function(comm) {\n",
       "          comm.onMsg = msg_handler;\n",
       "        });\n",
       "      } else if (typeof google != 'undefined' && google.colab.kernel != null) {\n",
       "        google.colab.kernel.comms.registerTarget(comm_id, (comm) => {\n",
       "          var messages = comm.messages[Symbol.asyncIterator]();\n",
       "          function processIteratorResult(result) {\n",
       "            var message = result.value;\n",
       "            console.log(message)\n",
       "            var content = {data: message.data, comm_id};\n",
       "            var buffers = []\n",
       "            for (var buffer of message.buffers || []) {\n",
       "              buffers.push(new DataView(buffer))\n",
       "            }\n",
       "            var metadata = message.metadata || {};\n",
       "            var msg = {content, buffers, metadata}\n",
       "            msg_handler(msg);\n",
       "            return messages.next().then(processIteratorResult);\n",
       "          }\n",
       "          return messages.next().then(processIteratorResult);\n",
       "        })\n",
       "      }\n",
       "    }\n",
       "\n",
       "    JupyterCommManager.prototype.get_client_comm = function(plot_id, comm_id, msg_handler) {\n",
       "      if (comm_id in window.PyViz.comms) {\n",
       "        return window.PyViz.comms[comm_id];\n",
       "      } else if (window.comm_manager || ((window.Jupyter !== undefined) && (Jupyter.notebook.kernel != null))) {\n",
       "        var comm_manager = window.comm_manager || Jupyter.notebook.kernel.comm_manager;\n",
       "        var comm = comm_manager.new_comm(comm_id, {}, {}, {}, comm_id);\n",
       "        if (msg_handler) {\n",
       "          comm.on_msg(msg_handler);\n",
       "        }\n",
       "      } else if ((plot_id in window.PyViz.kernels) && (window.PyViz.kernels[plot_id])) {\n",
       "        var comm = window.PyViz.kernels[plot_id].connectToComm(comm_id);\n",
       "        comm.open();\n",
       "        if (msg_handler) {\n",
       "          comm.onMsg = msg_handler;\n",
       "        }\n",
       "      } else if (typeof google != 'undefined' && google.colab.kernel != null) {\n",
       "        var comm_promise = google.colab.kernel.comms.open(comm_id)\n",
       "        comm_promise.then((comm) => {\n",
       "          window.PyViz.comms[comm_id] = comm;\n",
       "          if (msg_handler) {\n",
       "            var messages = comm.messages[Symbol.asyncIterator]();\n",
       "            function processIteratorResult(result) {\n",
       "              var message = result.value;\n",
       "              var content = {data: message.data};\n",
       "              var metadata = message.metadata || {comm_id};\n",
       "              var msg = {content, metadata}\n",
       "              msg_handler(msg);\n",
       "              return messages.next().then(processIteratorResult);\n",
       "            }\n",
       "            return messages.next().then(processIteratorResult);\n",
       "          }\n",
       "        }) \n",
       "        var sendClosure = (data, metadata, buffers, disposeOnDone) => {\n",
       "          return comm_promise.then((comm) => {\n",
       "            comm.send(data, metadata, buffers, disposeOnDone);\n",
       "          });\n",
       "        };\n",
       "        var comm = {\n",
       "          send: sendClosure\n",
       "        };\n",
       "      }\n",
       "      window.PyViz.comms[comm_id] = comm;\n",
       "      return comm;\n",
       "    }\n",
       "    window.PyViz.comm_manager = new JupyterCommManager();\n",
       "    \n",
       "\n",
       "\n",
       "var JS_MIME_TYPE = 'application/javascript';\n",
       "var HTML_MIME_TYPE = 'text/html';\n",
       "var EXEC_MIME_TYPE = 'application/vnd.holoviews_exec.v0+json';\n",
       "var CLASS_NAME = 'output';\n",
       "\n",
       "/**\n",
       " * Render data to the DOM node\n",
       " */\n",
       "function render(props, node) {\n",
       "  var div = document.createElement(\"div\");\n",
       "  var script = document.createElement(\"script\");\n",
       "  node.appendChild(div);\n",
       "  node.appendChild(script);\n",
       "}\n",
       "\n",
       "/**\n",
       " * Handle when a new output is added\n",
       " */\n",
       "function handle_add_output(event, handle) {\n",
       "  var output_area = handle.output_area;\n",
       "  var output = handle.output;\n",
       "  if ((output.data == undefined) || (!output.data.hasOwnProperty(EXEC_MIME_TYPE))) {\n",
       "    return\n",
       "  }\n",
       "  var id = output.metadata[EXEC_MIME_TYPE][\"id\"];\n",
       "  var toinsert = output_area.element.find(\".\" + CLASS_NAME.split(' ')[0]);\n",
       "  if (id !== undefined) {\n",
       "    var nchildren = toinsert.length;\n",
       "    var html_node = toinsert[nchildren-1].children[0];\n",
       "    html_node.innerHTML = output.data[HTML_MIME_TYPE];\n",
       "    var scripts = [];\n",
       "    var nodelist = html_node.querySelectorAll(\"script\");\n",
       "    for (var i in nodelist) {\n",
       "      if (nodelist.hasOwnProperty(i)) {\n",
       "        scripts.push(nodelist[i])\n",
       "      }\n",
       "    }\n",
       "\n",
       "    scripts.forEach( function (oldScript) {\n",
       "      var newScript = document.createElement(\"script\");\n",
       "      var attrs = [];\n",
       "      var nodemap = oldScript.attributes;\n",
       "      for (var j in nodemap) {\n",
       "        if (nodemap.hasOwnProperty(j)) {\n",
       "          attrs.push(nodemap[j])\n",
       "        }\n",
       "      }\n",
       "      attrs.forEach(function(attr) { newScript.setAttribute(attr.name, attr.value) });\n",
       "      newScript.appendChild(document.createTextNode(oldScript.innerHTML));\n",
       "      oldScript.parentNode.replaceChild(newScript, oldScript);\n",
       "    });\n",
       "    if (JS_MIME_TYPE in output.data) {\n",
       "      toinsert[nchildren-1].children[1].textContent = output.data[JS_MIME_TYPE];\n",
       "    }\n",
       "    output_area._hv_plot_id = id;\n",
       "    if ((window.Bokeh !== undefined) && (id in Bokeh.index)) {\n",
       "      window.PyViz.plot_index[id] = Bokeh.index[id];\n",
       "    } else {\n",
       "      window.PyViz.plot_index[id] = null;\n",
       "    }\n",
       "  } else if (output.metadata[EXEC_MIME_TYPE][\"server_id\"] !== undefined) {\n",
       "    var bk_div = document.createElement(\"div\");\n",
       "    bk_div.innerHTML = output.data[HTML_MIME_TYPE];\n",
       "    var script_attrs = bk_div.children[0].attributes;\n",
       "    for (var i = 0; i < script_attrs.length; i++) {\n",
       "      toinsert[toinsert.length - 1].childNodes[1].setAttribute(script_attrs[i].name, script_attrs[i].value);\n",
       "    }\n",
       "    // store reference to server id on output_area\n",
       "    output_area._bokeh_server_id = output.metadata[EXEC_MIME_TYPE][\"server_id\"];\n",
       "  }\n",
       "}\n",
       "\n",
       "/**\n",
       " * Handle when an output is cleared or removed\n",
       " */\n",
       "function handle_clear_output(event, handle) {\n",
       "  var id = handle.cell.output_area._hv_plot_id;\n",
       "  var server_id = handle.cell.output_area._bokeh_server_id;\n",
       "  if (((id === undefined) || !(id in PyViz.plot_index)) && (server_id !== undefined)) { return; }\n",
       "  var comm = window.PyViz.comm_manager.get_client_comm(\"hv-extension-comm\", \"hv-extension-comm\", function () {});\n",
       "  if (server_id !== null) {\n",
       "    comm.send({event_type: 'server_delete', 'id': server_id});\n",
       "    return;\n",
       "  } else if (comm !== null) {\n",
       "    comm.send({event_type: 'delete', 'id': id});\n",
       "  }\n",
       "  delete PyViz.plot_index[id];\n",
       "  if ((window.Bokeh !== undefined) & (id in window.Bokeh.index)) {\n",
       "    var doc = window.Bokeh.index[id].model.document\n",
       "    doc.clear();\n",
       "    const i = window.Bokeh.documents.indexOf(doc);\n",
       "    if (i > -1) {\n",
       "      window.Bokeh.documents.splice(i, 1);\n",
       "    }\n",
       "  }\n",
       "}\n",
       "\n",
       "/**\n",
       " * Handle kernel restart event\n",
       " */\n",
       "function handle_kernel_cleanup(event, handle) {\n",
       "  delete PyViz.comms[\"hv-extension-comm\"];\n",
       "  window.PyViz.plot_index = {}\n",
       "}\n",
       "\n",
       "/**\n",
       " * Handle update_display_data messages\n",
       " */\n",
       "function handle_update_output(event, handle) {\n",
       "  handle_clear_output(event, {cell: {output_area: handle.output_area}})\n",
       "  handle_add_output(event, handle)\n",
       "}\n",
       "\n",
       "function register_renderer(events, OutputArea) {\n",
       "  function append_mime(data, metadata, element) {\n",
       "    // create a DOM node to render to\n",
       "    var toinsert = this.create_output_subarea(\n",
       "    metadata,\n",
       "    CLASS_NAME,\n",
       "    EXEC_MIME_TYPE\n",
       "    );\n",
       "    this.keyboard_manager.register_events(toinsert);\n",
       "    // Render to node\n",
       "    var props = {data: data, metadata: metadata[EXEC_MIME_TYPE]};\n",
       "    render(props, toinsert[0]);\n",
       "    element.append(toinsert);\n",
       "    return toinsert\n",
       "  }\n",
       "\n",
       "  events.on('output_added.OutputArea', handle_add_output);\n",
       "  events.on('output_updated.OutputArea', handle_update_output);\n",
       "  events.on('clear_output.CodeCell', handle_clear_output);\n",
       "  events.on('delete.Cell', handle_clear_output);\n",
       "  events.on('kernel_ready.Kernel', handle_kernel_cleanup);\n",
       "\n",
       "  OutputArea.prototype.register_mime_type(EXEC_MIME_TYPE, append_mime, {\n",
       "    safe: true,\n",
       "    index: 0\n",
       "  });\n",
       "}\n",
       "\n",
       "if (window.Jupyter !== undefined) {\n",
       "  try {\n",
       "    var events = require('base/js/events');\n",
       "    var OutputArea = require('notebook/js/outputarea').OutputArea;\n",
       "    if (OutputArea.prototype.mime_types().indexOf(EXEC_MIME_TYPE) == -1) {\n",
       "      register_renderer(events, OutputArea);\n",
       "    }\n",
       "  } catch(err) {\n",
       "  }\n",
       "}\n"
      ],
      "application/vnd.holoviews_load.v0+json": "\nif ((window.PyViz === undefined) || (window.PyViz instanceof HTMLElement)) {\n  window.PyViz = {comms: {}, comm_status:{}, kernels:{}, receivers: {}, plot_index: []}\n}\n\n\n    function JupyterCommManager() {\n    }\n\n    JupyterCommManager.prototype.register_target = function(plot_id, comm_id, msg_handler) {\n      if (window.comm_manager || ((window.Jupyter !== undefined) && (Jupyter.notebook.kernel != null))) {\n        var comm_manager = window.comm_manager || Jupyter.notebook.kernel.comm_manager;\n        comm_manager.register_target(comm_id, function(comm) {\n          comm.on_msg(msg_handler);\n        });\n      } else if ((plot_id in window.PyViz.kernels) && (window.PyViz.kernels[plot_id])) {\n        window.PyViz.kernels[plot_id].registerCommTarget(comm_id, function(comm) {\n          comm.onMsg = msg_handler;\n        });\n      } else if (typeof google != 'undefined' && google.colab.kernel != null) {\n        google.colab.kernel.comms.registerTarget(comm_id, (comm) => {\n          var messages = comm.messages[Symbol.asyncIterator]();\n          function processIteratorResult(result) {\n            var message = result.value;\n            console.log(message)\n            var content = {data: message.data, comm_id};\n            var buffers = []\n            for (var buffer of message.buffers || []) {\n              buffers.push(new DataView(buffer))\n            }\n            var metadata = message.metadata || {};\n            var msg = {content, buffers, metadata}\n            msg_handler(msg);\n            return messages.next().then(processIteratorResult);\n          }\n          return messages.next().then(processIteratorResult);\n        })\n      }\n    }\n\n    JupyterCommManager.prototype.get_client_comm = function(plot_id, comm_id, msg_handler) {\n      if (comm_id in window.PyViz.comms) {\n        return window.PyViz.comms[comm_id];\n      } else if (window.comm_manager || ((window.Jupyter !== undefined) && (Jupyter.notebook.kernel != null))) {\n        var comm_manager = window.comm_manager || Jupyter.notebook.kernel.comm_manager;\n        var comm = comm_manager.new_comm(comm_id, {}, {}, {}, comm_id);\n        if (msg_handler) {\n          comm.on_msg(msg_handler);\n        }\n      } else if ((plot_id in window.PyViz.kernels) && (window.PyViz.kernels[plot_id])) {\n        var comm = window.PyViz.kernels[plot_id].connectToComm(comm_id);\n        comm.open();\n        if (msg_handler) {\n          comm.onMsg = msg_handler;\n        }\n      } else if (typeof google != 'undefined' && google.colab.kernel != null) {\n        var comm_promise = google.colab.kernel.comms.open(comm_id)\n        comm_promise.then((comm) => {\n          window.PyViz.comms[comm_id] = comm;\n          if (msg_handler) {\n            var messages = comm.messages[Symbol.asyncIterator]();\n            function processIteratorResult(result) {\n              var message = result.value;\n              var content = {data: message.data};\n              var metadata = message.metadata || {comm_id};\n              var msg = {content, metadata}\n              msg_handler(msg);\n              return messages.next().then(processIteratorResult);\n            }\n            return messages.next().then(processIteratorResult);\n          }\n        }) \n        var sendClosure = (data, metadata, buffers, disposeOnDone) => {\n          return comm_promise.then((comm) => {\n            comm.send(data, metadata, buffers, disposeOnDone);\n          });\n        };\n        var comm = {\n          send: sendClosure\n        };\n      }\n      window.PyViz.comms[comm_id] = comm;\n      return comm;\n    }\n    window.PyViz.comm_manager = new JupyterCommManager();\n    \n\n\nvar JS_MIME_TYPE = 'application/javascript';\nvar HTML_MIME_TYPE = 'text/html';\nvar EXEC_MIME_TYPE = 'application/vnd.holoviews_exec.v0+json';\nvar CLASS_NAME = 'output';\n\n/**\n * Render data to the DOM node\n */\nfunction render(props, node) {\n  var div = document.createElement(\"div\");\n  var script = document.createElement(\"script\");\n  node.appendChild(div);\n  node.appendChild(script);\n}\n\n/**\n * Handle when a new output is added\n */\nfunction handle_add_output(event, handle) {\n  var output_area = handle.output_area;\n  var output = handle.output;\n  if ((output.data == undefined) || (!output.data.hasOwnProperty(EXEC_MIME_TYPE))) {\n    return\n  }\n  var id = output.metadata[EXEC_MIME_TYPE][\"id\"];\n  var toinsert = output_area.element.find(\".\" + CLASS_NAME.split(' ')[0]);\n  if (id !== undefined) {\n    var nchildren = toinsert.length;\n    var html_node = toinsert[nchildren-1].children[0];\n    html_node.innerHTML = output.data[HTML_MIME_TYPE];\n    var scripts = [];\n    var nodelist = html_node.querySelectorAll(\"script\");\n    for (var i in nodelist) {\n      if (nodelist.hasOwnProperty(i)) {\n        scripts.push(nodelist[i])\n      }\n    }\n\n    scripts.forEach( function (oldScript) {\n      var newScript = document.createElement(\"script\");\n      var attrs = [];\n      var nodemap = oldScript.attributes;\n      for (var j in nodemap) {\n        if (nodemap.hasOwnProperty(j)) {\n          attrs.push(nodemap[j])\n        }\n      }\n      attrs.forEach(function(attr) { newScript.setAttribute(attr.name, attr.value) });\n      newScript.appendChild(document.createTextNode(oldScript.innerHTML));\n      oldScript.parentNode.replaceChild(newScript, oldScript);\n    });\n    if (JS_MIME_TYPE in output.data) {\n      toinsert[nchildren-1].children[1].textContent = output.data[JS_MIME_TYPE];\n    }\n    output_area._hv_plot_id = id;\n    if ((window.Bokeh !== undefined) && (id in Bokeh.index)) {\n      window.PyViz.plot_index[id] = Bokeh.index[id];\n    } else {\n      window.PyViz.plot_index[id] = null;\n    }\n  } else if (output.metadata[EXEC_MIME_TYPE][\"server_id\"] !== undefined) {\n    var bk_div = document.createElement(\"div\");\n    bk_div.innerHTML = output.data[HTML_MIME_TYPE];\n    var script_attrs = bk_div.children[0].attributes;\n    for (var i = 0; i < script_attrs.length; i++) {\n      toinsert[toinsert.length - 1].childNodes[1].setAttribute(script_attrs[i].name, script_attrs[i].value);\n    }\n    // store reference to server id on output_area\n    output_area._bokeh_server_id = output.metadata[EXEC_MIME_TYPE][\"server_id\"];\n  }\n}\n\n/**\n * Handle when an output is cleared or removed\n */\nfunction handle_clear_output(event, handle) {\n  var id = handle.cell.output_area._hv_plot_id;\n  var server_id = handle.cell.output_area._bokeh_server_id;\n  if (((id === undefined) || !(id in PyViz.plot_index)) && (server_id !== undefined)) { return; }\n  var comm = window.PyViz.comm_manager.get_client_comm(\"hv-extension-comm\", \"hv-extension-comm\", function () {});\n  if (server_id !== null) {\n    comm.send({event_type: 'server_delete', 'id': server_id});\n    return;\n  } else if (comm !== null) {\n    comm.send({event_type: 'delete', 'id': id});\n  }\n  delete PyViz.plot_index[id];\n  if ((window.Bokeh !== undefined) & (id in window.Bokeh.index)) {\n    var doc = window.Bokeh.index[id].model.document\n    doc.clear();\n    const i = window.Bokeh.documents.indexOf(doc);\n    if (i > -1) {\n      window.Bokeh.documents.splice(i, 1);\n    }\n  }\n}\n\n/**\n * Handle kernel restart event\n */\nfunction handle_kernel_cleanup(event, handle) {\n  delete PyViz.comms[\"hv-extension-comm\"];\n  window.PyViz.plot_index = {}\n}\n\n/**\n * Handle update_display_data messages\n */\nfunction handle_update_output(event, handle) {\n  handle_clear_output(event, {cell: {output_area: handle.output_area}})\n  handle_add_output(event, handle)\n}\n\nfunction register_renderer(events, OutputArea) {\n  function append_mime(data, metadata, element) {\n    // create a DOM node to render to\n    var toinsert = this.create_output_subarea(\n    metadata,\n    CLASS_NAME,\n    EXEC_MIME_TYPE\n    );\n    this.keyboard_manager.register_events(toinsert);\n    // Render to node\n    var props = {data: data, metadata: metadata[EXEC_MIME_TYPE]};\n    render(props, toinsert[0]);\n    element.append(toinsert);\n    return toinsert\n  }\n\n  events.on('output_added.OutputArea', handle_add_output);\n  events.on('output_updated.OutputArea', handle_update_output);\n  events.on('clear_output.CodeCell', handle_clear_output);\n  events.on('delete.Cell', handle_clear_output);\n  events.on('kernel_ready.Kernel', handle_kernel_cleanup);\n\n  OutputArea.prototype.register_mime_type(EXEC_MIME_TYPE, append_mime, {\n    safe: true,\n    index: 0\n  });\n}\n\nif (window.Jupyter !== undefined) {\n  try {\n    var events = require('base/js/events');\n    var OutputArea = require('notebook/js/outputarea').OutputArea;\n    if (OutputArea.prototype.mime_types().indexOf(EXEC_MIME_TYPE) == -1) {\n      register_renderer(events, OutputArea);\n    }\n  } catch(err) {\n  }\n}\n"
     },
     "metadata": {},
     "output_type": "display_data"
    },
    {
     "data": {
      "text/html": [
       "<style>*[data-root-id],\n",
       "*[data-root-id] > * {\n",
       "  box-sizing: border-box;\n",
       "  font-family: var(--jp-ui-font-family);\n",
       "  font-size: var(--jp-ui-font-size1);\n",
       "  color: var(--vscode-editor-foreground, var(--jp-ui-font-color1));\n",
       "}\n",
       "\n",
       "/* Override VSCode background color */\n",
       ".cell-output-ipywidget-background:has(\n",
       "    > .cell-output-ipywidget-background > .lm-Widget > *[data-root-id]\n",
       "  ),\n",
       ".cell-output-ipywidget-background:has(> .lm-Widget > *[data-root-id]) {\n",
       "  background-color: transparent !important;\n",
       "}\n",
       "</style>"
      ]
     },
     "metadata": {},
     "output_type": "display_data"
    },
    {
     "data": {
      "application/vnd.holoviews_exec.v0+json": "",
      "text/html": [
       "<div id='p1002'>\n",
       "  <div id=\"ea3ebbce-5da5-4aff-b1bf-d217e2289b39\" data-root-id=\"p1002\" style=\"display: contents;\"></div>\n",
       "</div>\n",
       "<script type=\"application/javascript\">(function(root) {\n",
       "  var docs_json = {\"a4ef4b9f-e499-48ee-8599-63b3c6ba4230\":{\"version\":\"3.4.1\",\"title\":\"Bokeh Application\",\"roots\":[{\"type\":\"object\",\"name\":\"panel.models.browser.BrowserInfo\",\"id\":\"p1002\"},{\"type\":\"object\",\"name\":\"panel.models.comm_manager.CommManager\",\"id\":\"p1003\",\"attributes\":{\"plot_id\":\"p1002\",\"comm_id\":\"bcee2704dd2b41b99e1a8d9bbd1869fe\",\"client_comm_id\":\"5f5b1597b61845069ee99875720abb23\"}}],\"defs\":[{\"type\":\"model\",\"name\":\"ReactiveHTML1\"},{\"type\":\"model\",\"name\":\"FlexBox1\",\"properties\":[{\"name\":\"align_content\",\"kind\":\"Any\",\"default\":\"flex-start\"},{\"name\":\"align_items\",\"kind\":\"Any\",\"default\":\"flex-start\"},{\"name\":\"flex_direction\",\"kind\":\"Any\",\"default\":\"row\"},{\"name\":\"flex_wrap\",\"kind\":\"Any\",\"default\":\"wrap\"},{\"name\":\"gap\",\"kind\":\"Any\",\"default\":\"\"},{\"name\":\"justify_content\",\"kind\":\"Any\",\"default\":\"flex-start\"}]},{\"type\":\"model\",\"name\":\"FloatPanel1\",\"properties\":[{\"name\":\"config\",\"kind\":\"Any\",\"default\":{\"type\":\"map\"}},{\"name\":\"contained\",\"kind\":\"Any\",\"default\":true},{\"name\":\"position\",\"kind\":\"Any\",\"default\":\"right-top\"},{\"name\":\"offsetx\",\"kind\":\"Any\",\"default\":null},{\"name\":\"offsety\",\"kind\":\"Any\",\"default\":null},{\"name\":\"theme\",\"kind\":\"Any\",\"default\":\"primary\"},{\"name\":\"status\",\"kind\":\"Any\",\"default\":\"normalized\"}]},{\"type\":\"model\",\"name\":\"GridStack1\",\"properties\":[{\"name\":\"mode\",\"kind\":\"Any\",\"default\":\"warn\"},{\"name\":\"ncols\",\"kind\":\"Any\",\"default\":null},{\"name\":\"nrows\",\"kind\":\"Any\",\"default\":null},{\"name\":\"allow_resize\",\"kind\":\"Any\",\"default\":true},{\"name\":\"allow_drag\",\"kind\":\"Any\",\"default\":true},{\"name\":\"state\",\"kind\":\"Any\",\"default\":[]}]},{\"type\":\"model\",\"name\":\"drag1\",\"properties\":[{\"name\":\"slider_width\",\"kind\":\"Any\",\"default\":5},{\"name\":\"slider_color\",\"kind\":\"Any\",\"default\":\"black\"},{\"name\":\"value\",\"kind\":\"Any\",\"default\":50}]},{\"type\":\"model\",\"name\":\"click1\",\"properties\":[{\"name\":\"terminal_output\",\"kind\":\"Any\",\"default\":\"\"},{\"name\":\"debug_name\",\"kind\":\"Any\",\"default\":\"\"},{\"name\":\"clears\",\"kind\":\"Any\",\"default\":0}]},{\"type\":\"model\",\"name\":\"FastWrapper1\",\"properties\":[{\"name\":\"object\",\"kind\":\"Any\",\"default\":null},{\"name\":\"style\",\"kind\":\"Any\",\"default\":null}]},{\"type\":\"model\",\"name\":\"NotificationAreaBase1\",\"properties\":[{\"name\":\"js_events\",\"kind\":\"Any\",\"default\":{\"type\":\"map\"}},{\"name\":\"position\",\"kind\":\"Any\",\"default\":\"bottom-right\"},{\"name\":\"_clear\",\"kind\":\"Any\",\"default\":0}]},{\"type\":\"model\",\"name\":\"NotificationArea1\",\"properties\":[{\"name\":\"js_events\",\"kind\":\"Any\",\"default\":{\"type\":\"map\"}},{\"name\":\"notifications\",\"kind\":\"Any\",\"default\":[]},{\"name\":\"position\",\"kind\":\"Any\",\"default\":\"bottom-right\"},{\"name\":\"_clear\",\"kind\":\"Any\",\"default\":0},{\"name\":\"types\",\"kind\":\"Any\",\"default\":[{\"type\":\"map\",\"entries\":[[\"type\",\"warning\"],[\"background\",\"#ffc107\"],[\"icon\",{\"type\":\"map\",\"entries\":[[\"className\",\"fas fa-exclamation-triangle\"],[\"tagName\",\"i\"],[\"color\",\"white\"]]}]]},{\"type\":\"map\",\"entries\":[[\"type\",\"info\"],[\"background\",\"#007bff\"],[\"icon\",{\"type\":\"map\",\"entries\":[[\"className\",\"fas fa-info-circle\"],[\"tagName\",\"i\"],[\"color\",\"white\"]]}]]}]}]},{\"type\":\"model\",\"name\":\"Notification\",\"properties\":[{\"name\":\"background\",\"kind\":\"Any\",\"default\":null},{\"name\":\"duration\",\"kind\":\"Any\",\"default\":3000},{\"name\":\"icon\",\"kind\":\"Any\",\"default\":null},{\"name\":\"message\",\"kind\":\"Any\",\"default\":\"\"},{\"name\":\"notification_type\",\"kind\":\"Any\",\"default\":null},{\"name\":\"_destroyed\",\"kind\":\"Any\",\"default\":false}]},{\"type\":\"model\",\"name\":\"TemplateActions1\",\"properties\":[{\"name\":\"open_modal\",\"kind\":\"Any\",\"default\":0},{\"name\":\"close_modal\",\"kind\":\"Any\",\"default\":0}]},{\"type\":\"model\",\"name\":\"BootstrapTemplateActions1\",\"properties\":[{\"name\":\"open_modal\",\"kind\":\"Any\",\"default\":0},{\"name\":\"close_modal\",\"kind\":\"Any\",\"default\":0}]},{\"type\":\"model\",\"name\":\"TemplateEditor1\",\"properties\":[{\"name\":\"layout\",\"kind\":\"Any\",\"default\":[]}]},{\"type\":\"model\",\"name\":\"MaterialTemplateActions1\",\"properties\":[{\"name\":\"open_modal\",\"kind\":\"Any\",\"default\":0},{\"name\":\"close_modal\",\"kind\":\"Any\",\"default\":0}]},{\"type\":\"model\",\"name\":\"copy_to_clipboard1\",\"properties\":[{\"name\":\"fill\",\"kind\":\"Any\",\"default\":\"none\"},{\"name\":\"value\",\"kind\":\"Any\",\"default\":null}]}]}};\n",
       "  var render_items = [{\"docid\":\"a4ef4b9f-e499-48ee-8599-63b3c6ba4230\",\"roots\":{\"p1002\":\"ea3ebbce-5da5-4aff-b1bf-d217e2289b39\"},\"root_ids\":[\"p1002\"]}];\n",
       "  var docs = Object.values(docs_json)\n",
       "  if (!docs) {\n",
       "    return\n",
       "  }\n",
       "  const py_version = docs[0].version.replace('rc', '-rc.').replace('.dev', '-dev.')\n",
       "  async function embed_document(root) {\n",
       "    var Bokeh = get_bokeh(root)\n",
       "    await Bokeh.embed.embed_items_notebook(docs_json, render_items);\n",
       "    for (const render_item of render_items) {\n",
       "      for (const root_id of render_item.root_ids) {\n",
       "\tconst id_el = document.getElementById(root_id)\n",
       "\tif (id_el.children.length && id_el.children[0].hasAttribute('data-root-id')) {\n",
       "\t  const root_el = id_el.children[0]\n",
       "\t  root_el.id = root_el.id + '-rendered'\n",
       "\t  for (const child of root_el.children) {\n",
       "            // Ensure JupyterLab does not capture keyboard shortcuts\n",
       "            // see: https://jupyterlab.readthedocs.io/en/4.1.x/extension/notebook.html#keyboard-interaction-model\n",
       "\t    child.setAttribute('data-lm-suppress-shortcuts', 'true')\n",
       "\t  }\n",
       "\t}\n",
       "      }\n",
       "    }\n",
       "  }\n",
       "  function get_bokeh(root) {\n",
       "    if (root.Bokeh === undefined) {\n",
       "      return null\n",
       "    } else if (root.Bokeh.version !== py_version) {\n",
       "      if (root.Bokeh.versions === undefined || !root.Bokeh.versions.has(py_version)) {\n",
       "\treturn null\n",
       "      }\n",
       "      return root.Bokeh.versions.get(py_version);\n",
       "    } else if (root.Bokeh.version === py_version) {\n",
       "      return root.Bokeh\n",
       "    }\n",
       "    return null\n",
       "  }\n",
       "  function is_loaded(root) {\n",
       "    var Bokeh = get_bokeh(root)\n",
       "    return (Bokeh != null && Bokeh.Panel !== undefined)\n",
       "  }\n",
       "  if (is_loaded(root)) {\n",
       "    embed_document(root);\n",
       "  } else {\n",
       "    var attempts = 0;\n",
       "    var timer = setInterval(function(root) {\n",
       "      if (is_loaded(root)) {\n",
       "        clearInterval(timer);\n",
       "        embed_document(root);\n",
       "      } else if (document.readyState == \"complete\") {\n",
       "        attempts++;\n",
       "        if (attempts > 200) {\n",
       "          clearInterval(timer);\n",
       "\t  var Bokeh = get_bokeh(root)\n",
       "\t  if (Bokeh == null || Bokeh.Panel == null) {\n",
       "            console.warn(\"Panel: ERROR: Unable to run Panel code because Bokeh or Panel library is missing\");\n",
       "\t  } else {\n",
       "\t    console.warn(\"Panel: WARNING: Attempting to render but not all required libraries could be resolved.\")\n",
       "\t    embed_document(root)\n",
       "\t  }\n",
       "        }\n",
       "      }\n",
       "    }, 25, root)\n",
       "  }\n",
       "})(window);</script>"
      ]
     },
     "metadata": {
      "application/vnd.holoviews_exec.v0+json": {
       "id": "p1002"
      }
     },
     "output_type": "display_data"
    }
   ],
   "source": [
    "import pandas as pd\n",
    "import numpy as np\n",
    "from tqdm import tqdm\n",
    "import os.path as osp\n",
    "import subprocess\n",
    "import datetime\n",
    "from utils.basics import PRCS_DATA_DIR, ATLASES_DIR, ATLAS_NAME, PRJ_DIR, CODE_DIR\n",
    "ATLAS_NAME = 'Power264'\n",
    "ATLAS_DIR = osp.join(ATLASES_DIR,ATLAS_NAME)\n",
    "from nilearn.connectome import sym_matrix_to_vec\n",
    "from sfim_lib.io.afni import load_netcc\n",
    "import hvplot.pandas\n",
    "import seaborn as sns\n",
    "import holoviews as hv\n",
    "import xarray as xr\n",
    "import panel as pn\n",
    "from itertools import combinations_with_replacement, combinations\n",
    "import matplotlib.pyplot as plt"
   ]
  },
  {
   "cell_type": "markdown",
   "id": "d0c2b6aa-ecc4-4cb0-ab8c-ee0f3aff490a",
   "metadata": {},
   "source": [
    "# 1. Load Dataset Information"
   ]
  },
  {
   "cell_type": "code",
   "execution_count": 2,
   "id": "8f77c8eb-b7db-4092-a27f-0c350b8c27b9",
   "metadata": {},
   "outputs": [
    {
     "name": "stdout",
     "output_type": "stream",
     "text": [
      "++ Number of scans: 434 scans\n"
     ]
    }
   ],
   "source": [
    "dataset_info_df = pd.read_csv(osp.join(PRJ_DIR,'resources','good_scans.txt'))\n",
    "dataset_info_df = dataset_info_df.set_index(['Subject','Session'])\n",
    "Nscans          = dataset_info_df.shape[0]\n",
    "print('++ Number of scans: %s scans' % Nscans)\n",
    "dataset_scan_list = list(dataset_info_df.index)\n",
    "Nacqs = 201"
   ]
  },
  {
   "cell_type": "markdown",
   "id": "a317ddd0-9928-4f85-b67c-cf372d578afa",
   "metadata": {},
   "source": [
    "# 2. Load Atlas Information"
   ]
  },
  {
   "cell_type": "code",
   "execution_count": 3,
   "id": "f1f52bbc-d24c-442c-b23c-7f7cdd4a4484",
   "metadata": {},
   "outputs": [
    {
     "name": "stdout",
     "output_type": "stream",
     "text": [
      "++ INFO: Number of ROIs = 203 | Number of Connections = 20503\n"
     ]
    }
   ],
   "source": [
    "roi_info_path = osp.join(ATLAS_DIR,f'{ATLAS_NAME}.roi_info.csv')\n",
    "roi_info_df   = pd.read_csv(roi_info_path)\n",
    "roi_info_df.head(5)\n",
    "\n",
    "Nrois = roi_info_df.shape[0]\n",
    "Ncons = int(((Nrois) * (Nrois-1))/2)\n",
    "\n",
    "print('++ INFO: Number of ROIs = %d | Number of Connections = %d' % (Nrois,Ncons))"
   ]
  },
  {
   "cell_type": "markdown",
   "id": "f192c622-9036-4340-a696-530be7f4b221",
   "metadata": {},
   "source": [
    "Compute Euclidean Distance between ROI centroids"
   ]
  },
  {
   "cell_type": "code",
   "execution_count": 4,
   "id": "4b8d9a27-fd89-492f-b30b-f284aeb54546",
   "metadata": {},
   "outputs": [],
   "source": [
    "# Select the columns that correspond to position\n",
    "roi_coords_df = roi_info_df.set_index(['ROI_Name'])[['pos_R','pos_A','pos_S']]\n",
    "\n",
    "# Convert the DataFrame to a NumPy array\n",
    "roi_coords = roi_coords_df.values\n",
    "\n",
    "# Calculate the Euclidean distance using broadcasting\n",
    "roi_distance_matrix = np.sqrt(((roi_coords[:, np.newaxis] - roi_coords) ** 2).sum(axis=2))\n",
    "\n",
    "# Convert to DataFrame\n",
    "roi_distance_df = pd.DataFrame(roi_distance_matrix, index=roi_coords_df.index, columns=roi_coords_df.index)"
   ]
  },
  {
   "cell_type": "code",
   "execution_count": 5,
   "id": "76c6f1ba-128a-46bd-8869-bf67061d9c3c",
   "metadata": {},
   "outputs": [],
   "source": [
    "roi_distance_vect = sym_matrix_to_vec(roi_distance_df.values, discard_diagonal=True)"
   ]
  },
  {
   "cell_type": "markdown",
   "id": "9b49da36-1943-49e3-accd-6d9cafe79dfa",
   "metadata": {},
   "source": [
    "Create list of all echo combinations and combinations of those"
   ]
  },
  {
   "cell_type": "code",
   "execution_count": 6,
   "id": "d75fa741-5be9-4929-931c-ae9b250bfbcd",
   "metadata": {},
   "outputs": [
    {
     "name": "stdout",
     "output_type": "stream",
     "text": [
      "Echo Pairs[n=6]=['e01|e01', 'e01|e02', 'e01|e03', 'e02|e02', 'e02|e03', 'e03|e03']\n",
      "Pairs of Echo Pairs[n=15]=['e01|e01_vs_e01|e02', 'e01|e01_vs_e01|e03', 'e01|e01_vs_e02|e02', 'e01|e01_vs_e02|e03', 'e01|e01_vs_e03|e03', 'e01|e02_vs_e01|e03', 'e01|e02_vs_e02|e02', 'e01|e02_vs_e02|e03', 'e01|e02_vs_e03|e03', 'e01|e03_vs_e02|e02', 'e01|e03_vs_e02|e03', 'e01|e03_vs_e03|e03', 'e02|e02_vs_e02|e03', 'e02|e02_vs_e03|e03', 'e02|e03_vs_e03|e03']\n"
     ]
    }
   ],
   "source": [
    "echo_pairs_tuples   = [i for i in combinations_with_replacement(['e01','e02','e03'],2)]\n",
    "echo_pairs          = [('|').join(i) for i in echo_pairs_tuples]\n",
    "pairs_of_echo_pairs = ['|'.join((e_x[0],e_x[1]))+'_vs_'+'|'.join((e_y[0],e_y[1])) for e_x,e_y in combinations(echo_pairs_tuples,2)]\n",
    "print('Echo Pairs[n=%d]=%s' %(len(echo_pairs),str(echo_pairs)))\n",
    "print('Pairs of Echo Pairs[n=%d]=%s' %(len(pairs_of_echo_pairs),str(pairs_of_echo_pairs)))"
   ]
  },
  {
   "cell_type": "code",
   "execution_count": 7,
   "id": "c9294baf-64c8-443c-a00c-2295b6671980",
   "metadata": {},
   "outputs": [],
   "source": [
    "scan_names = ['_'.join((sbj,ses)) for sbj,ses in dataset_scan_list]"
   ]
  },
  {
   "cell_type": "code",
   "execution_count": 8,
   "id": "61c5833c-f261-4829-9f5e-801ed799103e",
   "metadata": {},
   "outputs": [
    {
     "name": "stdout",
     "output_type": "stream",
     "text": [
      "{'e01|e01_vs_e01|e02': 2.1897810218978107, 'e01|e01_vs_e01|e03': 3.43065693430657, 'e01|e01_vs_e02|e02': 4.795140923863819, 'e01|e01_vs_e02|e03': 7.512387447386649, 'e01|e01_vs_e03|e03': 11.769407000905751, 'e01|e02_vs_e01|e03': 1.5666666666666667, 'e01|e02_vs_e02|e02': 2.18978102189781, 'e01|e02_vs_e02|e03': 3.4306569343065694, 'e01|e02_vs_e03|e03': 5.374695863746958, 'e01|e03_vs_e02|e02': 1.397732567168815, 'e01|e03_vs_e02|e03': 2.18978102189781, 'e01|e03_vs_e03|e03': 3.4306569343065694, 'e02|e02_vs_e02|e03': 1.5666666666666667, 'e02|e02_vs_e03|e03': 2.4544444444444444, 'e02|e03_vs_e03|e03': 1.5666666666666667}\n"
     ]
    }
   ],
   "source": [
    "echoes_dict = {'e01':13.7,'e02':30,'e03':47}\n",
    "#echoes_dict = {'e01':14,'e02':29.96,'e03':45.92}\n",
    "ideal_slopes = {}\n",
    "for p in pairs_of_echo_pairs:\n",
    "    x,y = p.split('_vs_')\n",
    "    x_e1,x_e2 = x.split('|')\n",
    "    y_e1,y_e2 = y.split('|')\n",
    "    ideal_slopes[p] = (echoes_dict[y_e1] * echoes_dict[y_e2]) / (echoes_dict[x_e1] * echoes_dict[x_e2])\n",
    "print(ideal_slopes)"
   ]
  },
  {
   "cell_type": "markdown",
   "id": "8969e97b-4600-423a-b18a-bfef3c985992",
   "metadata": {},
   "source": [
    "# 3. Load Basic Quality Information for each scan\n",
    "\n",
    "## 3.1. Fraction of censored datapoints"
   ]
  },
  {
   "cell_type": "code",
   "execution_count": 9,
   "id": "d69aafeb-8579-4c3a-9099-646aa3b5af80",
   "metadata": {},
   "outputs": [
    {
     "name": "stderr",
     "output_type": "stream",
     "text": [
      "100%|███████████████████████████████████████████████████████████████████████████████████████████████████████████████████████████████████████████████████████████████████████████████████████████████████████████████| 434/434 [00:00<00:00, 536.78it/s]\n"
     ]
    }
   ],
   "source": [
    "mot_df = pd.DataFrame(index=scan_names,columns=['Percent Censored'])\n",
    "mot_df.index.name = 'scan'\n",
    "for i,(sbj,ses) in enumerate(tqdm(dataset_scan_list)):\n",
    "    scan_name = '_'.join((sbj,ses))\n",
    "    censor_path = osp.join(PRCS_DATA_DIR,sbj,f'D02_Preproc_fMRI_{ses}',f'motion_{sbj}_censor.1D')\n",
    "    censor     = np.loadtxt(censor_path).astype(bool)\n",
    "    mot_df.loc[scan_name,'Percent Censored'] = 100*(len(censor)-np.sum(censor))/len(censor)\n",
    "    mot_df.loc[scan_name,'Percent Used']     = 100*(np.sum(censor))/len(censor)"
   ]
  },
  {
   "cell_type": "markdown",
   "id": "5a171eb6-0c06-43b1-884d-ff0fa404eef4",
   "metadata": {},
   "source": [
    "## 3.2. Fraction of BOLD-like vs. non-BOLD like data"
   ]
  },
  {
   "cell_type": "code",
   "execution_count": 10,
   "id": "f96084b9-a1be-43ad-9a91-4982551a7a77",
   "metadata": {},
   "outputs": [
    {
     "name": "stderr",
     "output_type": "stream",
     "text": [
      "100%|███████████████████████████████████████████████████████████████████████████████████████████████████████████████████████████████████████████████████████████████████████████████████████████████████████████████| 434/434 [00:02<00:00, 188.14it/s]\n"
     ]
    }
   ],
   "source": [
    "tedana_df = pd.DataFrame(index=scan_names,columns=['Var. likely-BOLD','Var. unlikely-BOLD','Var. low-variance'])\n",
    "tedana_df.index.name = 'scan'\n",
    "for i,(sbj,ses) in enumerate(tqdm(dataset_scan_list)):\n",
    "    scan_name = '_'.join((sbj,ses))\n",
    "    ica_table_path = osp.join(PRCS_DATA_DIR,sbj,f'D02_Preproc_fMRI_{ses}','tedana_r01','ica_metrics.tsv')\n",
    "    ica_table = pd.read_csv(ica_table_path,sep='\\t')\n",
    "    tedana_df.loc[scan_name,'Var. likely-BOLD'] = ica_table.set_index(['classification_tags']).loc['Likely BOLD','variance explained'].sum()\n",
    "    tedana_df.loc[scan_name,'Var. unlikely-BOLD'] = ica_table.set_index(['classification_tags']).loc['Unlikely BOLD','variance explained'].sum()\n",
    "    tedana_df.loc[scan_name,'Var. accepted'] = ica_table.set_index(['classification']).loc['accepted','variance explained'].sum()\n",
    "    tedana_df.loc[scan_name,'Var. rejected'] = ica_table.set_index(['classification']).loc['rejected','variance explained'].sum()"
   ]
  },
  {
   "cell_type": "markdown",
   "id": "6fdf1885-6e0f-4beb-b30a-f8e3b5017142",
   "metadata": {},
   "source": [
    "## 3.3. RMSE"
   ]
  },
  {
   "cell_type": "code",
   "execution_count": 11,
   "id": "d37df933-6f6d-4c92-82a3-669aad597633",
   "metadata": {},
   "outputs": [
    {
     "name": "stderr",
     "output_type": "stream",
     "text": [
      "100%|██████████████████████████████████████████████████████████████████████████████████████████████████████████████████████████████████████████████████████████████████████████████████████████████████████████████| 434/434 [00:00<00:00, 1022.89it/s]\n"
     ]
    }
   ],
   "source": [
    "rsme_df = pd.DataFrame(index=scan_names,columns=['Avg. RSME'])\n",
    "rsme_df.index.name = 'scan'\n",
    "for i,(sbj,ses) in enumerate(tqdm(dataset_scan_list)):\n",
    "    scan_name = '_'.join((sbj,ses))\n",
    "    rsme_path = osp.join(PRCS_DATA_DIR,sbj,f'D02_Preproc_fMRI_{ses}','tedana_r01','rmse.avg.txt')\n",
    "    rsme = np.loadtxt(rsme_path)\n",
    "    rsme_df.loc[scan_name,'Avg. RSME'] = rsme"
   ]
  },
  {
   "cell_type": "markdown",
   "id": "85907c07-b413-4237-a903-c241579fbe14",
   "metadata": {},
   "source": [
    "# 4. Pearson's FC Slope and Intercept\n",
    "## 4.1. Load the data following basic denosing\n",
    "\n",
    "We will create an xr.DataArray that will hold the slope and intercept of contrasting all 15 FC matrices for each scan separately. \n",
    "\n",
    "We wll also then compute the averages per scan, so that we can characterize a given scan in 2D space."
   ]
  },
  {
   "cell_type": "code",
   "execution_count": 12,
   "id": "938645b6-8754-4c3c-a750-4d96fd020c93",
   "metadata": {},
   "outputs": [],
   "source": [
    "slope_inter_xr_all        = {}"
   ]
  },
  {
   "cell_type": "code",
   "execution_count": 13,
   "id": "c07ddffa-f521-4241-ae08-b8c611498faa",
   "metadata": {},
   "outputs": [
    {
     "name": "stderr",
     "output_type": "stream",
     "text": [
      "100%|████████████████████████████████████████████████████████████████████████████████████████████████████████████████████████████████████████████████████████████████████████████████████████████████████████████████| 434/434 [00:57<00:00,  7.54it/s]"
     ]
    },
    {
     "name": "stdout",
     "output_type": "stream",
     "text": [
      "CPU times: user 29min 33s, sys: 58.6 s, total: 30min 31s\n",
      "Wall time: 57.6 s\n"
     ]
    },
    {
     "name": "stderr",
     "output_type": "stream",
     "text": [
      "\n"
     ]
    }
   ],
   "source": [
    "%%time\n",
    "slope_inter_xr_all['Basic'] = xr.DataArray(dims=['scan','echo_pairing','statistic'],\n",
    "                        coords={'scan':['_'.join((sbj,ses)) for sbj,ses in dataset_scan_list],\n",
    "                                'echo_pairing':pairs_of_echo_pairs,\n",
    "                                'statistic':['Slope','Intercept']})\n",
    "for i,(sbj,ses) in enumerate(tqdm(dataset_scan_list)):\n",
    "    fc_xr_all       = xr.DataArray(dims=['pair','edge'],\n",
    "                      coords={'pair':  echo_pairs,\n",
    "                              'edge':  np.arange(Ncons)})\n",
    "    for (e_x,e_y) in echo_pairs_tuples:\n",
    "        roi_ts_path_x = osp.join(PRCS_DATA_DIR,sbj,f'D02_Preproc_fMRI_{ses}',f'errts.{sbj}.r01.{e_x}.volreg.scale.tproject_ALL.{ATLAS_NAME}_000.netts')\n",
    "        roi_ts_x      = np.loadtxt(roi_ts_path_x)\n",
    "        roi_ts_path_y = osp.join(PRCS_DATA_DIR,sbj,f'D02_Preproc_fMRI_{ses}',f'errts.{sbj}.r01.{e_y}.volreg.scale.tproject_ALL.{ATLAS_NAME}_000.netts')\n",
    "        roi_ts_y      = np.loadtxt(roi_ts_path_y)\n",
    "        aux_ts_x = pd.DataFrame(roi_ts_x, columns=roi_info_df['ROI_Name'].values)\n",
    "        aux_ts_y = pd.DataFrame(roi_ts_y, columns=roi_info_df['ROI_Name'].values)\n",
    "        # Compute the full correlation matrix between aux_ts_x and aux_ts_y\n",
    "        aux_r   = np.cov(aux_ts_x.T, aux_ts_y.T)[:aux_ts_x.shape[1], aux_ts_x.shape[1]:]\n",
    "        aux_r_v = sym_matrix_to_vec(aux_r, discard_diagonal=True)\n",
    "        \n",
    "        fc_xr_all.loc['|'.join((e_x,e_y)),:] = aux_r_v\n",
    "\n",
    "    for pair_of_pairs in pairs_of_echo_pairs:\n",
    "        p1,p2=pair_of_pairs.split('_vs_')\n",
    "        x = fc_xr_all.sel(pair=p1)\n",
    "        y = fc_xr_all.sel(pair=p2)\n",
    "        slope, intercept = np.polyfit(x,y,1)\n",
    "        slope_inter_xr_all['Basic'].loc['_'.join((sbj,ses)),pair_of_pairs,'Slope'] = slope\n",
    "        slope_inter_xr_all['Basic'].loc['_'.join((sbj,ses)),pair_of_pairs,'Intercept'] = intercept"
   ]
  },
  {
   "cell_type": "markdown",
   "id": "a94c1560-d67f-4970-b200-145071ab7380",
   "metadata": {},
   "source": [
    "## 4.2. Load data and compute slope and intercept following Advanced denoising"
   ]
  },
  {
   "cell_type": "code",
   "execution_count": 14,
   "id": "3756d73c-26b3-453d-a7e4-df9a5ceccb9d",
   "metadata": {},
   "outputs": [
    {
     "name": "stderr",
     "output_type": "stream",
     "text": [
      "100%|████████████████████████████████████████████████████████████████████████████████████████████████████████████████████████████████████████████████████████████████████████████████████████████████████████████████| 434/434 [00:59<00:00,  7.26it/s]"
     ]
    },
    {
     "name": "stdout",
     "output_type": "stream",
     "text": [
      "CPU times: user 30min 38s, sys: 1min, total: 31min 39s\n",
      "Wall time: 59.8 s\n"
     ]
    },
    {
     "name": "stderr",
     "output_type": "stream",
     "text": [
      "\n"
     ]
    }
   ],
   "source": [
    "%%time\n",
    "slope_inter_xr_all['MEICA'] = xr.DataArray(dims=['scan','echo_pairing','statistic'],\n",
    "                        coords={'scan':['_'.join((sbj,ses)) for sbj,ses in dataset_scan_list],\n",
    "                                'echo_pairing':pairs_of_echo_pairs,\n",
    "                                'statistic':['Slope','Intercept']})\n",
    "for i,(sbj,ses) in enumerate(tqdm(dataset_scan_list)):\n",
    "    fc_xr_all       = xr.DataArray(dims=['pair','edge'],\n",
    "                      coords={'pair':  echo_pairs,\n",
    "                              'edge':  np.arange(Ncons)})\n",
    "    for (e_x,e_y) in echo_pairs_tuples:\n",
    "        roi_ts_path_x = osp.join(PRCS_DATA_DIR,sbj,f'D02_Preproc_fMRI_{ses}',f'errts.{sbj}.r01.{e_x}.meica_dn.scale.tproject_ALL.{ATLAS_NAME}_000.netts')\n",
    "        roi_ts_x      = np.loadtxt(roi_ts_path_x)\n",
    "        roi_ts_path_y = osp.join(PRCS_DATA_DIR,sbj,f'D02_Preproc_fMRI_{ses}',f'errts.{sbj}.r01.{e_y}.meica_dn.scale.tproject_ALL.{ATLAS_NAME}_000.netts')\n",
    "        roi_ts_y      = np.loadtxt(roi_ts_path_y)\n",
    "        aux_ts_x = pd.DataFrame(roi_ts_x, columns=roi_info_df['ROI_Name'].values)\n",
    "        aux_ts_y = pd.DataFrame(roi_ts_y, columns=roi_info_df['ROI_Name'].values)\n",
    "        # Compute the full correlation matrix between aux_ts_x and aux_ts_y\n",
    "        aux_r   = np.cov(aux_ts_x.T, aux_ts_y.T)[:aux_ts_x.shape[1], aux_ts_x.shape[1]:]\n",
    "        aux_r_v = sym_matrix_to_vec(aux_r, discard_diagonal=True)\n",
    "        \n",
    "        fc_xr_all.loc['|'.join((e_x,e_y)),:] = aux_r_v\n",
    "\n",
    "    for pair_of_pairs in pairs_of_echo_pairs:\n",
    "        p1,p2=pair_of_pairs.split('_vs_')\n",
    "        x = fc_xr_all.sel(pair=p1)\n",
    "        y = fc_xr_all.sel(pair=p2)\n",
    "        slope, intercept = np.polyfit(x,y,1)\n",
    "        slope_inter_xr_all['MEICA'].loc['_'.join((sbj,ses)),pair_of_pairs,'Slope'] = slope\n",
    "        slope_inter_xr_all['MEICA'].loc['_'.join((sbj,ses)),pair_of_pairs,'Intercept'] = intercept"
   ]
  },
  {
   "cell_type": "markdown",
   "id": "a9593def-8e25-482a-b8ad-f89767d51907",
   "metadata": {},
   "source": [
    "# 5. Compute DBOLD"
   ]
  },
  {
   "cell_type": "code",
   "execution_count": 15,
   "id": "ebdb2cbc-0d6e-4aa9-aa3b-2acfa264bd63",
   "metadata": {},
   "outputs": [
    {
     "name": "stderr",
     "output_type": "stream",
     "text": [
      "100%|████████████████████████████████████████████████████████████████████████████████████████████████████████████████████████████████████████████████████████████████████████████████████████████████████████████████| 434/434 [00:09<00:00, 44.20it/s]"
     ]
    },
    {
     "name": "stdout",
     "output_type": "stream",
     "text": [
      "CPU times: user 15.2 s, sys: 173 ms, total: 15.4 s\n",
      "Wall time: 9.82 s\n"
     ]
    },
    {
     "name": "stderr",
     "output_type": "stream",
     "text": [
      "\n"
     ]
    }
   ],
   "source": [
    "%%time\n",
    "df = pd.DataFrame(index=scan_names,columns=['dist_BOLD_Basic','dist_BOLD_MEICA','dist_NonBOLD_Basic','dist_to_NonBOLD_MEICA'])\n",
    "for scan_name in tqdm(scan_names):\n",
    "    dist_BOLD_Basic, dist_NonBOLD_Basic = [],[]\n",
    "    dist_BOLD_MEICA, dist_NonBOLD_MEICA = [],[]\n",
    "    for pair_of_pairs in pairs_of_echo_pairs:\n",
    "        BOLD_ideal_slope    = ideal_slopes[pair_of_pairs]\n",
    "        NonBOLD_ideal_slope = 1\n",
    "        dist_BOLD_Basic = dist_BOLD_Basic + [np.sqrt(((slope_inter_xr_all['Basic'].loc[scan_name,pair_of_pairs,'Intercept'].values-0)**2)+((slope_inter_xr_all['Basic'].loc[scan_name,pair_of_pairs,'Slope'].values-BOLD_ideal_slope)**2))]\n",
    "        dist_BOLD_MEICA = dist_BOLD_MEICA + [np.sqrt(((slope_inter_xr_all['MEICA'].loc[scan_name,pair_of_pairs,'Intercept'].values-0)**2)+((slope_inter_xr_all['MEICA'].loc[scan_name,pair_of_pairs,'Slope'].values-BOLD_ideal_slope)**2))]\n",
    "        dist_NonBOLD_Basic = dist_NonBOLD_Basic + [np.sqrt(((slope_inter_xr_all['Basic'].loc[scan_name,pair_of_pairs,'Intercept'].values-0)**2)+((slope_inter_xr_all['Basic'].loc[scan_name,pair_of_pairs,'Slope'].values-1)**2))]\n",
    "        dist_NonBOLD_MEICA = dist_NonBOLD_MEICA + [np.sqrt(((slope_inter_xr_all['MEICA'].loc[scan_name,pair_of_pairs,'Intercept'].values-0)**2)+((slope_inter_xr_all['MEICA'].loc[scan_name,pair_of_pairs,'Slope'].values-1)**2))]\n",
    "    df.loc[scan_name,'dist_BOLD_Basic'] = np.array(dist_BOLD_Basic).mean()\n",
    "    df.loc[scan_name,'dist_BOLD_MEICA'] = np.array(dist_BOLD_MEICA).mean()\n",
    "    df.loc[scan_name,'dist_NonBOLD_Basic'] = np.array(dist_NonBOLD_Basic).mean()\n",
    "    df.loc[scan_name,'dist_NonBOLD_MEICA'] = np.array(dist_NonBOLD_MEICA).mean()\n",
    "df.index.name='scan'"
   ]
  },
  {
   "cell_type": "markdown",
   "id": "a11ee591-4aec-4e0a-8c6c-c384eb930ab5",
   "metadata": {},
   "source": [
    "Concatenate all data into a single datagrame for plotting"
   ]
  },
  {
   "cell_type": "code",
   "execution_count": 16,
   "id": "31a67d3e-1671-45e1-853b-202ae4789ec4",
   "metadata": {},
   "outputs": [],
   "source": [
    "aux = pd.concat([df, mot_df, tedana_df,rsme_df],axis=1)\n",
    "aux['Percent Censored'] = (aux['Percent Censored'].astype(float)+1)*2\n",
    "aux['Percent Used'] = aux['Percent Used'].astype(float)\n",
    "aux['Var. likely-BOLD'] = aux['Var. likely-BOLD'].astype(float)\n",
    "aux['Var. unlikely-BOLD'] = aux['Var. unlikely-BOLD'].astype(float)\n",
    "aux['Var. accepted'] = aux['Var. accepted'].astype(float)\n",
    "aux['Var. rejected'] = aux['Var. rejected'].astype(float)\n",
    "aux['Avg. RSME'] = aux['Avg. RSME'].astype(float)"
   ]
  },
  {
   "cell_type": "code",
   "execution_count": 17,
   "id": "dc9cf57a-a6e1-4d26-9b0d-b4516a02c36b",
   "metadata": {},
   "outputs": [
    {
     "data": {},
     "metadata": {},
     "output_type": "display_data"
    },
    {
     "data": {
      "application/vnd.holoviews_exec.v0+json": "",
      "text/html": [
       "<div id='p1004'>\n",
       "  <div id=\"d9a49546-d4c9-4a5c-a60b-71e54bc3997a\" data-root-id=\"p1004\" style=\"display: contents;\"></div>\n",
       "</div>\n",
       "<script type=\"application/javascript\">(function(root) {\n",
       "  var docs_json = {\"102281ab-e9f9-4888-a098-733bc7162da3\":{\"version\":\"3.4.1\",\"title\":\"Bokeh Application\",\"roots\":[{\"type\":\"object\",\"name\":\"Row\",\"id\":\"p1004\",\"attributes\":{\"name\":\"Row01119\",\"tags\":[\"embedded\"],\"stylesheets\":[\"\\n:host(.pn-loading):before, .pn-loading:before {\\n  background-color: #c3c3c3;\\n  mask-size: auto calc(min(50%, 400px));\\n  -webkit-mask-size: auto calc(min(50%, 400px));\\n}\",{\"type\":\"object\",\"name\":\"ImportedStyleSheet\",\"id\":\"p1007\",\"attributes\":{\"url\":\"https://cdn.holoviz.org/panel/1.4.4/dist/css/loading.css\"}},{\"type\":\"object\",\"name\":\"ImportedStyleSheet\",\"id\":\"p1146\",\"attributes\":{\"url\":\"https://cdn.holoviz.org/panel/1.4.4/dist/css/listpanel.css\"}},{\"type\":\"object\",\"name\":\"ImportedStyleSheet\",\"id\":\"p1005\",\"attributes\":{\"url\":\"https://cdn.holoviz.org/panel/1.4.4/dist/bundled/theme/default.css\"}},{\"type\":\"object\",\"name\":\"ImportedStyleSheet\",\"id\":\"p1006\",\"attributes\":{\"url\":\"https://cdn.holoviz.org/panel/1.4.4/dist/bundled/theme/native.css\"}}],\"margin\":0,\"sizing_mode\":\"stretch_width\",\"align\":\"start\",\"children\":[{\"type\":\"object\",\"name\":\"Spacer\",\"id\":\"p1008\",\"attributes\":{\"name\":\"HSpacer01125\",\"stylesheets\":[\"\\n:host(.pn-loading):before, .pn-loading:before {\\n  background-color: #c3c3c3;\\n  mask-size: auto calc(min(50%, 400px));\\n  -webkit-mask-size: auto calc(min(50%, 400px));\\n}\",{\"id\":\"p1007\"},{\"id\":\"p1005\"},{\"id\":\"p1006\"}],\"margin\":0,\"sizing_mode\":\"stretch_width\",\"align\":\"start\"}},{\"type\":\"object\",\"name\":\"GridPlot\",\"id\":\"p1134\",\"attributes\":{\"rows\":null,\"cols\":null,\"toolbar\":{\"type\":\"object\",\"name\":\"Toolbar\",\"id\":\"p1142\",\"attributes\":{\"tools\":[{\"type\":\"object\",\"name\":\"ToolProxy\",\"id\":\"p1136\",\"attributes\":{\"tools\":[{\"type\":\"object\",\"name\":\"WheelZoomTool\",\"id\":\"p1014\",\"attributes\":{\"tags\":[\"hv_created\"],\"renderers\":\"auto\",\"zoom_together\":\"none\"}},{\"type\":\"object\",\"name\":\"WheelZoomTool\",\"id\":\"p1076\",\"attributes\":{\"tags\":[\"hv_created\"],\"renderers\":\"auto\",\"zoom_together\":\"none\"}}]}},{\"type\":\"object\",\"name\":\"ToolProxy\",\"id\":\"p1137\",\"attributes\":{\"tools\":[{\"type\":\"object\",\"name\":\"HoverTool\",\"id\":\"p1015\",\"attributes\":{\"tags\":[\"hv_created\"],\"renderers\":[{\"type\":\"object\",\"name\":\"GlyphRenderer\",\"id\":\"p1061\",\"attributes\":{\"data_source\":{\"type\":\"object\",\"name\":\"ColumnDataSource\",\"id\":\"p1050\",\"attributes\":{\"selected\":{\"type\":\"object\",\"name\":\"Selection\",\"id\":\"p1051\",\"attributes\":{\"indices\":[],\"line_indices\":[]}},\"selection_policy\":{\"type\":\"object\",\"name\":\"UnionRenderers\",\"id\":\"p1052\"},\"data\":{\"type\":\"map\",\"entries\":[[\"dist_BOLD_Basic\",{\"type\":\"ndarray\",\"array\":{\"type\":\"bytes\",\"data\":\"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\"},\"shape\":[434],\"dtype\":\"float64\",\"order\":\"little\"}],[\"dist_BOLD_MEICA\",{\"type\":\"ndarray\",\"array\":{\"type\":\"bytes\",\"data\":\"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\"},\"shape\":[434],\"dtype\":\"float64\",\"order\":\"little\"}],[\"Var_full_stop_accepted\",{\"type\":\"ndarray\",\"array\":{\"type\":\"bytes\",\"data\":\"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\"},\"shape\":[434],\"dtype\":\"float64\",\"order\":\"little\"}],[\"Percent_Censored\",{\"type\":\"ndarray\",\"array\":{\"type\":\"bytes\",\"data\":\"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\"},\"shape\":[434],\"dtype\":\"float64\",\"order\":\"little\"}],[\"scan\",[\"sub-01_ses-1\",\"sub-01_ses-2\",\"sub-02_ses-1\",\"sub-02_ses-2\",\"sub-03_ses-1\",\"sub-03_ses-2\",\"sub-04_ses-1\",\"sub-04_ses-2\",\"sub-05_ses-1\",\"sub-05_ses-2\",\"sub-06_ses-1\",\"sub-06_ses-2\",\"sub-07_ses-1\",\"sub-07_ses-2\",\"sub-08_ses-1\",\"sub-08_ses-2\",\"sub-09_ses-1\",\"sub-09_ses-2\",\"sub-101_ses-1\",\"sub-101_ses-2\",\"sub-104_ses-1\",\"sub-104_ses-2\",\"sub-106_ses-1\",\"sub-106_ses-2\",\"sub-107_ses-1\",\"sub-107_ses-2\",\"sub-108_ses-1\",\"sub-108_ses-2\",\"sub-109_ses-1\",\"sub-109_ses-2\",\"sub-10_ses-1\",\"sub-10_ses-2\",\"sub-110_ses-1\",\"sub-110_ses-2\",\"sub-111_ses-1\",\"sub-111_ses-2\",\"sub-112_ses-1\",\"sub-112_ses-2\",\"sub-113_ses-1\",\"sub-113_ses-2\",\"sub-114_ses-1\",\"sub-114_ses-2\",\"sub-115_ses-1\",\"sub-115_ses-2\",\"sub-116_ses-1\",\"sub-116_ses-2\",\"sub-117_ses-1\",\"sub-118_ses-1\",\"sub-118_ses-2\",\"sub-119_ses-1\",\"sub-119_ses-2\",\"sub-11_ses-1\",\"sub-11_ses-2\",\"sub-120_ses-1\",\"sub-120_ses-2\",\"sub-121_ses-1\",\"sub-121_ses-2\",\"sub-122_ses-1\",\"sub-122_ses-2\",\"sub-123_ses-1\",\"sub-123_ses-2\",\"sub-124_ses-1\",\"sub-124_ses-2\",\"sub-125_ses-1\",\"sub-125_ses-2\",\"sub-127_ses-1\",\"sub-127_ses-2\",\"sub-128_ses-1\",\"sub-128_ses-2\",\"sub-129_ses-1\",\"sub-129_ses-2\",\"sub-12_ses-2\",\"sub-130_ses-1\",\"sub-130_ses-2\",\"sub-132_ses-1\",\"sub-132_ses-2\",\"sub-133_ses-1\",\"sub-133_ses-2\",\"sub-134_ses-1\",\"sub-134_ses-2\",\"sub-135_ses-1\",\"sub-135_ses-2\",\"sub-136_ses-1\",\"sub-136_ses-2\",\"sub-137_ses-1\",\"sub-137_ses-2\",\"sub-138_ses-1\",\"sub-138_ses-2\",\"sub-139_ses-1\",\"sub-139_ses-2\",\"sub-13_ses-1\",\"sub-13_ses-2\",\"sub-140_ses-1\",\"sub-140_ses-2\",\"sub-141_ses-1\",\"sub-141_ses-2\",\"sub-142_ses-1\",\"sub-143_ses-1\",\"sub-143_ses-2\",\"sub-144_ses-1\",\"sub-144_ses-2\",\"sub-145_ses-1\",\"sub-145_ses-2\",\"sub-146_ses-1\",\"sub-146_ses-2\",\"sub-147_ses-1\",\"sub-147_ses-2\",\"sub-148_ses-1\",\"sub-148_ses-2\",\"sub-14_ses-1\",\"sub-14_ses-2\",\"sub-150_ses-1\",\"sub-150_ses-2\",\"sub-151_ses-1\",\"sub-151_ses-2\",\"sub-152_ses-1\",\"sub-152_ses-2\",\"sub-153_ses-1\",\"sub-153_ses-2\",\"sub-154_ses-1\",\"sub-154_ses-2\",\"sub-155_ses-1\",\"sub-155_ses-2\",\"sub-156_ses-1\",\"sub-156_ses-2\",\"sub-157_ses-1\",\"sub-157_ses-2\",\"sub-158_ses-1\",\"sub-158_ses-2\",\"sub-159_ses-1\",\"sub-159_ses-2\",\"sub-15_ses-1\",\"sub-15_ses-2\",\"sub-160_ses-1\",\"sub-160_ses-2\",\"sub-161_ses-1\",\"sub-161_ses-2\",\"sub-162_ses-1\",\"sub-162_ses-2\",\"sub-163_ses-1\",\"sub-163_ses-2\",\"sub-164_ses-1\",\"sub-164_ses-2\",\"sub-165_ses-1\",\"sub-165_ses-2\",\"sub-166_ses-1\",\"sub-166_ses-2\",\"sub-167_ses-1\",\"sub-167_ses-2\",\"sub-168_ses-1\",\"sub-168_ses-2\",\"sub-169_ses-1\",\"sub-169_ses-2\",\"sub-16_ses-1\",\"sub-16_ses-2\",\"sub-170_ses-1\",\"sub-170_ses-2\",\"sub-171_ses-1\",\"sub-171_ses-2\",\"sub-172_ses-1\",\"sub-172_ses-2\",\"sub-173_ses-1\",\"sub-173_ses-2\",\"sub-174_ses-1\",\"sub-174_ses-2\",\"sub-175_ses-1\",\"sub-175_ses-2\",\"sub-176_ses-1\",\"sub-176_ses-2\",\"sub-177_ses-1\",\"sub-177_ses-2\",\"sub-17_ses-1\",\"sub-17_ses-2\",\"sub-180_ses-1\",\"sub-180_ses-2\",\"sub-181_ses-1\",\"sub-181_ses-2\",\"sub-182_ses-1\",\"sub-182_ses-2\",\"sub-183_ses-1\",\"sub-183_ses-2\",\"sub-184_ses-1\",\"sub-184_ses-2\",\"sub-185_ses-1\",\"sub-185_ses-2\",\"sub-186_ses-1\",\"sub-186_ses-2\",\"sub-187_ses-1\",\"sub-187_ses-2\",\"sub-188_ses-1\",\"sub-188_ses-2\",\"sub-189_ses-1\",\"sub-189_ses-2\",\"sub-18_ses-1\",\"sub-18_ses-2\",\"sub-190_ses-1\",\"sub-190_ses-2\",\"sub-191_ses-1\",\"sub-191_ses-2\",\"sub-192_ses-1\",\"sub-192_ses-2\",\"sub-193_ses-1\",\"sub-193_ses-2\",\"sub-194_ses-1\",\"sub-194_ses-2\",\"sub-195_ses-1\",\"sub-195_ses-2\",\"sub-196_ses-1\",\"sub-196_ses-2\",\"sub-197_ses-1\",\"sub-197_ses-2\",\"sub-198_ses-1\",\"sub-198_ses-2\",\"sub-199_ses-1\",\"sub-199_ses-2\",\"sub-19_ses-1\",\"sub-19_ses-2\",\"sub-200_ses-1\",\"sub-200_ses-2\",\"sub-201_ses-1\",\"sub-201_ses-2\",\"sub-202_ses-1\",\"sub-202_ses-2\",\"sub-203_ses-1\",\"sub-203_ses-2\",\"sub-204_ses-1\",\"sub-204_ses-2\",\"sub-205_ses-1\",\"sub-205_ses-2\",\"sub-206_ses-1\",\"sub-206_ses-2\",\"sub-207_ses-1\",\"sub-207_ses-2\",\"sub-208_ses-1\",\"sub-208_ses-2\",\"sub-209_ses-1\",\"sub-209_ses-2\",\"sub-20_ses-1\",\"sub-20_ses-2\",\"sub-210_ses-1\",\"sub-210_ses-2\",\"sub-211_ses-1\",\"sub-211_ses-2\",\"sub-212_ses-1\",\"sub-212_ses-2\",\"sub-213_ses-1\",\"sub-213_ses-2\",\"sub-214_ses-1\",\"sub-214_ses-2\",\"sub-215_ses-1\",\"sub-215_ses-2\",\"sub-216_ses-1\",\"sub-216_ses-2\",\"sub-217_ses-1\",\"sub-217_ses-2\",\"sub-218_ses-1\",\"sub-218_ses-2\",\"sub-219_ses-1\",\"sub-219_ses-2\",\"sub-21_ses-1\",\"sub-21_ses-2\",\"sub-220_ses-1\",\"sub-220_ses-2\",\"sub-222_ses-1\",\"sub-222_ses-2\",\"sub-223_ses-1\",\"sub-223_ses-2\",\"sub-224_ses-1\",\"sub-224_ses-2\",\"sub-225_ses-1\",\"sub-225_ses-2\",\"sub-226_ses-1\",\"sub-226_ses-2\",\"sub-227_ses-1\",\"sub-227_ses-2\",\"sub-228_ses-1\",\"sub-228_ses-2\",\"sub-229_ses-1\",\"sub-229_ses-2\",\"sub-22_ses-1\",\"sub-22_ses-2\",\"sub-230_ses-1\",\"sub-230_ses-2\",\"sub-231_ses-1\",\"sub-231_ses-2\",\"sub-232_ses-1\",\"sub-232_ses-2\",\"sub-233_ses-1\",\"sub-233_ses-2\",\"sub-234_ses-1\",\"sub-234_ses-2\",\"sub-235_ses-1\",\"sub-235_ses-2\",\"sub-236_ses-1\",\"sub-236_ses-2\",\"sub-237_ses-1\",\"sub-238_ses-1\",\"sub-238_ses-2\",\"sub-23_ses-1\",\"sub-23_ses-2\",\"sub-24_ses-1\",\"sub-24_ses-2\",\"sub-25_ses-1\",\"sub-25_ses-2\",\"sub-26_ses-1\",\"sub-26_ses-2\",\"sub-27_ses-1\",\"sub-27_ses-2\",\"sub-28_ses-1\",\"sub-28_ses-2\",\"sub-29_ses-1\",\"sub-29_ses-2\",\"sub-30_ses-1\",\"sub-30_ses-2\",\"sub-31_ses-1\",\"sub-31_ses-2\",\"sub-32_ses-1\",\"sub-32_ses-2\",\"sub-33_ses-1\",\"sub-34_ses-1\",\"sub-34_ses-2\",\"sub-35_ses-1\",\"sub-36_ses-1\",\"sub-36_ses-2\",\"sub-37_ses-1\",\"sub-37_ses-2\",\"sub-38_ses-1\",\"sub-38_ses-2\",\"sub-39_ses-1\",\"sub-39_ses-2\",\"sub-41_ses-1\",\"sub-41_ses-2\",\"sub-43_ses-1\",\"sub-43_ses-2\",\"sub-45_ses-1\",\"sub-45_ses-2\",\"sub-46_ses-1\",\"sub-46_ses-2\",\"sub-47_ses-1\",\"sub-47_ses-2\",\"sub-48_ses-1\",\"sub-48_ses-2\",\"sub-49_ses-1\",\"sub-49_ses-2\",\"sub-50_ses-1\",\"sub-50_ses-2\",\"sub-51_ses-1\",\"sub-51_ses-2\",\"sub-52_ses-1\",\"sub-52_ses-2\",\"sub-53_ses-2\",\"sub-55_ses-1\",\"sub-55_ses-2\",\"sub-56_ses-1\",\"sub-56_ses-2\",\"sub-57_ses-1\",\"sub-57_ses-2\",\"sub-58_ses-1\",\"sub-58_ses-2\",\"sub-59_ses-1\",\"sub-59_ses-2\",\"sub-60_ses-1\",\"sub-60_ses-2\",\"sub-61_ses-1\",\"sub-61_ses-2\",\"sub-62_ses-1\",\"sub-62_ses-2\",\"sub-63_ses-1\",\"sub-63_ses-2\",\"sub-64_ses-1\",\"sub-64_ses-2\",\"sub-66_ses-1\",\"sub-66_ses-2\",\"sub-67_ses-1\",\"sub-67_ses-2\",\"sub-68_ses-1\",\"sub-68_ses-2\",\"sub-69_ses-1\",\"sub-69_ses-2\",\"sub-70_ses-1\",\"sub-70_ses-2\",\"sub-71_ses-1\",\"sub-71_ses-2\",\"sub-73_ses-1\",\"sub-73_ses-2\",\"sub-74_ses-1\",\"sub-74_ses-2\",\"sub-75_ses-1\",\"sub-75_ses-2\",\"sub-76_ses-1\",\"sub-76_ses-2\",\"sub-77_ses-1\",\"sub-77_ses-2\",\"sub-78_ses-1\",\"sub-78_ses-2\",\"sub-79_ses-1\",\"sub-79_ses-2\",\"sub-80_ses-1\",\"sub-80_ses-2\",\"sub-81_ses-1\",\"sub-81_ses-2\",\"sub-82_ses-1\",\"sub-82_ses-2\",\"sub-83_ses-1\",\"sub-83_ses-2\",\"sub-84_ses-1\",\"sub-84_ses-2\",\"sub-85_ses-1\",\"sub-85_ses-2\",\"sub-86_ses-1\",\"sub-86_ses-2\",\"sub-87_ses-1\",\"sub-87_ses-2\",\"sub-88_ses-1\",\"sub-88_ses-2\",\"sub-89_ses-1\",\"sub-89_ses-2\",\"sub-90_ses-1\",\"sub-90_ses-2\",\"sub-91_ses-1\",\"sub-91_ses-2\",\"sub-92_ses-1\",\"sub-93_ses-1\",\"sub-93_ses-2\",\"sub-94_ses-1\",\"sub-94_ses-2\",\"sub-95_ses-1\",\"sub-95_ses-2\",\"sub-96_ses-1\",\"sub-96_ses-2\",\"sub-98_ses-1\",\"sub-98_ses-2\",\"sub-99_ses-1\",\"sub-99_ses-2\"]],[\"color\",{\"type\":\"ndarray\",\"array\":{\"type\":\"bytes\",\"data\":\"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\"},\"shape\":[434],\"dtype\":\"float64\",\"order\":\"little\"}],[\"size\",{\"type\":\"ndarray\",\"array\":{\"type\":\"bytes\",\"data\":\"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\"},\"shape\":[434],\"dtype\":\"float64\",\"order\":\"little\"}]]}}},\"view\":{\"type\":\"object\",\"name\":\"CDSView\",\"id\":\"p1062\",\"attributes\":{\"filter\":{\"type\":\"object\",\"name\":\"AllIndices\",\"id\":\"p1063\"}}},\"glyph\":{\"type\":\"object\",\"name\":\"Scatter\",\"id\":\"p1056\",\"attributes\":{\"tags\":[\"apply_ranges\"],\"x\":{\"type\":\"field\",\"field\":\"dist_BOLD_Basic\"},\"y\":{\"type\":\"field\",\"field\":\"dist_BOLD_MEICA\"},\"size\":{\"type\":\"field\",\"field\":\"size\"},\"line_color\":{\"type\":\"field\",\"field\":\"color\",\"transform\":{\"type\":\"object\",\"name\":\"LinearColorMapper\",\"id\":\"p1049\",\"attributes\":{\"palette\":[\"#440154\",\"#440255\",\"#440357\",\"#450558\",\"#45065a\",\"#45085b\",\"#46095c\",\"#460b5e\",\"#460c5f\",\"#460e61\",\"#470f62\",\"#471163\",\"#471265\",\"#471466\",\"#471567\",\"#471669\",\"#47186a\",\"#48196b\",\"#481a6c\",\"#481c6e\",\"#481d6f\",\"#481e70\",\"#482071\",\"#482172\",\"#482273\",\"#482374\",\"#472575\",\"#472676\",\"#472777\",\"#472878\",\"#472a79\",\"#472b7a\",\"#472c7b\",\"#462d7c\",\"#462f7c\",\"#46307d\",\"#46317e\",\"#45327f\",\"#45347f\",\"#453580\",\"#453681\",\"#443781\",\"#443982\",\"#433a83\",\"#433b83\",\"#433c84\",\"#423d84\",\"#423e85\",\"#424085\",\"#414186\",\"#414286\",\"#404387\",\"#404487\",\"#3f4587\",\"#3f4788\",\"#3e4888\",\"#3e4989\",\"#3d4a89\",\"#3d4b89\",\"#3d4c89\",\"#3c4d8a\",\"#3c4e8a\",\"#3b508a\",\"#3b518a\",\"#3a528b\",\"#3a538b\",\"#39548b\",\"#39558b\",\"#38568b\",\"#38578c\",\"#37588c\",\"#37598c\",\"#365a8c\",\"#365b8c\",\"#355c8c\",\"#355d8c\",\"#345e8d\",\"#345f8d\",\"#33608d\",\"#33618d\",\"#32628d\",\"#32638d\",\"#31648d\",\"#31658d\",\"#31668d\",\"#30678d\",\"#30688d\",\"#2f698d\",\"#2f6a8d\",\"#2e6b8e\",\"#2e6c8e\",\"#2e6d8e\",\"#2d6e8e\",\"#2d6f8e\",\"#2c708e\",\"#2c718e\",\"#2c728e\",\"#2b738e\",\"#2b748e\",\"#2a758e\",\"#2a768e\",\"#2a778e\",\"#29788e\",\"#29798e\",\"#287a8e\",\"#287a8e\",\"#287b8e\",\"#277c8e\",\"#277d8e\",\"#277e8e\",\"#267f8e\",\"#26808e\",\"#26818e\",\"#25828e\",\"#25838d\",\"#24848d\",\"#24858d\",\"#24868d\",\"#23878d\",\"#23888d\",\"#23898d\",\"#22898d\",\"#228a8d\",\"#228b8d\",\"#218c8d\",\"#218d8c\",\"#218e8c\",\"#208f8c\",\"#20908c\",\"#20918c\",\"#1f928c\",\"#1f938b\",\"#1f948b\",\"#1f958b\",\"#1f968b\",\"#1e978a\",\"#1e988a\",\"#1e998a\",\"#1e998a\",\"#1e9a89\",\"#1e9b89\",\"#1e9c89\",\"#1e9d88\",\"#1e9e88\",\"#1e9f88\",\"#1ea087\",\"#1fa187\",\"#1fa286\",\"#1fa386\",\"#20a485\",\"#20a585\",\"#21a685\",\"#21a784\",\"#22a784\",\"#23a883\",\"#23a982\",\"#24aa82\",\"#25ab81\",\"#26ac81\",\"#27ad80\",\"#28ae7f\",\"#29af7f\",\"#2ab07e\",\"#2bb17d\",\"#2cb17d\",\"#2eb27c\",\"#2fb37b\",\"#30b47a\",\"#32b57a\",\"#33b679\",\"#35b778\",\"#36b877\",\"#38b976\",\"#39b976\",\"#3bba75\",\"#3dbb74\",\"#3ebc73\",\"#40bd72\",\"#42be71\",\"#44be70\",\"#45bf6f\",\"#47c06e\",\"#49c16d\",\"#4bc26c\",\"#4dc26b\",\"#4fc369\",\"#51c468\",\"#53c567\",\"#55c666\",\"#57c665\",\"#59c764\",\"#5bc862\",\"#5ec961\",\"#60c960\",\"#62ca5f\",\"#64cb5d\",\"#67cc5c\",\"#69cc5b\",\"#6bcd59\",\"#6dce58\",\"#70ce56\",\"#72cf55\",\"#74d054\",\"#77d052\",\"#79d151\",\"#7cd24f\",\"#7ed24e\",\"#81d34c\",\"#83d34b\",\"#86d449\",\"#88d547\",\"#8bd546\",\"#8dd644\",\"#90d643\",\"#92d741\",\"#95d73f\",\"#97d83e\",\"#9ad83c\",\"#9dd93a\",\"#9fd938\",\"#a2da37\",\"#a5da35\",\"#a7db33\",\"#aadb32\",\"#addc30\",\"#afdc2e\",\"#b2dd2c\",\"#b5dd2b\",\"#b7dd29\",\"#bade27\",\"#bdde26\",\"#bfdf24\",\"#c2df22\",\"#c5df21\",\"#c7e01f\",\"#cae01e\",\"#cde01d\",\"#cfe11c\",\"#d2e11b\",\"#d4e11a\",\"#d7e219\",\"#dae218\",\"#dce218\",\"#dfe318\",\"#e1e318\",\"#e4e318\",\"#e7e419\",\"#e9e419\",\"#ece41a\",\"#eee51b\",\"#f1e51c\",\"#f3e51e\",\"#f6e61f\",\"#f8e621\",\"#fae622\",\"#fde724\"],\"low\":0,\"high\":30}}},\"line_alpha\":{\"type\":\"value\",\"value\":0.7},\"fill_color\":{\"type\":\"field\",\"field\":\"color\",\"transform\":{\"id\":\"p1049\"}},\"fill_alpha\":{\"type\":\"value\",\"value\":0.7},\"hatch_color\":{\"type\":\"field\",\"field\":\"color\",\"transform\":{\"id\":\"p1049\"}},\"hatch_alpha\":{\"type\":\"value\",\"value\":0.7}}},\"selection_glyph\":{\"type\":\"object\",\"name\":\"Scatter\",\"id\":\"p1058\",\"attributes\":{\"tags\":[\"apply_ranges\"],\"x\":{\"type\":\"field\",\"field\":\"dist_BOLD_Basic\"},\"y\":{\"type\":\"field\",\"field\":\"dist_BOLD_MEICA\"},\"size\":{\"type\":\"field\",\"field\":\"size\"},\"line_color\":{\"type\":\"field\",\"field\":\"color\",\"transform\":{\"id\":\"p1049\"}},\"line_alpha\":{\"type\":\"value\",\"value\":0.7},\"fill_color\":{\"type\":\"field\",\"field\":\"color\",\"transform\":{\"id\":\"p1049\"}},\"fill_alpha\":{\"type\":\"value\",\"value\":0.7},\"hatch_color\":{\"type\":\"field\",\"field\":\"color\",\"transform\":{\"id\":\"p1049\"}},\"hatch_alpha\":{\"type\":\"value\",\"value\":0.7}}},\"nonselection_glyph\":{\"type\":\"object\",\"name\":\"Scatter\",\"id\":\"p1057\",\"attributes\":{\"tags\":[\"apply_ranges\"],\"x\":{\"type\":\"field\",\"field\":\"dist_BOLD_Basic\"},\"y\":{\"type\":\"field\",\"field\":\"dist_BOLD_MEICA\"},\"size\":{\"type\":\"field\",\"field\":\"size\"},\"line_color\":{\"type\":\"field\",\"field\":\"color\",\"transform\":{\"id\":\"p1049\"}},\"line_alpha\":{\"type\":\"value\",\"value\":0.7},\"fill_color\":{\"type\":\"field\",\"field\":\"color\",\"transform\":{\"id\":\"p1049\"}},\"fill_alpha\":{\"type\":\"value\",\"value\":0.7},\"hatch_color\":{\"type\":\"field\",\"field\":\"color\",\"transform\":{\"id\":\"p1049\"}},\"hatch_alpha\":{\"type\":\"value\",\"value\":0.1}}},\"hover_glyph\":{\"type\":\"object\",\"name\":\"Scatter\",\"id\":\"p1059\",\"attributes\":{\"tags\":[\"apply_ranges\"],\"x\":{\"type\":\"field\",\"field\":\"dist_BOLD_Basic\"},\"y\":{\"type\":\"field\",\"field\":\"dist_BOLD_MEICA\"},\"size\":{\"type\":\"field\",\"field\":\"size\"},\"line_color\":{\"type\":\"field\",\"field\":\"color\",\"transform\":{\"id\":\"p1049\"}},\"line_alpha\":{\"type\":\"value\",\"value\":0.7},\"fill_color\":{\"type\":\"field\",\"field\":\"color\",\"transform\":{\"id\":\"p1049\"}},\"fill_alpha\":{\"type\":\"value\",\"value\":0.7},\"hatch_color\":{\"type\":\"field\",\"field\":\"color\",\"transform\":{\"id\":\"p1049\"}},\"hatch_alpha\":{\"type\":\"value\",\"value\":0.7}}},\"muted_glyph\":{\"type\":\"object\",\"name\":\"Scatter\",\"id\":\"p1060\",\"attributes\":{\"tags\":[\"apply_ranges\"],\"x\":{\"type\":\"field\",\"field\":\"dist_BOLD_Basic\"},\"y\":{\"type\":\"field\",\"field\":\"dist_BOLD_MEICA\"},\"size\":{\"type\":\"field\",\"field\":\"size\"},\"line_color\":{\"type\":\"field\",\"field\":\"color\",\"transform\":{\"id\":\"p1049\"}},\"line_alpha\":{\"type\":\"value\",\"value\":0.2},\"fill_color\":{\"type\":\"field\",\"field\":\"color\",\"transform\":{\"id\":\"p1049\"}},\"fill_alpha\":{\"type\":\"value\",\"value\":0.2},\"hatch_color\":{\"type\":\"field\",\"field\":\"color\",\"transform\":{\"id\":\"p1049\"}},\"hatch_alpha\":{\"type\":\"value\",\"value\":0.2}}}}}],\"tooltips\":[[\"dist_BOLD_Basic\",\"@{dist_BOLD_Basic}\"],[\"dist_BOLD_MEICA\",\"@{dist_BOLD_MEICA}\"],[\"Var. accepted\",\"@{Var_full_stop_accepted}\"],[\"Percent Censored\",\"@{Percent_Censored}\"],[\"scan\",\"@{scan}\"]]}},{\"type\":\"object\",\"name\":\"HoverTool\",\"id\":\"p1077\",\"attributes\":{\"tags\":[\"hv_created\"],\"renderers\":[{\"type\":\"object\",\"name\":\"GlyphRenderer\",\"id\":\"p1123\",\"attributes\":{\"data_source\":{\"type\":\"object\",\"name\":\"ColumnDataSource\",\"id\":\"p1112\",\"attributes\":{\"selected\":{\"type\":\"object\",\"name\":\"Selection\",\"id\":\"p1113\",\"attributes\":{\"indices\":[],\"line_indices\":[]}},\"selection_policy\":{\"type\":\"object\",\"name\":\"UnionRenderers\",\"id\":\"p1114\"},\"data\":{\"type\":\"map\",\"entries\":[[\"dist_NonBOLD_Basic\",{\"type\":\"ndarray\",\"array\":{\"type\":\"bytes\",\"data\":\"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\"},\"shape\":[434],\"dtype\":\"float64\",\"order\":\"little\"}],[\"dist_NonBOLD_MEICA\",{\"type\":\"ndarray\",\"array\":{\"type\":\"bytes\",\"data\":\"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\"},\"shape\":[434],\"dtype\":\"float64\",\"order\":\"little\"}],[\"Var_full_stop_accepted\",{\"type\":\"ndarray\",\"array\":{\"type\":\"bytes\",\"data\":\"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\"},\"shape\":[434],\"dtype\":\"float64\",\"order\":\"little\"}],[\"Percent_Censored\",{\"type\":\"ndarray\",\"array\":{\"type\":\"bytes\",\"data\":\"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\"},\"shape\":[434],\"dtype\":\"float64\",\"order\":\"little\"}],[\"scan\",[\"sub-01_ses-1\",\"sub-01_ses-2\",\"sub-02_ses-1\",\"sub-02_ses-2\",\"sub-03_ses-1\",\"sub-03_ses-2\",\"sub-04_ses-1\",\"sub-04_ses-2\",\"sub-05_ses-1\",\"sub-05_ses-2\",\"sub-06_ses-1\",\"sub-06_ses-2\",\"sub-07_ses-1\",\"sub-07_ses-2\",\"sub-08_ses-1\",\"sub-08_ses-2\",\"sub-09_ses-1\",\"sub-09_ses-2\",\"sub-101_ses-1\",\"sub-101_ses-2\",\"sub-104_ses-1\",\"sub-104_ses-2\",\"sub-106_ses-1\",\"sub-106_ses-2\",\"sub-107_ses-1\",\"sub-107_ses-2\",\"sub-108_ses-1\",\"sub-108_ses-2\",\"sub-109_ses-1\",\"sub-109_ses-2\",\"sub-10_ses-1\",\"sub-10_ses-2\",\"sub-110_ses-1\",\"sub-110_ses-2\",\"sub-111_ses-1\",\"sub-111_ses-2\",\"sub-112_ses-1\",\"sub-112_ses-2\",\"sub-113_ses-1\",\"sub-113_ses-2\",\"sub-114_ses-1\",\"sub-114_ses-2\",\"sub-115_ses-1\",\"sub-115_ses-2\",\"sub-116_ses-1\",\"sub-116_ses-2\",\"sub-117_ses-1\",\"sub-118_ses-1\",\"sub-118_ses-2\",\"sub-119_ses-1\",\"sub-119_ses-2\",\"sub-11_ses-1\",\"sub-11_ses-2\",\"sub-120_ses-1\",\"sub-120_ses-2\",\"sub-121_ses-1\",\"sub-121_ses-2\",\"sub-122_ses-1\",\"sub-122_ses-2\",\"sub-123_ses-1\",\"sub-123_ses-2\",\"sub-124_ses-1\",\"sub-124_ses-2\",\"sub-125_ses-1\",\"sub-125_ses-2\",\"sub-127_ses-1\",\"sub-127_ses-2\",\"sub-128_ses-1\",\"sub-128_ses-2\",\"sub-129_ses-1\",\"sub-129_ses-2\",\"sub-12_ses-2\",\"sub-130_ses-1\",\"sub-130_ses-2\",\"sub-132_ses-1\",\"sub-132_ses-2\",\"sub-133_ses-1\",\"sub-133_ses-2\",\"sub-134_ses-1\",\"sub-134_ses-2\",\"sub-135_ses-1\",\"sub-135_ses-2\",\"sub-136_ses-1\",\"sub-136_ses-2\",\"sub-137_ses-1\",\"sub-137_ses-2\",\"sub-138_ses-1\",\"sub-138_ses-2\",\"sub-139_ses-1\",\"sub-139_ses-2\",\"sub-13_ses-1\",\"sub-13_ses-2\",\"sub-140_ses-1\",\"sub-140_ses-2\",\"sub-141_ses-1\",\"sub-141_ses-2\",\"sub-142_ses-1\",\"sub-143_ses-1\",\"sub-143_ses-2\",\"sub-144_ses-1\",\"sub-144_ses-2\",\"sub-145_ses-1\",\"sub-145_ses-2\",\"sub-146_ses-1\",\"sub-146_ses-2\",\"sub-147_ses-1\",\"sub-147_ses-2\",\"sub-148_ses-1\",\"sub-148_ses-2\",\"sub-14_ses-1\",\"sub-14_ses-2\",\"sub-150_ses-1\",\"sub-150_ses-2\",\"sub-151_ses-1\",\"sub-151_ses-2\",\"sub-152_ses-1\",\"sub-152_ses-2\",\"sub-153_ses-1\",\"sub-153_ses-2\",\"sub-154_ses-1\",\"sub-154_ses-2\",\"sub-155_ses-1\",\"sub-155_ses-2\",\"sub-156_ses-1\",\"sub-156_ses-2\",\"sub-157_ses-1\",\"sub-157_ses-2\",\"sub-158_ses-1\",\"sub-158_ses-2\",\"sub-159_ses-1\",\"sub-159_ses-2\",\"sub-15_ses-1\",\"sub-15_ses-2\",\"sub-160_ses-1\",\"sub-160_ses-2\",\"sub-161_ses-1\",\"sub-161_ses-2\",\"sub-162_ses-1\",\"sub-162_ses-2\",\"sub-163_ses-1\",\"sub-163_ses-2\",\"sub-164_ses-1\",\"sub-164_ses-2\",\"sub-165_ses-1\",\"sub-165_ses-2\",\"sub-166_ses-1\",\"sub-166_ses-2\",\"sub-167_ses-1\",\"sub-167_ses-2\",\"sub-168_ses-1\",\"sub-168_ses-2\",\"sub-169_ses-1\",\"sub-169_ses-2\",\"sub-16_ses-1\",\"sub-16_ses-2\",\"sub-170_ses-1\",\"sub-170_ses-2\",\"sub-171_ses-1\",\"sub-171_ses-2\",\"sub-172_ses-1\",\"sub-172_ses-2\",\"sub-173_ses-1\",\"sub-173_ses-2\",\"sub-174_ses-1\",\"sub-174_ses-2\",\"sub-175_ses-1\",\"sub-175_ses-2\",\"sub-176_ses-1\",\"sub-176_ses-2\",\"sub-177_ses-1\",\"sub-177_ses-2\",\"sub-17_ses-1\",\"sub-17_ses-2\",\"sub-180_ses-1\",\"sub-180_ses-2\",\"sub-181_ses-1\",\"sub-181_ses-2\",\"sub-182_ses-1\",\"sub-182_ses-2\",\"sub-183_ses-1\",\"sub-183_ses-2\",\"sub-184_ses-1\",\"sub-184_ses-2\",\"sub-185_ses-1\",\"sub-185_ses-2\",\"sub-186_ses-1\",\"sub-186_ses-2\",\"sub-187_ses-1\",\"sub-187_ses-2\",\"sub-188_ses-1\",\"sub-188_ses-2\",\"sub-189_ses-1\",\"sub-189_ses-2\",\"sub-18_ses-1\",\"sub-18_ses-2\",\"sub-190_ses-1\",\"sub-190_ses-2\",\"sub-191_ses-1\",\"sub-191_ses-2\",\"sub-192_ses-1\",\"sub-192_ses-2\",\"sub-193_ses-1\",\"sub-193_ses-2\",\"sub-194_ses-1\",\"sub-194_ses-2\",\"sub-195_ses-1\",\"sub-195_ses-2\",\"sub-196_ses-1\",\"sub-196_ses-2\",\"sub-197_ses-1\",\"sub-197_ses-2\",\"sub-198_ses-1\",\"sub-198_ses-2\",\"sub-199_ses-1\",\"sub-199_ses-2\",\"sub-19_ses-1\",\"sub-19_ses-2\",\"sub-200_ses-1\",\"sub-200_ses-2\",\"sub-201_ses-1\",\"sub-201_ses-2\",\"sub-202_ses-1\",\"sub-202_ses-2\",\"sub-203_ses-1\",\"sub-203_ses-2\",\"sub-204_ses-1\",\"sub-204_ses-2\",\"sub-205_ses-1\",\"sub-205_ses-2\",\"sub-206_ses-1\",\"sub-206_ses-2\",\"sub-207_ses-1\",\"sub-207_ses-2\",\"sub-208_ses-1\",\"sub-208_ses-2\",\"sub-209_ses-1\",\"sub-209_ses-2\",\"sub-20_ses-1\",\"sub-20_ses-2\",\"sub-210_ses-1\",\"sub-210_ses-2\",\"sub-211_ses-1\",\"sub-211_ses-2\",\"sub-212_ses-1\",\"sub-212_ses-2\",\"sub-213_ses-1\",\"sub-213_ses-2\",\"sub-214_ses-1\",\"sub-214_ses-2\",\"sub-215_ses-1\",\"sub-215_ses-2\",\"sub-216_ses-1\",\"sub-216_ses-2\",\"sub-217_ses-1\",\"sub-217_ses-2\",\"sub-218_ses-1\",\"sub-218_ses-2\",\"sub-219_ses-1\",\"sub-219_ses-2\",\"sub-21_ses-1\",\"sub-21_ses-2\",\"sub-220_ses-1\",\"sub-220_ses-2\",\"sub-222_ses-1\",\"sub-222_ses-2\",\"sub-223_ses-1\",\"sub-223_ses-2\",\"sub-224_ses-1\",\"sub-224_ses-2\",\"sub-225_ses-1\",\"sub-225_ses-2\",\"sub-226_ses-1\",\"sub-226_ses-2\",\"sub-227_ses-1\",\"sub-227_ses-2\",\"sub-228_ses-1\",\"sub-228_ses-2\",\"sub-229_ses-1\",\"sub-229_ses-2\",\"sub-22_ses-1\",\"sub-22_ses-2\",\"sub-230_ses-1\",\"sub-230_ses-2\",\"sub-231_ses-1\",\"sub-231_ses-2\",\"sub-232_ses-1\",\"sub-232_ses-2\",\"sub-233_ses-1\",\"sub-233_ses-2\",\"sub-234_ses-1\",\"sub-234_ses-2\",\"sub-235_ses-1\",\"sub-235_ses-2\",\"sub-236_ses-1\",\"sub-236_ses-2\",\"sub-237_ses-1\",\"sub-238_ses-1\",\"sub-238_ses-2\",\"sub-23_ses-1\",\"sub-23_ses-2\",\"sub-24_ses-1\",\"sub-24_ses-2\",\"sub-25_ses-1\",\"sub-25_ses-2\",\"sub-26_ses-1\",\"sub-26_ses-2\",\"sub-27_ses-1\",\"sub-27_ses-2\",\"sub-28_ses-1\",\"sub-28_ses-2\",\"sub-29_ses-1\",\"sub-29_ses-2\",\"sub-30_ses-1\",\"sub-30_ses-2\",\"sub-31_ses-1\",\"sub-31_ses-2\",\"sub-32_ses-1\",\"sub-32_ses-2\",\"sub-33_ses-1\",\"sub-34_ses-1\",\"sub-34_ses-2\",\"sub-35_ses-1\",\"sub-36_ses-1\",\"sub-36_ses-2\",\"sub-37_ses-1\",\"sub-37_ses-2\",\"sub-38_ses-1\",\"sub-38_ses-2\",\"sub-39_ses-1\",\"sub-39_ses-2\",\"sub-41_ses-1\",\"sub-41_ses-2\",\"sub-43_ses-1\",\"sub-43_ses-2\",\"sub-45_ses-1\",\"sub-45_ses-2\",\"sub-46_ses-1\",\"sub-46_ses-2\",\"sub-47_ses-1\",\"sub-47_ses-2\",\"sub-48_ses-1\",\"sub-48_ses-2\",\"sub-49_ses-1\",\"sub-49_ses-2\",\"sub-50_ses-1\",\"sub-50_ses-2\",\"sub-51_ses-1\",\"sub-51_ses-2\",\"sub-52_ses-1\",\"sub-52_ses-2\",\"sub-53_ses-2\",\"sub-55_ses-1\",\"sub-55_ses-2\",\"sub-56_ses-1\",\"sub-56_ses-2\",\"sub-57_ses-1\",\"sub-57_ses-2\",\"sub-58_ses-1\",\"sub-58_ses-2\",\"sub-59_ses-1\",\"sub-59_ses-2\",\"sub-60_ses-1\",\"sub-60_ses-2\",\"sub-61_ses-1\",\"sub-61_ses-2\",\"sub-62_ses-1\",\"sub-62_ses-2\",\"sub-63_ses-1\",\"sub-63_ses-2\",\"sub-64_ses-1\",\"sub-64_ses-2\",\"sub-66_ses-1\",\"sub-66_ses-2\",\"sub-67_ses-1\",\"sub-67_ses-2\",\"sub-68_ses-1\",\"sub-68_ses-2\",\"sub-69_ses-1\",\"sub-69_ses-2\",\"sub-70_ses-1\",\"sub-70_ses-2\",\"sub-71_ses-1\",\"sub-71_ses-2\",\"sub-73_ses-1\",\"sub-73_ses-2\",\"sub-74_ses-1\",\"sub-74_ses-2\",\"sub-75_ses-1\",\"sub-75_ses-2\",\"sub-76_ses-1\",\"sub-76_ses-2\",\"sub-77_ses-1\",\"sub-77_ses-2\",\"sub-78_ses-1\",\"sub-78_ses-2\",\"sub-79_ses-1\",\"sub-79_ses-2\",\"sub-80_ses-1\",\"sub-80_ses-2\",\"sub-81_ses-1\",\"sub-81_ses-2\",\"sub-82_ses-1\",\"sub-82_ses-2\",\"sub-83_ses-1\",\"sub-83_ses-2\",\"sub-84_ses-1\",\"sub-84_ses-2\",\"sub-85_ses-1\",\"sub-85_ses-2\",\"sub-86_ses-1\",\"sub-86_ses-2\",\"sub-87_ses-1\",\"sub-87_ses-2\",\"sub-88_ses-1\",\"sub-88_ses-2\",\"sub-89_ses-1\",\"sub-89_ses-2\",\"sub-90_ses-1\",\"sub-90_ses-2\",\"sub-91_ses-1\",\"sub-91_ses-2\",\"sub-92_ses-1\",\"sub-93_ses-1\",\"sub-93_ses-2\",\"sub-94_ses-1\",\"sub-94_ses-2\",\"sub-95_ses-1\",\"sub-95_ses-2\",\"sub-96_ses-1\",\"sub-96_ses-2\",\"sub-98_ses-1\",\"sub-98_ses-2\",\"sub-99_ses-1\",\"sub-99_ses-2\"]],[\"color\",{\"type\":\"ndarray\",\"array\":{\"type\":\"bytes\",\"data\":\"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\"},\"shape\":[434],\"dtype\":\"float64\",\"order\":\"little\"}],[\"size\",{\"type\":\"ndarray\",\"array\":{\"type\":\"bytes\",\"data\":\"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\"},\"shape\":[434],\"dtype\":\"float64\",\"order\":\"little\"}]]}}},\"view\":{\"type\":\"object\",\"name\":\"CDSView\",\"id\":\"p1124\",\"attributes\":{\"filter\":{\"type\":\"object\",\"name\":\"AllIndices\",\"id\":\"p1125\"}}},\"glyph\":{\"type\":\"object\",\"name\":\"Scatter\",\"id\":\"p1118\",\"attributes\":{\"tags\":[\"apply_ranges\"],\"x\":{\"type\":\"field\",\"field\":\"dist_NonBOLD_Basic\"},\"y\":{\"type\":\"field\",\"field\":\"dist_NonBOLD_MEICA\"},\"size\":{\"type\":\"field\",\"field\":\"size\"},\"line_color\":{\"type\":\"field\",\"field\":\"color\",\"transform\":{\"type\":\"object\",\"name\":\"LinearColorMapper\",\"id\":\"p1111\",\"attributes\":{\"palette\":[\"#440154\",\"#440255\",\"#440357\",\"#450558\",\"#45065a\",\"#45085b\",\"#46095c\",\"#460b5e\",\"#460c5f\",\"#460e61\",\"#470f62\",\"#471163\",\"#471265\",\"#471466\",\"#471567\",\"#471669\",\"#47186a\",\"#48196b\",\"#481a6c\",\"#481c6e\",\"#481d6f\",\"#481e70\",\"#482071\",\"#482172\",\"#482273\",\"#482374\",\"#472575\",\"#472676\",\"#472777\",\"#472878\",\"#472a79\",\"#472b7a\",\"#472c7b\",\"#462d7c\",\"#462f7c\",\"#46307d\",\"#46317e\",\"#45327f\",\"#45347f\",\"#453580\",\"#453681\",\"#443781\",\"#443982\",\"#433a83\",\"#433b83\",\"#433c84\",\"#423d84\",\"#423e85\",\"#424085\",\"#414186\",\"#414286\",\"#404387\",\"#404487\",\"#3f4587\",\"#3f4788\",\"#3e4888\",\"#3e4989\",\"#3d4a89\",\"#3d4b89\",\"#3d4c89\",\"#3c4d8a\",\"#3c4e8a\",\"#3b508a\",\"#3b518a\",\"#3a528b\",\"#3a538b\",\"#39548b\",\"#39558b\",\"#38568b\",\"#38578c\",\"#37588c\",\"#37598c\",\"#365a8c\",\"#365b8c\",\"#355c8c\",\"#355d8c\",\"#345e8d\",\"#345f8d\",\"#33608d\",\"#33618d\",\"#32628d\",\"#32638d\",\"#31648d\",\"#31658d\",\"#31668d\",\"#30678d\",\"#30688d\",\"#2f698d\",\"#2f6a8d\",\"#2e6b8e\",\"#2e6c8e\",\"#2e6d8e\",\"#2d6e8e\",\"#2d6f8e\",\"#2c708e\",\"#2c718e\",\"#2c728e\",\"#2b738e\",\"#2b748e\",\"#2a758e\",\"#2a768e\",\"#2a778e\",\"#29788e\",\"#29798e\",\"#287a8e\",\"#287a8e\",\"#287b8e\",\"#277c8e\",\"#277d8e\",\"#277e8e\",\"#267f8e\",\"#26808e\",\"#26818e\",\"#25828e\",\"#25838d\",\"#24848d\",\"#24858d\",\"#24868d\",\"#23878d\",\"#23888d\",\"#23898d\",\"#22898d\",\"#228a8d\",\"#228b8d\",\"#218c8d\",\"#218d8c\",\"#218e8c\",\"#208f8c\",\"#20908c\",\"#20918c\",\"#1f928c\",\"#1f938b\",\"#1f948b\",\"#1f958b\",\"#1f968b\",\"#1e978a\",\"#1e988a\",\"#1e998a\",\"#1e998a\",\"#1e9a89\",\"#1e9b89\",\"#1e9c89\",\"#1e9d88\",\"#1e9e88\",\"#1e9f88\",\"#1ea087\",\"#1fa187\",\"#1fa286\",\"#1fa386\",\"#20a485\",\"#20a585\",\"#21a685\",\"#21a784\",\"#22a784\",\"#23a883\",\"#23a982\",\"#24aa82\",\"#25ab81\",\"#26ac81\",\"#27ad80\",\"#28ae7f\",\"#29af7f\",\"#2ab07e\",\"#2bb17d\",\"#2cb17d\",\"#2eb27c\",\"#2fb37b\",\"#30b47a\",\"#32b57a\",\"#33b679\",\"#35b778\",\"#36b877\",\"#38b976\",\"#39b976\",\"#3bba75\",\"#3dbb74\",\"#3ebc73\",\"#40bd72\",\"#42be71\",\"#44be70\",\"#45bf6f\",\"#47c06e\",\"#49c16d\",\"#4bc26c\",\"#4dc26b\",\"#4fc369\",\"#51c468\",\"#53c567\",\"#55c666\",\"#57c665\",\"#59c764\",\"#5bc862\",\"#5ec961\",\"#60c960\",\"#62ca5f\",\"#64cb5d\",\"#67cc5c\",\"#69cc5b\",\"#6bcd59\",\"#6dce58\",\"#70ce56\",\"#72cf55\",\"#74d054\",\"#77d052\",\"#79d151\",\"#7cd24f\",\"#7ed24e\",\"#81d34c\",\"#83d34b\",\"#86d449\",\"#88d547\",\"#8bd546\",\"#8dd644\",\"#90d643\",\"#92d741\",\"#95d73f\",\"#97d83e\",\"#9ad83c\",\"#9dd93a\",\"#9fd938\",\"#a2da37\",\"#a5da35\",\"#a7db33\",\"#aadb32\",\"#addc30\",\"#afdc2e\",\"#b2dd2c\",\"#b5dd2b\",\"#b7dd29\",\"#bade27\",\"#bdde26\",\"#bfdf24\",\"#c2df22\",\"#c5df21\",\"#c7e01f\",\"#cae01e\",\"#cde01d\",\"#cfe11c\",\"#d2e11b\",\"#d4e11a\",\"#d7e219\",\"#dae218\",\"#dce218\",\"#dfe318\",\"#e1e318\",\"#e4e318\",\"#e7e419\",\"#e9e419\",\"#ece41a\",\"#eee51b\",\"#f1e51c\",\"#f3e51e\",\"#f6e61f\",\"#f8e621\",\"#fae622\",\"#fde724\"],\"low\":0,\"high\":30}}},\"line_alpha\":{\"type\":\"value\",\"value\":0.7},\"fill_color\":{\"type\":\"field\",\"field\":\"color\",\"transform\":{\"id\":\"p1111\"}},\"fill_alpha\":{\"type\":\"value\",\"value\":0.7},\"hatch_color\":{\"type\":\"field\",\"field\":\"color\",\"transform\":{\"id\":\"p1111\"}},\"hatch_alpha\":{\"type\":\"value\",\"value\":0.7}}},\"selection_glyph\":{\"type\":\"object\",\"name\":\"Scatter\",\"id\":\"p1120\",\"attributes\":{\"tags\":[\"apply_ranges\"],\"x\":{\"type\":\"field\",\"field\":\"dist_NonBOLD_Basic\"},\"y\":{\"type\":\"field\",\"field\":\"dist_NonBOLD_MEICA\"},\"size\":{\"type\":\"field\",\"field\":\"size\"},\"line_color\":{\"type\":\"field\",\"field\":\"color\",\"transform\":{\"id\":\"p1111\"}},\"line_alpha\":{\"type\":\"value\",\"value\":0.7},\"fill_color\":{\"type\":\"field\",\"field\":\"color\",\"transform\":{\"id\":\"p1111\"}},\"fill_alpha\":{\"type\":\"value\",\"value\":0.7},\"hatch_color\":{\"type\":\"field\",\"field\":\"color\",\"transform\":{\"id\":\"p1111\"}},\"hatch_alpha\":{\"type\":\"value\",\"value\":0.7}}},\"nonselection_glyph\":{\"type\":\"object\",\"name\":\"Scatter\",\"id\":\"p1119\",\"attributes\":{\"tags\":[\"apply_ranges\"],\"x\":{\"type\":\"field\",\"field\":\"dist_NonBOLD_Basic\"},\"y\":{\"type\":\"field\",\"field\":\"dist_NonBOLD_MEICA\"},\"size\":{\"type\":\"field\",\"field\":\"size\"},\"line_color\":{\"type\":\"field\",\"field\":\"color\",\"transform\":{\"id\":\"p1111\"}},\"line_alpha\":{\"type\":\"value\",\"value\":0.7},\"fill_color\":{\"type\":\"field\",\"field\":\"color\",\"transform\":{\"id\":\"p1111\"}},\"fill_alpha\":{\"type\":\"value\",\"value\":0.7},\"hatch_color\":{\"type\":\"field\",\"field\":\"color\",\"transform\":{\"id\":\"p1111\"}},\"hatch_alpha\":{\"type\":\"value\",\"value\":0.1}}},\"hover_glyph\":{\"type\":\"object\",\"name\":\"Scatter\",\"id\":\"p1121\",\"attributes\":{\"tags\":[\"apply_ranges\"],\"x\":{\"type\":\"field\",\"field\":\"dist_NonBOLD_Basic\"},\"y\":{\"type\":\"field\",\"field\":\"dist_NonBOLD_MEICA\"},\"size\":{\"type\":\"field\",\"field\":\"size\"},\"line_color\":{\"type\":\"field\",\"field\":\"color\",\"transform\":{\"id\":\"p1111\"}},\"line_alpha\":{\"type\":\"value\",\"value\":0.7},\"fill_color\":{\"type\":\"field\",\"field\":\"color\",\"transform\":{\"id\":\"p1111\"}},\"fill_alpha\":{\"type\":\"value\",\"value\":0.7},\"hatch_color\":{\"type\":\"field\",\"field\":\"color\",\"transform\":{\"id\":\"p1111\"}},\"hatch_alpha\":{\"type\":\"value\",\"value\":0.7}}},\"muted_glyph\":{\"type\":\"object\",\"name\":\"Scatter\",\"id\":\"p1122\",\"attributes\":{\"tags\":[\"apply_ranges\"],\"x\":{\"type\":\"field\",\"field\":\"dist_NonBOLD_Basic\"},\"y\":{\"type\":\"field\",\"field\":\"dist_NonBOLD_MEICA\"},\"size\":{\"type\":\"field\",\"field\":\"size\"},\"line_color\":{\"type\":\"field\",\"field\":\"color\",\"transform\":{\"id\":\"p1111\"}},\"line_alpha\":{\"type\":\"value\",\"value\":0.2},\"fill_color\":{\"type\":\"field\",\"field\":\"color\",\"transform\":{\"id\":\"p1111\"}},\"fill_alpha\":{\"type\":\"value\",\"value\":0.2},\"hatch_color\":{\"type\":\"field\",\"field\":\"color\",\"transform\":{\"id\":\"p1111\"}},\"hatch_alpha\":{\"type\":\"value\",\"value\":0.2}}}}}],\"tooltips\":[[\"dist_NonBOLD_Basic\",\"@{dist_NonBOLD_Basic}\"],[\"dist_NonBOLD_MEICA\",\"@{dist_NonBOLD_MEICA}\"],[\"Var. accepted\",\"@{Var_full_stop_accepted}\"],[\"Percent Censored\",\"@{Percent_Censored}\"],[\"scan\",\"@{scan}\"]]}}]}},{\"type\":\"object\",\"name\":\"SaveTool\",\"id\":\"p1138\"},{\"type\":\"object\",\"name\":\"ToolProxy\",\"id\":\"p1139\",\"attributes\":{\"tools\":[{\"type\":\"object\",\"name\":\"PanTool\",\"id\":\"p1041\"},{\"type\":\"object\",\"name\":\"PanTool\",\"id\":\"p1103\"}]}},{\"type\":\"object\",\"name\":\"ToolProxy\",\"id\":\"p1140\",\"attributes\":{\"tools\":[{\"type\":\"object\",\"name\":\"BoxZoomTool\",\"id\":\"p1042\",\"attributes\":{\"overlay\":{\"type\":\"object\",\"name\":\"BoxAnnotation\",\"id\":\"p1043\",\"attributes\":{\"syncable\":false,\"level\":\"overlay\",\"visible\":false,\"left\":{\"type\":\"number\",\"value\":\"nan\"},\"right\":{\"type\":\"number\",\"value\":\"nan\"},\"top\":{\"type\":\"number\",\"value\":\"nan\"},\"bottom\":{\"type\":\"number\",\"value\":\"nan\"},\"left_units\":\"canvas\",\"right_units\":\"canvas\",\"top_units\":\"canvas\",\"bottom_units\":\"canvas\",\"line_color\":\"black\",\"line_alpha\":1.0,\"line_width\":2,\"line_dash\":[4,4],\"fill_color\":\"lightgrey\",\"fill_alpha\":0.5}}}},{\"type\":\"object\",\"name\":\"BoxZoomTool\",\"id\":\"p1104\",\"attributes\":{\"overlay\":{\"type\":\"object\",\"name\":\"BoxAnnotation\",\"id\":\"p1105\",\"attributes\":{\"syncable\":false,\"level\":\"overlay\",\"visible\":false,\"left\":{\"type\":\"number\",\"value\":\"nan\"},\"right\":{\"type\":\"number\",\"value\":\"nan\"},\"top\":{\"type\":\"number\",\"value\":\"nan\"},\"bottom\":{\"type\":\"number\",\"value\":\"nan\"},\"left_units\":\"canvas\",\"right_units\":\"canvas\",\"top_units\":\"canvas\",\"bottom_units\":\"canvas\",\"line_color\":\"black\",\"line_alpha\":1.0,\"line_width\":2,\"line_dash\":[4,4],\"fill_color\":\"lightgrey\",\"fill_alpha\":0.5}}}}]}},{\"type\":\"object\",\"name\":\"ToolProxy\",\"id\":\"p1141\",\"attributes\":{\"tools\":[{\"type\":\"object\",\"name\":\"ResetTool\",\"id\":\"p1048\"},{\"type\":\"object\",\"name\":\"ResetTool\",\"id\":\"p1110\"}]}}]}},\"children\":[[{\"type\":\"object\",\"name\":\"Figure\",\"id\":\"p1018\",\"attributes\":{\"width\":null,\"height\":null,\"sizing_mode\":\"fixed\",\"align\":\"start\",\"x_range\":{\"type\":\"object\",\"name\":\"Range1d\",\"id\":\"p1009\",\"attributes\":{\"tags\":[[[\"dist_BOLD_Basic\",null]],[]],\"start\":-0.01,\"end\":3.1,\"reset_start\":-0.01,\"reset_end\":3.1}},\"y_range\":{\"type\":\"object\",\"name\":\"Range1d\",\"id\":\"p1010\",\"attributes\":{\"tags\":[[[\"dist_BOLD_MEICA\",null]],{\"type\":\"map\",\"entries\":[[\"invert_yaxis\",false],[\"autorange\",false]]}],\"start\":-0.01,\"end\":3.1,\"reset_start\":-0.01,\"reset_end\":3.1}},\"x_scale\":{\"type\":\"object\",\"name\":\"LinearScale\",\"id\":\"p1028\"},\"y_scale\":{\"type\":\"object\",\"name\":\"LinearScale\",\"id\":\"p1029\"},\"title\":{\"type\":\"object\",\"name\":\"Title\",\"id\":\"p1021\",\"attributes\":{\"text_color\":\"black\",\"text_font_size\":\"12pt\"}},\"renderers\":[{\"id\":\"p1061\"}],\"toolbar\":{\"type\":\"object\",\"name\":\"Toolbar\",\"id\":\"p1027\",\"attributes\":{\"tools\":[{\"id\":\"p1014\"},{\"id\":\"p1015\"},{\"type\":\"object\",\"name\":\"SaveTool\",\"id\":\"p1040\"},{\"id\":\"p1041\"},{\"id\":\"p1042\"},{\"id\":\"p1048\"}],\"active_drag\":{\"id\":\"p1041\"},\"active_scroll\":{\"id\":\"p1014\"}}},\"toolbar_location\":null,\"left\":[{\"type\":\"object\",\"name\":\"LinearAxis\",\"id\":\"p1035\",\"attributes\":{\"ticker\":{\"type\":\"object\",\"name\":\"BasicTicker\",\"id\":\"p1036\",\"attributes\":{\"mantissas\":[1,2,5]}},\"formatter\":{\"type\":\"object\",\"name\":\"BasicTickFormatter\",\"id\":\"p1037\"},\"axis_label\":\"dist_BOLD_MEICA\",\"major_label_policy\":{\"type\":\"object\",\"name\":\"AllLabels\",\"id\":\"p1038\"}}}],\"right\":[{\"type\":\"object\",\"name\":\"ColorBar\",\"id\":\"p1065\",\"attributes\":{\"location\":[0,0],\"ticker\":{\"type\":\"object\",\"name\":\"BasicTicker\",\"id\":\"p1064\",\"attributes\":{\"mantissas\":[1,2,5]}},\"major_label_policy\":{\"type\":\"object\",\"name\":\"NoOverlap\",\"id\":\"p1066\"},\"label_standoff\":8,\"major_tick_line_color\":\"black\",\"bar_line_color\":\"black\",\"color_mapper\":{\"id\":\"p1049\"}}}],\"below\":[{\"type\":\"object\",\"name\":\"LinearAxis\",\"id\":\"p1030\",\"attributes\":{\"ticker\":{\"type\":\"object\",\"name\":\"BasicTicker\",\"id\":\"p1031\",\"attributes\":{\"mantissas\":[1,2,5]}},\"formatter\":{\"type\":\"object\",\"name\":\"BasicTickFormatter\",\"id\":\"p1032\"},\"axis_label\":\"dist_BOLD_Basic\",\"major_label_policy\":{\"type\":\"object\",\"name\":\"AllLabels\",\"id\":\"p1033\"}}}],\"center\":[{\"type\":\"object\",\"name\":\"Grid\",\"id\":\"p1034\",\"attributes\":{\"axis\":{\"id\":\"p1030\"},\"grid_line_color\":null}},{\"type\":\"object\",\"name\":\"Grid\",\"id\":\"p1039\",\"attributes\":{\"dimension\":1,\"axis\":{\"id\":\"p1035\"},\"grid_line_color\":null}},{\"type\":\"object\",\"name\":\"Slope\",\"id\":\"p1070\",\"attributes\":{\"level\":\"glyph\",\"gradient\":1,\"y_intercept\":0,\"line_color\":\"#000000\",\"line_width\":0.5,\"line_dash\":[6]}}],\"frame_width\":300,\"frame_height\":300,\"min_border_top\":10,\"min_border_bottom\":10,\"min_border_left\":10,\"min_border_right\":10,\"output_backend\":\"webgl\"}},0,0],[{\"type\":\"object\",\"name\":\"Figure\",\"id\":\"p1080\",\"attributes\":{\"width\":null,\"height\":null,\"sizing_mode\":\"fixed\",\"align\":\"start\",\"x_range\":{\"type\":\"object\",\"name\":\"Range1d\",\"id\":\"p1071\",\"attributes\":{\"tags\":[[[\"dist_NonBOLD_Basic\",null]],[]],\"start\":-0.01,\"end\":3.1,\"reset_start\":-0.01,\"reset_end\":3.1}},\"y_range\":{\"type\":\"object\",\"name\":\"Range1d\",\"id\":\"p1072\",\"attributes\":{\"tags\":[[[\"dist_NonBOLD_MEICA\",null]],{\"type\":\"map\",\"entries\":[[\"invert_yaxis\",false],[\"autorange\",false]]}],\"start\":-0.01,\"end\":3.1,\"reset_start\":-0.01,\"reset_end\":3.1}},\"x_scale\":{\"type\":\"object\",\"name\":\"LinearScale\",\"id\":\"p1090\"},\"y_scale\":{\"type\":\"object\",\"name\":\"LinearScale\",\"id\":\"p1091\"},\"title\":{\"type\":\"object\",\"name\":\"Title\",\"id\":\"p1083\",\"attributes\":{\"text_color\":\"black\",\"text_font_size\":\"12pt\"}},\"renderers\":[{\"id\":\"p1123\"}],\"toolbar\":{\"type\":\"object\",\"name\":\"Toolbar\",\"id\":\"p1089\",\"attributes\":{\"tools\":[{\"id\":\"p1076\"},{\"id\":\"p1077\"},{\"type\":\"object\",\"name\":\"SaveTool\",\"id\":\"p1102\"},{\"id\":\"p1103\"},{\"id\":\"p1104\"},{\"id\":\"p1110\"}],\"active_drag\":{\"id\":\"p1103\"},\"active_scroll\":{\"id\":\"p1076\"}}},\"toolbar_location\":null,\"left\":[{\"type\":\"object\",\"name\":\"LinearAxis\",\"id\":\"p1097\",\"attributes\":{\"ticker\":{\"type\":\"object\",\"name\":\"BasicTicker\",\"id\":\"p1098\",\"attributes\":{\"mantissas\":[1,2,5]}},\"formatter\":{\"type\":\"object\",\"name\":\"BasicTickFormatter\",\"id\":\"p1099\"},\"axis_label\":\"dist_NonBOLD_MEICA\",\"major_label_policy\":{\"type\":\"object\",\"name\":\"AllLabels\",\"id\":\"p1100\"}}}],\"right\":[{\"type\":\"object\",\"name\":\"ColorBar\",\"id\":\"p1127\",\"attributes\":{\"location\":[0,0],\"ticker\":{\"type\":\"object\",\"name\":\"BasicTicker\",\"id\":\"p1126\",\"attributes\":{\"mantissas\":[1,2,5]}},\"major_label_policy\":{\"type\":\"object\",\"name\":\"NoOverlap\",\"id\":\"p1128\"},\"label_standoff\":8,\"major_tick_line_color\":\"black\",\"bar_line_color\":\"black\",\"color_mapper\":{\"id\":\"p1111\"}}}],\"below\":[{\"type\":\"object\",\"name\":\"LinearAxis\",\"id\":\"p1092\",\"attributes\":{\"ticker\":{\"type\":\"object\",\"name\":\"BasicTicker\",\"id\":\"p1093\",\"attributes\":{\"mantissas\":[1,2,5]}},\"formatter\":{\"type\":\"object\",\"name\":\"BasicTickFormatter\",\"id\":\"p1094\"},\"axis_label\":\"dist_NonBOLD_Basic\",\"major_label_policy\":{\"type\":\"object\",\"name\":\"AllLabels\",\"id\":\"p1095\"}}}],\"center\":[{\"type\":\"object\",\"name\":\"Grid\",\"id\":\"p1096\",\"attributes\":{\"axis\":{\"id\":\"p1092\"},\"grid_line_color\":null}},{\"type\":\"object\",\"name\":\"Grid\",\"id\":\"p1101\",\"attributes\":{\"dimension\":1,\"axis\":{\"id\":\"p1097\"},\"grid_line_color\":null}},{\"type\":\"object\",\"name\":\"Slope\",\"id\":\"p1132\",\"attributes\":{\"level\":\"glyph\",\"gradient\":1,\"y_intercept\":0,\"line_color\":\"#000000\",\"line_width\":0.5,\"line_dash\":[6]}}],\"frame_width\":300,\"frame_height\":300,\"min_border_top\":10,\"min_border_bottom\":10,\"min_border_left\":10,\"min_border_right\":10,\"output_backend\":\"webgl\"}},0,1]]}},{\"type\":\"object\",\"name\":\"Spacer\",\"id\":\"p1144\",\"attributes\":{\"name\":\"HSpacer01126\",\"stylesheets\":[\"\\n:host(.pn-loading):before, .pn-loading:before {\\n  background-color: #c3c3c3;\\n  mask-size: auto calc(min(50%, 400px));\\n  -webkit-mask-size: auto calc(min(50%, 400px));\\n}\",{\"id\":\"p1007\"},{\"id\":\"p1005\"},{\"id\":\"p1006\"}],\"margin\":0,\"sizing_mode\":\"stretch_width\",\"align\":\"start\"}}]}}],\"defs\":[{\"type\":\"model\",\"name\":\"ReactiveHTML1\"},{\"type\":\"model\",\"name\":\"FlexBox1\",\"properties\":[{\"name\":\"align_content\",\"kind\":\"Any\",\"default\":\"flex-start\"},{\"name\":\"align_items\",\"kind\":\"Any\",\"default\":\"flex-start\"},{\"name\":\"flex_direction\",\"kind\":\"Any\",\"default\":\"row\"},{\"name\":\"flex_wrap\",\"kind\":\"Any\",\"default\":\"wrap\"},{\"name\":\"gap\",\"kind\":\"Any\",\"default\":\"\"},{\"name\":\"justify_content\",\"kind\":\"Any\",\"default\":\"flex-start\"}]},{\"type\":\"model\",\"name\":\"FloatPanel1\",\"properties\":[{\"name\":\"config\",\"kind\":\"Any\",\"default\":{\"type\":\"map\"}},{\"name\":\"contained\",\"kind\":\"Any\",\"default\":true},{\"name\":\"position\",\"kind\":\"Any\",\"default\":\"right-top\"},{\"name\":\"offsetx\",\"kind\":\"Any\",\"default\":null},{\"name\":\"offsety\",\"kind\":\"Any\",\"default\":null},{\"name\":\"theme\",\"kind\":\"Any\",\"default\":\"primary\"},{\"name\":\"status\",\"kind\":\"Any\",\"default\":\"normalized\"}]},{\"type\":\"model\",\"name\":\"GridStack1\",\"properties\":[{\"name\":\"mode\",\"kind\":\"Any\",\"default\":\"warn\"},{\"name\":\"ncols\",\"kind\":\"Any\",\"default\":null},{\"name\":\"nrows\",\"kind\":\"Any\",\"default\":null},{\"name\":\"allow_resize\",\"kind\":\"Any\",\"default\":true},{\"name\":\"allow_drag\",\"kind\":\"Any\",\"default\":true},{\"name\":\"state\",\"kind\":\"Any\",\"default\":[]}]},{\"type\":\"model\",\"name\":\"drag1\",\"properties\":[{\"name\":\"slider_width\",\"kind\":\"Any\",\"default\":5},{\"name\":\"slider_color\",\"kind\":\"Any\",\"default\":\"black\"},{\"name\":\"value\",\"kind\":\"Any\",\"default\":50}]},{\"type\":\"model\",\"name\":\"click1\",\"properties\":[{\"name\":\"terminal_output\",\"kind\":\"Any\",\"default\":\"\"},{\"name\":\"debug_name\",\"kind\":\"Any\",\"default\":\"\"},{\"name\":\"clears\",\"kind\":\"Any\",\"default\":0}]},{\"type\":\"model\",\"name\":\"FastWrapper1\",\"properties\":[{\"name\":\"object\",\"kind\":\"Any\",\"default\":null},{\"name\":\"style\",\"kind\":\"Any\",\"default\":null}]},{\"type\":\"model\",\"name\":\"NotificationAreaBase1\",\"properties\":[{\"name\":\"js_events\",\"kind\":\"Any\",\"default\":{\"type\":\"map\"}},{\"name\":\"position\",\"kind\":\"Any\",\"default\":\"bottom-right\"},{\"name\":\"_clear\",\"kind\":\"Any\",\"default\":0}]},{\"type\":\"model\",\"name\":\"NotificationArea1\",\"properties\":[{\"name\":\"js_events\",\"kind\":\"Any\",\"default\":{\"type\":\"map\"}},{\"name\":\"notifications\",\"kind\":\"Any\",\"default\":[]},{\"name\":\"position\",\"kind\":\"Any\",\"default\":\"bottom-right\"},{\"name\":\"_clear\",\"kind\":\"Any\",\"default\":0},{\"name\":\"types\",\"kind\":\"Any\",\"default\":[{\"type\":\"map\",\"entries\":[[\"type\",\"warning\"],[\"background\",\"#ffc107\"],[\"icon\",{\"type\":\"map\",\"entries\":[[\"className\",\"fas fa-exclamation-triangle\"],[\"tagName\",\"i\"],[\"color\",\"white\"]]}]]},{\"type\":\"map\",\"entries\":[[\"type\",\"info\"],[\"background\",\"#007bff\"],[\"icon\",{\"type\":\"map\",\"entries\":[[\"className\",\"fas fa-info-circle\"],[\"tagName\",\"i\"],[\"color\",\"white\"]]}]]}]}]},{\"type\":\"model\",\"name\":\"Notification\",\"properties\":[{\"name\":\"background\",\"kind\":\"Any\",\"default\":null},{\"name\":\"duration\",\"kind\":\"Any\",\"default\":3000},{\"name\":\"icon\",\"kind\":\"Any\",\"default\":null},{\"name\":\"message\",\"kind\":\"Any\",\"default\":\"\"},{\"name\":\"notification_type\",\"kind\":\"Any\",\"default\":null},{\"name\":\"_destroyed\",\"kind\":\"Any\",\"default\":false}]},{\"type\":\"model\",\"name\":\"TemplateActions1\",\"properties\":[{\"name\":\"open_modal\",\"kind\":\"Any\",\"default\":0},{\"name\":\"close_modal\",\"kind\":\"Any\",\"default\":0}]},{\"type\":\"model\",\"name\":\"BootstrapTemplateActions1\",\"properties\":[{\"name\":\"open_modal\",\"kind\":\"Any\",\"default\":0},{\"name\":\"close_modal\",\"kind\":\"Any\",\"default\":0}]},{\"type\":\"model\",\"name\":\"TemplateEditor1\",\"properties\":[{\"name\":\"layout\",\"kind\":\"Any\",\"default\":[]}]},{\"type\":\"model\",\"name\":\"MaterialTemplateActions1\",\"properties\":[{\"name\":\"open_modal\",\"kind\":\"Any\",\"default\":0},{\"name\":\"close_modal\",\"kind\":\"Any\",\"default\":0}]},{\"type\":\"model\",\"name\":\"copy_to_clipboard1\",\"properties\":[{\"name\":\"fill\",\"kind\":\"Any\",\"default\":\"none\"},{\"name\":\"value\",\"kind\":\"Any\",\"default\":null}]}]}};\n",
       "  var render_items = [{\"docid\":\"102281ab-e9f9-4888-a098-733bc7162da3\",\"roots\":{\"p1004\":\"d9a49546-d4c9-4a5c-a60b-71e54bc3997a\"},\"root_ids\":[\"p1004\"]}];\n",
       "  var docs = Object.values(docs_json)\n",
       "  if (!docs) {\n",
       "    return\n",
       "  }\n",
       "  const py_version = docs[0].version.replace('rc', '-rc.').replace('.dev', '-dev.')\n",
       "  async function embed_document(root) {\n",
       "    var Bokeh = get_bokeh(root)\n",
       "    await Bokeh.embed.embed_items_notebook(docs_json, render_items);\n",
       "    for (const render_item of render_items) {\n",
       "      for (const root_id of render_item.root_ids) {\n",
       "\tconst id_el = document.getElementById(root_id)\n",
       "\tif (id_el.children.length && id_el.children[0].hasAttribute('data-root-id')) {\n",
       "\t  const root_el = id_el.children[0]\n",
       "\t  root_el.id = root_el.id + '-rendered'\n",
       "\t  for (const child of root_el.children) {\n",
       "            // Ensure JupyterLab does not capture keyboard shortcuts\n",
       "            // see: https://jupyterlab.readthedocs.io/en/4.1.x/extension/notebook.html#keyboard-interaction-model\n",
       "\t    child.setAttribute('data-lm-suppress-shortcuts', 'true')\n",
       "\t  }\n",
       "\t}\n",
       "      }\n",
       "    }\n",
       "  }\n",
       "  function get_bokeh(root) {\n",
       "    if (root.Bokeh === undefined) {\n",
       "      return null\n",
       "    } else if (root.Bokeh.version !== py_version) {\n",
       "      if (root.Bokeh.versions === undefined || !root.Bokeh.versions.has(py_version)) {\n",
       "\treturn null\n",
       "      }\n",
       "      return root.Bokeh.versions.get(py_version);\n",
       "    } else if (root.Bokeh.version === py_version) {\n",
       "      return root.Bokeh\n",
       "    }\n",
       "    return null\n",
       "  }\n",
       "  function is_loaded(root) {\n",
       "    var Bokeh = get_bokeh(root)\n",
       "    return (Bokeh != null && Bokeh.Panel !== undefined)\n",
       "  }\n",
       "  if (is_loaded(root)) {\n",
       "    embed_document(root);\n",
       "  } else {\n",
       "    var attempts = 0;\n",
       "    var timer = setInterval(function(root) {\n",
       "      if (is_loaded(root)) {\n",
       "        clearInterval(timer);\n",
       "        embed_document(root);\n",
       "      } else if (document.readyState == \"complete\") {\n",
       "        attempts++;\n",
       "        if (attempts > 200) {\n",
       "          clearInterval(timer);\n",
       "\t  var Bokeh = get_bokeh(root)\n",
       "\t  if (Bokeh == null || Bokeh.Panel == null) {\n",
       "            console.warn(\"Panel: ERROR: Unable to run Panel code because Bokeh or Panel library is missing\");\n",
       "\t  } else {\n",
       "\t    console.warn(\"Panel: WARNING: Attempting to render but not all required libraries could be resolved.\")\n",
       "\t    embed_document(root)\n",
       "\t  }\n",
       "        }\n",
       "      }\n",
       "    }, 25, root)\n",
       "  }\n",
       "})(window);</script>"
      ],
      "text/plain": [
       ":Layout\n",
       "   .Overlay.I  :Overlay\n",
       "      .Scatter.I    :Scatter   [dist_BOLD_Basic]   (dist_BOLD_MEICA,Var. accepted,Percent Censored,scan)\n",
       "      .Annotation.I :Slope   [x,y]\n",
       "   .Overlay.II :Overlay\n",
       "      .Scatter.I    :Scatter   [dist_NonBOLD_Basic]   (dist_NonBOLD_MEICA,Var. accepted,Percent Censored,scan)\n",
       "      .Annotation.I :Slope   [x,y]"
      ]
     },
     "execution_count": 17,
     "metadata": {
      "application/vnd.holoviews_exec.v0+json": {
       "id": "p1004"
      }
     },
     "output_type": "execute_result"
    }
   ],
   "source": [
    "aux.hvplot.scatter(x='dist_BOLD_Basic',   y='dist_BOLD_MEICA',    aspect='square', cmap='viridis', c='Var. accepted', hover_cols=['scan'], alpha=0.7,s='Percent Censored', xlim=(-.01,3.1), ylim=(-.01,3.1)).opts(clim=(0,30))* hv.Slope(1,0).opts(line_color='k', line_dash='dashed', line_width=0.5)+ \\\n",
    "aux.hvplot.scatter(x='dist_NonBOLD_Basic',y='dist_NonBOLD_MEICA', aspect='square', cmap='viridis', c='Var. accepted', hover_cols=['scan'], alpha=0.7,s='Percent Censored', xlim=(-.01,3.1), ylim=(-.01,3.1)).opts(clim=(0,30)) * hv.Slope(1,0).opts(line_color='k', line_dash='dashed', line_width=0.5)"
   ]
  },
  {
   "cell_type": "code",
   "execution_count": 26,
   "id": "39f164fc-a80f-40a0-a6f3-7359af84ad35",
   "metadata": {},
   "outputs": [
    {
     "data": {},
     "metadata": {},
     "output_type": "display_data"
    },
    {
     "data": {
      "application/vnd.holoviews_exec.v0+json": "",
      "text/html": [
       "<div id='p1706'>\n",
       "  <div id=\"b8f47046-d404-4f76-b8e9-4dd1f31f0e54\" data-root-id=\"p1706\" style=\"display: contents;\"></div>\n",
       "</div>\n",
       "<script type=\"application/javascript\">(function(root) {\n",
       "  var docs_json = {\"46b3b423-978b-47c7-858f-4f81ba3f6810\":{\"version\":\"3.4.1\",\"title\":\"Bokeh Application\",\"roots\":[{\"type\":\"object\",\"name\":\"Row\",\"id\":\"p1706\",\"attributes\":{\"name\":\"Row02675\",\"tags\":[\"embedded\"],\"stylesheets\":[\"\\n:host(.pn-loading):before, .pn-loading:before {\\n  background-color: #c3c3c3;\\n  mask-size: auto calc(min(50%, 400px));\\n  -webkit-mask-size: auto calc(min(50%, 400px));\\n}\",{\"type\":\"object\",\"name\":\"ImportedStyleSheet\",\"id\":\"p1709\",\"attributes\":{\"url\":\"https://cdn.holoviz.org/panel/1.4.4/dist/css/loading.css\"}},{\"type\":\"object\",\"name\":\"ImportedStyleSheet\",\"id\":\"p1776\",\"attributes\":{\"url\":\"https://cdn.holoviz.org/panel/1.4.4/dist/css/listpanel.css\"}},{\"type\":\"object\",\"name\":\"ImportedStyleSheet\",\"id\":\"p1707\",\"attributes\":{\"url\":\"https://cdn.holoviz.org/panel/1.4.4/dist/bundled/theme/default.css\"}},{\"type\":\"object\",\"name\":\"ImportedStyleSheet\",\"id\":\"p1708\",\"attributes\":{\"url\":\"https://cdn.holoviz.org/panel/1.4.4/dist/bundled/theme/native.css\"}}],\"margin\":0,\"sizing_mode\":\"stretch_width\",\"align\":\"start\",\"children\":[{\"type\":\"object\",\"name\":\"Spacer\",\"id\":\"p1710\",\"attributes\":{\"name\":\"HSpacer02681\",\"stylesheets\":[\"\\n:host(.pn-loading):before, .pn-loading:before {\\n  background-color: #c3c3c3;\\n  mask-size: auto calc(min(50%, 400px));\\n  -webkit-mask-size: auto calc(min(50%, 400px));\\n}\",{\"id\":\"p1709\"},{\"id\":\"p1707\"},{\"id\":\"p1708\"}],\"margin\":0,\"sizing_mode\":\"stretch_width\",\"align\":\"start\"}},{\"type\":\"object\",\"name\":\"Figure\",\"id\":\"p1720\",\"attributes\":{\"width\":null,\"height\":null,\"margin\":[5,10],\"sizing_mode\":\"fixed\",\"align\":\"start\",\"x_range\":{\"type\":\"object\",\"name\":\"Range1d\",\"id\":\"p1711\",\"attributes\":{\"tags\":[[[\"dist_BOLD_Basic\",null]],[]],\"start\":-0.01,\"end\":3.1,\"reset_start\":-0.01,\"reset_end\":3.1}},\"y_range\":{\"type\":\"object\",\"name\":\"Range1d\",\"id\":\"p1712\",\"attributes\":{\"tags\":[[[\"dist_BOLD_MEICA\",null]],{\"type\":\"map\",\"entries\":[[\"invert_yaxis\",false],[\"autorange\",false]]}],\"start\":-0.01,\"end\":3.1,\"reset_start\":-0.01,\"reset_end\":3.1}},\"x_scale\":{\"type\":\"object\",\"name\":\"LinearScale\",\"id\":\"p1730\"},\"y_scale\":{\"type\":\"object\",\"name\":\"LinearScale\",\"id\":\"p1731\"},\"title\":{\"type\":\"object\",\"name\":\"Title\",\"id\":\"p1723\",\"attributes\":{\"text_color\":\"black\",\"text_font_size\":\"18pt\"}},\"renderers\":[{\"type\":\"object\",\"name\":\"GlyphRenderer\",\"id\":\"p1763\",\"attributes\":{\"data_source\":{\"type\":\"object\",\"name\":\"ColumnDataSource\",\"id\":\"p1752\",\"attributes\":{\"selected\":{\"type\":\"object\",\"name\":\"Selection\",\"id\":\"p1753\",\"attributes\":{\"indices\":[],\"line_indices\":[]}},\"selection_policy\":{\"type\":\"object\",\"name\":\"UnionRenderers\",\"id\":\"p1754\"},\"data\":{\"type\":\"map\",\"entries\":[[\"dist_BOLD_Basic\",{\"type\":\"ndarray\",\"array\":{\"type\":\"bytes\",\"data\":\"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\"},\"shape\":[434],\"dtype\":\"float64\",\"order\":\"little\"}],[\"dist_BOLD_MEICA\",{\"type\":\"ndarray\",\"array\":{\"type\":\"bytes\",\"data\":\"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\"},\"shape\":[434],\"dtype\":\"float64\",\"order\":\"little\"}],[\"Avg_full_stop_RSME\",{\"type\":\"ndarray\",\"array\":{\"type\":\"bytes\",\"data\":\"oYLDCyLQWEB6q65DNeJWQPhSeNDsyllA0xbX+ExfVkAQkgVM4MVaQNMtO8Q/RVpAQznRrkKEWUAPfAxWnDtUQHWtvU9VVFpAxD9s6dGyWUBBguLHmM5bQGpQNA9gIVpALLr1mh6yWEAT7wBPWppXQFoQyvs4PFhADECjdOl4VkCX4T/dQERaQNYdi21SMVlAz2bV52qjWkB/pl63CPZZQCuJ7IMsylRAoZ4+An8ZUkCOkewRamRaQBWoxeBh8VZA1NSytb73V0B8mpMXmaRYQFORCmMLf1tArn/XZ87ZVkAlz/V9OAtVQIv/O6JCl1ZA2SQ/4tcDYEDbozfcR8ZZQKqdYWpL2FdACYhJuJDhVEAeboeGxahUQPN1Gf7TAlNAfZV87C74WUB23zE89sBXQCBig4WTK15AATEJF/IAWkBOmDCalaheQBUBTu/ivFlA1y/YDdvaVUBtPNhit4ZUQHJr0m2JrVdA97AXCtjIVEDmr5C5MoZbQCk+PiE7K1tA3A2itaJVWUCo5Qeu8ipaQN816Etv0FZA6WD9n8PSWUCsOxbbpBlXQIy8rIkFDl9AKPOPvknvV0DO4VrtYShXQIo9tI8VzVdAkpIehlaVWkBBEYsYdoJXQFyOVyB6VVtAEyo4vCCHVkC2heelYideQJRL4xdeAFtAkMGKU63nXUDnbtdLU9JcQDBK0F/ogVxAc71tpkLbWEDLSL2ncoRaQEM3+wPljVhAajLjbaWoWUAqU8xB0FlaQHFZhc0AjlpAcZNRZRiDV0DqPZXTnhBXQN+LL9rj9VhAiNaKNscjWEDDuBtEa3NaQPQXesToaFhAaTaPw2APWkAIyJdQwXVaQFgepKfIdllAdcdim1SMWEAfaXBbWwRZQGDJVSx+dFdASWQfZFnzXkBfeZCeIghZQMvbEU4LYFhAE30+yoidVkB4CU59IA9WQKNaRBSTjVVAT3Rd+MFpWEBgcw6eCRNUQAxZ3eo5lVpA0vvG156cWUBxBKkUO91aQN0kBoGVN1dAeuI5W0C1WECWWu832olXQCb+KOrMRFZA02weh8HuWECXx5qRQS1eQCieswWErl1AWvJ4Wn6IWUBKehhanWxeQC4e3nNg4FlA6StIMxZJXEDxvb9BewlYQKgBg6RPAltAtHQF24ieXUAlyXN9H0NeQBx79lyme1pAbcfUXdk0XUA0uRgD66pZQNJUT+YfiVhA+HDJcadGV0Dmz7cFS7hZQJ63sdmRNVhAtVTejnAuWkBCfGDHf0tXQAwgfCjRTF9AAHDs2XNxW0CbjZWYZ9dbQAwFbAcjUFlAJlex+E3FV0CfjscMVNlWQKSJd4AnfF5AwJMWLqvTWEB/vi1YqolZQIld29stOFhASYCaWrYuW0Cq1sIstCVYQCwQPSmTAFhAqaCi6leJVUAdHOxNDKddQDnv/+OEm1pAZM+ey9RLWEDwNm+cFPRUQD4g0Jm0ulpAexNDcjJmV0Dcf2Q6dMlcQJYhjnVxxFlAJNV3flHmXUDKqDKMu9dbQMXGvI44NVpAqcDJNnAkVkBUrYVZaEZdQMsRMpBnvFdANEjBU8h/WEBxPJ8B9YBWQFbSim8oO1dAgnNGlPZ4VUCe0sH6P6xXQJtwr8xbZ1lAURN9PsoBV0BHWb+ZmOxWQJlGk4sxhFhAuLBuvDtQVkBTXFX2XQ1gQDoF+dnIzVlAWybD8XwBWkC5/l2fOThaQDSD+MCOcVhAgxYSMLrSVUCNDHIXYTxaQKMBvAUSzldAD5ccd0o7WECdKt8zEhNWQNqrj4e+B1xAebKbGf2IV0CLw5lfzQpfQOdz7na9HFlAaR1VTRDaWkCa7Qp9sH5WQJYEqKllBF9AmkNSCyWBWkBlVYSbjG1cQNm1vd2Sx1dAO8eA7PUlXEALXvQVpEVZQIkI/yJoilhA9DEfEOg5WEDTo6mezPxVQGw9QzhmYVNAIHu9++MGXEDvVMA9zy5aQEhPkUPELlZAPtAKDFklVEBxdJXuruJcQJY/3xYs7FpAQ8nk1M4zW0Bz2H3H8LZXQG8vaYzWVFxAEVSNXg0MWEAFpP0PsKxaQMo1BTI73llASutvCcDdW0BuvhHds1BZQN+I7lnXMF1Ax9YzhGP5WUDSbvQxH+5bQChlUkMbzFhA44v2eCE/WkBDN/sD5WJXQMDOTZtxSFxA8Ief/x6JVkDH155ZEkBbQC5VaYtrE1hAgbOULCfKWkDJxoMtdrtUQJn1Yiin22FAWafK94xgXUDtSstIvQ1YQFsJ3SVxnldAcFzGTQ1NW0C6LZELzjlWQPX3UnjQ41hASfdzCvJDWEBVSzrKwUtcQJinc0UpNVdAGArYDkbaWUDku5S6ZLhWQN4AM9/BMV1AvCAiNe1JWUB1sP7PYddaQOnxe5v+elVAPusaLQewYEBFDaZh+JxbQHUDBd7JF1pAmyDqPgA4WEBBSYEFMJ1YQBrCMcueA1dAeZCeIodCWUDtnjws1NRVQPbOaKuS4F9AX5m36jphXECFl+DUBxpeQHDQXn08tV1AWRmNfF4KWUBuisdFtb9WQGstzEI7f1tA5xpmaDyvWEBBRkCFI1FbQJFkVu9wRVpA7nw/NV5nW0Dltn2P+ixYQKw3aoXpaFpA+fTYlgE/V0DM0k7N5XZaQA97oYDtV1lAb2b0o+ErYEA57pQO1nZeQGu5MxMMDVdAMh6lEp58VkBjYvNxbSRbQB0AcVevC1hALCgMyjQeW0BdpibBG4ZZQLqkarsJAlxAi1QYWwhXWUDzcth9x19YQN+Hg4QoOFVAI/PIHwzYWkD0GrtE9UlaQI+mejL/K11Aw5rKorB5WECsNv+vOpVaQPOspBXfq1ZAilqaWyF/W0AdjxmojCBYQBu+hXXj91hAN23GaYioVUADlIYahbxcQH+HokCfj11AmrZ/ZaUMXECSdTi6SllYQEJfevtzHl5AurvOhvw0W0Crd7gdGnpcQG0gXWxasVlAC170FaQRXEAlJNI2/iJeQGVUGcbdEFxArDyBsFPwWEDpSZnU0IxbQAa69gX0SVZAKxcq/1r7XkCpF3yak/ZZQPCmW3aIolpAusDlsWbEWEAzar5KPvVbQGYTYFj+s1lAwt8vZktbWkBy/FBpxENZQD4l58QehVlAzLipgebBWUClZg+0AhJbQFUzaykg6VtAOs/Yl2x/WEDIQ9/dyudWQGDMlqyK8lRAi6azk8EPWkB4exAC8mJWQBDqIoWyRllA5sx2hT7SVUDfxftx+05dQLwC0ZMysFlAYDlCBvLnV0DCvTJv1f9UQKq1MAvtM1dA95LGaB1IV0D21Oqrq+xaQHEbDeAtqVZA2zS214L9WUArTN9rCMVZQJbQXRJnrFhAmzdOCvNIVEDh7qzddotXQKtf6Xx4P1NApcACmDLHWEC+2ebG9NBXQLh0zHnGQVlA/RTHgVfBW0CygXSxaSFYQKRyE7U0VFZAaR7AIr/LWkAKhQg4hCdYQPtcbcX+V1tAw5ygTQ41WUDXag97IZhhQNl5G5udlmFA5nYv98k6WEAcQL/v379YQFr0TgXcUlZAxysQPSkKVED9LQH4p09bQPILryR5yFdAzY+/tKg2WkDP9ugN99BWQDfHuU24vVxA4GOw4lTJWUCi7C3lfJVeQAxXB0DcoldAkZp2Mc1qX0BbmIV2TjZZQOeJ52wBxFtAJzJzgcvrW0AjnuxmRlFWQEtXsI144lRAfJqTF5lWVkDwiArVzeNUQBTNA1jkqVhAX5Z2ai6EXECM+E7Mer1XQIRJ8fEJAFlAWmYRiq1gWECSPq2iP8pYQIwtBDkowVZAQKAzaVMWXEDQ1VbsL3xZQMCzPXrDe1hAKEcBomB4V0B8DFacaihZQDfEeM2rb1hALEme6/tiWEDpZRTLLXxXQFgepKfImlpA8x5nmrCEV0DJkGPrGWhbQEs/4ezWwlZAI93PKcjaV0Dgvg6cM0FVQIC1ateEXFtABitOtRY1WUA3xHjNqwFYQGfTEcDNm1NAExCTcCFrWUD2z9OAQWRVQEDBxYoaMVdArthfdk/mVEBQVaGBWCtfQFCKVu4Fml5AyjMvh919XECLTpZa79VWQO4kIvyLIFpAEMzR4/ewWEDt9e6P96VcQPsFu2HbzFhAoPzdO2rxW0AExvoGJj1XQAPPvYdLt19A8aDZdW8dWUDMKmwGuK1cQHZUNUHUyFpAGCR9WkUkWkAMA5Zcxa9XQNGUnX5Q+lhAUp55Oey+V0BO02cHXA1ZQLbbLjTXZFZAgBDJkGONV0Ab1elA1vxVQE+sU+V7cFdAOQt72uH1U0CMZmX7kLpZQCNli6TdZFVAFLTJ4ZMLWUAQyZBj64ZXQNeH9UatEVdA4lzDDI1HVUA7xD9s6c5XQKdAZmfRBlVAa2CrBIvHWUCeI/JdSsdWQGr2QCswPllAV3xD4bOtVkDxL4LGTDJZQAbZsnxdulhAMJsAw/JIW0DlgF1NnltcQAR2NXnKG1xAhLcHISD1VkAyy54ENlpZQAJLrmLxrFtACU/o9SepVkDyXrUy4YJcQO1imulemFhAl5APejYXXUCal8PuO41dQDsBTYQN1llAV5dTAmIUWEAmVkYjn8ZXQBQIO8WqpVZAEOhM2lTHXECM17yqs0hZQA==\"},\"shape\":[434],\"dtype\":\"float64\",\"order\":\"little\"}],[\"Percent_Censored\",{\"type\":\"ndarray\",\"array\":{\"type\":\"bytes\",\"data\":\"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\"},\"shape\":[434],\"dtype\":\"float64\",\"order\":\"little\"}],[\"scan\",[\"sub-01_ses-1\",\"sub-01_ses-2\",\"sub-02_ses-1\",\"sub-02_ses-2\",\"sub-03_ses-1\",\"sub-03_ses-2\",\"sub-04_ses-1\",\"sub-04_ses-2\",\"sub-05_ses-1\",\"sub-05_ses-2\",\"sub-06_ses-1\",\"sub-06_ses-2\",\"sub-07_ses-1\",\"sub-07_ses-2\",\"sub-08_ses-1\",\"sub-08_ses-2\",\"sub-09_ses-1\",\"sub-09_ses-2\",\"sub-101_ses-1\",\"sub-101_ses-2\",\"sub-104_ses-1\",\"sub-104_ses-2\",\"sub-106_ses-1\",\"sub-106_ses-2\",\"sub-107_ses-1\",\"sub-107_ses-2\",\"sub-108_ses-1\",\"sub-108_ses-2\",\"sub-109_ses-1\",\"sub-109_ses-2\",\"sub-10_ses-1\",\"sub-10_ses-2\",\"sub-110_ses-1\",\"sub-110_ses-2\",\"sub-111_ses-1\",\"sub-111_ses-2\",\"sub-112_ses-1\",\"sub-112_ses-2\",\"sub-113_ses-1\",\"sub-113_ses-2\",\"sub-114_ses-1\",\"sub-114_ses-2\",\"sub-115_ses-1\",\"sub-115_ses-2\",\"sub-116_ses-1\",\"sub-116_ses-2\",\"sub-117_ses-1\",\"sub-118_ses-1\",\"sub-118_ses-2\",\"sub-119_ses-1\",\"sub-119_ses-2\",\"sub-11_ses-1\",\"sub-11_ses-2\",\"sub-120_ses-1\",\"sub-120_ses-2\",\"sub-121_ses-1\",\"sub-121_ses-2\",\"sub-122_ses-1\",\"sub-122_ses-2\",\"sub-123_ses-1\",\"sub-123_ses-2\",\"sub-124_ses-1\",\"sub-124_ses-2\",\"sub-125_ses-1\",\"sub-125_ses-2\",\"sub-127_ses-1\",\"sub-127_ses-2\",\"sub-128_ses-1\",\"sub-128_ses-2\",\"sub-129_ses-1\",\"sub-129_ses-2\",\"sub-12_ses-2\",\"sub-130_ses-1\",\"sub-130_ses-2\",\"sub-132_ses-1\",\"sub-132_ses-2\",\"sub-133_ses-1\",\"sub-133_ses-2\",\"sub-134_ses-1\",\"sub-134_ses-2\",\"sub-135_ses-1\",\"sub-135_ses-2\",\"sub-136_ses-1\",\"sub-136_ses-2\",\"sub-137_ses-1\",\"sub-137_ses-2\",\"sub-138_ses-1\",\"sub-138_ses-2\",\"sub-139_ses-1\",\"sub-139_ses-2\",\"sub-13_ses-1\",\"sub-13_ses-2\",\"sub-140_ses-1\",\"sub-140_ses-2\",\"sub-141_ses-1\",\"sub-141_ses-2\",\"sub-142_ses-1\",\"sub-143_ses-1\",\"sub-143_ses-2\",\"sub-144_ses-1\",\"sub-144_ses-2\",\"sub-145_ses-1\",\"sub-145_ses-2\",\"sub-146_ses-1\",\"sub-146_ses-2\",\"sub-147_ses-1\",\"sub-147_ses-2\",\"sub-148_ses-1\",\"sub-148_ses-2\",\"sub-14_ses-1\",\"sub-14_ses-2\",\"sub-150_ses-1\",\"sub-150_ses-2\",\"sub-151_ses-1\",\"sub-151_ses-2\",\"sub-152_ses-1\",\"sub-152_ses-2\",\"sub-153_ses-1\",\"sub-153_ses-2\",\"sub-154_ses-1\",\"sub-154_ses-2\",\"sub-155_ses-1\",\"sub-155_ses-2\",\"sub-156_ses-1\",\"sub-156_ses-2\",\"sub-157_ses-1\",\"sub-157_ses-2\",\"sub-158_ses-1\",\"sub-158_ses-2\",\"sub-159_ses-1\",\"sub-159_ses-2\",\"sub-15_ses-1\",\"sub-15_ses-2\",\"sub-160_ses-1\",\"sub-160_ses-2\",\"sub-161_ses-1\",\"sub-161_ses-2\",\"sub-162_ses-1\",\"sub-162_ses-2\",\"sub-163_ses-1\",\"sub-163_ses-2\",\"sub-164_ses-1\",\"sub-164_ses-2\",\"sub-165_ses-1\",\"sub-165_ses-2\",\"sub-166_ses-1\",\"sub-166_ses-2\",\"sub-167_ses-1\",\"sub-167_ses-2\",\"sub-168_ses-1\",\"sub-168_ses-2\",\"sub-169_ses-1\",\"sub-169_ses-2\",\"sub-16_ses-1\",\"sub-16_ses-2\",\"sub-170_ses-1\",\"sub-170_ses-2\",\"sub-171_ses-1\",\"sub-171_ses-2\",\"sub-172_ses-1\",\"sub-172_ses-2\",\"sub-173_ses-1\",\"sub-173_ses-2\",\"sub-174_ses-1\",\"sub-174_ses-2\",\"sub-175_ses-1\",\"sub-175_ses-2\",\"sub-176_ses-1\",\"sub-176_ses-2\",\"sub-177_ses-1\",\"sub-177_ses-2\",\"sub-17_ses-1\",\"sub-17_ses-2\",\"sub-180_ses-1\",\"sub-180_ses-2\",\"sub-181_ses-1\",\"sub-181_ses-2\",\"sub-182_ses-1\",\"sub-182_ses-2\",\"sub-183_ses-1\",\"sub-183_ses-2\",\"sub-184_ses-1\",\"sub-184_ses-2\",\"sub-185_ses-1\",\"sub-185_ses-2\",\"sub-186_ses-1\",\"sub-186_ses-2\",\"sub-187_ses-1\",\"sub-187_ses-2\",\"sub-188_ses-1\",\"sub-188_ses-2\",\"sub-189_ses-1\",\"sub-189_ses-2\",\"sub-18_ses-1\",\"sub-18_ses-2\",\"sub-190_ses-1\",\"sub-190_ses-2\",\"sub-191_ses-1\",\"sub-191_ses-2\",\"sub-192_ses-1\",\"sub-192_ses-2\",\"sub-193_ses-1\",\"sub-193_ses-2\",\"sub-194_ses-1\",\"sub-194_ses-2\",\"sub-195_ses-1\",\"sub-195_ses-2\",\"sub-196_ses-1\",\"sub-196_ses-2\",\"sub-197_ses-1\",\"sub-197_ses-2\",\"sub-198_ses-1\",\"sub-198_ses-2\",\"sub-199_ses-1\",\"sub-199_ses-2\",\"sub-19_ses-1\",\"sub-19_ses-2\",\"sub-200_ses-1\",\"sub-200_ses-2\",\"sub-201_ses-1\",\"sub-201_ses-2\",\"sub-202_ses-1\",\"sub-202_ses-2\",\"sub-203_ses-1\",\"sub-203_ses-2\",\"sub-204_ses-1\",\"sub-204_ses-2\",\"sub-205_ses-1\",\"sub-205_ses-2\",\"sub-206_ses-1\",\"sub-206_ses-2\",\"sub-207_ses-1\",\"sub-207_ses-2\",\"sub-208_ses-1\",\"sub-208_ses-2\",\"sub-209_ses-1\",\"sub-209_ses-2\",\"sub-20_ses-1\",\"sub-20_ses-2\",\"sub-210_ses-1\",\"sub-210_ses-2\",\"sub-211_ses-1\",\"sub-211_ses-2\",\"sub-212_ses-1\",\"sub-212_ses-2\",\"sub-213_ses-1\",\"sub-213_ses-2\",\"sub-214_ses-1\",\"sub-214_ses-2\",\"sub-215_ses-1\",\"sub-215_ses-2\",\"sub-216_ses-1\",\"sub-216_ses-2\",\"sub-217_ses-1\",\"sub-217_ses-2\",\"sub-218_ses-1\",\"sub-218_ses-2\",\"sub-219_ses-1\",\"sub-219_ses-2\",\"sub-21_ses-1\",\"sub-21_ses-2\",\"sub-220_ses-1\",\"sub-220_ses-2\",\"sub-222_ses-1\",\"sub-222_ses-2\",\"sub-223_ses-1\",\"sub-223_ses-2\",\"sub-224_ses-1\",\"sub-224_ses-2\",\"sub-225_ses-1\",\"sub-225_ses-2\",\"sub-226_ses-1\",\"sub-226_ses-2\",\"sub-227_ses-1\",\"sub-227_ses-2\",\"sub-228_ses-1\",\"sub-228_ses-2\",\"sub-229_ses-1\",\"sub-229_ses-2\",\"sub-22_ses-1\",\"sub-22_ses-2\",\"sub-230_ses-1\",\"sub-230_ses-2\",\"sub-231_ses-1\",\"sub-231_ses-2\",\"sub-232_ses-1\",\"sub-232_ses-2\",\"sub-233_ses-1\",\"sub-233_ses-2\",\"sub-234_ses-1\",\"sub-234_ses-2\",\"sub-235_ses-1\",\"sub-235_ses-2\",\"sub-236_ses-1\",\"sub-236_ses-2\",\"sub-237_ses-1\",\"sub-238_ses-1\",\"sub-238_ses-2\",\"sub-23_ses-1\",\"sub-23_ses-2\",\"sub-24_ses-1\",\"sub-24_ses-2\",\"sub-25_ses-1\",\"sub-25_ses-2\",\"sub-26_ses-1\",\"sub-26_ses-2\",\"sub-27_ses-1\",\"sub-27_ses-2\",\"sub-28_ses-1\",\"sub-28_ses-2\",\"sub-29_ses-1\",\"sub-29_ses-2\",\"sub-30_ses-1\",\"sub-30_ses-2\",\"sub-31_ses-1\",\"sub-31_ses-2\",\"sub-32_ses-1\",\"sub-32_ses-2\",\"sub-33_ses-1\",\"sub-34_ses-1\",\"sub-34_ses-2\",\"sub-35_ses-1\",\"sub-36_ses-1\",\"sub-36_ses-2\",\"sub-37_ses-1\",\"sub-37_ses-2\",\"sub-38_ses-1\",\"sub-38_ses-2\",\"sub-39_ses-1\",\"sub-39_ses-2\",\"sub-41_ses-1\",\"sub-41_ses-2\",\"sub-43_ses-1\",\"sub-43_ses-2\",\"sub-45_ses-1\",\"sub-45_ses-2\",\"sub-46_ses-1\",\"sub-46_ses-2\",\"sub-47_ses-1\",\"sub-47_ses-2\",\"sub-48_ses-1\",\"sub-48_ses-2\",\"sub-49_ses-1\",\"sub-49_ses-2\",\"sub-50_ses-1\",\"sub-50_ses-2\",\"sub-51_ses-1\",\"sub-51_ses-2\",\"sub-52_ses-1\",\"sub-52_ses-2\",\"sub-53_ses-2\",\"sub-55_ses-1\",\"sub-55_ses-2\",\"sub-56_ses-1\",\"sub-56_ses-2\",\"sub-57_ses-1\",\"sub-57_ses-2\",\"sub-58_ses-1\",\"sub-58_ses-2\",\"sub-59_ses-1\",\"sub-59_ses-2\",\"sub-60_ses-1\",\"sub-60_ses-2\",\"sub-61_ses-1\",\"sub-61_ses-2\",\"sub-62_ses-1\",\"sub-62_ses-2\",\"sub-63_ses-1\",\"sub-63_ses-2\",\"sub-64_ses-1\",\"sub-64_ses-2\",\"sub-66_ses-1\",\"sub-66_ses-2\",\"sub-67_ses-1\",\"sub-67_ses-2\",\"sub-68_ses-1\",\"sub-68_ses-2\",\"sub-69_ses-1\",\"sub-69_ses-2\",\"sub-70_ses-1\",\"sub-70_ses-2\",\"sub-71_ses-1\",\"sub-71_ses-2\",\"sub-73_ses-1\",\"sub-73_ses-2\",\"sub-74_ses-1\",\"sub-74_ses-2\",\"sub-75_ses-1\",\"sub-75_ses-2\",\"sub-76_ses-1\",\"sub-76_ses-2\",\"sub-77_ses-1\",\"sub-77_ses-2\",\"sub-78_ses-1\",\"sub-78_ses-2\",\"sub-79_ses-1\",\"sub-79_ses-2\",\"sub-80_ses-1\",\"sub-80_ses-2\",\"sub-81_ses-1\",\"sub-81_ses-2\",\"sub-82_ses-1\",\"sub-82_ses-2\",\"sub-83_ses-1\",\"sub-83_ses-2\",\"sub-84_ses-1\",\"sub-84_ses-2\",\"sub-85_ses-1\",\"sub-85_ses-2\",\"sub-86_ses-1\",\"sub-86_ses-2\",\"sub-87_ses-1\",\"sub-87_ses-2\",\"sub-88_ses-1\",\"sub-88_ses-2\",\"sub-89_ses-1\",\"sub-89_ses-2\",\"sub-90_ses-1\",\"sub-90_ses-2\",\"sub-91_ses-1\",\"sub-91_ses-2\",\"sub-92_ses-1\",\"sub-93_ses-1\",\"sub-93_ses-2\",\"sub-94_ses-1\",\"sub-94_ses-2\",\"sub-95_ses-1\",\"sub-95_ses-2\",\"sub-96_ses-1\",\"sub-96_ses-2\",\"sub-98_ses-1\",\"sub-98_ses-2\",\"sub-99_ses-1\",\"sub-99_ses-2\"]],[\"color\",{\"type\":\"ndarray\",\"array\":{\"type\":\"bytes\",\"data\":\"oYLDCyLQWEB6q65DNeJWQPhSeNDsyllA0xbX+ExfVkAQkgVM4MVaQNMtO8Q/RVpAQznRrkKEWUAPfAxWnDtUQHWtvU9VVFpAxD9s6dGyWUBBguLHmM5bQGpQNA9gIVpALLr1mh6yWEAT7wBPWppXQFoQyvs4PFhADECjdOl4VkCX4T/dQERaQNYdi21SMVlAz2bV52qjWkB/pl63CPZZQCuJ7IMsylRAoZ4+An8ZUkCOkewRamRaQBWoxeBh8VZA1NSytb73V0B8mpMXmaRYQFORCmMLf1tArn/XZ87ZVkAlz/V9OAtVQIv/O6JCl1ZA2SQ/4tcDYEDbozfcR8ZZQKqdYWpL2FdACYhJuJDhVEAeboeGxahUQPN1Gf7TAlNAfZV87C74WUB23zE89sBXQCBig4WTK15AATEJF/IAWkBOmDCalaheQBUBTu/ivFlA1y/YDdvaVUBtPNhit4ZUQHJr0m2JrVdA97AXCtjIVEDmr5C5MoZbQCk+PiE7K1tA3A2itaJVWUCo5Qeu8ipaQN816Etv0FZA6WD9n8PSWUCsOxbbpBlXQIy8rIkFDl9AKPOPvknvV0DO4VrtYShXQIo9tI8VzVdAkpIehlaVWkBBEYsYdoJXQFyOVyB6VVtAEyo4vCCHVkC2heelYideQJRL4xdeAFtAkMGKU63nXUDnbtdLU9JcQDBK0F/ogVxAc71tpkLbWEDLSL2ncoRaQEM3+wPljVhAajLjbaWoWUAqU8xB0FlaQHFZhc0AjlpAcZNRZRiDV0DqPZXTnhBXQN+LL9rj9VhAiNaKNscjWEDDuBtEa3NaQPQXesToaFhAaTaPw2APWkAIyJdQwXVaQFgepKfIdllAdcdim1SMWEAfaXBbWwRZQGDJVSx+dFdASWQfZFnzXkBfeZCeIghZQMvbEU4LYFhAE30+yoidVkB4CU59IA9WQKNaRBSTjVVAT3Rd+MFpWEBgcw6eCRNUQAxZ3eo5lVpA0vvG156cWUBxBKkUO91aQN0kBoGVN1dAeuI5W0C1WECWWu832olXQCb+KOrMRFZA02weh8HuWECXx5qRQS1eQCieswWErl1AWvJ4Wn6IWUBKehhanWxeQC4e3nNg4FlA6StIMxZJXEDxvb9BewlYQKgBg6RPAltAtHQF24ieXUAlyXN9H0NeQBx79lyme1pAbcfUXdk0XUA0uRgD66pZQNJUT+YfiVhA+HDJcadGV0Dmz7cFS7hZQJ63sdmRNVhAtVTejnAuWkBCfGDHf0tXQAwgfCjRTF9AAHDs2XNxW0CbjZWYZ9dbQAwFbAcjUFlAJlex+E3FV0CfjscMVNlWQKSJd4AnfF5AwJMWLqvTWEB/vi1YqolZQIld29stOFhASYCaWrYuW0Cq1sIstCVYQCwQPSmTAFhAqaCi6leJVUAdHOxNDKddQDnv/+OEm1pAZM+ey9RLWEDwNm+cFPRUQD4g0Jm0ulpAexNDcjJmV0Dcf2Q6dMlcQJYhjnVxxFlAJNV3flHmXUDKqDKMu9dbQMXGvI44NVpAqcDJNnAkVkBUrYVZaEZdQMsRMpBnvFdANEjBU8h/WEBxPJ8B9YBWQFbSim8oO1dAgnNGlPZ4VUCe0sH6P6xXQJtwr8xbZ1lAURN9PsoBV0BHWb+ZmOxWQJlGk4sxhFhAuLBuvDtQVkBTXFX2XQ1gQDoF+dnIzVlAWybD8XwBWkC5/l2fOThaQDSD+MCOcVhAgxYSMLrSVUCNDHIXYTxaQKMBvAUSzldAD5ccd0o7WECdKt8zEhNWQNqrj4e+B1xAebKbGf2IV0CLw5lfzQpfQOdz7na9HFlAaR1VTRDaWkCa7Qp9sH5WQJYEqKllBF9AmkNSCyWBWkBlVYSbjG1cQNm1vd2Sx1dAO8eA7PUlXEALXvQVpEVZQIkI/yJoilhA9DEfEOg5WEDTo6mezPxVQGw9QzhmYVNAIHu9++MGXEDvVMA9zy5aQEhPkUPELlZAPtAKDFklVEBxdJXuruJcQJY/3xYs7FpAQ8nk1M4zW0Bz2H3H8LZXQG8vaYzWVFxAEVSNXg0MWEAFpP0PsKxaQMo1BTI73llASutvCcDdW0BuvhHds1BZQN+I7lnXMF1Ax9YzhGP5WUDSbvQxH+5bQChlUkMbzFhA44v2eCE/WkBDN/sD5WJXQMDOTZtxSFxA8Ief/x6JVkDH155ZEkBbQC5VaYtrE1hAgbOULCfKWkDJxoMtdrtUQJn1Yiin22FAWafK94xgXUDtSstIvQ1YQFsJ3SVxnldAcFzGTQ1NW0C6LZELzjlWQPX3UnjQ41hASfdzCvJDWEBVSzrKwUtcQJinc0UpNVdAGArYDkbaWUDku5S6ZLhWQN4AM9/BMV1AvCAiNe1JWUB1sP7PYddaQOnxe5v+elVAPusaLQewYEBFDaZh+JxbQHUDBd7JF1pAmyDqPgA4WEBBSYEFMJ1YQBrCMcueA1dAeZCeIodCWUDtnjws1NRVQPbOaKuS4F9AX5m36jphXECFl+DUBxpeQHDQXn08tV1AWRmNfF4KWUBuisdFtb9WQGstzEI7f1tA5xpmaDyvWEBBRkCFI1FbQJFkVu9wRVpA7nw/NV5nW0Dltn2P+ixYQKw3aoXpaFpA+fTYlgE/V0DM0k7N5XZaQA97oYDtV1lAb2b0o+ErYEA57pQO1nZeQGu5MxMMDVdAMh6lEp58VkBjYvNxbSRbQB0AcVevC1hALCgMyjQeW0BdpibBG4ZZQLqkarsJAlxAi1QYWwhXWUDzcth9x19YQN+Hg4QoOFVAI/PIHwzYWkD0GrtE9UlaQI+mejL/K11Aw5rKorB5WECsNv+vOpVaQPOspBXfq1ZAilqaWyF/W0AdjxmojCBYQBu+hXXj91hAN23GaYioVUADlIYahbxcQH+HokCfj11AmrZ/ZaUMXECSdTi6SllYQEJfevtzHl5AurvOhvw0W0Crd7gdGnpcQG0gXWxasVlAC170FaQRXEAlJNI2/iJeQGVUGcbdEFxArDyBsFPwWEDpSZnU0IxbQAa69gX0SVZAKxcq/1r7XkCpF3yak/ZZQPCmW3aIolpAusDlsWbEWEAzar5KPvVbQGYTYFj+s1lAwt8vZktbWkBy/FBpxENZQD4l58QehVlAzLipgebBWUClZg+0AhJbQFUzaykg6VtAOs/Yl2x/WEDIQ9/dyudWQGDMlqyK8lRAi6azk8EPWkB4exAC8mJWQBDqIoWyRllA5sx2hT7SVUDfxftx+05dQLwC0ZMysFlAYDlCBvLnV0DCvTJv1f9UQKq1MAvtM1dA95LGaB1IV0D21Oqrq+xaQHEbDeAtqVZA2zS214L9WUArTN9rCMVZQJbQXRJnrFhAmzdOCvNIVEDh7qzddotXQKtf6Xx4P1NApcACmDLHWEC+2ebG9NBXQLh0zHnGQVlA/RTHgVfBW0CygXSxaSFYQKRyE7U0VFZAaR7AIr/LWkAKhQg4hCdYQPtcbcX+V1tAw5ygTQ41WUDXag97IZhhQNl5G5udlmFA5nYv98k6WEAcQL/v379YQFr0TgXcUlZAxysQPSkKVED9LQH4p09bQPILryR5yFdAzY+/tKg2WkDP9ugN99BWQDfHuU24vVxA4GOw4lTJWUCi7C3lfJVeQAxXB0DcoldAkZp2Mc1qX0BbmIV2TjZZQOeJ52wBxFtAJzJzgcvrW0AjnuxmRlFWQEtXsI144lRAfJqTF5lWVkDwiArVzeNUQBTNA1jkqVhAX5Z2ai6EXECM+E7Mer1XQIRJ8fEJAFlAWmYRiq1gWECSPq2iP8pYQIwtBDkowVZAQKAzaVMWXEDQ1VbsL3xZQMCzPXrDe1hAKEcBomB4V0B8DFacaihZQDfEeM2rb1hALEme6/tiWEDpZRTLLXxXQFgepKfImlpA8x5nmrCEV0DJkGPrGWhbQEs/4ezWwlZAI93PKcjaV0Dgvg6cM0FVQIC1ateEXFtABitOtRY1WUA3xHjNqwFYQGfTEcDNm1NAExCTcCFrWUD2z9OAQWRVQEDBxYoaMVdArthfdk/mVEBQVaGBWCtfQFCKVu4Fml5AyjMvh919XECLTpZa79VWQO4kIvyLIFpAEMzR4/ewWEDt9e6P96VcQPsFu2HbzFhAoPzdO2rxW0AExvoGJj1XQAPPvYdLt19A8aDZdW8dWUDMKmwGuK1cQHZUNUHUyFpAGCR9WkUkWkAMA5Zcxa9XQNGUnX5Q+lhAUp55Oey+V0BO02cHXA1ZQLbbLjTXZFZAgBDJkGONV0Ab1elA1vxVQE+sU+V7cFdAOQt72uH1U0CMZmX7kLpZQCNli6TdZFVAFLTJ4ZMLWUAQyZBj64ZXQNeH9UatEVdA4lzDDI1HVUA7xD9s6c5XQKdAZmfRBlVAa2CrBIvHWUCeI/JdSsdWQGr2QCswPllAV3xD4bOtVkDxL4LGTDJZQAbZsnxdulhAMJsAw/JIW0DlgF1NnltcQAR2NXnKG1xAhLcHISD1VkAyy54ENlpZQAJLrmLxrFtACU/o9SepVkDyXrUy4YJcQO1imulemFhAl5APejYXXUCal8PuO41dQDsBTYQN1llAV5dTAmIUWEAmVkYjn8ZXQBQIO8WqpVZAEOhM2lTHXECM17yqs0hZQA==\"},\"shape\":[434],\"dtype\":\"float64\",\"order\":\"little\"}],[\"size\",{\"type\":\"ndarray\",\"array\":{\"type\":\"bytes\",\"data\":\"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\"},\"shape\":[434],\"dtype\":\"float64\",\"order\":\"little\"}]]}}},\"view\":{\"type\":\"object\",\"name\":\"CDSView\",\"id\":\"p1764\",\"attributes\":{\"filter\":{\"type\":\"object\",\"name\":\"AllIndices\",\"id\":\"p1765\"}}},\"glyph\":{\"type\":\"object\",\"name\":\"Scatter\",\"id\":\"p1758\",\"attributes\":{\"tags\":[\"apply_ranges\"],\"x\":{\"type\":\"field\",\"field\":\"dist_BOLD_Basic\"},\"y\":{\"type\":\"field\",\"field\":\"dist_BOLD_MEICA\"},\"size\":{\"type\":\"field\",\"field\":\"size\"},\"line_color\":{\"type\":\"field\",\"field\":\"color\",\"transform\":{\"type\":\"object\",\"name\":\"LinearColorMapper\",\"id\":\"p1751\",\"attributes\":{\"palette\":[\"#440154\",\"#440255\",\"#440357\",\"#450558\",\"#45065a\",\"#45085b\",\"#46095c\",\"#460b5e\",\"#460c5f\",\"#460e61\",\"#470f62\",\"#471163\",\"#471265\",\"#471466\",\"#471567\",\"#471669\",\"#47186a\",\"#48196b\",\"#481a6c\",\"#481c6e\",\"#481d6f\",\"#481e70\",\"#482071\",\"#482172\",\"#482273\",\"#482374\",\"#472575\",\"#472676\",\"#472777\",\"#472878\",\"#472a79\",\"#472b7a\",\"#472c7b\",\"#462d7c\",\"#462f7c\",\"#46307d\",\"#46317e\",\"#45327f\",\"#45347f\",\"#453580\",\"#453681\",\"#443781\",\"#443982\",\"#433a83\",\"#433b83\",\"#433c84\",\"#423d84\",\"#423e85\",\"#424085\",\"#414186\",\"#414286\",\"#404387\",\"#404487\",\"#3f4587\",\"#3f4788\",\"#3e4888\",\"#3e4989\",\"#3d4a89\",\"#3d4b89\",\"#3d4c89\",\"#3c4d8a\",\"#3c4e8a\",\"#3b508a\",\"#3b518a\",\"#3a528b\",\"#3a538b\",\"#39548b\",\"#39558b\",\"#38568b\",\"#38578c\",\"#37588c\",\"#37598c\",\"#365a8c\",\"#365b8c\",\"#355c8c\",\"#355d8c\",\"#345e8d\",\"#345f8d\",\"#33608d\",\"#33618d\",\"#32628d\",\"#32638d\",\"#31648d\",\"#31658d\",\"#31668d\",\"#30678d\",\"#30688d\",\"#2f698d\",\"#2f6a8d\",\"#2e6b8e\",\"#2e6c8e\",\"#2e6d8e\",\"#2d6e8e\",\"#2d6f8e\",\"#2c708e\",\"#2c718e\",\"#2c728e\",\"#2b738e\",\"#2b748e\",\"#2a758e\",\"#2a768e\",\"#2a778e\",\"#29788e\",\"#29798e\",\"#287a8e\",\"#287a8e\",\"#287b8e\",\"#277c8e\",\"#277d8e\",\"#277e8e\",\"#267f8e\",\"#26808e\",\"#26818e\",\"#25828e\",\"#25838d\",\"#24848d\",\"#24858d\",\"#24868d\",\"#23878d\",\"#23888d\",\"#23898d\",\"#22898d\",\"#228a8d\",\"#228b8d\",\"#218c8d\",\"#218d8c\",\"#218e8c\",\"#208f8c\",\"#20908c\",\"#20918c\",\"#1f928c\",\"#1f938b\",\"#1f948b\",\"#1f958b\",\"#1f968b\",\"#1e978a\",\"#1e988a\",\"#1e998a\",\"#1e998a\",\"#1e9a89\",\"#1e9b89\",\"#1e9c89\",\"#1e9d88\",\"#1e9e88\",\"#1e9f88\",\"#1ea087\",\"#1fa187\",\"#1fa286\",\"#1fa386\",\"#20a485\",\"#20a585\",\"#21a685\",\"#21a784\",\"#22a784\",\"#23a883\",\"#23a982\",\"#24aa82\",\"#25ab81\",\"#26ac81\",\"#27ad80\",\"#28ae7f\",\"#29af7f\",\"#2ab07e\",\"#2bb17d\",\"#2cb17d\",\"#2eb27c\",\"#2fb37b\",\"#30b47a\",\"#32b57a\",\"#33b679\",\"#35b778\",\"#36b877\",\"#38b976\",\"#39b976\",\"#3bba75\",\"#3dbb74\",\"#3ebc73\",\"#40bd72\",\"#42be71\",\"#44be70\",\"#45bf6f\",\"#47c06e\",\"#49c16d\",\"#4bc26c\",\"#4dc26b\",\"#4fc369\",\"#51c468\",\"#53c567\",\"#55c666\",\"#57c665\",\"#59c764\",\"#5bc862\",\"#5ec961\",\"#60c960\",\"#62ca5f\",\"#64cb5d\",\"#67cc5c\",\"#69cc5b\",\"#6bcd59\",\"#6dce58\",\"#70ce56\",\"#72cf55\",\"#74d054\",\"#77d052\",\"#79d151\",\"#7cd24f\",\"#7ed24e\",\"#81d34c\",\"#83d34b\",\"#86d449\",\"#88d547\",\"#8bd546\",\"#8dd644\",\"#90d643\",\"#92d741\",\"#95d73f\",\"#97d83e\",\"#9ad83c\",\"#9dd93a\",\"#9fd938\",\"#a2da37\",\"#a5da35\",\"#a7db33\",\"#aadb32\",\"#addc30\",\"#afdc2e\",\"#b2dd2c\",\"#b5dd2b\",\"#b7dd29\",\"#bade27\",\"#bdde26\",\"#bfdf24\",\"#c2df22\",\"#c5df21\",\"#c7e01f\",\"#cae01e\",\"#cde01d\",\"#cfe11c\",\"#d2e11b\",\"#d4e11a\",\"#d7e219\",\"#dae218\",\"#dce218\",\"#dfe318\",\"#e1e318\",\"#e4e318\",\"#e7e419\",\"#e9e419\",\"#ece41a\",\"#eee51b\",\"#f1e51c\",\"#f3e51e\",\"#f6e61f\",\"#f8e621\",\"#fae622\",\"#fde724\"],\"low\":72.398377,\"high\":142.864155}}},\"line_alpha\":{\"type\":\"value\",\"value\":0.7},\"fill_color\":{\"type\":\"field\",\"field\":\"color\",\"transform\":{\"id\":\"p1751\"}},\"fill_alpha\":{\"type\":\"value\",\"value\":0.7},\"hatch_color\":{\"type\":\"field\",\"field\":\"color\",\"transform\":{\"id\":\"p1751\"}},\"hatch_alpha\":{\"type\":\"value\",\"value\":0.7}}},\"selection_glyph\":{\"type\":\"object\",\"name\":\"Scatter\",\"id\":\"p1760\",\"attributes\":{\"tags\":[\"apply_ranges\"],\"x\":{\"type\":\"field\",\"field\":\"dist_BOLD_Basic\"},\"y\":{\"type\":\"field\",\"field\":\"dist_BOLD_MEICA\"},\"size\":{\"type\":\"field\",\"field\":\"size\"},\"line_color\":{\"type\":\"field\",\"field\":\"color\",\"transform\":{\"id\":\"p1751\"}},\"line_alpha\":{\"type\":\"value\",\"value\":0.7},\"fill_color\":{\"type\":\"field\",\"field\":\"color\",\"transform\":{\"id\":\"p1751\"}},\"fill_alpha\":{\"type\":\"value\",\"value\":0.7},\"hatch_color\":{\"type\":\"field\",\"field\":\"color\",\"transform\":{\"id\":\"p1751\"}},\"hatch_alpha\":{\"type\":\"value\",\"value\":0.7}}},\"nonselection_glyph\":{\"type\":\"object\",\"name\":\"Scatter\",\"id\":\"p1759\",\"attributes\":{\"tags\":[\"apply_ranges\"],\"x\":{\"type\":\"field\",\"field\":\"dist_BOLD_Basic\"},\"y\":{\"type\":\"field\",\"field\":\"dist_BOLD_MEICA\"},\"size\":{\"type\":\"field\",\"field\":\"size\"},\"line_color\":{\"type\":\"field\",\"field\":\"color\",\"transform\":{\"id\":\"p1751\"}},\"line_alpha\":{\"type\":\"value\",\"value\":0.7},\"fill_color\":{\"type\":\"field\",\"field\":\"color\",\"transform\":{\"id\":\"p1751\"}},\"fill_alpha\":{\"type\":\"value\",\"value\":0.7},\"hatch_color\":{\"type\":\"field\",\"field\":\"color\",\"transform\":{\"id\":\"p1751\"}},\"hatch_alpha\":{\"type\":\"value\",\"value\":0.1}}},\"hover_glyph\":{\"type\":\"object\",\"name\":\"Scatter\",\"id\":\"p1761\",\"attributes\":{\"tags\":[\"apply_ranges\"],\"x\":{\"type\":\"field\",\"field\":\"dist_BOLD_Basic\"},\"y\":{\"type\":\"field\",\"field\":\"dist_BOLD_MEICA\"},\"size\":{\"type\":\"field\",\"field\":\"size\"},\"line_color\":{\"type\":\"field\",\"field\":\"color\",\"transform\":{\"id\":\"p1751\"}},\"line_alpha\":{\"type\":\"value\",\"value\":0.7},\"fill_color\":{\"type\":\"field\",\"field\":\"color\",\"transform\":{\"id\":\"p1751\"}},\"fill_alpha\":{\"type\":\"value\",\"value\":0.7},\"hatch_color\":{\"type\":\"field\",\"field\":\"color\",\"transform\":{\"id\":\"p1751\"}},\"hatch_alpha\":{\"type\":\"value\",\"value\":0.7}}},\"muted_glyph\":{\"type\":\"object\",\"name\":\"Scatter\",\"id\":\"p1762\",\"attributes\":{\"tags\":[\"apply_ranges\"],\"x\":{\"type\":\"field\",\"field\":\"dist_BOLD_Basic\"},\"y\":{\"type\":\"field\",\"field\":\"dist_BOLD_MEICA\"},\"size\":{\"type\":\"field\",\"field\":\"size\"},\"line_color\":{\"type\":\"field\",\"field\":\"color\",\"transform\":{\"id\":\"p1751\"}},\"line_alpha\":{\"type\":\"value\",\"value\":0.2},\"fill_color\":{\"type\":\"field\",\"field\":\"color\",\"transform\":{\"id\":\"p1751\"}},\"fill_alpha\":{\"type\":\"value\",\"value\":0.2},\"hatch_color\":{\"type\":\"field\",\"field\":\"color\",\"transform\":{\"id\":\"p1751\"}},\"hatch_alpha\":{\"type\":\"value\",\"value\":0.2}}}}}],\"toolbar\":{\"type\":\"object\",\"name\":\"Toolbar\",\"id\":\"p1729\",\"attributes\":{\"tools\":[{\"type\":\"object\",\"name\":\"WheelZoomTool\",\"id\":\"p1716\",\"attributes\":{\"tags\":[\"hv_created\"],\"renderers\":\"auto\",\"zoom_together\":\"none\"}},{\"type\":\"object\",\"name\":\"HoverTool\",\"id\":\"p1717\",\"attributes\":{\"tags\":[\"hv_created\"],\"renderers\":[{\"id\":\"p1763\"}],\"tooltips\":[[\"dist_BOLD_Basic\",\"@{dist_BOLD_Basic}\"],[\"dist_BOLD_MEICA\",\"@{dist_BOLD_MEICA}\"],[\"Avg. RSME\",\"@{Avg_full_stop_RSME}\"],[\"Percent Censored\",\"@{Percent_Censored}\"],[\"scan\",\"@{scan}\"]]}},{\"type\":\"object\",\"name\":\"SaveTool\",\"id\":\"p1742\"},{\"type\":\"object\",\"name\":\"PanTool\",\"id\":\"p1743\"},{\"type\":\"object\",\"name\":\"BoxZoomTool\",\"id\":\"p1744\",\"attributes\":{\"overlay\":{\"type\":\"object\",\"name\":\"BoxAnnotation\",\"id\":\"p1745\",\"attributes\":{\"syncable\":false,\"level\":\"overlay\",\"visible\":false,\"left\":{\"type\":\"number\",\"value\":\"nan\"},\"right\":{\"type\":\"number\",\"value\":\"nan\"},\"top\":{\"type\":\"number\",\"value\":\"nan\"},\"bottom\":{\"type\":\"number\",\"value\":\"nan\"},\"left_units\":\"canvas\",\"right_units\":\"canvas\",\"top_units\":\"canvas\",\"bottom_units\":\"canvas\",\"line_color\":\"black\",\"line_alpha\":1.0,\"line_width\":2,\"line_dash\":[4,4],\"fill_color\":\"lightgrey\",\"fill_alpha\":0.5}}}},{\"type\":\"object\",\"name\":\"ResetTool\",\"id\":\"p1750\"}],\"active_drag\":{\"id\":\"p1743\"},\"active_scroll\":{\"id\":\"p1716\"}}},\"left\":[{\"type\":\"object\",\"name\":\"LinearAxis\",\"id\":\"p1737\",\"attributes\":{\"ticker\":{\"type\":\"object\",\"name\":\"BasicTicker\",\"id\":\"p1738\",\"attributes\":{\"mantissas\":[1,2,5]}},\"formatter\":{\"type\":\"object\",\"name\":\"BasicTickFormatter\",\"id\":\"p1739\"},\"axis_label\":\"D_BOLD for Advanced Denosing\",\"axis_label_text_font_size\":\"19.5px\",\"major_label_policy\":{\"type\":\"object\",\"name\":\"AllLabels\",\"id\":\"p1740\"},\"major_label_text_font_size\":\"16.5px\"}}],\"right\":[{\"type\":\"object\",\"name\":\"ColorBar\",\"id\":\"p1767\",\"attributes\":{\"location\":[0,0],\"title_text_font_size\":\"19.5px\",\"ticker\":{\"type\":\"object\",\"name\":\"BasicTicker\",\"id\":\"p1766\",\"attributes\":{\"mantissas\":[1,2,5]}},\"major_label_policy\":{\"type\":\"object\",\"name\":\"NoOverlap\",\"id\":\"p1768\"},\"major_label_text_font_size\":\"16.5px\",\"label_standoff\":8,\"major_tick_line_color\":\"black\",\"bar_line_color\":\"black\",\"color_mapper\":{\"id\":\"p1751\"}}}],\"below\":[{\"type\":\"object\",\"name\":\"LinearAxis\",\"id\":\"p1732\",\"attributes\":{\"ticker\":{\"type\":\"object\",\"name\":\"BasicTicker\",\"id\":\"p1733\",\"attributes\":{\"mantissas\":[1,2,5]}},\"formatter\":{\"type\":\"object\",\"name\":\"BasicTickFormatter\",\"id\":\"p1734\"},\"axis_label\":\"D_BOLD for Basic Denoising\",\"axis_label_text_font_size\":\"19.5px\",\"major_label_policy\":{\"type\":\"object\",\"name\":\"AllLabels\",\"id\":\"p1735\"},\"major_label_text_font_size\":\"16.5px\"}}],\"center\":[{\"type\":\"object\",\"name\":\"Grid\",\"id\":\"p1736\",\"attributes\":{\"axis\":{\"id\":\"p1732\"},\"grid_line_color\":null}},{\"type\":\"object\",\"name\":\"Grid\",\"id\":\"p1741\",\"attributes\":{\"dimension\":1,\"axis\":{\"id\":\"p1737\"},\"grid_line_color\":null}},{\"type\":\"object\",\"name\":\"Slope\",\"id\":\"p1772\",\"attributes\":{\"level\":\"glyph\",\"gradient\":1,\"y_intercept\":0,\"line_color\":\"#000000\",\"line_width\":0.5,\"line_dash\":[6]}}],\"frame_width\":300,\"frame_height\":300,\"min_border_top\":10,\"min_border_bottom\":10,\"min_border_left\":10,\"min_border_right\":10,\"output_backend\":\"webgl\"}},{\"type\":\"object\",\"name\":\"Spacer\",\"id\":\"p1774\",\"attributes\":{\"name\":\"HSpacer02682\",\"stylesheets\":[\"\\n:host(.pn-loading):before, .pn-loading:before {\\n  background-color: #c3c3c3;\\n  mask-size: auto calc(min(50%, 400px));\\n  -webkit-mask-size: auto calc(min(50%, 400px));\\n}\",{\"id\":\"p1709\"},{\"id\":\"p1707\"},{\"id\":\"p1708\"}],\"margin\":0,\"sizing_mode\":\"stretch_width\",\"align\":\"start\"}}]}}],\"defs\":[{\"type\":\"model\",\"name\":\"ReactiveHTML1\"},{\"type\":\"model\",\"name\":\"FlexBox1\",\"properties\":[{\"name\":\"align_content\",\"kind\":\"Any\",\"default\":\"flex-start\"},{\"name\":\"align_items\",\"kind\":\"Any\",\"default\":\"flex-start\"},{\"name\":\"flex_direction\",\"kind\":\"Any\",\"default\":\"row\"},{\"name\":\"flex_wrap\",\"kind\":\"Any\",\"default\":\"wrap\"},{\"name\":\"gap\",\"kind\":\"Any\",\"default\":\"\"},{\"name\":\"justify_content\",\"kind\":\"Any\",\"default\":\"flex-start\"}]},{\"type\":\"model\",\"name\":\"FloatPanel1\",\"properties\":[{\"name\":\"config\",\"kind\":\"Any\",\"default\":{\"type\":\"map\"}},{\"name\":\"contained\",\"kind\":\"Any\",\"default\":true},{\"name\":\"position\",\"kind\":\"Any\",\"default\":\"right-top\"},{\"name\":\"offsetx\",\"kind\":\"Any\",\"default\":null},{\"name\":\"offsety\",\"kind\":\"Any\",\"default\":null},{\"name\":\"theme\",\"kind\":\"Any\",\"default\":\"primary\"},{\"name\":\"status\",\"kind\":\"Any\",\"default\":\"normalized\"}]},{\"type\":\"model\",\"name\":\"GridStack1\",\"properties\":[{\"name\":\"mode\",\"kind\":\"Any\",\"default\":\"warn\"},{\"name\":\"ncols\",\"kind\":\"Any\",\"default\":null},{\"name\":\"nrows\",\"kind\":\"Any\",\"default\":null},{\"name\":\"allow_resize\",\"kind\":\"Any\",\"default\":true},{\"name\":\"allow_drag\",\"kind\":\"Any\",\"default\":true},{\"name\":\"state\",\"kind\":\"Any\",\"default\":[]}]},{\"type\":\"model\",\"name\":\"drag1\",\"properties\":[{\"name\":\"slider_width\",\"kind\":\"Any\",\"default\":5},{\"name\":\"slider_color\",\"kind\":\"Any\",\"default\":\"black\"},{\"name\":\"value\",\"kind\":\"Any\",\"default\":50}]},{\"type\":\"model\",\"name\":\"click1\",\"properties\":[{\"name\":\"terminal_output\",\"kind\":\"Any\",\"default\":\"\"},{\"name\":\"debug_name\",\"kind\":\"Any\",\"default\":\"\"},{\"name\":\"clears\",\"kind\":\"Any\",\"default\":0}]},{\"type\":\"model\",\"name\":\"FastWrapper1\",\"properties\":[{\"name\":\"object\",\"kind\":\"Any\",\"default\":null},{\"name\":\"style\",\"kind\":\"Any\",\"default\":null}]},{\"type\":\"model\",\"name\":\"NotificationAreaBase1\",\"properties\":[{\"name\":\"js_events\",\"kind\":\"Any\",\"default\":{\"type\":\"map\"}},{\"name\":\"position\",\"kind\":\"Any\",\"default\":\"bottom-right\"},{\"name\":\"_clear\",\"kind\":\"Any\",\"default\":0}]},{\"type\":\"model\",\"name\":\"NotificationArea1\",\"properties\":[{\"name\":\"js_events\",\"kind\":\"Any\",\"default\":{\"type\":\"map\"}},{\"name\":\"notifications\",\"kind\":\"Any\",\"default\":[]},{\"name\":\"position\",\"kind\":\"Any\",\"default\":\"bottom-right\"},{\"name\":\"_clear\",\"kind\":\"Any\",\"default\":0},{\"name\":\"types\",\"kind\":\"Any\",\"default\":[{\"type\":\"map\",\"entries\":[[\"type\",\"warning\"],[\"background\",\"#ffc107\"],[\"icon\",{\"type\":\"map\",\"entries\":[[\"className\",\"fas fa-exclamation-triangle\"],[\"tagName\",\"i\"],[\"color\",\"white\"]]}]]},{\"type\":\"map\",\"entries\":[[\"type\",\"info\"],[\"background\",\"#007bff\"],[\"icon\",{\"type\":\"map\",\"entries\":[[\"className\",\"fas fa-info-circle\"],[\"tagName\",\"i\"],[\"color\",\"white\"]]}]]}]}]},{\"type\":\"model\",\"name\":\"Notification\",\"properties\":[{\"name\":\"background\",\"kind\":\"Any\",\"default\":null},{\"name\":\"duration\",\"kind\":\"Any\",\"default\":3000},{\"name\":\"icon\",\"kind\":\"Any\",\"default\":null},{\"name\":\"message\",\"kind\":\"Any\",\"default\":\"\"},{\"name\":\"notification_type\",\"kind\":\"Any\",\"default\":null},{\"name\":\"_destroyed\",\"kind\":\"Any\",\"default\":false}]},{\"type\":\"model\",\"name\":\"TemplateActions1\",\"properties\":[{\"name\":\"open_modal\",\"kind\":\"Any\",\"default\":0},{\"name\":\"close_modal\",\"kind\":\"Any\",\"default\":0}]},{\"type\":\"model\",\"name\":\"BootstrapTemplateActions1\",\"properties\":[{\"name\":\"open_modal\",\"kind\":\"Any\",\"default\":0},{\"name\":\"close_modal\",\"kind\":\"Any\",\"default\":0}]},{\"type\":\"model\",\"name\":\"TemplateEditor1\",\"properties\":[{\"name\":\"layout\",\"kind\":\"Any\",\"default\":[]}]},{\"type\":\"model\",\"name\":\"MaterialTemplateActions1\",\"properties\":[{\"name\":\"open_modal\",\"kind\":\"Any\",\"default\":0},{\"name\":\"close_modal\",\"kind\":\"Any\",\"default\":0}]},{\"type\":\"model\",\"name\":\"copy_to_clipboard1\",\"properties\":[{\"name\":\"fill\",\"kind\":\"Any\",\"default\":\"none\"},{\"name\":\"value\",\"kind\":\"Any\",\"default\":null}]}]}};\n",
       "  var render_items = [{\"docid\":\"46b3b423-978b-47c7-858f-4f81ba3f6810\",\"roots\":{\"p1706\":\"b8f47046-d404-4f76-b8e9-4dd1f31f0e54\"},\"root_ids\":[\"p1706\"]}];\n",
       "  var docs = Object.values(docs_json)\n",
       "  if (!docs) {\n",
       "    return\n",
       "  }\n",
       "  const py_version = docs[0].version.replace('rc', '-rc.').replace('.dev', '-dev.')\n",
       "  async function embed_document(root) {\n",
       "    var Bokeh = get_bokeh(root)\n",
       "    await Bokeh.embed.embed_items_notebook(docs_json, render_items);\n",
       "    for (const render_item of render_items) {\n",
       "      for (const root_id of render_item.root_ids) {\n",
       "\tconst id_el = document.getElementById(root_id)\n",
       "\tif (id_el.children.length && id_el.children[0].hasAttribute('data-root-id')) {\n",
       "\t  const root_el = id_el.children[0]\n",
       "\t  root_el.id = root_el.id + '-rendered'\n",
       "\t  for (const child of root_el.children) {\n",
       "            // Ensure JupyterLab does not capture keyboard shortcuts\n",
       "            // see: https://jupyterlab.readthedocs.io/en/4.1.x/extension/notebook.html#keyboard-interaction-model\n",
       "\t    child.setAttribute('data-lm-suppress-shortcuts', 'true')\n",
       "\t  }\n",
       "\t}\n",
       "      }\n",
       "    }\n",
       "  }\n",
       "  function get_bokeh(root) {\n",
       "    if (root.Bokeh === undefined) {\n",
       "      return null\n",
       "    } else if (root.Bokeh.version !== py_version) {\n",
       "      if (root.Bokeh.versions === undefined || !root.Bokeh.versions.has(py_version)) {\n",
       "\treturn null\n",
       "      }\n",
       "      return root.Bokeh.versions.get(py_version);\n",
       "    } else if (root.Bokeh.version === py_version) {\n",
       "      return root.Bokeh\n",
       "    }\n",
       "    return null\n",
       "  }\n",
       "  function is_loaded(root) {\n",
       "    var Bokeh = get_bokeh(root)\n",
       "    return (Bokeh != null && Bokeh.Panel !== undefined)\n",
       "  }\n",
       "  if (is_loaded(root)) {\n",
       "    embed_document(root);\n",
       "  } else {\n",
       "    var attempts = 0;\n",
       "    var timer = setInterval(function(root) {\n",
       "      if (is_loaded(root)) {\n",
       "        clearInterval(timer);\n",
       "        embed_document(root);\n",
       "      } else if (document.readyState == \"complete\") {\n",
       "        attempts++;\n",
       "        if (attempts > 200) {\n",
       "          clearInterval(timer);\n",
       "\t  var Bokeh = get_bokeh(root)\n",
       "\t  if (Bokeh == null || Bokeh.Panel == null) {\n",
       "            console.warn(\"Panel: ERROR: Unable to run Panel code because Bokeh or Panel library is missing\");\n",
       "\t  } else {\n",
       "\t    console.warn(\"Panel: WARNING: Attempting to render but not all required libraries could be resolved.\")\n",
       "\t    embed_document(root)\n",
       "\t  }\n",
       "        }\n",
       "      }\n",
       "    }, 25, root)\n",
       "  }\n",
       "})(window);</script>"
      ],
      "text/plain": [
       ":Overlay\n",
       "   .Scatter.I    :Scatter   [dist_BOLD_Basic]   (dist_BOLD_MEICA,Avg. RSME,Percent Censored,scan)\n",
       "   .Annotation.I :Slope   [x,y]"
      ]
     },
     "execution_count": 26,
     "metadata": {
      "application/vnd.holoviews_exec.v0+json": {
       "id": "p1706"
      }
     },
     "output_type": "execute_result"
    }
   ],
   "source": [
    "aux.hvplot.scatter(x='dist_BOLD_Basic',   y='dist_BOLD_MEICA',    aspect='square', cmap='viridis', c='Avg. RSME', \n",
    "                   hover_cols=['scan'],s='Percent Censored', alpha=0.7, xlim=(-.01,3.1), ylim=(-.01,3.1),\n",
    "                   xlabel='D_BOLD for Basic Denoising', ylabel='D_BOLD for Advanced Denosing').opts(fontscale=1.5)* hv.Slope(1,0).opts(line_color='k', line_dash='dashed', line_width=0.5)"
   ]
  }
 ],
 "metadata": {
  "jupytext": {
   "formats": "ipynb,auto:light"
  },
  "kernelspec": {
   "display_name": "BOLD WAVES 2024a",
   "language": "python",
   "name": "bold_waves_2024a"
  },
  "language_info": {
   "codemirror_mode": {
    "name": "ipython",
    "version": 3
   },
   "file_extension": ".py",
   "mimetype": "text/x-python",
   "name": "python",
   "nbconvert_exporter": "python",
   "pygments_lexer": "ipython3",
   "version": "3.9.19"
  }
 },
 "nbformat": 4,
 "nbformat_minor": 5
}
