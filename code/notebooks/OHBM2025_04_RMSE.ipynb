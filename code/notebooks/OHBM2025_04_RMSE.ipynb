{
 "cells": [
  {
   "cell_type": "markdown",
   "id": "3697b060-140c-4602-8adb-f329722b7178",
   "metadata": {},
   "source": [
    "# Description\n",
    "\n",
    "This notebook computes the average RSME across the whole brain for each scan and saves it as a text file.\n",
    "\n",
    "This would allow me to color scans by this amount, but we did not end up using it for the OHBM abstract.\n",
    "\n",
    "RSME could be a valuable diagnostic for scans that did not improve after the application of tedana."
   ]
  },
  {
   "cell_type": "code",
   "execution_count": 1,
   "id": "ada15b7d-3b00-4fed-8c40-5cf74830e5b6",
   "metadata": {},
   "outputs": [],
   "source": [
    "import pandas as pd\n",
    "import numpy as np\n",
    "import os.path as osp\n",
    "import subprocess\n",
    "from tqdm import tqdm"
   ]
  },
  {
   "cell_type": "code",
   "execution_count": 2,
   "id": "8e6ded52-0bfc-486f-bbea-5cfa1a477612",
   "metadata": {},
   "outputs": [],
   "source": [
    "from utils.basics import PRCS_DATA_DIR, ATLASES_DIR, ATLAS_NAME, PRJ_DIR, CODE_DIR\n",
    "ATLAS_NAME = 'Power264'\n",
    "ATLAS_DIR = osp.join(ATLASES_DIR,ATLAS_NAME)"
   ]
  },
  {
   "cell_type": "code",
   "execution_count": 3,
   "id": "b8b85ed6-75b3-4088-b5c4-bfae6a122896",
   "metadata": {},
   "outputs": [
    {
     "name": "stdout",
     "output_type": "stream",
     "text": [
      "++ Number of scans: 434 scans\n"
     ]
    }
   ],
   "source": [
    "dataset_info_df = pd.read_csv(osp.join(PRJ_DIR,'resources','good_scans.txt'))\n",
    "dataset_info_df = dataset_info_df.set_index(['Subject','Session'])\n",
    "Nscans          = dataset_info_df.shape[0]\n",
    "print('++ Number of scans: %s scans' % Nscans)\n",
    "dataset_scan_list = list(dataset_info_df.index)\n",
    "Nacqs = 201"
   ]
  },
  {
   "cell_type": "code",
   "execution_count": 4,
   "id": "8d66eec4-b369-4b70-8ce2-10c7e223b4b0",
   "metadata": {},
   "outputs": [
    {
     "name": "stderr",
     "output_type": "stream",
     "text": [
      "100%|████████████████████████████████████████████████████████████████████████████████████████████████████████████████████████████████████████████████████████████████████████████████████████████████████████████████| 434/434 [02:41<00:00,  2.68it/s]\n"
     ]
    }
   ],
   "source": [
    "for i,(sbj,ses) in enumerate(tqdm(dataset_scan_list)):\n",
    "    wdir       = osp.join(PRCS_DATA_DIR,sbj,f'D02_Preproc_fMRI_{ses}')\n",
    "    mask_path  = osp.join(wdir,f'mask_epi_anat.{sbj}+tlrc.HEAD')\n",
    "    input_path = osp.join(wdir,'tedana_r01','rmse.nii.gz')\n",
    "    out_path   = osp.join(wdir,'tedana_r01','rmse.avg.txt')\n",
    "    command    = \"ml afni; cd {wdir}; 3dROIstats -mask {mask_path} -quiet {input_path} > {out_path}\".format(wdir=wdir, \n",
    "                                                                                                            mask_path=mask_path,\n",
    "                                                                                                            input_path=input_path,\n",
    "                                                                                                            out_path=out_path)\n",
    "    output  = subprocess.check_output(command, shell=True, stderr=subprocess.STDOUT)"
   ]
  }
 ],
 "metadata": {
  "jupytext": {
   "formats": "ipynb,auto:light"
  },
  "kernelspec": {
   "display_name": "BOLD WAVES 2024a",
   "language": "python",
   "name": "bold_waves_2024a"
  },
  "language_info": {
   "codemirror_mode": {
    "name": "ipython",
    "version": 3
   },
   "file_extension": ".py",
   "mimetype": "text/x-python",
   "name": "python",
   "nbconvert_exporter": "python",
   "pygments_lexer": "ipython3",
   "version": "3.9.19"
  }
 },
 "nbformat": 4,
 "nbformat_minor": 5
}
